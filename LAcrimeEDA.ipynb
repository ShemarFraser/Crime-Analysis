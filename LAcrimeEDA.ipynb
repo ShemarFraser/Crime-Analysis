{
 "cells": [
  {
   "cell_type": "code",
   "execution_count": 2,
   "metadata": {},
   "outputs": [
    {
     "name": "stdout",
     "output_type": "stream",
     "text": [
      "           id             date     price  bedrooms  bathrooms  sqft_living  \\\n",
      "0  7229300521  20141013T000000  231300.0         2       1.00         1180   \n",
      "1  6414100192  20141209T000000  538000.0         3       2.25         2570   \n",
      "2  5631500400  20150225T000000  180000.0         2       1.00          770   \n",
      "3  2487200875  20141209T000000  604000.0         4       3.00         1960   \n",
      "4  1954400510  20150218T000000  510000.0         3       2.00         1680   \n",
      "\n",
      "   sqft_lot  floors  waterfront  view  ...  grade  sqft_above  sqft_basement  \\\n",
      "0      5650     1.0           0     0  ...      7        1180              0   \n",
      "1      7242     2.0           0     0  ...      7        2170            400   \n",
      "2     10000     1.0           0     0  ...      6         770              0   \n",
      "3      5000     1.0           0     0  ...      7        1050            910   \n",
      "4      8080     1.0           0     0  ...      8        1680              0   \n",
      "\n",
      "   yr_built  yr_renovated  zipcode      lat     long  sqft_living15  \\\n",
      "0      1955             0    98178  47.5112 -122.257           1340   \n",
      "1      1951          1991    98125  47.7210 -122.319           1690   \n",
      "2      1933             0    98028  47.7379 -122.233           2720   \n",
      "3      1965             0    98136  47.5208 -122.393           1360   \n",
      "4      1987             0    98074  47.6168 -122.045           1800   \n",
      "\n",
      "   sqft_lot15  \n",
      "0        5650  \n",
      "1        7639  \n",
      "2        8062  \n",
      "3        5000  \n",
      "4        7503  \n",
      "\n",
      "[5 rows x 21 columns]\n"
     ]
    }
   ],
   "source": [
    "import pandas as pd \n",
    "import numpy as np\n",
    "import matplotlib.pyplot as plt\n",
    "\n",
    "df = pd.read_csv(\"/Users/shemarfraser/Downloads/HousingPrice.csv\")\n",
    "\n",
    "print(df.head())\n"
   ]
  },
  {
   "cell_type": "code",
   "execution_count": 3,
   "metadata": {},
   "outputs": [
    {
     "data": {
      "text/html": [
       "<div>\n",
       "<style scoped>\n",
       "    .dataframe tbody tr th:only-of-type {\n",
       "        vertical-align: middle;\n",
       "    }\n",
       "\n",
       "    .dataframe tbody tr th {\n",
       "        vertical-align: top;\n",
       "    }\n",
       "\n",
       "    .dataframe thead th {\n",
       "        text-align: right;\n",
       "    }\n",
       "</style>\n",
       "<table border=\"1\" class=\"dataframe\">\n",
       "  <thead>\n",
       "    <tr style=\"text-align: right;\">\n",
       "      <th></th>\n",
       "      <th>id</th>\n",
       "      <th>price</th>\n",
       "      <th>bedrooms</th>\n",
       "      <th>bathrooms</th>\n",
       "      <th>sqft_living</th>\n",
       "      <th>sqft_lot</th>\n",
       "      <th>floors</th>\n",
       "      <th>waterfront</th>\n",
       "      <th>view</th>\n",
       "      <th>condition</th>\n",
       "      <th>grade</th>\n",
       "      <th>sqft_above</th>\n",
       "      <th>sqft_basement</th>\n",
       "      <th>yr_built</th>\n",
       "      <th>yr_renovated</th>\n",
       "      <th>zipcode</th>\n",
       "      <th>lat</th>\n",
       "      <th>long</th>\n",
       "      <th>sqft_living15</th>\n",
       "      <th>sqft_lot15</th>\n",
       "    </tr>\n",
       "  </thead>\n",
       "  <tbody>\n",
       "    <tr>\n",
       "      <th>count</th>\n",
       "      <td>2.161300e+04</td>\n",
       "      <td>2.161300e+04</td>\n",
       "      <td>21613.000000</td>\n",
       "      <td>21613.000000</td>\n",
       "      <td>21613.000000</td>\n",
       "      <td>2.161300e+04</td>\n",
       "      <td>21613.000000</td>\n",
       "      <td>21613.000000</td>\n",
       "      <td>21613.000000</td>\n",
       "      <td>21613.000000</td>\n",
       "      <td>21613.000000</td>\n",
       "      <td>21613.000000</td>\n",
       "      <td>21613.000000</td>\n",
       "      <td>21613.000000</td>\n",
       "      <td>21613.000000</td>\n",
       "      <td>21613.000000</td>\n",
       "      <td>21613.000000</td>\n",
       "      <td>21613.000000</td>\n",
       "      <td>21613.000000</td>\n",
       "      <td>21613.000000</td>\n",
       "    </tr>\n",
       "    <tr>\n",
       "      <th>mean</th>\n",
       "      <td>4.580306e+09</td>\n",
       "      <td>5.400886e+05</td>\n",
       "      <td>3.370795</td>\n",
       "      <td>2.114757</td>\n",
       "      <td>2079.899736</td>\n",
       "      <td>1.510697e+04</td>\n",
       "      <td>1.494309</td>\n",
       "      <td>0.007542</td>\n",
       "      <td>0.234303</td>\n",
       "      <td>3.409430</td>\n",
       "      <td>7.656873</td>\n",
       "      <td>1788.390691</td>\n",
       "      <td>291.509045</td>\n",
       "      <td>1971.005136</td>\n",
       "      <td>84.402258</td>\n",
       "      <td>98077.939805</td>\n",
       "      <td>47.560053</td>\n",
       "      <td>-122.213896</td>\n",
       "      <td>1986.552492</td>\n",
       "      <td>12768.455652</td>\n",
       "    </tr>\n",
       "    <tr>\n",
       "      <th>std</th>\n",
       "      <td>2.876570e+09</td>\n",
       "      <td>3.671268e+05</td>\n",
       "      <td>0.930105</td>\n",
       "      <td>0.770163</td>\n",
       "      <td>918.440897</td>\n",
       "      <td>4.142051e+04</td>\n",
       "      <td>0.539989</td>\n",
       "      <td>0.086517</td>\n",
       "      <td>0.766318</td>\n",
       "      <td>0.650743</td>\n",
       "      <td>1.175459</td>\n",
       "      <td>828.090978</td>\n",
       "      <td>442.575043</td>\n",
       "      <td>29.373411</td>\n",
       "      <td>401.679240</td>\n",
       "      <td>53.505026</td>\n",
       "      <td>0.138564</td>\n",
       "      <td>0.140828</td>\n",
       "      <td>685.391304</td>\n",
       "      <td>27304.179631</td>\n",
       "    </tr>\n",
       "    <tr>\n",
       "      <th>min</th>\n",
       "      <td>1.000102e+06</td>\n",
       "      <td>7.500000e+04</td>\n",
       "      <td>0.000000</td>\n",
       "      <td>0.000000</td>\n",
       "      <td>290.000000</td>\n",
       "      <td>5.200000e+02</td>\n",
       "      <td>1.000000</td>\n",
       "      <td>0.000000</td>\n",
       "      <td>0.000000</td>\n",
       "      <td>1.000000</td>\n",
       "      <td>1.000000</td>\n",
       "      <td>290.000000</td>\n",
       "      <td>0.000000</td>\n",
       "      <td>1900.000000</td>\n",
       "      <td>0.000000</td>\n",
       "      <td>98001.000000</td>\n",
       "      <td>47.155900</td>\n",
       "      <td>-122.519000</td>\n",
       "      <td>399.000000</td>\n",
       "      <td>651.000000</td>\n",
       "    </tr>\n",
       "    <tr>\n",
       "      <th>25%</th>\n",
       "      <td>2.123049e+09</td>\n",
       "      <td>3.219500e+05</td>\n",
       "      <td>3.000000</td>\n",
       "      <td>1.750000</td>\n",
       "      <td>1427.000000</td>\n",
       "      <td>5.040000e+03</td>\n",
       "      <td>1.000000</td>\n",
       "      <td>0.000000</td>\n",
       "      <td>0.000000</td>\n",
       "      <td>3.000000</td>\n",
       "      <td>7.000000</td>\n",
       "      <td>1190.000000</td>\n",
       "      <td>0.000000</td>\n",
       "      <td>1951.000000</td>\n",
       "      <td>0.000000</td>\n",
       "      <td>98033.000000</td>\n",
       "      <td>47.471000</td>\n",
       "      <td>-122.328000</td>\n",
       "      <td>1490.000000</td>\n",
       "      <td>5100.000000</td>\n",
       "    </tr>\n",
       "    <tr>\n",
       "      <th>50%</th>\n",
       "      <td>3.904930e+09</td>\n",
       "      <td>4.500000e+05</td>\n",
       "      <td>3.000000</td>\n",
       "      <td>2.250000</td>\n",
       "      <td>1910.000000</td>\n",
       "      <td>7.618000e+03</td>\n",
       "      <td>1.500000</td>\n",
       "      <td>0.000000</td>\n",
       "      <td>0.000000</td>\n",
       "      <td>3.000000</td>\n",
       "      <td>7.000000</td>\n",
       "      <td>1560.000000</td>\n",
       "      <td>0.000000</td>\n",
       "      <td>1975.000000</td>\n",
       "      <td>0.000000</td>\n",
       "      <td>98065.000000</td>\n",
       "      <td>47.571800</td>\n",
       "      <td>-122.230000</td>\n",
       "      <td>1840.000000</td>\n",
       "      <td>7620.000000</td>\n",
       "    </tr>\n",
       "    <tr>\n",
       "      <th>75%</th>\n",
       "      <td>7.308900e+09</td>\n",
       "      <td>6.450000e+05</td>\n",
       "      <td>4.000000</td>\n",
       "      <td>2.500000</td>\n",
       "      <td>2550.000000</td>\n",
       "      <td>1.068800e+04</td>\n",
       "      <td>2.000000</td>\n",
       "      <td>0.000000</td>\n",
       "      <td>0.000000</td>\n",
       "      <td>4.000000</td>\n",
       "      <td>8.000000</td>\n",
       "      <td>2210.000000</td>\n",
       "      <td>560.000000</td>\n",
       "      <td>1997.000000</td>\n",
       "      <td>0.000000</td>\n",
       "      <td>98118.000000</td>\n",
       "      <td>47.678000</td>\n",
       "      <td>-122.125000</td>\n",
       "      <td>2360.000000</td>\n",
       "      <td>10083.000000</td>\n",
       "    </tr>\n",
       "    <tr>\n",
       "      <th>max</th>\n",
       "      <td>9.900000e+09</td>\n",
       "      <td>7.700000e+06</td>\n",
       "      <td>33.000000</td>\n",
       "      <td>8.000000</td>\n",
       "      <td>13540.000000</td>\n",
       "      <td>1.651359e+06</td>\n",
       "      <td>3.500000</td>\n",
       "      <td>1.000000</td>\n",
       "      <td>4.000000</td>\n",
       "      <td>5.000000</td>\n",
       "      <td>13.000000</td>\n",
       "      <td>9410.000000</td>\n",
       "      <td>4820.000000</td>\n",
       "      <td>2015.000000</td>\n",
       "      <td>2015.000000</td>\n",
       "      <td>98199.000000</td>\n",
       "      <td>47.777600</td>\n",
       "      <td>-121.315000</td>\n",
       "      <td>6210.000000</td>\n",
       "      <td>871200.000000</td>\n",
       "    </tr>\n",
       "  </tbody>\n",
       "</table>\n",
       "</div>"
      ],
      "text/plain": [
       "                 id         price      bedrooms     bathrooms   sqft_living  \\\n",
       "count  2.161300e+04  2.161300e+04  21613.000000  21613.000000  21613.000000   \n",
       "mean   4.580306e+09  5.400886e+05      3.370795      2.114757   2079.899736   \n",
       "std    2.876570e+09  3.671268e+05      0.930105      0.770163    918.440897   \n",
       "min    1.000102e+06  7.500000e+04      0.000000      0.000000    290.000000   \n",
       "25%    2.123049e+09  3.219500e+05      3.000000      1.750000   1427.000000   \n",
       "50%    3.904930e+09  4.500000e+05      3.000000      2.250000   1910.000000   \n",
       "75%    7.308900e+09  6.450000e+05      4.000000      2.500000   2550.000000   \n",
       "max    9.900000e+09  7.700000e+06     33.000000      8.000000  13540.000000   \n",
       "\n",
       "           sqft_lot        floors    waterfront          view     condition  \\\n",
       "count  2.161300e+04  21613.000000  21613.000000  21613.000000  21613.000000   \n",
       "mean   1.510697e+04      1.494309      0.007542      0.234303      3.409430   \n",
       "std    4.142051e+04      0.539989      0.086517      0.766318      0.650743   \n",
       "min    5.200000e+02      1.000000      0.000000      0.000000      1.000000   \n",
       "25%    5.040000e+03      1.000000      0.000000      0.000000      3.000000   \n",
       "50%    7.618000e+03      1.500000      0.000000      0.000000      3.000000   \n",
       "75%    1.068800e+04      2.000000      0.000000      0.000000      4.000000   \n",
       "max    1.651359e+06      3.500000      1.000000      4.000000      5.000000   \n",
       "\n",
       "              grade    sqft_above  sqft_basement      yr_built  yr_renovated  \\\n",
       "count  21613.000000  21613.000000   21613.000000  21613.000000  21613.000000   \n",
       "mean       7.656873   1788.390691     291.509045   1971.005136     84.402258   \n",
       "std        1.175459    828.090978     442.575043     29.373411    401.679240   \n",
       "min        1.000000    290.000000       0.000000   1900.000000      0.000000   \n",
       "25%        7.000000   1190.000000       0.000000   1951.000000      0.000000   \n",
       "50%        7.000000   1560.000000       0.000000   1975.000000      0.000000   \n",
       "75%        8.000000   2210.000000     560.000000   1997.000000      0.000000   \n",
       "max       13.000000   9410.000000    4820.000000   2015.000000   2015.000000   \n",
       "\n",
       "            zipcode           lat          long  sqft_living15     sqft_lot15  \n",
       "count  21613.000000  21613.000000  21613.000000   21613.000000   21613.000000  \n",
       "mean   98077.939805     47.560053   -122.213896    1986.552492   12768.455652  \n",
       "std       53.505026      0.138564      0.140828     685.391304   27304.179631  \n",
       "min    98001.000000     47.155900   -122.519000     399.000000     651.000000  \n",
       "25%    98033.000000     47.471000   -122.328000    1490.000000    5100.000000  \n",
       "50%    98065.000000     47.571800   -122.230000    1840.000000    7620.000000  \n",
       "75%    98118.000000     47.678000   -122.125000    2360.000000   10083.000000  \n",
       "max    98199.000000     47.777600   -121.315000    6210.000000  871200.000000  "
      ]
     },
     "execution_count": 3,
     "metadata": {},
     "output_type": "execute_result"
    }
   ],
   "source": [
    "df.describe()"
   ]
  },
  {
   "cell_type": "markdown",
   "metadata": {},
   "source": [
    "## Insights using LA Crime Dataset"
   ]
  },
  {
   "cell_type": "code",
   "execution_count": 4,
   "metadata": {},
   "outputs": [
    {
     "data": {
      "text/html": [
       "<div>\n",
       "<style scoped>\n",
       "    .dataframe tbody tr th:only-of-type {\n",
       "        vertical-align: middle;\n",
       "    }\n",
       "\n",
       "    .dataframe tbody tr th {\n",
       "        vertical-align: top;\n",
       "    }\n",
       "\n",
       "    .dataframe thead th {\n",
       "        text-align: right;\n",
       "    }\n",
       "</style>\n",
       "<table border=\"1\" class=\"dataframe\">\n",
       "  <thead>\n",
       "    <tr style=\"text-align: right;\">\n",
       "      <th></th>\n",
       "      <th>DR_NO</th>\n",
       "      <th>TIME OCC</th>\n",
       "      <th>AREA</th>\n",
       "      <th>Rpt Dist No</th>\n",
       "      <th>Part 1-2</th>\n",
       "      <th>Crm Cd</th>\n",
       "      <th>Vict Age</th>\n",
       "      <th>Premis Cd</th>\n",
       "      <th>Weapon Used Cd</th>\n",
       "      <th>Crm Cd 1</th>\n",
       "      <th>Crm Cd 2</th>\n",
       "      <th>Crm Cd 3</th>\n",
       "      <th>Crm Cd 4</th>\n",
       "      <th>LAT</th>\n",
       "      <th>LON</th>\n",
       "    </tr>\n",
       "  </thead>\n",
       "  <tbody>\n",
       "    <tr>\n",
       "      <th>count</th>\n",
       "      <td>9.184430e+05</td>\n",
       "      <td>918443.000000</td>\n",
       "      <td>918443.000000</td>\n",
       "      <td>918443.000000</td>\n",
       "      <td>918443.000000</td>\n",
       "      <td>918443.000000</td>\n",
       "      <td>918443.000000</td>\n",
       "      <td>918433.000000</td>\n",
       "      <td>317500.000000</td>\n",
       "      <td>918432.000000</td>\n",
       "      <td>66784.000000</td>\n",
       "      <td>2251.000000</td>\n",
       "      <td>65.000000</td>\n",
       "      <td>918443.000000</td>\n",
       "      <td>918443.000000</td>\n",
       "    </tr>\n",
       "    <tr>\n",
       "      <th>mean</th>\n",
       "      <td>2.182520e+08</td>\n",
       "      <td>1337.260666</td>\n",
       "      <td>10.701887</td>\n",
       "      <td>1116.626374</td>\n",
       "      <td>1.410659</td>\n",
       "      <td>500.832354</td>\n",
       "      <td>29.573729</td>\n",
       "      <td>306.578338</td>\n",
       "      <td>363.482567</td>\n",
       "      <td>500.575810</td>\n",
       "      <td>957.958104</td>\n",
       "      <td>983.730786</td>\n",
       "      <td>987.353846</td>\n",
       "      <td>33.989769</td>\n",
       "      <td>-118.062475</td>\n",
       "    </tr>\n",
       "    <tr>\n",
       "      <th>std</th>\n",
       "      <td>1.205523e+07</td>\n",
       "      <td>652.784076</td>\n",
       "      <td>6.101791</td>\n",
       "      <td>610.196881</td>\n",
       "      <td>0.491954</td>\n",
       "      <td>207.584858</td>\n",
       "      <td>21.858617</td>\n",
       "      <td>217.402431</td>\n",
       "      <td>123.709042</td>\n",
       "      <td>207.377428</td>\n",
       "      <td>110.611792</td>\n",
       "      <td>52.636687</td>\n",
       "      <td>41.137130</td>\n",
       "      <td>1.693282</td>\n",
       "      <td>5.869872</td>\n",
       "    </tr>\n",
       "    <tr>\n",
       "      <th>min</th>\n",
       "      <td>8.170000e+02</td>\n",
       "      <td>1.000000</td>\n",
       "      <td>1.000000</td>\n",
       "      <td>101.000000</td>\n",
       "      <td>1.000000</td>\n",
       "      <td>110.000000</td>\n",
       "      <td>-4.000000</td>\n",
       "      <td>101.000000</td>\n",
       "      <td>101.000000</td>\n",
       "      <td>110.000000</td>\n",
       "      <td>210.000000</td>\n",
       "      <td>310.000000</td>\n",
       "      <td>740.000000</td>\n",
       "      <td>0.000000</td>\n",
       "      <td>-118.667600</td>\n",
       "    </tr>\n",
       "    <tr>\n",
       "      <th>25%</th>\n",
       "      <td>2.104105e+08</td>\n",
       "      <td>900.000000</td>\n",
       "      <td>6.000000</td>\n",
       "      <td>615.000000</td>\n",
       "      <td>1.000000</td>\n",
       "      <td>331.000000</td>\n",
       "      <td>0.000000</td>\n",
       "      <td>101.000000</td>\n",
       "      <td>310.000000</td>\n",
       "      <td>331.000000</td>\n",
       "      <td>998.000000</td>\n",
       "      <td>998.000000</td>\n",
       "      <td>998.000000</td>\n",
       "      <td>34.014500</td>\n",
       "      <td>-118.429700</td>\n",
       "    </tr>\n",
       "    <tr>\n",
       "      <th>50%</th>\n",
       "      <td>2.205166e+08</td>\n",
       "      <td>1415.000000</td>\n",
       "      <td>11.000000</td>\n",
       "      <td>1141.000000</td>\n",
       "      <td>1.000000</td>\n",
       "      <td>442.000000</td>\n",
       "      <td>31.000000</td>\n",
       "      <td>203.000000</td>\n",
       "      <td>400.000000</td>\n",
       "      <td>442.000000</td>\n",
       "      <td>998.000000</td>\n",
       "      <td>998.000000</td>\n",
       "      <td>998.000000</td>\n",
       "      <td>34.058700</td>\n",
       "      <td>-118.322100</td>\n",
       "    </tr>\n",
       "    <tr>\n",
       "      <th>75%</th>\n",
       "      <td>2.305083e+08</td>\n",
       "      <td>1900.000000</td>\n",
       "      <td>16.000000</td>\n",
       "      <td>1615.000000</td>\n",
       "      <td>2.000000</td>\n",
       "      <td>626.000000</td>\n",
       "      <td>45.000000</td>\n",
       "      <td>501.000000</td>\n",
       "      <td>400.000000</td>\n",
       "      <td>626.000000</td>\n",
       "      <td>998.000000</td>\n",
       "      <td>998.000000</td>\n",
       "      <td>998.000000</td>\n",
       "      <td>34.163600</td>\n",
       "      <td>-118.273900</td>\n",
       "    </tr>\n",
       "    <tr>\n",
       "      <th>max</th>\n",
       "      <td>2.499046e+08</td>\n",
       "      <td>2359.000000</td>\n",
       "      <td>21.000000</td>\n",
       "      <td>2199.000000</td>\n",
       "      <td>2.000000</td>\n",
       "      <td>956.000000</td>\n",
       "      <td>120.000000</td>\n",
       "      <td>976.000000</td>\n",
       "      <td>516.000000</td>\n",
       "      <td>956.000000</td>\n",
       "      <td>999.000000</td>\n",
       "      <td>999.000000</td>\n",
       "      <td>999.000000</td>\n",
       "      <td>34.334300</td>\n",
       "      <td>0.000000</td>\n",
       "    </tr>\n",
       "  </tbody>\n",
       "</table>\n",
       "</div>"
      ],
      "text/plain": [
       "              DR_NO       TIME OCC           AREA    Rpt Dist No  \\\n",
       "count  9.184430e+05  918443.000000  918443.000000  918443.000000   \n",
       "mean   2.182520e+08    1337.260666      10.701887    1116.626374   \n",
       "std    1.205523e+07     652.784076       6.101791     610.196881   \n",
       "min    8.170000e+02       1.000000       1.000000     101.000000   \n",
       "25%    2.104105e+08     900.000000       6.000000     615.000000   \n",
       "50%    2.205166e+08    1415.000000      11.000000    1141.000000   \n",
       "75%    2.305083e+08    1900.000000      16.000000    1615.000000   \n",
       "max    2.499046e+08    2359.000000      21.000000    2199.000000   \n",
       "\n",
       "            Part 1-2         Crm Cd       Vict Age      Premis Cd  \\\n",
       "count  918443.000000  918443.000000  918443.000000  918433.000000   \n",
       "mean        1.410659     500.832354      29.573729     306.578338   \n",
       "std         0.491954     207.584858      21.858617     217.402431   \n",
       "min         1.000000     110.000000      -4.000000     101.000000   \n",
       "25%         1.000000     331.000000       0.000000     101.000000   \n",
       "50%         1.000000     442.000000      31.000000     203.000000   \n",
       "75%         2.000000     626.000000      45.000000     501.000000   \n",
       "max         2.000000     956.000000     120.000000     976.000000   \n",
       "\n",
       "       Weapon Used Cd       Crm Cd 1      Crm Cd 2     Crm Cd 3    Crm Cd 4  \\\n",
       "count   317500.000000  918432.000000  66784.000000  2251.000000   65.000000   \n",
       "mean       363.482567     500.575810    957.958104   983.730786  987.353846   \n",
       "std        123.709042     207.377428    110.611792    52.636687   41.137130   \n",
       "min        101.000000     110.000000    210.000000   310.000000  740.000000   \n",
       "25%        310.000000     331.000000    998.000000   998.000000  998.000000   \n",
       "50%        400.000000     442.000000    998.000000   998.000000  998.000000   \n",
       "75%        400.000000     626.000000    998.000000   998.000000  998.000000   \n",
       "max        516.000000     956.000000    999.000000   999.000000  999.000000   \n",
       "\n",
       "                 LAT            LON  \n",
       "count  918443.000000  918443.000000  \n",
       "mean       33.989769    -118.062475  \n",
       "std         1.693282       5.869872  \n",
       "min         0.000000    -118.667600  \n",
       "25%        34.014500    -118.429700  \n",
       "50%        34.058700    -118.322100  \n",
       "75%        34.163600    -118.273900  \n",
       "max        34.334300       0.000000  "
      ]
     },
     "execution_count": 4,
     "metadata": {},
     "output_type": "execute_result"
    }
   ],
   "source": [
    "crime = pd.read_csv(\"/Users/shemarfraser/Downloads/LA_Crime_Data__2020_to_Present.csv\")\n",
    "crime.describe()"
   ]
  },
  {
   "cell_type": "code",
   "execution_count": 5,
   "metadata": {},
   "outputs": [
    {
     "data": {
      "text/html": [
       "<div>\n",
       "<style scoped>\n",
       "    .dataframe tbody tr th:only-of-type {\n",
       "        vertical-align: middle;\n",
       "    }\n",
       "\n",
       "    .dataframe tbody tr th {\n",
       "        vertical-align: top;\n",
       "    }\n",
       "\n",
       "    .dataframe thead th {\n",
       "        text-align: right;\n",
       "    }\n",
       "</style>\n",
       "<table border=\"1\" class=\"dataframe\">\n",
       "  <thead>\n",
       "    <tr style=\"text-align: right;\">\n",
       "      <th></th>\n",
       "      <th>DR_NO</th>\n",
       "      <th>Date Rptd</th>\n",
       "      <th>DATE OCC</th>\n",
       "      <th>TIME OCC</th>\n",
       "      <th>AREA</th>\n",
       "      <th>AREA NAME</th>\n",
       "      <th>Rpt Dist No</th>\n",
       "      <th>Part 1-2</th>\n",
       "      <th>Crm Cd</th>\n",
       "      <th>Crm Cd Desc</th>\n",
       "      <th>...</th>\n",
       "      <th>Status</th>\n",
       "      <th>Status Desc</th>\n",
       "      <th>Crm Cd 1</th>\n",
       "      <th>Crm Cd 2</th>\n",
       "      <th>Crm Cd 3</th>\n",
       "      <th>Crm Cd 4</th>\n",
       "      <th>LOCATION</th>\n",
       "      <th>Cross Street</th>\n",
       "      <th>LAT</th>\n",
       "      <th>LON</th>\n",
       "    </tr>\n",
       "  </thead>\n",
       "  <tbody>\n",
       "    <tr>\n",
       "      <th>0</th>\n",
       "      <td>190326475</td>\n",
       "      <td>03/01/2020 12:00:00 AM</td>\n",
       "      <td>03/01/2020 12:00:00 AM</td>\n",
       "      <td>2130</td>\n",
       "      <td>7</td>\n",
       "      <td>Wilshire</td>\n",
       "      <td>784</td>\n",
       "      <td>1</td>\n",
       "      <td>510</td>\n",
       "      <td>VEHICLE - STOLEN</td>\n",
       "      <td>...</td>\n",
       "      <td>AA</td>\n",
       "      <td>Adult Arrest</td>\n",
       "      <td>510.0</td>\n",
       "      <td>998.0</td>\n",
       "      <td>NaN</td>\n",
       "      <td>NaN</td>\n",
       "      <td>1900 S  LONGWOOD                     AV</td>\n",
       "      <td>NaN</td>\n",
       "      <td>34.0375</td>\n",
       "      <td>-118.3506</td>\n",
       "    </tr>\n",
       "    <tr>\n",
       "      <th>1</th>\n",
       "      <td>200106753</td>\n",
       "      <td>02/09/2020 12:00:00 AM</td>\n",
       "      <td>02/08/2020 12:00:00 AM</td>\n",
       "      <td>1800</td>\n",
       "      <td>1</td>\n",
       "      <td>Central</td>\n",
       "      <td>182</td>\n",
       "      <td>1</td>\n",
       "      <td>330</td>\n",
       "      <td>BURGLARY FROM VEHICLE</td>\n",
       "      <td>...</td>\n",
       "      <td>IC</td>\n",
       "      <td>Invest Cont</td>\n",
       "      <td>330.0</td>\n",
       "      <td>998.0</td>\n",
       "      <td>NaN</td>\n",
       "      <td>NaN</td>\n",
       "      <td>1000 S  FLOWER                       ST</td>\n",
       "      <td>NaN</td>\n",
       "      <td>34.0444</td>\n",
       "      <td>-118.2628</td>\n",
       "    </tr>\n",
       "    <tr>\n",
       "      <th>2</th>\n",
       "      <td>200320258</td>\n",
       "      <td>11/11/2020 12:00:00 AM</td>\n",
       "      <td>11/04/2020 12:00:00 AM</td>\n",
       "      <td>1700</td>\n",
       "      <td>3</td>\n",
       "      <td>Southwest</td>\n",
       "      <td>356</td>\n",
       "      <td>1</td>\n",
       "      <td>480</td>\n",
       "      <td>BIKE - STOLEN</td>\n",
       "      <td>...</td>\n",
       "      <td>IC</td>\n",
       "      <td>Invest Cont</td>\n",
       "      <td>480.0</td>\n",
       "      <td>NaN</td>\n",
       "      <td>NaN</td>\n",
       "      <td>NaN</td>\n",
       "      <td>1400 W  37TH                         ST</td>\n",
       "      <td>NaN</td>\n",
       "      <td>34.0210</td>\n",
       "      <td>-118.3002</td>\n",
       "    </tr>\n",
       "    <tr>\n",
       "      <th>3</th>\n",
       "      <td>200907217</td>\n",
       "      <td>05/10/2023 12:00:00 AM</td>\n",
       "      <td>03/10/2020 12:00:00 AM</td>\n",
       "      <td>2037</td>\n",
       "      <td>9</td>\n",
       "      <td>Van Nuys</td>\n",
       "      <td>964</td>\n",
       "      <td>1</td>\n",
       "      <td>343</td>\n",
       "      <td>SHOPLIFTING-GRAND THEFT ($950.01 &amp; OVER)</td>\n",
       "      <td>...</td>\n",
       "      <td>IC</td>\n",
       "      <td>Invest Cont</td>\n",
       "      <td>343.0</td>\n",
       "      <td>NaN</td>\n",
       "      <td>NaN</td>\n",
       "      <td>NaN</td>\n",
       "      <td>14000    RIVERSIDE                    DR</td>\n",
       "      <td>NaN</td>\n",
       "      <td>34.1576</td>\n",
       "      <td>-118.4387</td>\n",
       "    </tr>\n",
       "    <tr>\n",
       "      <th>4</th>\n",
       "      <td>220614831</td>\n",
       "      <td>08/18/2022 12:00:00 AM</td>\n",
       "      <td>08/17/2020 12:00:00 AM</td>\n",
       "      <td>1200</td>\n",
       "      <td>6</td>\n",
       "      <td>Hollywood</td>\n",
       "      <td>666</td>\n",
       "      <td>2</td>\n",
       "      <td>354</td>\n",
       "      <td>THEFT OF IDENTITY</td>\n",
       "      <td>...</td>\n",
       "      <td>IC</td>\n",
       "      <td>Invest Cont</td>\n",
       "      <td>354.0</td>\n",
       "      <td>NaN</td>\n",
       "      <td>NaN</td>\n",
       "      <td>NaN</td>\n",
       "      <td>1900    TRANSIENT</td>\n",
       "      <td>NaN</td>\n",
       "      <td>34.0944</td>\n",
       "      <td>-118.3277</td>\n",
       "    </tr>\n",
       "    <tr>\n",
       "      <th>5</th>\n",
       "      <td>231808869</td>\n",
       "      <td>04/04/2023 12:00:00 AM</td>\n",
       "      <td>12/01/2020 12:00:00 AM</td>\n",
       "      <td>2300</td>\n",
       "      <td>18</td>\n",
       "      <td>Southeast</td>\n",
       "      <td>1826</td>\n",
       "      <td>2</td>\n",
       "      <td>354</td>\n",
       "      <td>THEFT OF IDENTITY</td>\n",
       "      <td>...</td>\n",
       "      <td>IC</td>\n",
       "      <td>Invest Cont</td>\n",
       "      <td>354.0</td>\n",
       "      <td>NaN</td>\n",
       "      <td>NaN</td>\n",
       "      <td>NaN</td>\n",
       "      <td>9900    COMPTON                      AV</td>\n",
       "      <td>NaN</td>\n",
       "      <td>33.9467</td>\n",
       "      <td>-118.2463</td>\n",
       "    </tr>\n",
       "    <tr>\n",
       "      <th>6</th>\n",
       "      <td>230110144</td>\n",
       "      <td>04/04/2023 12:00:00 AM</td>\n",
       "      <td>07/03/2020 12:00:00 AM</td>\n",
       "      <td>900</td>\n",
       "      <td>1</td>\n",
       "      <td>Central</td>\n",
       "      <td>182</td>\n",
       "      <td>2</td>\n",
       "      <td>354</td>\n",
       "      <td>THEFT OF IDENTITY</td>\n",
       "      <td>...</td>\n",
       "      <td>IC</td>\n",
       "      <td>Invest Cont</td>\n",
       "      <td>354.0</td>\n",
       "      <td>NaN</td>\n",
       "      <td>NaN</td>\n",
       "      <td>NaN</td>\n",
       "      <td>1100 S  GRAND                        AV</td>\n",
       "      <td>NaN</td>\n",
       "      <td>34.0415</td>\n",
       "      <td>-118.2620</td>\n",
       "    </tr>\n",
       "    <tr>\n",
       "      <th>7</th>\n",
       "      <td>220314085</td>\n",
       "      <td>07/22/2022 12:00:00 AM</td>\n",
       "      <td>05/12/2020 12:00:00 AM</td>\n",
       "      <td>1110</td>\n",
       "      <td>3</td>\n",
       "      <td>Southwest</td>\n",
       "      <td>303</td>\n",
       "      <td>2</td>\n",
       "      <td>354</td>\n",
       "      <td>THEFT OF IDENTITY</td>\n",
       "      <td>...</td>\n",
       "      <td>IC</td>\n",
       "      <td>Invest Cont</td>\n",
       "      <td>354.0</td>\n",
       "      <td>NaN</td>\n",
       "      <td>NaN</td>\n",
       "      <td>NaN</td>\n",
       "      <td>2500 S  SYCAMORE                     AV</td>\n",
       "      <td>NaN</td>\n",
       "      <td>34.0335</td>\n",
       "      <td>-118.3537</td>\n",
       "    </tr>\n",
       "    <tr>\n",
       "      <th>8</th>\n",
       "      <td>231309864</td>\n",
       "      <td>04/28/2023 12:00:00 AM</td>\n",
       "      <td>12/09/2020 12:00:00 AM</td>\n",
       "      <td>1400</td>\n",
       "      <td>13</td>\n",
       "      <td>Newton</td>\n",
       "      <td>1375</td>\n",
       "      <td>2</td>\n",
       "      <td>354</td>\n",
       "      <td>THEFT OF IDENTITY</td>\n",
       "      <td>...</td>\n",
       "      <td>IC</td>\n",
       "      <td>Invest Cont</td>\n",
       "      <td>354.0</td>\n",
       "      <td>NaN</td>\n",
       "      <td>NaN</td>\n",
       "      <td>NaN</td>\n",
       "      <td>1300 E  57TH                         ST</td>\n",
       "      <td>NaN</td>\n",
       "      <td>33.9911</td>\n",
       "      <td>-118.2521</td>\n",
       "    </tr>\n",
       "    <tr>\n",
       "      <th>9</th>\n",
       "      <td>211904005</td>\n",
       "      <td>12/31/2020 12:00:00 AM</td>\n",
       "      <td>12/31/2020 12:00:00 AM</td>\n",
       "      <td>1220</td>\n",
       "      <td>19</td>\n",
       "      <td>Mission</td>\n",
       "      <td>1974</td>\n",
       "      <td>2</td>\n",
       "      <td>624</td>\n",
       "      <td>BATTERY - SIMPLE ASSAULT</td>\n",
       "      <td>...</td>\n",
       "      <td>IC</td>\n",
       "      <td>Invest Cont</td>\n",
       "      <td>624.0</td>\n",
       "      <td>NaN</td>\n",
       "      <td>NaN</td>\n",
       "      <td>NaN</td>\n",
       "      <td>9000    CEDROS                       AV</td>\n",
       "      <td>NaN</td>\n",
       "      <td>34.2336</td>\n",
       "      <td>-118.4535</td>\n",
       "    </tr>\n",
       "  </tbody>\n",
       "</table>\n",
       "<p>10 rows × 28 columns</p>\n",
       "</div>"
      ],
      "text/plain": [
       "       DR_NO               Date Rptd                DATE OCC  TIME OCC  AREA  \\\n",
       "0  190326475  03/01/2020 12:00:00 AM  03/01/2020 12:00:00 AM      2130     7   \n",
       "1  200106753  02/09/2020 12:00:00 AM  02/08/2020 12:00:00 AM      1800     1   \n",
       "2  200320258  11/11/2020 12:00:00 AM  11/04/2020 12:00:00 AM      1700     3   \n",
       "3  200907217  05/10/2023 12:00:00 AM  03/10/2020 12:00:00 AM      2037     9   \n",
       "4  220614831  08/18/2022 12:00:00 AM  08/17/2020 12:00:00 AM      1200     6   \n",
       "5  231808869  04/04/2023 12:00:00 AM  12/01/2020 12:00:00 AM      2300    18   \n",
       "6  230110144  04/04/2023 12:00:00 AM  07/03/2020 12:00:00 AM       900     1   \n",
       "7  220314085  07/22/2022 12:00:00 AM  05/12/2020 12:00:00 AM      1110     3   \n",
       "8  231309864  04/28/2023 12:00:00 AM  12/09/2020 12:00:00 AM      1400    13   \n",
       "9  211904005  12/31/2020 12:00:00 AM  12/31/2020 12:00:00 AM      1220    19   \n",
       "\n",
       "   AREA NAME  Rpt Dist No  Part 1-2  Crm Cd  \\\n",
       "0   Wilshire          784         1     510   \n",
       "1    Central          182         1     330   \n",
       "2  Southwest          356         1     480   \n",
       "3   Van Nuys          964         1     343   \n",
       "4  Hollywood          666         2     354   \n",
       "5  Southeast         1826         2     354   \n",
       "6    Central          182         2     354   \n",
       "7  Southwest          303         2     354   \n",
       "8     Newton         1375         2     354   \n",
       "9    Mission         1974         2     624   \n",
       "\n",
       "                                Crm Cd Desc  ... Status   Status Desc  \\\n",
       "0                          VEHICLE - STOLEN  ...     AA  Adult Arrest   \n",
       "1                     BURGLARY FROM VEHICLE  ...     IC   Invest Cont   \n",
       "2                             BIKE - STOLEN  ...     IC   Invest Cont   \n",
       "3  SHOPLIFTING-GRAND THEFT ($950.01 & OVER)  ...     IC   Invest Cont   \n",
       "4                         THEFT OF IDENTITY  ...     IC   Invest Cont   \n",
       "5                         THEFT OF IDENTITY  ...     IC   Invest Cont   \n",
       "6                         THEFT OF IDENTITY  ...     IC   Invest Cont   \n",
       "7                         THEFT OF IDENTITY  ...     IC   Invest Cont   \n",
       "8                         THEFT OF IDENTITY  ...     IC   Invest Cont   \n",
       "9                  BATTERY - SIMPLE ASSAULT  ...     IC   Invest Cont   \n",
       "\n",
       "  Crm Cd 1 Crm Cd 2  Crm Cd 3 Crm Cd 4  \\\n",
       "0    510.0    998.0       NaN      NaN   \n",
       "1    330.0    998.0       NaN      NaN   \n",
       "2    480.0      NaN       NaN      NaN   \n",
       "3    343.0      NaN       NaN      NaN   \n",
       "4    354.0      NaN       NaN      NaN   \n",
       "5    354.0      NaN       NaN      NaN   \n",
       "6    354.0      NaN       NaN      NaN   \n",
       "7    354.0      NaN       NaN      NaN   \n",
       "8    354.0      NaN       NaN      NaN   \n",
       "9    624.0      NaN       NaN      NaN   \n",
       "\n",
       "                                   LOCATION Cross Street      LAT       LON  \n",
       "0   1900 S  LONGWOOD                     AV          NaN  34.0375 -118.3506  \n",
       "1   1000 S  FLOWER                       ST          NaN  34.0444 -118.2628  \n",
       "2   1400 W  37TH                         ST          NaN  34.0210 -118.3002  \n",
       "3  14000    RIVERSIDE                    DR          NaN  34.1576 -118.4387  \n",
       "4                         1900    TRANSIENT          NaN  34.0944 -118.3277  \n",
       "5   9900    COMPTON                      AV          NaN  33.9467 -118.2463  \n",
       "6   1100 S  GRAND                        AV          NaN  34.0415 -118.2620  \n",
       "7   2500 S  SYCAMORE                     AV          NaN  34.0335 -118.3537  \n",
       "8   1300 E  57TH                         ST          NaN  33.9911 -118.2521  \n",
       "9   9000    CEDROS                       AV          NaN  34.2336 -118.4535  \n",
       "\n",
       "[10 rows x 28 columns]"
      ]
     },
     "execution_count": 5,
     "metadata": {},
     "output_type": "execute_result"
    }
   ],
   "source": [
    "crime.head(10)"
   ]
  },
  {
   "cell_type": "code",
   "execution_count": 6,
   "metadata": {},
   "outputs": [
    {
     "data": {
      "text/plain": [
       "(918443, 28)"
      ]
     },
     "execution_count": 6,
     "metadata": {},
     "output_type": "execute_result"
    }
   ],
   "source": [
    "crime.shape"
   ]
  },
  {
   "cell_type": "code",
   "execution_count": 7,
   "metadata": {},
   "outputs": [
    {
     "data": {
      "text/plain": [
       "['DR_NO',\n",
       " 'Date Rptd',\n",
       " 'DATE OCC',\n",
       " 'TIME OCC',\n",
       " 'AREA',\n",
       " 'AREA NAME',\n",
       " 'Rpt Dist No',\n",
       " 'Part 1-2',\n",
       " 'Crm Cd',\n",
       " 'Crm Cd Desc',\n",
       " 'Mocodes',\n",
       " 'Vict Age',\n",
       " 'Vict Sex',\n",
       " 'Vict Descent',\n",
       " 'Premis Cd',\n",
       " 'Premis Desc',\n",
       " 'Weapon Used Cd',\n",
       " 'Weapon Desc',\n",
       " 'Status',\n",
       " 'Status Desc',\n",
       " 'Crm Cd 1',\n",
       " 'Crm Cd 2',\n",
       " 'Crm Cd 3',\n",
       " 'Crm Cd 4',\n",
       " 'LOCATION',\n",
       " 'Cross Street',\n",
       " 'LAT',\n",
       " 'LON']"
      ]
     },
     "execution_count": 7,
     "metadata": {},
     "output_type": "execute_result"
    }
   ],
   "source": [
    "crime.columns.tolist()"
   ]
  },
  {
   "cell_type": "code",
   "execution_count": 8,
   "metadata": {},
   "outputs": [
    {
     "data": {
      "text/plain": [
       "'VEHICLE - STOLEN'"
      ]
     },
     "execution_count": 8,
     "metadata": {},
     "output_type": "execute_result"
    }
   ],
   "source": [
    "crime['Crm Cd Desc'].value_counts().idxmax()"
   ]
  },
  {
   "cell_type": "markdown",
   "metadata": {},
   "source": [
    "We see above that the most common crime that has occured within the city of Los Angeles since 2020 is car theft. "
   ]
  },
  {
   "cell_type": "code",
   "execution_count": 9,
   "metadata": {},
   "outputs": [
    {
     "data": {
      "text/plain": [
       "'TRAIN WRECKING'"
      ]
     },
     "execution_count": 9,
     "metadata": {},
     "output_type": "execute_result"
    }
   ],
   "source": [
    "crime['Crm Cd Desc'].value_counts().idxmin()"
   ]
  },
  {
   "cell_type": "code",
   "execution_count": 10,
   "metadata": {},
   "outputs": [
    {
     "data": {
      "text/plain": [
       "'Central'"
      ]
     },
     "execution_count": 10,
     "metadata": {},
     "output_type": "execute_result"
    }
   ],
   "source": [
    "crime['AREA NAME'].value_counts().idxmax()"
   ]
  },
  {
   "cell_type": "markdown",
   "metadata": {},
   "source": [
    "Here we see that the majority of crime that has occured from 2020 - Present took place in Central Los Angeles. "
   ]
  },
  {
   "cell_type": "code",
   "execution_count": 11,
   "metadata": {},
   "outputs": [
    {
     "data": {
      "text/html": [
       "<div>\n",
       "<style scoped>\n",
       "    .dataframe tbody tr th:only-of-type {\n",
       "        vertical-align: middle;\n",
       "    }\n",
       "\n",
       "    .dataframe tbody tr th {\n",
       "        vertical-align: top;\n",
       "    }\n",
       "\n",
       "    .dataframe thead th {\n",
       "        text-align: right;\n",
       "    }\n",
       "</style>\n",
       "<table border=\"1\" class=\"dataframe\">\n",
       "  <thead>\n",
       "    <tr style=\"text-align: right;\">\n",
       "      <th></th>\n",
       "      <th>DR_NO</th>\n",
       "      <th>Date Rptd</th>\n",
       "      <th>DATE OCC</th>\n",
       "      <th>TIME OCC</th>\n",
       "      <th>AREA</th>\n",
       "      <th>AREA NAME</th>\n",
       "      <th>Rpt Dist No</th>\n",
       "      <th>Part 1-2</th>\n",
       "      <th>Crm Cd</th>\n",
       "      <th>Crm Cd Desc</th>\n",
       "      <th>...</th>\n",
       "      <th>Status</th>\n",
       "      <th>Status Desc</th>\n",
       "      <th>Crm Cd 1</th>\n",
       "      <th>Crm Cd 2</th>\n",
       "      <th>Crm Cd 3</th>\n",
       "      <th>Crm Cd 4</th>\n",
       "      <th>LOCATION</th>\n",
       "      <th>Cross Street</th>\n",
       "      <th>LAT</th>\n",
       "      <th>LON</th>\n",
       "    </tr>\n",
       "  </thead>\n",
       "  <tbody>\n",
       "    <tr>\n",
       "      <th>918438</th>\n",
       "      <td>241605270</td>\n",
       "      <td>02/11/2024 12:00:00 AM</td>\n",
       "      <td>02/11/2024 12:00:00 AM</td>\n",
       "      <td>1920</td>\n",
       "      <td>16</td>\n",
       "      <td>Foothill</td>\n",
       "      <td>1681</td>\n",
       "      <td>2</td>\n",
       "      <td>888</td>\n",
       "      <td>TRESPASSING</td>\n",
       "      <td>...</td>\n",
       "      <td>AA</td>\n",
       "      <td>Adult Arrest</td>\n",
       "      <td>888.0</td>\n",
       "      <td>NaN</td>\n",
       "      <td>NaN</td>\n",
       "      <td>NaN</td>\n",
       "      <td>8700    SHARP                        AV</td>\n",
       "      <td>NaN</td>\n",
       "      <td>34.2278</td>\n",
       "      <td>-118.4051</td>\n",
       "    </tr>\n",
       "    <tr>\n",
       "      <th>918439</th>\n",
       "      <td>241604405</td>\n",
       "      <td>01/14/2024 12:00:00 AM</td>\n",
       "      <td>01/13/2024 12:00:00 AM</td>\n",
       "      <td>720</td>\n",
       "      <td>16</td>\n",
       "      <td>Foothill</td>\n",
       "      <td>1673</td>\n",
       "      <td>1</td>\n",
       "      <td>230</td>\n",
       "      <td>ASSAULT WITH DEADLY WEAPON, AGGRAVATED ASSAULT</td>\n",
       "      <td>...</td>\n",
       "      <td>IC</td>\n",
       "      <td>Invest Cont</td>\n",
       "      <td>230.0</td>\n",
       "      <td>NaN</td>\n",
       "      <td>NaN</td>\n",
       "      <td>NaN</td>\n",
       "      <td>8700    LANKERSHIM                   BL</td>\n",
       "      <td>NaN</td>\n",
       "      <td>34.2271</td>\n",
       "      <td>-118.3878</td>\n",
       "    </tr>\n",
       "    <tr>\n",
       "      <th>918440</th>\n",
       "      <td>242106032</td>\n",
       "      <td>02/20/2024 12:00:00 AM</td>\n",
       "      <td>02/17/2024 12:00:00 AM</td>\n",
       "      <td>2330</td>\n",
       "      <td>21</td>\n",
       "      <td>Topanga</td>\n",
       "      <td>2103</td>\n",
       "      <td>1</td>\n",
       "      <td>420</td>\n",
       "      <td>THEFT FROM MOTOR VEHICLE - PETTY ($950 &amp; UNDER)</td>\n",
       "      <td>...</td>\n",
       "      <td>IC</td>\n",
       "      <td>Invest Cont</td>\n",
       "      <td>420.0</td>\n",
       "      <td>NaN</td>\n",
       "      <td>NaN</td>\n",
       "      <td>NaN</td>\n",
       "      <td>22700    NAPA                         ST</td>\n",
       "      <td>NaN</td>\n",
       "      <td>34.2260</td>\n",
       "      <td>-118.6214</td>\n",
       "    </tr>\n",
       "    <tr>\n",
       "      <th>918441</th>\n",
       "      <td>242004546</td>\n",
       "      <td>01/16/2024 12:00:00 AM</td>\n",
       "      <td>01/16/2024 12:00:00 AM</td>\n",
       "      <td>1510</td>\n",
       "      <td>20</td>\n",
       "      <td>Olympic</td>\n",
       "      <td>2013</td>\n",
       "      <td>2</td>\n",
       "      <td>624</td>\n",
       "      <td>BATTERY - SIMPLE ASSAULT</td>\n",
       "      <td>...</td>\n",
       "      <td>IC</td>\n",
       "      <td>Invest Cont</td>\n",
       "      <td>624.0</td>\n",
       "      <td>NaN</td>\n",
       "      <td>NaN</td>\n",
       "      <td>NaN</td>\n",
       "      <td>HOBART                       BL</td>\n",
       "      <td>3RD                          ST</td>\n",
       "      <td>34.0690</td>\n",
       "      <td>-118.3054</td>\n",
       "    </tr>\n",
       "    <tr>\n",
       "      <th>918442</th>\n",
       "      <td>240104953</td>\n",
       "      <td>01/15/2024 12:00:00 AM</td>\n",
       "      <td>01/15/2024 12:00:00 AM</td>\n",
       "      <td>100</td>\n",
       "      <td>1</td>\n",
       "      <td>Central</td>\n",
       "      <td>101</td>\n",
       "      <td>2</td>\n",
       "      <td>745</td>\n",
       "      <td>VANDALISM - MISDEAMEANOR ($399 OR UNDER)</td>\n",
       "      <td>...</td>\n",
       "      <td>IC</td>\n",
       "      <td>Invest Cont</td>\n",
       "      <td>745.0</td>\n",
       "      <td>NaN</td>\n",
       "      <td>NaN</td>\n",
       "      <td>NaN</td>\n",
       "      <td>1300 W  SUNSET                       BL</td>\n",
       "      <td>NaN</td>\n",
       "      <td>34.0685</td>\n",
       "      <td>-118.2460</td>\n",
       "    </tr>\n",
       "  </tbody>\n",
       "</table>\n",
       "<p>5 rows × 28 columns</p>\n",
       "</div>"
      ],
      "text/plain": [
       "            DR_NO               Date Rptd                DATE OCC  TIME OCC  \\\n",
       "918438  241605270  02/11/2024 12:00:00 AM  02/11/2024 12:00:00 AM      1920   \n",
       "918439  241604405  01/14/2024 12:00:00 AM  01/13/2024 12:00:00 AM       720   \n",
       "918440  242106032  02/20/2024 12:00:00 AM  02/17/2024 12:00:00 AM      2330   \n",
       "918441  242004546  01/16/2024 12:00:00 AM  01/16/2024 12:00:00 AM      1510   \n",
       "918442  240104953  01/15/2024 12:00:00 AM  01/15/2024 12:00:00 AM       100   \n",
       "\n",
       "        AREA AREA NAME  Rpt Dist No  Part 1-2  Crm Cd  \\\n",
       "918438    16  Foothill         1681         2     888   \n",
       "918439    16  Foothill         1673         1     230   \n",
       "918440    21   Topanga         2103         1     420   \n",
       "918441    20   Olympic         2013         2     624   \n",
       "918442     1   Central          101         2     745   \n",
       "\n",
       "                                            Crm Cd Desc  ... Status  \\\n",
       "918438                                      TRESPASSING  ...     AA   \n",
       "918439   ASSAULT WITH DEADLY WEAPON, AGGRAVATED ASSAULT  ...     IC   \n",
       "918440  THEFT FROM MOTOR VEHICLE - PETTY ($950 & UNDER)  ...     IC   \n",
       "918441                         BATTERY - SIMPLE ASSAULT  ...     IC   \n",
       "918442         VANDALISM - MISDEAMEANOR ($399 OR UNDER)  ...     IC   \n",
       "\n",
       "         Status Desc Crm Cd 1 Crm Cd 2  Crm Cd 3 Crm Cd 4  \\\n",
       "918438  Adult Arrest    888.0      NaN       NaN      NaN   \n",
       "918439   Invest Cont    230.0      NaN       NaN      NaN   \n",
       "918440   Invest Cont    420.0      NaN       NaN      NaN   \n",
       "918441   Invest Cont    624.0      NaN       NaN      NaN   \n",
       "918442   Invest Cont    745.0      NaN       NaN      NaN   \n",
       "\n",
       "                                        LOCATION  \\\n",
       "918438   8700    SHARP                        AV   \n",
       "918439   8700    LANKERSHIM                   BL   \n",
       "918440  22700    NAPA                         ST   \n",
       "918441           HOBART                       BL   \n",
       "918442   1300 W  SUNSET                       BL   \n",
       "\n",
       "                           Cross Street      LAT       LON  \n",
       "918438                              NaN  34.2278 -118.4051  \n",
       "918439                              NaN  34.2271 -118.3878  \n",
       "918440                              NaN  34.2260 -118.6214  \n",
       "918441  3RD                          ST  34.0690 -118.3054  \n",
       "918442                              NaN  34.0685 -118.2460  \n",
       "\n",
       "[5 rows x 28 columns]"
      ]
     },
     "execution_count": 11,
     "metadata": {},
     "output_type": "execute_result"
    }
   ],
   "source": [
    "crime.tail()"
   ]
  },
  {
   "cell_type": "code",
   "execution_count": 12,
   "metadata": {},
   "outputs": [
    {
     "data": {
      "text/plain": [
       "'Central'"
      ]
     },
     "execution_count": 12,
     "metadata": {},
     "output_type": "execute_result"
    }
   ],
   "source": [
    "crime['AREA NAME'].value_counts().idxmax()"
   ]
  },
  {
   "cell_type": "code",
   "execution_count": 13,
   "metadata": {},
   "outputs": [
    {
     "data": {
      "text/plain": [
       "'STRONG-ARM (HANDS, FIST, FEET OR BODILY FORCE)'"
      ]
     },
     "execution_count": 13,
     "metadata": {},
     "output_type": "execute_result"
    }
   ],
   "source": [
    "crime['Weapon Desc'].value_counts().idxmax()"
   ]
  },
  {
   "cell_type": "markdown",
   "metadata": {},
   "source": [
    "Here, we see that the most common type of assault occured using bodily force."
   ]
  },
  {
   "cell_type": "code",
   "execution_count": 14,
   "metadata": {},
   "outputs": [
    {
     "data": {
      "text/plain": [
       "array(['VEHICLE - STOLEN', 'BURGLARY FROM VEHICLE', 'BIKE - STOLEN',\n",
       "       'SHOPLIFTING-GRAND THEFT ($950.01 & OVER)', 'THEFT OF IDENTITY',\n",
       "       'BATTERY - SIMPLE ASSAULT',\n",
       "       'SODOMY/SEXUAL CONTACT B/W PENIS OF ONE PERS TO ANUS OTH',\n",
       "       'CRM AGNST CHLD (13 OR UNDER) (14-15 & SUSP 10 YRS OLDER)',\n",
       "       'SEX,UNLAWFUL(INC MUTUAL CONSENT, PENETRATION W/ FRGN OBJ',\n",
       "       'ASSAULT WITH DEADLY WEAPON, AGGRAVATED ASSAULT',\n",
       "       'LETTERS, LEWD  -  TELEPHONE CALLS, LEWD',\n",
       "       'THEFT-GRAND ($950.01 & OVER)EXCPT,GUNS,FOWL,LIVESTK,PROD',\n",
       "       'CRIMINAL THREATS - NO WEAPON DISPLAYED',\n",
       "       'EMBEZZLEMENT, GRAND THEFT ($950.01 & OVER)',\n",
       "       'THEFT FROM MOTOR VEHICLE - PETTY ($950 & UNDER)',\n",
       "       'CHILD ANNOYING (17YRS & UNDER)', 'BURGLARY', 'CONTEMPT OF COURT',\n",
       "       'THEFT PLAIN - PETTY ($950 & UNDER)',\n",
       "       'INTIMATE PARTNER - SIMPLE ASSAULT', 'LEWD CONDUCT',\n",
       "       'THEFT PLAIN - ATTEMPT',\n",
       "       'THEFT FROM MOTOR VEHICLE - GRAND ($950.01 AND OVER)',\n",
       "       'OTHER MISCELLANEOUS CRIME', 'ROBBERY', 'BUNCO, GRAND THEFT',\n",
       "       'BATTERY WITH SEXUAL CONTACT',\n",
       "       'INTIMATE PARTNER - AGGRAVATED ASSAULT', 'ORAL COPULATION',\n",
       "       'UNAUTHORIZED COMPUTER ACCESS', 'VIOLATION OF RESTRAINING ORDER',\n",
       "       'SHOPLIFTING - PETTY THEFT ($950 & UNDER)',\n",
       "       'VANDALISM - FELONY ($400 & OVER, ALL CHURCH VANDALISMS)',\n",
       "       'BRANDISH WEAPON', 'DOCUMENT FORGERY / STOLEN FELONY',\n",
       "       'SEX OFFENDER REGISTRANT OUT OF COMPLIANCE', 'RAPE, FORCIBLE',\n",
       "       'VANDALISM - MISDEAMEANOR ($399 OR UNDER)',\n",
       "       'CHILD ABUSE (PHYSICAL) - SIMPLE ASSAULT',\n",
       "       'CREDIT CARDS, FRAUD USE ($950.01 & OVER)',\n",
       "       'THREATENING PHONE CALLS/LETTERS',\n",
       "       'SEXUAL PENETRATION W/FOREIGN OBJECT', 'EXTORTION',\n",
       "       'OTHER ASSAULT', 'PICKPOCKET', 'ARSON', 'DISTURBING THE PEACE',\n",
       "       'BUNCO, ATTEMPT', 'HUMAN TRAFFICKING - INVOLUNTARY SERVITUDE',\n",
       "       'PEEPING TOM', 'VIOLATION OF COURT ORDER', 'FALSE POLICE REPORT',\n",
       "       'CONTRIBUTING', 'FALSE IMPRISONMENT',\n",
       "       'CHILD ABUSE (PHYSICAL) - AGGRAVATED ASSAULT', 'ATTEMPTED ROBBERY',\n",
       "       'CREDIT CARDS, FRAUD USE ($950 & UNDER', 'CHILD STEALING',\n",
       "       'LEWD/LASCIVIOUS ACTS WITH CHILD',\n",
       "       'EMBEZZLEMENT, PETTY THEFT ($950 & UNDER)', 'INDECENT EXPOSURE',\n",
       "       'CHILD NEGLECT (SEE 300 W.I.C.)', 'STALKING',\n",
       "       'DISHONEST EMPLOYEE - GRAND THEFT', 'TRESPASSING',\n",
       "       'BURGLARY, ATTEMPTED', 'RAPE, ATTEMPTED',\n",
       "       'DISCHARGE FIREARMS/SHOTS FIRED',\n",
       "       'HUMAN TRAFFICKING - COMMERCIAL SEX ACTS',\n",
       "       'VEHICLE - ATTEMPT STOLEN', 'PANDERING',\n",
       "       'FIREARMS RESTRAINING ORDER (FIREARMS RO)', 'RESISTING ARREST',\n",
       "       'BURGLARY FROM VEHICLE, ATTEMPTED', 'THEFT, PERSON',\n",
       "       'BATTERY POLICE (SIMPLE)',\n",
       "       'VEHICLE, STOLEN - OTHER (MOTORIZED SCOOTERS, BIKES, ETC)',\n",
       "       'THEFT FROM PERSON - ATTEMPT', 'FAILURE TO YIELD', 'BOMB SCARE',\n",
       "       'ASSAULT WITH DEADLY WEAPON ON POLICE OFFICER', 'PIMPING',\n",
       "       'BUNCO, PETTY THEFT', 'SHOTS FIRED AT INHABITED DWELLING',\n",
       "       'DEFRAUDING INNKEEPER/THEFT OF SERVICES, $950 & UNDER',\n",
       "       'KIDNAPPING - GRAND ATTEMPT',\n",
       "       'SHOTS FIRED AT MOVING VEHICLE, TRAIN OR AIRCRAFT',\n",
       "       'TILL TAP - GRAND THEFT ($950.01 & OVER)',\n",
       "       'VIOLATION OF TEMPORARY RESTRAINING ORDER',\n",
       "       'THROWING OBJECT AT MOVING VEHICLE',\n",
       "       'DOCUMENT WORTHLESS ($200.01 & OVER)', 'KIDNAPPING',\n",
       "       'CRIMINAL HOMICIDE', 'PURSE SNATCHING',\n",
       "       'THEFT FROM MOTOR VEHICLE - ATTEMPT',\n",
       "       'DISHONEST EMPLOYEE - PETTY THEFT', 'CHILD PORNOGRAPHY',\n",
       "       'WEAPONS POSSESSION/BOMBING',\n",
       "       'DRIVING WITHOUT OWNER CONSENT (DWOC)',\n",
       "       'REPLICA FIREARMS(SALE,DISPLAY,MANUFACTURE OR DISTRIBUTE)',\n",
       "       'LYNCHING', 'RECKLESS DRIVING', 'SHOPLIFTING - ATTEMPT',\n",
       "       'COUNTERFEIT',\n",
       "       'DEFRAUDING INNKEEPER/THEFT OF SERVICES, OVER $950.01',\n",
       "       'BATTERY ON A FIREFIGHTER', 'CRUELTY TO ANIMALS', 'BOAT - STOLEN',\n",
       "       'ILLEGAL DUMPING', 'PROWLER', 'DRUGS, TO A MINOR',\n",
       "       'THEFT, COIN MACHINE - PETTY ($950 & UNDER)',\n",
       "       'DOCUMENT WORTHLESS ($200 & UNDER)', 'MANSLAUGHTER, NEGLIGENT',\n",
       "       'PETTY THEFT - AUTO REPAIR', 'THEFT, COIN MACHINE - ATTEMPT',\n",
       "       'TILL TAP - PETTY ($950 & UNDER)', 'PURSE SNATCHING - ATTEMPT',\n",
       "       'LYNCHING - ATTEMPTED', 'BIKE - ATTEMPTED STOLEN',\n",
       "       'GRAND THEFT / AUTO REPAIR', 'CONSPIRACY', 'BRIBERY',\n",
       "       'GRAND THEFT / INSURANCE FRAUD', 'DRUNK ROLL', 'CHILD ABANDONMENT',\n",
       "       'THEFT, COIN MACHINE - GRAND ($950.01 & OVER)', 'DISRUPT SCHOOL',\n",
       "       'PICKPOCKET, ATTEMPT', 'TELEPHONE PROPERTY - DAMAGE',\n",
       "       'BEASTIALITY, CRIME AGAINST NATURE SEXUAL ASSLT WITH ANIM',\n",
       "       'BIGAMY', 'FAILURE TO DISPERSE',\n",
       "       'FIREARMS EMERGENCY PROTECTIVE ORDER (FIREARMS EPO)',\n",
       "       'INCEST (SEXUAL ACTS BETWEEN BLOOD RELATIVES)',\n",
       "       'BLOCKING DOOR INDUCTION CENTER', 'INCITING A RIOT',\n",
       "       'DISHONEST EMPLOYEE ATTEMPTED THEFT', 'TRAIN WRECKING'],\n",
       "      dtype=object)"
      ]
     },
     "execution_count": 14,
     "metadata": {},
     "output_type": "execute_result"
    }
   ],
   "source": [
    "crime['Crm Cd Desc'].unique()"
   ]
  },
  {
   "cell_type": "code",
   "execution_count": 15,
   "metadata": {},
   "outputs": [
    {
     "data": {
      "text/plain": [
       "139"
      ]
     },
     "execution_count": 15,
     "metadata": {},
     "output_type": "execute_result"
    }
   ],
   "source": [
    "crime['Crm Cd Desc'].nunique()"
   ]
  },
  {
   "cell_type": "markdown",
   "metadata": {},
   "source": [
    "This shows us the number of unique crime descriptions within the dataset. It can be used to show you the number of unique values within any column you choose. "
   ]
  },
  {
   "cell_type": "code",
   "execution_count": 16,
   "metadata": {},
   "outputs": [
    {
     "data": {
      "text/html": [
       "<div>\n",
       "<style scoped>\n",
       "    .dataframe tbody tr th:only-of-type {\n",
       "        vertical-align: middle;\n",
       "    }\n",
       "\n",
       "    .dataframe tbody tr th {\n",
       "        vertical-align: top;\n",
       "    }\n",
       "\n",
       "    .dataframe thead th {\n",
       "        text-align: right;\n",
       "    }\n",
       "</style>\n",
       "<table border=\"1\" class=\"dataframe\">\n",
       "  <thead>\n",
       "    <tr style=\"text-align: right;\">\n",
       "      <th></th>\n",
       "      <th>DR_NO</th>\n",
       "      <th>Date Rptd</th>\n",
       "      <th>DATE OCC</th>\n",
       "      <th>TIME OCC</th>\n",
       "      <th>AREA</th>\n",
       "      <th>AREA NAME</th>\n",
       "      <th>Rpt Dist No</th>\n",
       "      <th>Part 1-2</th>\n",
       "      <th>Crm Cd</th>\n",
       "      <th>Crm Cd Desc</th>\n",
       "      <th>...</th>\n",
       "      <th>Status</th>\n",
       "      <th>Status Desc</th>\n",
       "      <th>Crm Cd 1</th>\n",
       "      <th>Crm Cd 2</th>\n",
       "      <th>Crm Cd 3</th>\n",
       "      <th>Crm Cd 4</th>\n",
       "      <th>LOCATION</th>\n",
       "      <th>Cross Street</th>\n",
       "      <th>LAT</th>\n",
       "      <th>LON</th>\n",
       "    </tr>\n",
       "  </thead>\n",
       "  <tbody>\n",
       "    <tr>\n",
       "      <th>0</th>\n",
       "      <td>190326475</td>\n",
       "      <td>03/01/2020 12:00:00 AM</td>\n",
       "      <td>03/01/2020 12:00:00 AM</td>\n",
       "      <td>2130</td>\n",
       "      <td>7</td>\n",
       "      <td>Wilshire</td>\n",
       "      <td>784</td>\n",
       "      <td>1</td>\n",
       "      <td>510</td>\n",
       "      <td>VEHICLE - STOLEN</td>\n",
       "      <td>...</td>\n",
       "      <td>AA</td>\n",
       "      <td>Adult Arrest</td>\n",
       "      <td>510.0</td>\n",
       "      <td>998.0</td>\n",
       "      <td>NaN</td>\n",
       "      <td>NaN</td>\n",
       "      <td>1900 S  LONGWOOD                     AV</td>\n",
       "      <td>NaN</td>\n",
       "      <td>34.0375</td>\n",
       "      <td>-118.3506</td>\n",
       "    </tr>\n",
       "    <tr>\n",
       "      <th>1</th>\n",
       "      <td>200106753</td>\n",
       "      <td>02/09/2020 12:00:00 AM</td>\n",
       "      <td>02/08/2020 12:00:00 AM</td>\n",
       "      <td>1800</td>\n",
       "      <td>1</td>\n",
       "      <td>Central</td>\n",
       "      <td>182</td>\n",
       "      <td>1</td>\n",
       "      <td>330</td>\n",
       "      <td>BURGLARY FROM VEHICLE</td>\n",
       "      <td>...</td>\n",
       "      <td>IC</td>\n",
       "      <td>Invest Cont</td>\n",
       "      <td>330.0</td>\n",
       "      <td>998.0</td>\n",
       "      <td>NaN</td>\n",
       "      <td>NaN</td>\n",
       "      <td>1000 S  FLOWER                       ST</td>\n",
       "      <td>NaN</td>\n",
       "      <td>34.0444</td>\n",
       "      <td>-118.2628</td>\n",
       "    </tr>\n",
       "    <tr>\n",
       "      <th>2</th>\n",
       "      <td>200320258</td>\n",
       "      <td>11/11/2020 12:00:00 AM</td>\n",
       "      <td>11/04/2020 12:00:00 AM</td>\n",
       "      <td>1700</td>\n",
       "      <td>3</td>\n",
       "      <td>Southwest</td>\n",
       "      <td>356</td>\n",
       "      <td>1</td>\n",
       "      <td>480</td>\n",
       "      <td>BIKE - STOLEN</td>\n",
       "      <td>...</td>\n",
       "      <td>IC</td>\n",
       "      <td>Invest Cont</td>\n",
       "      <td>480.0</td>\n",
       "      <td>NaN</td>\n",
       "      <td>NaN</td>\n",
       "      <td>NaN</td>\n",
       "      <td>1400 W  37TH                         ST</td>\n",
       "      <td>NaN</td>\n",
       "      <td>34.0210</td>\n",
       "      <td>-118.3002</td>\n",
       "    </tr>\n",
       "    <tr>\n",
       "      <th>3</th>\n",
       "      <td>200907217</td>\n",
       "      <td>05/10/2023 12:00:00 AM</td>\n",
       "      <td>03/10/2020 12:00:00 AM</td>\n",
       "      <td>2037</td>\n",
       "      <td>9</td>\n",
       "      <td>Van Nuys</td>\n",
       "      <td>964</td>\n",
       "      <td>1</td>\n",
       "      <td>343</td>\n",
       "      <td>SHOPLIFTING-GRAND THEFT ($950.01 &amp; OVER)</td>\n",
       "      <td>...</td>\n",
       "      <td>IC</td>\n",
       "      <td>Invest Cont</td>\n",
       "      <td>343.0</td>\n",
       "      <td>NaN</td>\n",
       "      <td>NaN</td>\n",
       "      <td>NaN</td>\n",
       "      <td>14000    RIVERSIDE                    DR</td>\n",
       "      <td>NaN</td>\n",
       "      <td>34.1576</td>\n",
       "      <td>-118.4387</td>\n",
       "    </tr>\n",
       "    <tr>\n",
       "      <th>4</th>\n",
       "      <td>220614831</td>\n",
       "      <td>08/18/2022 12:00:00 AM</td>\n",
       "      <td>08/17/2020 12:00:00 AM</td>\n",
       "      <td>1200</td>\n",
       "      <td>6</td>\n",
       "      <td>Hollywood</td>\n",
       "      <td>666</td>\n",
       "      <td>2</td>\n",
       "      <td>354</td>\n",
       "      <td>THEFT OF IDENTITY</td>\n",
       "      <td>...</td>\n",
       "      <td>IC</td>\n",
       "      <td>Invest Cont</td>\n",
       "      <td>354.0</td>\n",
       "      <td>NaN</td>\n",
       "      <td>NaN</td>\n",
       "      <td>NaN</td>\n",
       "      <td>1900    TRANSIENT</td>\n",
       "      <td>NaN</td>\n",
       "      <td>34.0944</td>\n",
       "      <td>-118.3277</td>\n",
       "    </tr>\n",
       "    <tr>\n",
       "      <th>...</th>\n",
       "      <td>...</td>\n",
       "      <td>...</td>\n",
       "      <td>...</td>\n",
       "      <td>...</td>\n",
       "      <td>...</td>\n",
       "      <td>...</td>\n",
       "      <td>...</td>\n",
       "      <td>...</td>\n",
       "      <td>...</td>\n",
       "      <td>...</td>\n",
       "      <td>...</td>\n",
       "      <td>...</td>\n",
       "      <td>...</td>\n",
       "      <td>...</td>\n",
       "      <td>...</td>\n",
       "      <td>...</td>\n",
       "      <td>...</td>\n",
       "      <td>...</td>\n",
       "      <td>...</td>\n",
       "      <td>...</td>\n",
       "      <td>...</td>\n",
       "    </tr>\n",
       "    <tr>\n",
       "      <th>918438</th>\n",
       "      <td>241605270</td>\n",
       "      <td>02/11/2024 12:00:00 AM</td>\n",
       "      <td>02/11/2024 12:00:00 AM</td>\n",
       "      <td>1920</td>\n",
       "      <td>16</td>\n",
       "      <td>Foothill</td>\n",
       "      <td>1681</td>\n",
       "      <td>2</td>\n",
       "      <td>888</td>\n",
       "      <td>TRESPASSING</td>\n",
       "      <td>...</td>\n",
       "      <td>AA</td>\n",
       "      <td>Adult Arrest</td>\n",
       "      <td>888.0</td>\n",
       "      <td>NaN</td>\n",
       "      <td>NaN</td>\n",
       "      <td>NaN</td>\n",
       "      <td>8700    SHARP                        AV</td>\n",
       "      <td>NaN</td>\n",
       "      <td>34.2278</td>\n",
       "      <td>-118.4051</td>\n",
       "    </tr>\n",
       "    <tr>\n",
       "      <th>918439</th>\n",
       "      <td>241604405</td>\n",
       "      <td>01/14/2024 12:00:00 AM</td>\n",
       "      <td>01/13/2024 12:00:00 AM</td>\n",
       "      <td>720</td>\n",
       "      <td>16</td>\n",
       "      <td>Foothill</td>\n",
       "      <td>1673</td>\n",
       "      <td>1</td>\n",
       "      <td>230</td>\n",
       "      <td>ASSAULT WITH DEADLY WEAPON, AGGRAVATED ASSAULT</td>\n",
       "      <td>...</td>\n",
       "      <td>IC</td>\n",
       "      <td>Invest Cont</td>\n",
       "      <td>230.0</td>\n",
       "      <td>NaN</td>\n",
       "      <td>NaN</td>\n",
       "      <td>NaN</td>\n",
       "      <td>8700    LANKERSHIM                   BL</td>\n",
       "      <td>NaN</td>\n",
       "      <td>34.2271</td>\n",
       "      <td>-118.3878</td>\n",
       "    </tr>\n",
       "    <tr>\n",
       "      <th>918440</th>\n",
       "      <td>242106032</td>\n",
       "      <td>02/20/2024 12:00:00 AM</td>\n",
       "      <td>02/17/2024 12:00:00 AM</td>\n",
       "      <td>2330</td>\n",
       "      <td>21</td>\n",
       "      <td>Topanga</td>\n",
       "      <td>2103</td>\n",
       "      <td>1</td>\n",
       "      <td>420</td>\n",
       "      <td>THEFT FROM MOTOR VEHICLE - PETTY ($950 &amp; UNDER)</td>\n",
       "      <td>...</td>\n",
       "      <td>IC</td>\n",
       "      <td>Invest Cont</td>\n",
       "      <td>420.0</td>\n",
       "      <td>NaN</td>\n",
       "      <td>NaN</td>\n",
       "      <td>NaN</td>\n",
       "      <td>22700    NAPA                         ST</td>\n",
       "      <td>NaN</td>\n",
       "      <td>34.2260</td>\n",
       "      <td>-118.6214</td>\n",
       "    </tr>\n",
       "    <tr>\n",
       "      <th>918441</th>\n",
       "      <td>242004546</td>\n",
       "      <td>01/16/2024 12:00:00 AM</td>\n",
       "      <td>01/16/2024 12:00:00 AM</td>\n",
       "      <td>1510</td>\n",
       "      <td>20</td>\n",
       "      <td>Olympic</td>\n",
       "      <td>2013</td>\n",
       "      <td>2</td>\n",
       "      <td>624</td>\n",
       "      <td>BATTERY - SIMPLE ASSAULT</td>\n",
       "      <td>...</td>\n",
       "      <td>IC</td>\n",
       "      <td>Invest Cont</td>\n",
       "      <td>624.0</td>\n",
       "      <td>NaN</td>\n",
       "      <td>NaN</td>\n",
       "      <td>NaN</td>\n",
       "      <td>HOBART                       BL</td>\n",
       "      <td>3RD                          ST</td>\n",
       "      <td>34.0690</td>\n",
       "      <td>-118.3054</td>\n",
       "    </tr>\n",
       "    <tr>\n",
       "      <th>918442</th>\n",
       "      <td>240104953</td>\n",
       "      <td>01/15/2024 12:00:00 AM</td>\n",
       "      <td>01/15/2024 12:00:00 AM</td>\n",
       "      <td>100</td>\n",
       "      <td>1</td>\n",
       "      <td>Central</td>\n",
       "      <td>101</td>\n",
       "      <td>2</td>\n",
       "      <td>745</td>\n",
       "      <td>VANDALISM - MISDEAMEANOR ($399 OR UNDER)</td>\n",
       "      <td>...</td>\n",
       "      <td>IC</td>\n",
       "      <td>Invest Cont</td>\n",
       "      <td>745.0</td>\n",
       "      <td>NaN</td>\n",
       "      <td>NaN</td>\n",
       "      <td>NaN</td>\n",
       "      <td>1300 W  SUNSET                       BL</td>\n",
       "      <td>NaN</td>\n",
       "      <td>34.0685</td>\n",
       "      <td>-118.2460</td>\n",
       "    </tr>\n",
       "  </tbody>\n",
       "</table>\n",
       "<p>918443 rows × 28 columns</p>\n",
       "</div>"
      ],
      "text/plain": [
       "            DR_NO               Date Rptd                DATE OCC  TIME OCC  \\\n",
       "0       190326475  03/01/2020 12:00:00 AM  03/01/2020 12:00:00 AM      2130   \n",
       "1       200106753  02/09/2020 12:00:00 AM  02/08/2020 12:00:00 AM      1800   \n",
       "2       200320258  11/11/2020 12:00:00 AM  11/04/2020 12:00:00 AM      1700   \n",
       "3       200907217  05/10/2023 12:00:00 AM  03/10/2020 12:00:00 AM      2037   \n",
       "4       220614831  08/18/2022 12:00:00 AM  08/17/2020 12:00:00 AM      1200   \n",
       "...           ...                     ...                     ...       ...   \n",
       "918438  241605270  02/11/2024 12:00:00 AM  02/11/2024 12:00:00 AM      1920   \n",
       "918439  241604405  01/14/2024 12:00:00 AM  01/13/2024 12:00:00 AM       720   \n",
       "918440  242106032  02/20/2024 12:00:00 AM  02/17/2024 12:00:00 AM      2330   \n",
       "918441  242004546  01/16/2024 12:00:00 AM  01/16/2024 12:00:00 AM      1510   \n",
       "918442  240104953  01/15/2024 12:00:00 AM  01/15/2024 12:00:00 AM       100   \n",
       "\n",
       "        AREA  AREA NAME  Rpt Dist No  Part 1-2  Crm Cd  \\\n",
       "0          7   Wilshire          784         1     510   \n",
       "1          1    Central          182         1     330   \n",
       "2          3  Southwest          356         1     480   \n",
       "3          9   Van Nuys          964         1     343   \n",
       "4          6  Hollywood          666         2     354   \n",
       "...      ...        ...          ...       ...     ...   \n",
       "918438    16   Foothill         1681         2     888   \n",
       "918439    16   Foothill         1673         1     230   \n",
       "918440    21    Topanga         2103         1     420   \n",
       "918441    20    Olympic         2013         2     624   \n",
       "918442     1    Central          101         2     745   \n",
       "\n",
       "                                            Crm Cd Desc  ... Status  \\\n",
       "0                                      VEHICLE - STOLEN  ...     AA   \n",
       "1                                 BURGLARY FROM VEHICLE  ...     IC   \n",
       "2                                         BIKE - STOLEN  ...     IC   \n",
       "3              SHOPLIFTING-GRAND THEFT ($950.01 & OVER)  ...     IC   \n",
       "4                                     THEFT OF IDENTITY  ...     IC   \n",
       "...                                                 ...  ...    ...   \n",
       "918438                                      TRESPASSING  ...     AA   \n",
       "918439   ASSAULT WITH DEADLY WEAPON, AGGRAVATED ASSAULT  ...     IC   \n",
       "918440  THEFT FROM MOTOR VEHICLE - PETTY ($950 & UNDER)  ...     IC   \n",
       "918441                         BATTERY - SIMPLE ASSAULT  ...     IC   \n",
       "918442         VANDALISM - MISDEAMEANOR ($399 OR UNDER)  ...     IC   \n",
       "\n",
       "         Status Desc Crm Cd 1 Crm Cd 2  Crm Cd 3 Crm Cd 4  \\\n",
       "0       Adult Arrest    510.0    998.0       NaN      NaN   \n",
       "1        Invest Cont    330.0    998.0       NaN      NaN   \n",
       "2        Invest Cont    480.0      NaN       NaN      NaN   \n",
       "3        Invest Cont    343.0      NaN       NaN      NaN   \n",
       "4        Invest Cont    354.0      NaN       NaN      NaN   \n",
       "...              ...      ...      ...       ...      ...   \n",
       "918438  Adult Arrest    888.0      NaN       NaN      NaN   \n",
       "918439   Invest Cont    230.0      NaN       NaN      NaN   \n",
       "918440   Invest Cont    420.0      NaN       NaN      NaN   \n",
       "918441   Invest Cont    624.0      NaN       NaN      NaN   \n",
       "918442   Invest Cont    745.0      NaN       NaN      NaN   \n",
       "\n",
       "                                        LOCATION  \\\n",
       "0        1900 S  LONGWOOD                     AV   \n",
       "1        1000 S  FLOWER                       ST   \n",
       "2        1400 W  37TH                         ST   \n",
       "3       14000    RIVERSIDE                    DR   \n",
       "4                              1900    TRANSIENT   \n",
       "...                                          ...   \n",
       "918438   8700    SHARP                        AV   \n",
       "918439   8700    LANKERSHIM                   BL   \n",
       "918440  22700    NAPA                         ST   \n",
       "918441           HOBART                       BL   \n",
       "918442   1300 W  SUNSET                       BL   \n",
       "\n",
       "                           Cross Street      LAT       LON  \n",
       "0                                   NaN  34.0375 -118.3506  \n",
       "1                                   NaN  34.0444 -118.2628  \n",
       "2                                   NaN  34.0210 -118.3002  \n",
       "3                                   NaN  34.1576 -118.4387  \n",
       "4                                   NaN  34.0944 -118.3277  \n",
       "...                                 ...      ...       ...  \n",
       "918438                              NaN  34.2278 -118.4051  \n",
       "918439                              NaN  34.2271 -118.3878  \n",
       "918440                              NaN  34.2260 -118.6214  \n",
       "918441  3RD                          ST  34.0690 -118.3054  \n",
       "918442                              NaN  34.0685 -118.2460  \n",
       "\n",
       "[918443 rows x 28 columns]"
      ]
     },
     "execution_count": 16,
     "metadata": {},
     "output_type": "execute_result"
    }
   ],
   "source": [
    "crime"
   ]
  },
  {
   "cell_type": "code",
   "execution_count": 17,
   "metadata": {},
   "outputs": [],
   "source": [
    "crime['DATE OCC'] = pd.to_datetime(crime['DATE OCC'], format= '%m/%d/%Y %I:%M:%S %p' )\n",
    "##This allows us to use pandas to parse through our 'DATE OCC' column and find specific rows. "
   ]
  },
  {
   "cell_type": "code",
   "execution_count": 18,
   "metadata": {},
   "outputs": [],
   "source": [
    "crimes_2024 = crime[crime['DATE OCC'].dt.year == 2024]"
   ]
  },
  {
   "cell_type": "markdown",
   "metadata": {},
   "source": [
    "Now we can view all of the crimes that occured in the year 2024"
   ]
  },
  {
   "cell_type": "code",
   "execution_count": 19,
   "metadata": {},
   "outputs": [
    {
     "data": {
      "text/html": [
       "<div>\n",
       "<style scoped>\n",
       "    .dataframe tbody tr th:only-of-type {\n",
       "        vertical-align: middle;\n",
       "    }\n",
       "\n",
       "    .dataframe tbody tr th {\n",
       "        vertical-align: top;\n",
       "    }\n",
       "\n",
       "    .dataframe thead th {\n",
       "        text-align: right;\n",
       "    }\n",
       "</style>\n",
       "<table border=\"1\" class=\"dataframe\">\n",
       "  <thead>\n",
       "    <tr style=\"text-align: right;\">\n",
       "      <th></th>\n",
       "      <th>DR_NO</th>\n",
       "      <th>Date Rptd</th>\n",
       "      <th>DATE OCC</th>\n",
       "      <th>TIME OCC</th>\n",
       "      <th>AREA</th>\n",
       "      <th>AREA NAME</th>\n",
       "      <th>Rpt Dist No</th>\n",
       "      <th>Part 1-2</th>\n",
       "      <th>Crm Cd</th>\n",
       "      <th>Crm Cd Desc</th>\n",
       "      <th>...</th>\n",
       "      <th>Status</th>\n",
       "      <th>Status Desc</th>\n",
       "      <th>Crm Cd 1</th>\n",
       "      <th>Crm Cd 2</th>\n",
       "      <th>Crm Cd 3</th>\n",
       "      <th>Crm Cd 4</th>\n",
       "      <th>LOCATION</th>\n",
       "      <th>Cross Street</th>\n",
       "      <th>LAT</th>\n",
       "      <th>LON</th>\n",
       "    </tr>\n",
       "  </thead>\n",
       "  <tbody>\n",
       "    <tr>\n",
       "      <th>644103</th>\n",
       "      <td>240105557</td>\n",
       "      <td>01/21/2024 12:00:00 AM</td>\n",
       "      <td>2024-01-21</td>\n",
       "      <td>1630</td>\n",
       "      <td>1</td>\n",
       "      <td>Central</td>\n",
       "      <td>153</td>\n",
       "      <td>2</td>\n",
       "      <td>888</td>\n",
       "      <td>TRESPASSING</td>\n",
       "      <td>...</td>\n",
       "      <td>IC</td>\n",
       "      <td>Invest Cont</td>\n",
       "      <td>888.0</td>\n",
       "      <td>NaN</td>\n",
       "      <td>NaN</td>\n",
       "      <td>NaN</td>\n",
       "      <td>500 S  HILL                         ST</td>\n",
       "      <td>NaN</td>\n",
       "      <td>34.0488</td>\n",
       "      <td>-118.2518</td>\n",
       "    </tr>\n",
       "    <tr>\n",
       "      <th>644215</th>\n",
       "      <td>240805877</td>\n",
       "      <td>02/18/2024 12:00:00 AM</td>\n",
       "      <td>2024-02-17</td>\n",
       "      <td>1500</td>\n",
       "      <td>8</td>\n",
       "      <td>West LA</td>\n",
       "      <td>815</td>\n",
       "      <td>1</td>\n",
       "      <td>331</td>\n",
       "      <td>THEFT FROM MOTOR VEHICLE - GRAND ($950.01 AND ...</td>\n",
       "      <td>...</td>\n",
       "      <td>IC</td>\n",
       "      <td>Invest Cont</td>\n",
       "      <td>331.0</td>\n",
       "      <td>NaN</td>\n",
       "      <td>NaN</td>\n",
       "      <td>NaN</td>\n",
       "      <td>100    GREENFIELD                   AV</td>\n",
       "      <td>NaN</td>\n",
       "      <td>34.0750</td>\n",
       "      <td>-118.4565</td>\n",
       "    </tr>\n",
       "    <tr>\n",
       "      <th>644324</th>\n",
       "      <td>240804522</td>\n",
       "      <td>01/16/2024 12:00:00 AM</td>\n",
       "      <td>2024-01-10</td>\n",
       "      <td>400</td>\n",
       "      <td>8</td>\n",
       "      <td>West LA</td>\n",
       "      <td>838</td>\n",
       "      <td>1</td>\n",
       "      <td>320</td>\n",
       "      <td>BURGLARY, ATTEMPTED</td>\n",
       "      <td>...</td>\n",
       "      <td>IC</td>\n",
       "      <td>Invest Cont</td>\n",
       "      <td>320.0</td>\n",
       "      <td>NaN</td>\n",
       "      <td>NaN</td>\n",
       "      <td>NaN</td>\n",
       "      <td>10900    KINROSS                      AV</td>\n",
       "      <td>NaN</td>\n",
       "      <td>34.0601</td>\n",
       "      <td>-118.4468</td>\n",
       "    </tr>\n",
       "    <tr>\n",
       "      <th>644883</th>\n",
       "      <td>240404967</td>\n",
       "      <td>01/31/2024 12:00:00 AM</td>\n",
       "      <td>2024-01-30</td>\n",
       "      <td>1600</td>\n",
       "      <td>4</td>\n",
       "      <td>Hollenbeck</td>\n",
       "      <td>449</td>\n",
       "      <td>1</td>\n",
       "      <td>510</td>\n",
       "      <td>VEHICLE - STOLEN</td>\n",
       "      <td>...</td>\n",
       "      <td>IC</td>\n",
       "      <td>Invest Cont</td>\n",
       "      <td>510.0</td>\n",
       "      <td>NaN</td>\n",
       "      <td>NaN</td>\n",
       "      <td>NaN</td>\n",
       "      <td>2600    GANAHL                       ST</td>\n",
       "      <td>NaN</td>\n",
       "      <td>34.0525</td>\n",
       "      <td>-118.1991</td>\n",
       "    </tr>\n",
       "    <tr>\n",
       "      <th>645131</th>\n",
       "      <td>241207129</td>\n",
       "      <td>02/23/2024 12:00:00 AM</td>\n",
       "      <td>2024-02-23</td>\n",
       "      <td>230</td>\n",
       "      <td>12</td>\n",
       "      <td>77th Street</td>\n",
       "      <td>1251</td>\n",
       "      <td>1</td>\n",
       "      <td>510</td>\n",
       "      <td>VEHICLE - STOLEN</td>\n",
       "      <td>...</td>\n",
       "      <td>IC</td>\n",
       "      <td>Invest Cont</td>\n",
       "      <td>510.0</td>\n",
       "      <td>NaN</td>\n",
       "      <td>NaN</td>\n",
       "      <td>NaN</td>\n",
       "      <td>7800    CRENSHAW                     BL</td>\n",
       "      <td>NaN</td>\n",
       "      <td>33.9691</td>\n",
       "      <td>-118.3309</td>\n",
       "    </tr>\n",
       "    <tr>\n",
       "      <th>...</th>\n",
       "      <td>...</td>\n",
       "      <td>...</td>\n",
       "      <td>...</td>\n",
       "      <td>...</td>\n",
       "      <td>...</td>\n",
       "      <td>...</td>\n",
       "      <td>...</td>\n",
       "      <td>...</td>\n",
       "      <td>...</td>\n",
       "      <td>...</td>\n",
       "      <td>...</td>\n",
       "      <td>...</td>\n",
       "      <td>...</td>\n",
       "      <td>...</td>\n",
       "      <td>...</td>\n",
       "      <td>...</td>\n",
       "      <td>...</td>\n",
       "      <td>...</td>\n",
       "      <td>...</td>\n",
       "      <td>...</td>\n",
       "      <td>...</td>\n",
       "    </tr>\n",
       "    <tr>\n",
       "      <th>918438</th>\n",
       "      <td>241605270</td>\n",
       "      <td>02/11/2024 12:00:00 AM</td>\n",
       "      <td>2024-02-11</td>\n",
       "      <td>1920</td>\n",
       "      <td>16</td>\n",
       "      <td>Foothill</td>\n",
       "      <td>1681</td>\n",
       "      <td>2</td>\n",
       "      <td>888</td>\n",
       "      <td>TRESPASSING</td>\n",
       "      <td>...</td>\n",
       "      <td>AA</td>\n",
       "      <td>Adult Arrest</td>\n",
       "      <td>888.0</td>\n",
       "      <td>NaN</td>\n",
       "      <td>NaN</td>\n",
       "      <td>NaN</td>\n",
       "      <td>8700    SHARP                        AV</td>\n",
       "      <td>NaN</td>\n",
       "      <td>34.2278</td>\n",
       "      <td>-118.4051</td>\n",
       "    </tr>\n",
       "    <tr>\n",
       "      <th>918439</th>\n",
       "      <td>241604405</td>\n",
       "      <td>01/14/2024 12:00:00 AM</td>\n",
       "      <td>2024-01-13</td>\n",
       "      <td>720</td>\n",
       "      <td>16</td>\n",
       "      <td>Foothill</td>\n",
       "      <td>1673</td>\n",
       "      <td>1</td>\n",
       "      <td>230</td>\n",
       "      <td>ASSAULT WITH DEADLY WEAPON, AGGRAVATED ASSAULT</td>\n",
       "      <td>...</td>\n",
       "      <td>IC</td>\n",
       "      <td>Invest Cont</td>\n",
       "      <td>230.0</td>\n",
       "      <td>NaN</td>\n",
       "      <td>NaN</td>\n",
       "      <td>NaN</td>\n",
       "      <td>8700    LANKERSHIM                   BL</td>\n",
       "      <td>NaN</td>\n",
       "      <td>34.2271</td>\n",
       "      <td>-118.3878</td>\n",
       "    </tr>\n",
       "    <tr>\n",
       "      <th>918440</th>\n",
       "      <td>242106032</td>\n",
       "      <td>02/20/2024 12:00:00 AM</td>\n",
       "      <td>2024-02-17</td>\n",
       "      <td>2330</td>\n",
       "      <td>21</td>\n",
       "      <td>Topanga</td>\n",
       "      <td>2103</td>\n",
       "      <td>1</td>\n",
       "      <td>420</td>\n",
       "      <td>THEFT FROM MOTOR VEHICLE - PETTY ($950 &amp; UNDER)</td>\n",
       "      <td>...</td>\n",
       "      <td>IC</td>\n",
       "      <td>Invest Cont</td>\n",
       "      <td>420.0</td>\n",
       "      <td>NaN</td>\n",
       "      <td>NaN</td>\n",
       "      <td>NaN</td>\n",
       "      <td>22700    NAPA                         ST</td>\n",
       "      <td>NaN</td>\n",
       "      <td>34.2260</td>\n",
       "      <td>-118.6214</td>\n",
       "    </tr>\n",
       "    <tr>\n",
       "      <th>918441</th>\n",
       "      <td>242004546</td>\n",
       "      <td>01/16/2024 12:00:00 AM</td>\n",
       "      <td>2024-01-16</td>\n",
       "      <td>1510</td>\n",
       "      <td>20</td>\n",
       "      <td>Olympic</td>\n",
       "      <td>2013</td>\n",
       "      <td>2</td>\n",
       "      <td>624</td>\n",
       "      <td>BATTERY - SIMPLE ASSAULT</td>\n",
       "      <td>...</td>\n",
       "      <td>IC</td>\n",
       "      <td>Invest Cont</td>\n",
       "      <td>624.0</td>\n",
       "      <td>NaN</td>\n",
       "      <td>NaN</td>\n",
       "      <td>NaN</td>\n",
       "      <td>HOBART                       BL</td>\n",
       "      <td>3RD                          ST</td>\n",
       "      <td>34.0690</td>\n",
       "      <td>-118.3054</td>\n",
       "    </tr>\n",
       "    <tr>\n",
       "      <th>918442</th>\n",
       "      <td>240104953</td>\n",
       "      <td>01/15/2024 12:00:00 AM</td>\n",
       "      <td>2024-01-15</td>\n",
       "      <td>100</td>\n",
       "      <td>1</td>\n",
       "      <td>Central</td>\n",
       "      <td>101</td>\n",
       "      <td>2</td>\n",
       "      <td>745</td>\n",
       "      <td>VANDALISM - MISDEAMEANOR ($399 OR UNDER)</td>\n",
       "      <td>...</td>\n",
       "      <td>IC</td>\n",
       "      <td>Invest Cont</td>\n",
       "      <td>745.0</td>\n",
       "      <td>NaN</td>\n",
       "      <td>NaN</td>\n",
       "      <td>NaN</td>\n",
       "      <td>1300 W  SUNSET                       BL</td>\n",
       "      <td>NaN</td>\n",
       "      <td>34.0685</td>\n",
       "      <td>-118.2460</td>\n",
       "    </tr>\n",
       "  </tbody>\n",
       "</table>\n",
       "<p>43436 rows × 28 columns</p>\n",
       "</div>"
      ],
      "text/plain": [
       "            DR_NO               Date Rptd   DATE OCC  TIME OCC  AREA  \\\n",
       "644103  240105557  01/21/2024 12:00:00 AM 2024-01-21      1630     1   \n",
       "644215  240805877  02/18/2024 12:00:00 AM 2024-02-17      1500     8   \n",
       "644324  240804522  01/16/2024 12:00:00 AM 2024-01-10       400     8   \n",
       "644883  240404967  01/31/2024 12:00:00 AM 2024-01-30      1600     4   \n",
       "645131  241207129  02/23/2024 12:00:00 AM 2024-02-23       230    12   \n",
       "...           ...                     ...        ...       ...   ...   \n",
       "918438  241605270  02/11/2024 12:00:00 AM 2024-02-11      1920    16   \n",
       "918439  241604405  01/14/2024 12:00:00 AM 2024-01-13       720    16   \n",
       "918440  242106032  02/20/2024 12:00:00 AM 2024-02-17      2330    21   \n",
       "918441  242004546  01/16/2024 12:00:00 AM 2024-01-16      1510    20   \n",
       "918442  240104953  01/15/2024 12:00:00 AM 2024-01-15       100     1   \n",
       "\n",
       "          AREA NAME  Rpt Dist No  Part 1-2  Crm Cd  \\\n",
       "644103      Central          153         2     888   \n",
       "644215      West LA          815         1     331   \n",
       "644324      West LA          838         1     320   \n",
       "644883   Hollenbeck          449         1     510   \n",
       "645131  77th Street         1251         1     510   \n",
       "...             ...          ...       ...     ...   \n",
       "918438     Foothill         1681         2     888   \n",
       "918439     Foothill         1673         1     230   \n",
       "918440      Topanga         2103         1     420   \n",
       "918441      Olympic         2013         2     624   \n",
       "918442      Central          101         2     745   \n",
       "\n",
       "                                              Crm Cd Desc  ... Status  \\\n",
       "644103                                        TRESPASSING  ...     IC   \n",
       "644215  THEFT FROM MOTOR VEHICLE - GRAND ($950.01 AND ...  ...     IC   \n",
       "644324                                BURGLARY, ATTEMPTED  ...     IC   \n",
       "644883                                   VEHICLE - STOLEN  ...     IC   \n",
       "645131                                   VEHICLE - STOLEN  ...     IC   \n",
       "...                                                   ...  ...    ...   \n",
       "918438                                        TRESPASSING  ...     AA   \n",
       "918439     ASSAULT WITH DEADLY WEAPON, AGGRAVATED ASSAULT  ...     IC   \n",
       "918440    THEFT FROM MOTOR VEHICLE - PETTY ($950 & UNDER)  ...     IC   \n",
       "918441                           BATTERY - SIMPLE ASSAULT  ...     IC   \n",
       "918442           VANDALISM - MISDEAMEANOR ($399 OR UNDER)  ...     IC   \n",
       "\n",
       "         Status Desc Crm Cd 1 Crm Cd 2  Crm Cd 3 Crm Cd 4  \\\n",
       "644103   Invest Cont    888.0      NaN       NaN      NaN   \n",
       "644215   Invest Cont    331.0      NaN       NaN      NaN   \n",
       "644324   Invest Cont    320.0      NaN       NaN      NaN   \n",
       "644883   Invest Cont    510.0      NaN       NaN      NaN   \n",
       "645131   Invest Cont    510.0      NaN       NaN      NaN   \n",
       "...              ...      ...      ...       ...      ...   \n",
       "918438  Adult Arrest    888.0      NaN       NaN      NaN   \n",
       "918439   Invest Cont    230.0      NaN       NaN      NaN   \n",
       "918440   Invest Cont    420.0      NaN       NaN      NaN   \n",
       "918441   Invest Cont    624.0      NaN       NaN      NaN   \n",
       "918442   Invest Cont    745.0      NaN       NaN      NaN   \n",
       "\n",
       "                                        LOCATION  \\\n",
       "644103    500 S  HILL                         ST   \n",
       "644215    100    GREENFIELD                   AV   \n",
       "644324  10900    KINROSS                      AV   \n",
       "644883   2600    GANAHL                       ST   \n",
       "645131   7800    CRENSHAW                     BL   \n",
       "...                                          ...   \n",
       "918438   8700    SHARP                        AV   \n",
       "918439   8700    LANKERSHIM                   BL   \n",
       "918440  22700    NAPA                         ST   \n",
       "918441           HOBART                       BL   \n",
       "918442   1300 W  SUNSET                       BL   \n",
       "\n",
       "                           Cross Street      LAT       LON  \n",
       "644103                              NaN  34.0488 -118.2518  \n",
       "644215                              NaN  34.0750 -118.4565  \n",
       "644324                              NaN  34.0601 -118.4468  \n",
       "644883                              NaN  34.0525 -118.1991  \n",
       "645131                              NaN  33.9691 -118.3309  \n",
       "...                                 ...      ...       ...  \n",
       "918438                              NaN  34.2278 -118.4051  \n",
       "918439                              NaN  34.2271 -118.3878  \n",
       "918440                              NaN  34.2260 -118.6214  \n",
       "918441  3RD                          ST  34.0690 -118.3054  \n",
       "918442                              NaN  34.0685 -118.2460  \n",
       "\n",
       "[43436 rows x 28 columns]"
      ]
     },
     "execution_count": 19,
     "metadata": {},
     "output_type": "execute_result"
    }
   ],
   "source": [
    "crimes_2024\n"
   ]
  },
  {
   "cell_type": "code",
   "execution_count": 20,
   "metadata": {},
   "outputs": [],
   "source": [
    "cc_fraud_2024 = crimes_2024[crimes_2024['Crm Cd Desc'].str.contains('CREDIT CARDS, FRAUD USE ($950.01 & OVER)', regex = False)]"
   ]
  },
  {
   "cell_type": "markdown",
   "metadata": {},
   "source": [
    "The string we are looking for contains special characters like parentheses () and dollar signs , when this is the case, we use regex = False so that pandas will treat it as a literal string. "
   ]
  },
  {
   "cell_type": "code",
   "execution_count": 21,
   "metadata": {},
   "outputs": [
    {
     "data": {
      "text/html": [
       "<div>\n",
       "<style scoped>\n",
       "    .dataframe tbody tr th:only-of-type {\n",
       "        vertical-align: middle;\n",
       "    }\n",
       "\n",
       "    .dataframe tbody tr th {\n",
       "        vertical-align: top;\n",
       "    }\n",
       "\n",
       "    .dataframe thead th {\n",
       "        text-align: right;\n",
       "    }\n",
       "</style>\n",
       "<table border=\"1\" class=\"dataframe\">\n",
       "  <thead>\n",
       "    <tr style=\"text-align: right;\">\n",
       "      <th></th>\n",
       "      <th>DR_NO</th>\n",
       "      <th>Date Rptd</th>\n",
       "      <th>DATE OCC</th>\n",
       "      <th>TIME OCC</th>\n",
       "      <th>AREA</th>\n",
       "      <th>AREA NAME</th>\n",
       "      <th>Rpt Dist No</th>\n",
       "      <th>Part 1-2</th>\n",
       "      <th>Crm Cd</th>\n",
       "      <th>Crm Cd Desc</th>\n",
       "      <th>...</th>\n",
       "      <th>Status</th>\n",
       "      <th>Status Desc</th>\n",
       "      <th>Crm Cd 1</th>\n",
       "      <th>Crm Cd 2</th>\n",
       "      <th>Crm Cd 3</th>\n",
       "      <th>Crm Cd 4</th>\n",
       "      <th>LOCATION</th>\n",
       "      <th>Cross Street</th>\n",
       "      <th>LAT</th>\n",
       "      <th>LON</th>\n",
       "    </tr>\n",
       "  </thead>\n",
       "  <tbody>\n",
       "    <tr>\n",
       "      <th>877388</th>\n",
       "      <td>240804341</td>\n",
       "      <td>01/08/2024 12:00:00 AM</td>\n",
       "      <td>2024-01-08</td>\n",
       "      <td>1740</td>\n",
       "      <td>8</td>\n",
       "      <td>West LA</td>\n",
       "      <td>839</td>\n",
       "      <td>2</td>\n",
       "      <td>653</td>\n",
       "      <td>CREDIT CARDS, FRAUD USE ($950.01 &amp; OVER)</td>\n",
       "      <td>...</td>\n",
       "      <td>IC</td>\n",
       "      <td>Invest Cont</td>\n",
       "      <td>649.0</td>\n",
       "      <td>653.0</td>\n",
       "      <td>NaN</td>\n",
       "      <td>NaN</td>\n",
       "      <td>10200    SANTA MONICA                 BL</td>\n",
       "      <td>NaN</td>\n",
       "      <td>34.0611</td>\n",
       "      <td>-118.4184</td>\n",
       "    </tr>\n",
       "    <tr>\n",
       "      <th>901324</th>\n",
       "      <td>241400566</td>\n",
       "      <td>01/27/2024 12:00:00 AM</td>\n",
       "      <td>2024-01-27</td>\n",
       "      <td>1125</td>\n",
       "      <td>14</td>\n",
       "      <td>Pacific</td>\n",
       "      <td>1455</td>\n",
       "      <td>2</td>\n",
       "      <td>653</td>\n",
       "      <td>CREDIT CARDS, FRAUD USE ($950.01 &amp; OVER)</td>\n",
       "      <td>...</td>\n",
       "      <td>IC</td>\n",
       "      <td>Invest Cont</td>\n",
       "      <td>653.0</td>\n",
       "      <td>998.0</td>\n",
       "      <td>NaN</td>\n",
       "      <td>NaN</td>\n",
       "      <td>MARINA                       FY</td>\n",
       "      <td>CENTINELA                    BL</td>\n",
       "      <td>33.9885</td>\n",
       "      <td>-118.4237</td>\n",
       "    </tr>\n",
       "    <tr>\n",
       "      <th>904040</th>\n",
       "      <td>241105209</td>\n",
       "      <td>02/02/2024 12:00:00 AM</td>\n",
       "      <td>2024-01-29</td>\n",
       "      <td>1200</td>\n",
       "      <td>11</td>\n",
       "      <td>Northeast</td>\n",
       "      <td>1116</td>\n",
       "      <td>2</td>\n",
       "      <td>653</td>\n",
       "      <td>CREDIT CARDS, FRAUD USE ($950.01 &amp; OVER)</td>\n",
       "      <td>...</td>\n",
       "      <td>IC</td>\n",
       "      <td>Invest Cont</td>\n",
       "      <td>653.0</td>\n",
       "      <td>NaN</td>\n",
       "      <td>NaN</td>\n",
       "      <td>NaN</td>\n",
       "      <td>5000    IRVINGTON                    PL</td>\n",
       "      <td>NaN</td>\n",
       "      <td>34.1151</td>\n",
       "      <td>-118.2069</td>\n",
       "    </tr>\n",
       "    <tr>\n",
       "      <th>904673</th>\n",
       "      <td>240600669</td>\n",
       "      <td>02/24/2024 12:00:00 AM</td>\n",
       "      <td>2024-02-24</td>\n",
       "      <td>100</td>\n",
       "      <td>6</td>\n",
       "      <td>Hollywood</td>\n",
       "      <td>636</td>\n",
       "      <td>2</td>\n",
       "      <td>653</td>\n",
       "      <td>CREDIT CARDS, FRAUD USE ($950.01 &amp; OVER)</td>\n",
       "      <td>...</td>\n",
       "      <td>AA</td>\n",
       "      <td>Adult Arrest</td>\n",
       "      <td>653.0</td>\n",
       "      <td>NaN</td>\n",
       "      <td>NaN</td>\n",
       "      <td>NaN</td>\n",
       "      <td>YUCCA</td>\n",
       "      <td>HOLLYWOOD</td>\n",
       "      <td>34.1034</td>\n",
       "      <td>-118.3325</td>\n",
       "    </tr>\n",
       "  </tbody>\n",
       "</table>\n",
       "<p>4 rows × 28 columns</p>\n",
       "</div>"
      ],
      "text/plain": [
       "            DR_NO               Date Rptd   DATE OCC  TIME OCC  AREA  \\\n",
       "877388  240804341  01/08/2024 12:00:00 AM 2024-01-08      1740     8   \n",
       "901324  241400566  01/27/2024 12:00:00 AM 2024-01-27      1125    14   \n",
       "904040  241105209  02/02/2024 12:00:00 AM 2024-01-29      1200    11   \n",
       "904673  240600669  02/24/2024 12:00:00 AM 2024-02-24       100     6   \n",
       "\n",
       "        AREA NAME  Rpt Dist No  Part 1-2  Crm Cd  \\\n",
       "877388    West LA          839         2     653   \n",
       "901324    Pacific         1455         2     653   \n",
       "904040  Northeast         1116         2     653   \n",
       "904673  Hollywood          636         2     653   \n",
       "\n",
       "                                     Crm Cd Desc  ... Status   Status Desc  \\\n",
       "877388  CREDIT CARDS, FRAUD USE ($950.01 & OVER)  ...     IC   Invest Cont   \n",
       "901324  CREDIT CARDS, FRAUD USE ($950.01 & OVER)  ...     IC   Invest Cont   \n",
       "904040  CREDIT CARDS, FRAUD USE ($950.01 & OVER)  ...     IC   Invest Cont   \n",
       "904673  CREDIT CARDS, FRAUD USE ($950.01 & OVER)  ...     AA  Adult Arrest   \n",
       "\n",
       "       Crm Cd 1 Crm Cd 2  Crm Cd 3 Crm Cd 4  \\\n",
       "877388    649.0    653.0       NaN      NaN   \n",
       "901324    653.0    998.0       NaN      NaN   \n",
       "904040    653.0      NaN       NaN      NaN   \n",
       "904673    653.0      NaN       NaN      NaN   \n",
       "\n",
       "                                        LOCATION  \\\n",
       "877388  10200    SANTA MONICA                 BL   \n",
       "901324           MARINA                       FY   \n",
       "904040   5000    IRVINGTON                    PL   \n",
       "904673                                     YUCCA   \n",
       "\n",
       "                           Cross Street      LAT       LON  \n",
       "877388                              NaN  34.0611 -118.4184  \n",
       "901324  CENTINELA                    BL  33.9885 -118.4237  \n",
       "904040                              NaN  34.1151 -118.2069  \n",
       "904673                        HOLLYWOOD  34.1034 -118.3325  \n",
       "\n",
       "[4 rows x 28 columns]"
      ]
     },
     "execution_count": 21,
     "metadata": {},
     "output_type": "execute_result"
    }
   ],
   "source": [
    "cc_fraud_2024"
   ]
  },
  {
   "cell_type": "code",
   "execution_count": 22,
   "metadata": {},
   "outputs": [],
   "source": [
    "unique_crimes = crime['Crm Cd Desc'].unique()"
   ]
  },
  {
   "cell_type": "code",
   "execution_count": 23,
   "metadata": {},
   "outputs": [
    {
     "data": {
      "text/plain": [
       "array(['VEHICLE - STOLEN', 'BURGLARY FROM VEHICLE', 'BIKE - STOLEN',\n",
       "       'SHOPLIFTING-GRAND THEFT ($950.01 & OVER)', 'THEFT OF IDENTITY',\n",
       "       'BATTERY - SIMPLE ASSAULT',\n",
       "       'SODOMY/SEXUAL CONTACT B/W PENIS OF ONE PERS TO ANUS OTH',\n",
       "       'CRM AGNST CHLD (13 OR UNDER) (14-15 & SUSP 10 YRS OLDER)',\n",
       "       'SEX,UNLAWFUL(INC MUTUAL CONSENT, PENETRATION W/ FRGN OBJ',\n",
       "       'ASSAULT WITH DEADLY WEAPON, AGGRAVATED ASSAULT',\n",
       "       'LETTERS, LEWD  -  TELEPHONE CALLS, LEWD',\n",
       "       'THEFT-GRAND ($950.01 & OVER)EXCPT,GUNS,FOWL,LIVESTK,PROD',\n",
       "       'CRIMINAL THREATS - NO WEAPON DISPLAYED',\n",
       "       'EMBEZZLEMENT, GRAND THEFT ($950.01 & OVER)',\n",
       "       'THEFT FROM MOTOR VEHICLE - PETTY ($950 & UNDER)',\n",
       "       'CHILD ANNOYING (17YRS & UNDER)', 'BURGLARY', 'CONTEMPT OF COURT',\n",
       "       'THEFT PLAIN - PETTY ($950 & UNDER)',\n",
       "       'INTIMATE PARTNER - SIMPLE ASSAULT', 'LEWD CONDUCT',\n",
       "       'THEFT PLAIN - ATTEMPT',\n",
       "       'THEFT FROM MOTOR VEHICLE - GRAND ($950.01 AND OVER)',\n",
       "       'OTHER MISCELLANEOUS CRIME', 'ROBBERY', 'BUNCO, GRAND THEFT',\n",
       "       'BATTERY WITH SEXUAL CONTACT',\n",
       "       'INTIMATE PARTNER - AGGRAVATED ASSAULT', 'ORAL COPULATION',\n",
       "       'UNAUTHORIZED COMPUTER ACCESS', 'VIOLATION OF RESTRAINING ORDER',\n",
       "       'SHOPLIFTING - PETTY THEFT ($950 & UNDER)',\n",
       "       'VANDALISM - FELONY ($400 & OVER, ALL CHURCH VANDALISMS)',\n",
       "       'BRANDISH WEAPON', 'DOCUMENT FORGERY / STOLEN FELONY',\n",
       "       'SEX OFFENDER REGISTRANT OUT OF COMPLIANCE', 'RAPE, FORCIBLE',\n",
       "       'VANDALISM - MISDEAMEANOR ($399 OR UNDER)',\n",
       "       'CHILD ABUSE (PHYSICAL) - SIMPLE ASSAULT',\n",
       "       'CREDIT CARDS, FRAUD USE ($950.01 & OVER)',\n",
       "       'THREATENING PHONE CALLS/LETTERS',\n",
       "       'SEXUAL PENETRATION W/FOREIGN OBJECT', 'EXTORTION',\n",
       "       'OTHER ASSAULT', 'PICKPOCKET', 'ARSON', 'DISTURBING THE PEACE',\n",
       "       'BUNCO, ATTEMPT', 'HUMAN TRAFFICKING - INVOLUNTARY SERVITUDE',\n",
       "       'PEEPING TOM', 'VIOLATION OF COURT ORDER', 'FALSE POLICE REPORT',\n",
       "       'CONTRIBUTING', 'FALSE IMPRISONMENT',\n",
       "       'CHILD ABUSE (PHYSICAL) - AGGRAVATED ASSAULT', 'ATTEMPTED ROBBERY',\n",
       "       'CREDIT CARDS, FRAUD USE ($950 & UNDER', 'CHILD STEALING',\n",
       "       'LEWD/LASCIVIOUS ACTS WITH CHILD',\n",
       "       'EMBEZZLEMENT, PETTY THEFT ($950 & UNDER)', 'INDECENT EXPOSURE',\n",
       "       'CHILD NEGLECT (SEE 300 W.I.C.)', 'STALKING',\n",
       "       'DISHONEST EMPLOYEE - GRAND THEFT', 'TRESPASSING',\n",
       "       'BURGLARY, ATTEMPTED', 'RAPE, ATTEMPTED',\n",
       "       'DISCHARGE FIREARMS/SHOTS FIRED',\n",
       "       'HUMAN TRAFFICKING - COMMERCIAL SEX ACTS',\n",
       "       'VEHICLE - ATTEMPT STOLEN', 'PANDERING',\n",
       "       'FIREARMS RESTRAINING ORDER (FIREARMS RO)', 'RESISTING ARREST',\n",
       "       'BURGLARY FROM VEHICLE, ATTEMPTED', 'THEFT, PERSON',\n",
       "       'BATTERY POLICE (SIMPLE)',\n",
       "       'VEHICLE, STOLEN - OTHER (MOTORIZED SCOOTERS, BIKES, ETC)',\n",
       "       'THEFT FROM PERSON - ATTEMPT', 'FAILURE TO YIELD', 'BOMB SCARE',\n",
       "       'ASSAULT WITH DEADLY WEAPON ON POLICE OFFICER', 'PIMPING',\n",
       "       'BUNCO, PETTY THEFT', 'SHOTS FIRED AT INHABITED DWELLING',\n",
       "       'DEFRAUDING INNKEEPER/THEFT OF SERVICES, $950 & UNDER',\n",
       "       'KIDNAPPING - GRAND ATTEMPT',\n",
       "       'SHOTS FIRED AT MOVING VEHICLE, TRAIN OR AIRCRAFT',\n",
       "       'TILL TAP - GRAND THEFT ($950.01 & OVER)',\n",
       "       'VIOLATION OF TEMPORARY RESTRAINING ORDER',\n",
       "       'THROWING OBJECT AT MOVING VEHICLE',\n",
       "       'DOCUMENT WORTHLESS ($200.01 & OVER)', 'KIDNAPPING',\n",
       "       'CRIMINAL HOMICIDE', 'PURSE SNATCHING',\n",
       "       'THEFT FROM MOTOR VEHICLE - ATTEMPT',\n",
       "       'DISHONEST EMPLOYEE - PETTY THEFT', 'CHILD PORNOGRAPHY',\n",
       "       'WEAPONS POSSESSION/BOMBING',\n",
       "       'DRIVING WITHOUT OWNER CONSENT (DWOC)',\n",
       "       'REPLICA FIREARMS(SALE,DISPLAY,MANUFACTURE OR DISTRIBUTE)',\n",
       "       'LYNCHING', 'RECKLESS DRIVING', 'SHOPLIFTING - ATTEMPT',\n",
       "       'COUNTERFEIT',\n",
       "       'DEFRAUDING INNKEEPER/THEFT OF SERVICES, OVER $950.01',\n",
       "       'BATTERY ON A FIREFIGHTER', 'CRUELTY TO ANIMALS', 'BOAT - STOLEN',\n",
       "       'ILLEGAL DUMPING', 'PROWLER', 'DRUGS, TO A MINOR',\n",
       "       'THEFT, COIN MACHINE - PETTY ($950 & UNDER)',\n",
       "       'DOCUMENT WORTHLESS ($200 & UNDER)', 'MANSLAUGHTER, NEGLIGENT',\n",
       "       'PETTY THEFT - AUTO REPAIR', 'THEFT, COIN MACHINE - ATTEMPT',\n",
       "       'TILL TAP - PETTY ($950 & UNDER)', 'PURSE SNATCHING - ATTEMPT',\n",
       "       'LYNCHING - ATTEMPTED', 'BIKE - ATTEMPTED STOLEN',\n",
       "       'GRAND THEFT / AUTO REPAIR', 'CONSPIRACY', 'BRIBERY',\n",
       "       'GRAND THEFT / INSURANCE FRAUD', 'DRUNK ROLL', 'CHILD ABANDONMENT',\n",
       "       'THEFT, COIN MACHINE - GRAND ($950.01 & OVER)', 'DISRUPT SCHOOL',\n",
       "       'PICKPOCKET, ATTEMPT', 'TELEPHONE PROPERTY - DAMAGE',\n",
       "       'BEASTIALITY, CRIME AGAINST NATURE SEXUAL ASSLT WITH ANIM',\n",
       "       'BIGAMY', 'FAILURE TO DISPERSE',\n",
       "       'FIREARMS EMERGENCY PROTECTIVE ORDER (FIREARMS EPO)',\n",
       "       'INCEST (SEXUAL ACTS BETWEEN BLOOD RELATIVES)',\n",
       "       'BLOCKING DOOR INDUCTION CENTER', 'INCITING A RIOT',\n",
       "       'DISHONEST EMPLOYEE ATTEMPTED THEFT', 'TRAIN WRECKING'],\n",
       "      dtype=object)"
      ]
     },
     "execution_count": 23,
     "metadata": {},
     "output_type": "execute_result"
    }
   ],
   "source": [
    "unique_crimes"
   ]
  },
  {
   "cell_type": "code",
   "execution_count": 24,
   "metadata": {},
   "outputs": [],
   "source": [
    "unique_crimes_series = pd.Series(unique_crimes) \n"
   ]
  },
  {
   "cell_type": "markdown",
   "metadata": {},
   "source": [
    "Here, we took our array of unique values and read them into pandas as a series. This allows us to filter the array using str.contains()."
   ]
  },
  {
   "cell_type": "code",
   "execution_count": 25,
   "metadata": {},
   "outputs": [
    {
     "data": {
      "text/plain": [
       "39    CREDIT CARDS, FRAUD USE ($950.01 & OVER)\n",
       "56       CREDIT CARDS, FRAUD USE ($950 & UNDER\n",
       "dtype: object"
      ]
     },
     "execution_count": 25,
     "metadata": {},
     "output_type": "execute_result"
    }
   ],
   "source": [
    "unique_crimes_series[unique_crimes_series.str.contains('CREDIT CARDS')]"
   ]
  },
  {
   "cell_type": "markdown",
   "metadata": {},
   "source": [
    "Filtering the data with str.contains() , we can now find each kind of credit card fraud that appears within the 'Crm Cd Desc' column. "
   ]
  },
  {
   "cell_type": "code",
   "execution_count": 26,
   "metadata": {},
   "outputs": [],
   "source": [
    "cc_fraudLt_2024 = crimes_2024[crimes_2024['Crm Cd Desc'].str.contains('CREDIT CARDS, FRAUD USE ($950 & UNDER', regex = False)]"
   ]
  },
  {
   "cell_type": "code",
   "execution_count": 27,
   "metadata": {},
   "outputs": [
    {
     "data": {
      "text/html": [
       "<div>\n",
       "<style scoped>\n",
       "    .dataframe tbody tr th:only-of-type {\n",
       "        vertical-align: middle;\n",
       "    }\n",
       "\n",
       "    .dataframe tbody tr th {\n",
       "        vertical-align: top;\n",
       "    }\n",
       "\n",
       "    .dataframe thead th {\n",
       "        text-align: right;\n",
       "    }\n",
       "</style>\n",
       "<table border=\"1\" class=\"dataframe\">\n",
       "  <thead>\n",
       "    <tr style=\"text-align: right;\">\n",
       "      <th></th>\n",
       "      <th>DR_NO</th>\n",
       "      <th>Date Rptd</th>\n",
       "      <th>DATE OCC</th>\n",
       "      <th>TIME OCC</th>\n",
       "      <th>AREA</th>\n",
       "      <th>AREA NAME</th>\n",
       "      <th>Rpt Dist No</th>\n",
       "      <th>Part 1-2</th>\n",
       "      <th>Crm Cd</th>\n",
       "      <th>Crm Cd Desc</th>\n",
       "      <th>...</th>\n",
       "      <th>Status</th>\n",
       "      <th>Status Desc</th>\n",
       "      <th>Crm Cd 1</th>\n",
       "      <th>Crm Cd 2</th>\n",
       "      <th>Crm Cd 3</th>\n",
       "      <th>Crm Cd 4</th>\n",
       "      <th>LOCATION</th>\n",
       "      <th>Cross Street</th>\n",
       "      <th>LAT</th>\n",
       "      <th>LON</th>\n",
       "    </tr>\n",
       "  </thead>\n",
       "  <tbody>\n",
       "    <tr>\n",
       "      <th>882674</th>\n",
       "      <td>240504465</td>\n",
       "      <td>01/13/2024 12:00:00 AM</td>\n",
       "      <td>2024-01-13</td>\n",
       "      <td>1210</td>\n",
       "      <td>5</td>\n",
       "      <td>Harbor</td>\n",
       "      <td>585</td>\n",
       "      <td>2</td>\n",
       "      <td>654</td>\n",
       "      <td>CREDIT CARDS, FRAUD USE ($950 &amp; UNDER</td>\n",
       "      <td>...</td>\n",
       "      <td>IC</td>\n",
       "      <td>Invest Cont</td>\n",
       "      <td>654.0</td>\n",
       "      <td>NaN</td>\n",
       "      <td>NaN</td>\n",
       "      <td>NaN</td>\n",
       "      <td>1800 S  PACIFIC                      AV</td>\n",
       "      <td>NaN</td>\n",
       "      <td>33.7243</td>\n",
       "      <td>-118.2963</td>\n",
       "    </tr>\n",
       "    <tr>\n",
       "      <th>892571</th>\n",
       "      <td>241207963</td>\n",
       "      <td>03/07/2024 12:00:00 AM</td>\n",
       "      <td>2024-03-07</td>\n",
       "      <td>1535</td>\n",
       "      <td>12</td>\n",
       "      <td>77th Street</td>\n",
       "      <td>1233</td>\n",
       "      <td>2</td>\n",
       "      <td>654</td>\n",
       "      <td>CREDIT CARDS, FRAUD USE ($950 &amp; UNDER</td>\n",
       "      <td>...</td>\n",
       "      <td>AA</td>\n",
       "      <td>Adult Arrest</td>\n",
       "      <td>654.0</td>\n",
       "      <td>NaN</td>\n",
       "      <td>NaN</td>\n",
       "      <td>NaN</td>\n",
       "      <td>1600 W  SLAUSON                      AV</td>\n",
       "      <td>NaN</td>\n",
       "      <td>33.9892</td>\n",
       "      <td>-118.3045</td>\n",
       "    </tr>\n",
       "    <tr>\n",
       "      <th>907759</th>\n",
       "      <td>240505434</td>\n",
       "      <td>02/07/2024 12:00:00 AM</td>\n",
       "      <td>2024-02-05</td>\n",
       "      <td>600</td>\n",
       "      <td>5</td>\n",
       "      <td>Harbor</td>\n",
       "      <td>517</td>\n",
       "      <td>2</td>\n",
       "      <td>654</td>\n",
       "      <td>CREDIT CARDS, FRAUD USE ($950 &amp; UNDER</td>\n",
       "      <td>...</td>\n",
       "      <td>IC</td>\n",
       "      <td>Invest Cont</td>\n",
       "      <td>654.0</td>\n",
       "      <td>NaN</td>\n",
       "      <td>NaN</td>\n",
       "      <td>NaN</td>\n",
       "      <td>1200    HYATT                        AV</td>\n",
       "      <td>NaN</td>\n",
       "      <td>33.7867</td>\n",
       "      <td>-118.2542</td>\n",
       "    </tr>\n",
       "  </tbody>\n",
       "</table>\n",
       "<p>3 rows × 28 columns</p>\n",
       "</div>"
      ],
      "text/plain": [
       "            DR_NO               Date Rptd   DATE OCC  TIME OCC  AREA  \\\n",
       "882674  240504465  01/13/2024 12:00:00 AM 2024-01-13      1210     5   \n",
       "892571  241207963  03/07/2024 12:00:00 AM 2024-03-07      1535    12   \n",
       "907759  240505434  02/07/2024 12:00:00 AM 2024-02-05       600     5   \n",
       "\n",
       "          AREA NAME  Rpt Dist No  Part 1-2  Crm Cd  \\\n",
       "882674       Harbor          585         2     654   \n",
       "892571  77th Street         1233         2     654   \n",
       "907759       Harbor          517         2     654   \n",
       "\n",
       "                                  Crm Cd Desc  ... Status   Status Desc  \\\n",
       "882674  CREDIT CARDS, FRAUD USE ($950 & UNDER  ...     IC   Invest Cont   \n",
       "892571  CREDIT CARDS, FRAUD USE ($950 & UNDER  ...     AA  Adult Arrest   \n",
       "907759  CREDIT CARDS, FRAUD USE ($950 & UNDER  ...     IC   Invest Cont   \n",
       "\n",
       "       Crm Cd 1 Crm Cd 2  Crm Cd 3 Crm Cd 4  \\\n",
       "882674    654.0      NaN       NaN      NaN   \n",
       "892571    654.0      NaN       NaN      NaN   \n",
       "907759    654.0      NaN       NaN      NaN   \n",
       "\n",
       "                                       LOCATION Cross Street      LAT  \\\n",
       "882674  1800 S  PACIFIC                      AV          NaN  33.7243   \n",
       "892571  1600 W  SLAUSON                      AV          NaN  33.9892   \n",
       "907759  1200    HYATT                        AV          NaN  33.7867   \n",
       "\n",
       "             LON  \n",
       "882674 -118.2963  \n",
       "892571 -118.3045  \n",
       "907759 -118.2542  \n",
       "\n",
       "[3 rows x 28 columns]"
      ]
     },
     "execution_count": 27,
     "metadata": {},
     "output_type": "execute_result"
    }
   ],
   "source": [
    "cc_fraudLt_2024\n"
   ]
  },
  {
   "cell_type": "code",
   "execution_count": 28,
   "metadata": {},
   "outputs": [],
   "source": [
    "crimes_2023 = crime[crime['DATE OCC'].dt.year == 2023]"
   ]
  },
  {
   "cell_type": "code",
   "execution_count": 29,
   "metadata": {},
   "outputs": [
    {
     "data": {
      "text/html": [
       "<div>\n",
       "<style scoped>\n",
       "    .dataframe tbody tr th:only-of-type {\n",
       "        vertical-align: middle;\n",
       "    }\n",
       "\n",
       "    .dataframe tbody tr th {\n",
       "        vertical-align: top;\n",
       "    }\n",
       "\n",
       "    .dataframe thead th {\n",
       "        text-align: right;\n",
       "    }\n",
       "</style>\n",
       "<table border=\"1\" class=\"dataframe\">\n",
       "  <thead>\n",
       "    <tr style=\"text-align: right;\">\n",
       "      <th></th>\n",
       "      <th>DR_NO</th>\n",
       "      <th>Date Rptd</th>\n",
       "      <th>DATE OCC</th>\n",
       "      <th>TIME OCC</th>\n",
       "      <th>AREA</th>\n",
       "      <th>AREA NAME</th>\n",
       "      <th>Rpt Dist No</th>\n",
       "      <th>Part 1-2</th>\n",
       "      <th>Crm Cd</th>\n",
       "      <th>Crm Cd Desc</th>\n",
       "      <th>...</th>\n",
       "      <th>Status</th>\n",
       "      <th>Status Desc</th>\n",
       "      <th>Crm Cd 1</th>\n",
       "      <th>Crm Cd 2</th>\n",
       "      <th>Crm Cd 3</th>\n",
       "      <th>Crm Cd 4</th>\n",
       "      <th>LOCATION</th>\n",
       "      <th>Cross Street</th>\n",
       "      <th>LAT</th>\n",
       "      <th>LON</th>\n",
       "    </tr>\n",
       "  </thead>\n",
       "  <tbody>\n",
       "    <tr>\n",
       "      <th>644086</th>\n",
       "      <td>230611294</td>\n",
       "      <td>06/17/2023 12:00:00 AM</td>\n",
       "      <td>2023-06-17</td>\n",
       "      <td>1140</td>\n",
       "      <td>6</td>\n",
       "      <td>Hollywood</td>\n",
       "      <td>668</td>\n",
       "      <td>1</td>\n",
       "      <td>442</td>\n",
       "      <td>SHOPLIFTING - PETTY THEFT ($950 &amp; UNDER)</td>\n",
       "      <td>...</td>\n",
       "      <td>IC</td>\n",
       "      <td>Invest Cont</td>\n",
       "      <td>442.0</td>\n",
       "      <td>NaN</td>\n",
       "      <td>NaN</td>\n",
       "      <td>NaN</td>\n",
       "      <td>5500 W  SUNSET                       BL</td>\n",
       "      <td>NaN</td>\n",
       "      <td>34.0981</td>\n",
       "      <td>-118.3092</td>\n",
       "    </tr>\n",
       "    <tr>\n",
       "      <th>644087</th>\n",
       "      <td>230106843</td>\n",
       "      <td>02/12/2023 12:00:00 AM</td>\n",
       "      <td>2023-02-11</td>\n",
       "      <td>1630</td>\n",
       "      <td>1</td>\n",
       "      <td>Central</td>\n",
       "      <td>191</td>\n",
       "      <td>1</td>\n",
       "      <td>440</td>\n",
       "      <td>THEFT PLAIN - PETTY ($950 &amp; UNDER)</td>\n",
       "      <td>...</td>\n",
       "      <td>IC</td>\n",
       "      <td>Invest Cont</td>\n",
       "      <td>440.0</td>\n",
       "      <td>NaN</td>\n",
       "      <td>NaN</td>\n",
       "      <td>NaN</td>\n",
       "      <td>1400    WRIGHT                       ST</td>\n",
       "      <td>NaN</td>\n",
       "      <td>34.0396</td>\n",
       "      <td>-118.2726</td>\n",
       "    </tr>\n",
       "    <tr>\n",
       "      <th>644088</th>\n",
       "      <td>231515059</td>\n",
       "      <td>09/19/2023 12:00:00 AM</td>\n",
       "      <td>2023-09-19</td>\n",
       "      <td>1030</td>\n",
       "      <td>15</td>\n",
       "      <td>N Hollywood</td>\n",
       "      <td>1549</td>\n",
       "      <td>1</td>\n",
       "      <td>230</td>\n",
       "      <td>ASSAULT WITH DEADLY WEAPON, AGGRAVATED ASSAULT</td>\n",
       "      <td>...</td>\n",
       "      <td>IC</td>\n",
       "      <td>Invest Cont</td>\n",
       "      <td>230.0</td>\n",
       "      <td>761.0</td>\n",
       "      <td>NaN</td>\n",
       "      <td>NaN</td>\n",
       "      <td>BURBANK                      BL</td>\n",
       "      <td>CAHUENGA                     BL</td>\n",
       "      <td>34.1721</td>\n",
       "      <td>-118.3616</td>\n",
       "    </tr>\n",
       "    <tr>\n",
       "      <th>644089</th>\n",
       "      <td>230110347</td>\n",
       "      <td>04/11/2023 12:00:00 AM</td>\n",
       "      <td>2023-04-10</td>\n",
       "      <td>816</td>\n",
       "      <td>1</td>\n",
       "      <td>Central</td>\n",
       "      <td>192</td>\n",
       "      <td>1</td>\n",
       "      <td>331</td>\n",
       "      <td>THEFT FROM MOTOR VEHICLE - GRAND ($950.01 AND ...</td>\n",
       "      <td>...</td>\n",
       "      <td>IC</td>\n",
       "      <td>Invest Cont</td>\n",
       "      <td>331.0</td>\n",
       "      <td>NaN</td>\n",
       "      <td>NaN</td>\n",
       "      <td>NaN</td>\n",
       "      <td>1300 S  FLOWER                       ST</td>\n",
       "      <td>NaN</td>\n",
       "      <td>34.0401</td>\n",
       "      <td>-118.2669</td>\n",
       "    </tr>\n",
       "    <tr>\n",
       "      <th>644090</th>\n",
       "      <td>230617683</td>\n",
       "      <td>11/10/2023 12:00:00 AM</td>\n",
       "      <td>2023-11-08</td>\n",
       "      <td>800</td>\n",
       "      <td>6</td>\n",
       "      <td>Hollywood</td>\n",
       "      <td>663</td>\n",
       "      <td>2</td>\n",
       "      <td>662</td>\n",
       "      <td>BUNCO, GRAND THEFT</td>\n",
       "      <td>...</td>\n",
       "      <td>IC</td>\n",
       "      <td>Invest Cont</td>\n",
       "      <td>662.0</td>\n",
       "      <td>NaN</td>\n",
       "      <td>NaN</td>\n",
       "      <td>NaN</td>\n",
       "      <td>1200    SEWARD                       ST</td>\n",
       "      <td>NaN</td>\n",
       "      <td>34.0907</td>\n",
       "      <td>-118.3384</td>\n",
       "    </tr>\n",
       "    <tr>\n",
       "      <th>...</th>\n",
       "      <td>...</td>\n",
       "      <td>...</td>\n",
       "      <td>...</td>\n",
       "      <td>...</td>\n",
       "      <td>...</td>\n",
       "      <td>...</td>\n",
       "      <td>...</td>\n",
       "      <td>...</td>\n",
       "      <td>...</td>\n",
       "      <td>...</td>\n",
       "      <td>...</td>\n",
       "      <td>...</td>\n",
       "      <td>...</td>\n",
       "      <td>...</td>\n",
       "      <td>...</td>\n",
       "      <td>...</td>\n",
       "      <td>...</td>\n",
       "      <td>...</td>\n",
       "      <td>...</td>\n",
       "      <td>...</td>\n",
       "      <td>...</td>\n",
       "    </tr>\n",
       "    <tr>\n",
       "      <th>875785</th>\n",
       "      <td>231604807</td>\n",
       "      <td>01/27/2023 12:00:00 AM</td>\n",
       "      <td>2023-01-26</td>\n",
       "      <td>1800</td>\n",
       "      <td>16</td>\n",
       "      <td>Foothill</td>\n",
       "      <td>1663</td>\n",
       "      <td>2</td>\n",
       "      <td>740</td>\n",
       "      <td>VANDALISM - FELONY ($400 &amp; OVER, ALL CHURCH VA...</td>\n",
       "      <td>...</td>\n",
       "      <td>IC</td>\n",
       "      <td>Invest Cont</td>\n",
       "      <td>740.0</td>\n",
       "      <td>NaN</td>\n",
       "      <td>NaN</td>\n",
       "      <td>NaN</td>\n",
       "      <td>12500    BRANFORD                     ST</td>\n",
       "      <td>NaN</td>\n",
       "      <td>34.2466</td>\n",
       "      <td>-118.4054</td>\n",
       "    </tr>\n",
       "    <tr>\n",
       "      <th>875786</th>\n",
       "      <td>231606525</td>\n",
       "      <td>03/22/2023 12:00:00 AM</td>\n",
       "      <td>2023-03-22</td>\n",
       "      <td>1000</td>\n",
       "      <td>16</td>\n",
       "      <td>Foothill</td>\n",
       "      <td>1602</td>\n",
       "      <td>1</td>\n",
       "      <td>230</td>\n",
       "      <td>ASSAULT WITH DEADLY WEAPON, AGGRAVATED ASSAULT</td>\n",
       "      <td>...</td>\n",
       "      <td>IC</td>\n",
       "      <td>Invest Cont</td>\n",
       "      <td>230.0</td>\n",
       "      <td>NaN</td>\n",
       "      <td>NaN</td>\n",
       "      <td>NaN</td>\n",
       "      <td>12800    FILMORE                      ST</td>\n",
       "      <td>NaN</td>\n",
       "      <td>34.2790</td>\n",
       "      <td>-118.4116</td>\n",
       "    </tr>\n",
       "    <tr>\n",
       "      <th>875787</th>\n",
       "      <td>230115220</td>\n",
       "      <td>07/02/2023 12:00:00 AM</td>\n",
       "      <td>2023-07-01</td>\n",
       "      <td>1</td>\n",
       "      <td>1</td>\n",
       "      <td>Central</td>\n",
       "      <td>154</td>\n",
       "      <td>1</td>\n",
       "      <td>352</td>\n",
       "      <td>PICKPOCKET</td>\n",
       "      <td>...</td>\n",
       "      <td>IC</td>\n",
       "      <td>Invest Cont</td>\n",
       "      <td>352.0</td>\n",
       "      <td>NaN</td>\n",
       "      <td>NaN</td>\n",
       "      <td>NaN</td>\n",
       "      <td>500 S  MAIN                         ST</td>\n",
       "      <td>NaN</td>\n",
       "      <td>34.0467</td>\n",
       "      <td>-118.2485</td>\n",
       "    </tr>\n",
       "    <tr>\n",
       "      <th>875788</th>\n",
       "      <td>230906458</td>\n",
       "      <td>03/05/2023 12:00:00 AM</td>\n",
       "      <td>2023-03-05</td>\n",
       "      <td>900</td>\n",
       "      <td>9</td>\n",
       "      <td>Van Nuys</td>\n",
       "      <td>914</td>\n",
       "      <td>2</td>\n",
       "      <td>745</td>\n",
       "      <td>VANDALISM - MISDEAMEANOR ($399 OR UNDER)</td>\n",
       "      <td>...</td>\n",
       "      <td>IC</td>\n",
       "      <td>Invest Cont</td>\n",
       "      <td>745.0</td>\n",
       "      <td>NaN</td>\n",
       "      <td>NaN</td>\n",
       "      <td>NaN</td>\n",
       "      <td>14500    HARTLAND                     ST</td>\n",
       "      <td>NaN</td>\n",
       "      <td>34.1951</td>\n",
       "      <td>-118.4487</td>\n",
       "    </tr>\n",
       "    <tr>\n",
       "      <th>875789</th>\n",
       "      <td>230319786</td>\n",
       "      <td>11/10/2023 12:00:00 AM</td>\n",
       "      <td>2023-11-09</td>\n",
       "      <td>2300</td>\n",
       "      <td>3</td>\n",
       "      <td>Southwest</td>\n",
       "      <td>395</td>\n",
       "      <td>1</td>\n",
       "      <td>331</td>\n",
       "      <td>THEFT FROM MOTOR VEHICLE - GRAND ($950.01 AND ...</td>\n",
       "      <td>...</td>\n",
       "      <td>IC</td>\n",
       "      <td>Invest Cont</td>\n",
       "      <td>331.0</td>\n",
       "      <td>NaN</td>\n",
       "      <td>NaN</td>\n",
       "      <td>NaN</td>\n",
       "      <td>4100 S  HOBART                       BL</td>\n",
       "      <td>NaN</td>\n",
       "      <td>34.0091</td>\n",
       "      <td>-118.3078</td>\n",
       "    </tr>\n",
       "  </tbody>\n",
       "</table>\n",
       "<p>230921 rows × 28 columns</p>\n",
       "</div>"
      ],
      "text/plain": [
       "            DR_NO               Date Rptd   DATE OCC  TIME OCC  AREA  \\\n",
       "644086  230611294  06/17/2023 12:00:00 AM 2023-06-17      1140     6   \n",
       "644087  230106843  02/12/2023 12:00:00 AM 2023-02-11      1630     1   \n",
       "644088  231515059  09/19/2023 12:00:00 AM 2023-09-19      1030    15   \n",
       "644089  230110347  04/11/2023 12:00:00 AM 2023-04-10       816     1   \n",
       "644090  230617683  11/10/2023 12:00:00 AM 2023-11-08       800     6   \n",
       "...           ...                     ...        ...       ...   ...   \n",
       "875785  231604807  01/27/2023 12:00:00 AM 2023-01-26      1800    16   \n",
       "875786  231606525  03/22/2023 12:00:00 AM 2023-03-22      1000    16   \n",
       "875787  230115220  07/02/2023 12:00:00 AM 2023-07-01         1     1   \n",
       "875788  230906458  03/05/2023 12:00:00 AM 2023-03-05       900     9   \n",
       "875789  230319786  11/10/2023 12:00:00 AM 2023-11-09      2300     3   \n",
       "\n",
       "          AREA NAME  Rpt Dist No  Part 1-2  Crm Cd  \\\n",
       "644086    Hollywood          668         1     442   \n",
       "644087      Central          191         1     440   \n",
       "644088  N Hollywood         1549         1     230   \n",
       "644089      Central          192         1     331   \n",
       "644090    Hollywood          663         2     662   \n",
       "...             ...          ...       ...     ...   \n",
       "875785     Foothill         1663         2     740   \n",
       "875786     Foothill         1602         1     230   \n",
       "875787      Central          154         1     352   \n",
       "875788     Van Nuys          914         2     745   \n",
       "875789    Southwest          395         1     331   \n",
       "\n",
       "                                              Crm Cd Desc  ... Status  \\\n",
       "644086           SHOPLIFTING - PETTY THEFT ($950 & UNDER)  ...     IC   \n",
       "644087                 THEFT PLAIN - PETTY ($950 & UNDER)  ...     IC   \n",
       "644088     ASSAULT WITH DEADLY WEAPON, AGGRAVATED ASSAULT  ...     IC   \n",
       "644089  THEFT FROM MOTOR VEHICLE - GRAND ($950.01 AND ...  ...     IC   \n",
       "644090                                 BUNCO, GRAND THEFT  ...     IC   \n",
       "...                                                   ...  ...    ...   \n",
       "875785  VANDALISM - FELONY ($400 & OVER, ALL CHURCH VA...  ...     IC   \n",
       "875786     ASSAULT WITH DEADLY WEAPON, AGGRAVATED ASSAULT  ...     IC   \n",
       "875787                                         PICKPOCKET  ...     IC   \n",
       "875788           VANDALISM - MISDEAMEANOR ($399 OR UNDER)  ...     IC   \n",
       "875789  THEFT FROM MOTOR VEHICLE - GRAND ($950.01 AND ...  ...     IC   \n",
       "\n",
       "        Status Desc Crm Cd 1 Crm Cd 2  Crm Cd 3 Crm Cd 4  \\\n",
       "644086  Invest Cont    442.0      NaN       NaN      NaN   \n",
       "644087  Invest Cont    440.0      NaN       NaN      NaN   \n",
       "644088  Invest Cont    230.0    761.0       NaN      NaN   \n",
       "644089  Invest Cont    331.0      NaN       NaN      NaN   \n",
       "644090  Invest Cont    662.0      NaN       NaN      NaN   \n",
       "...             ...      ...      ...       ...      ...   \n",
       "875785  Invest Cont    740.0      NaN       NaN      NaN   \n",
       "875786  Invest Cont    230.0      NaN       NaN      NaN   \n",
       "875787  Invest Cont    352.0      NaN       NaN      NaN   \n",
       "875788  Invest Cont    745.0      NaN       NaN      NaN   \n",
       "875789  Invest Cont    331.0      NaN       NaN      NaN   \n",
       "\n",
       "                                        LOCATION  \\\n",
       "644086   5500 W  SUNSET                       BL   \n",
       "644087   1400    WRIGHT                       ST   \n",
       "644088           BURBANK                      BL   \n",
       "644089   1300 S  FLOWER                       ST   \n",
       "644090   1200    SEWARD                       ST   \n",
       "...                                          ...   \n",
       "875785  12500    BRANFORD                     ST   \n",
       "875786  12800    FILMORE                      ST   \n",
       "875787    500 S  MAIN                         ST   \n",
       "875788  14500    HARTLAND                     ST   \n",
       "875789   4100 S  HOBART                       BL   \n",
       "\n",
       "                           Cross Street      LAT       LON  \n",
       "644086                              NaN  34.0981 -118.3092  \n",
       "644087                              NaN  34.0396 -118.2726  \n",
       "644088  CAHUENGA                     BL  34.1721 -118.3616  \n",
       "644089                              NaN  34.0401 -118.2669  \n",
       "644090                              NaN  34.0907 -118.3384  \n",
       "...                                 ...      ...       ...  \n",
       "875785                              NaN  34.2466 -118.4054  \n",
       "875786                              NaN  34.2790 -118.4116  \n",
       "875787                              NaN  34.0467 -118.2485  \n",
       "875788                              NaN  34.1951 -118.4487  \n",
       "875789                              NaN  34.0091 -118.3078  \n",
       "\n",
       "[230921 rows x 28 columns]"
      ]
     },
     "execution_count": 29,
     "metadata": {},
     "output_type": "execute_result"
    }
   ],
   "source": [
    "crimes_2023"
   ]
  },
  {
   "cell_type": "code",
   "execution_count": 30,
   "metadata": {},
   "outputs": [
    {
     "data": {
      "text/html": [
       "<div>\n",
       "<style scoped>\n",
       "    .dataframe tbody tr th:only-of-type {\n",
       "        vertical-align: middle;\n",
       "    }\n",
       "\n",
       "    .dataframe tbody tr th {\n",
       "        vertical-align: top;\n",
       "    }\n",
       "\n",
       "    .dataframe thead th {\n",
       "        text-align: right;\n",
       "    }\n",
       "</style>\n",
       "<table border=\"1\" class=\"dataframe\">\n",
       "  <thead>\n",
       "    <tr style=\"text-align: right;\">\n",
       "      <th></th>\n",
       "      <th>DR_NO</th>\n",
       "      <th>Date Rptd</th>\n",
       "      <th>DATE OCC</th>\n",
       "      <th>TIME OCC</th>\n",
       "      <th>AREA</th>\n",
       "      <th>AREA NAME</th>\n",
       "      <th>Rpt Dist No</th>\n",
       "      <th>Part 1-2</th>\n",
       "      <th>Crm Cd</th>\n",
       "      <th>Crm Cd Desc</th>\n",
       "      <th>...</th>\n",
       "      <th>Status</th>\n",
       "      <th>Status Desc</th>\n",
       "      <th>Crm Cd 1</th>\n",
       "      <th>Crm Cd 2</th>\n",
       "      <th>Crm Cd 3</th>\n",
       "      <th>Crm Cd 4</th>\n",
       "      <th>LOCATION</th>\n",
       "      <th>Cross Street</th>\n",
       "      <th>LAT</th>\n",
       "      <th>LON</th>\n",
       "    </tr>\n",
       "  </thead>\n",
       "  <tbody>\n",
       "    <tr>\n",
       "      <th>650026</th>\n",
       "      <td>231105570</td>\n",
       "      <td>02/10/2023 12:00:00 AM</td>\n",
       "      <td>2023-02-04</td>\n",
       "      <td>1200</td>\n",
       "      <td>11</td>\n",
       "      <td>Northeast</td>\n",
       "      <td>1102</td>\n",
       "      <td>2</td>\n",
       "      <td>653</td>\n",
       "      <td>CREDIT CARDS, FRAUD USE ($950.01 &amp; OVER)</td>\n",
       "      <td>...</td>\n",
       "      <td>AO</td>\n",
       "      <td>Adult Other</td>\n",
       "      <td>653.0</td>\n",
       "      <td>NaN</td>\n",
       "      <td>NaN</td>\n",
       "      <td>NaN</td>\n",
       "      <td>4500    BRAZIL                       ST</td>\n",
       "      <td>NaN</td>\n",
       "      <td>34.1468</td>\n",
       "      <td>-118.2723</td>\n",
       "    </tr>\n",
       "    <tr>\n",
       "      <th>650569</th>\n",
       "      <td>230119767</td>\n",
       "      <td>09/12/2023 12:00:00 AM</td>\n",
       "      <td>2023-05-04</td>\n",
       "      <td>1500</td>\n",
       "      <td>1</td>\n",
       "      <td>Central</td>\n",
       "      <td>153</td>\n",
       "      <td>2</td>\n",
       "      <td>653</td>\n",
       "      <td>CREDIT CARDS, FRAUD USE ($950.01 &amp; OVER)</td>\n",
       "      <td>...</td>\n",
       "      <td>IC</td>\n",
       "      <td>Invest Cont</td>\n",
       "      <td>653.0</td>\n",
       "      <td>NaN</td>\n",
       "      <td>NaN</td>\n",
       "      <td>NaN</td>\n",
       "      <td>600 S  HILL                         ST</td>\n",
       "      <td>NaN</td>\n",
       "      <td>34.0473</td>\n",
       "      <td>-118.2531</td>\n",
       "    </tr>\n",
       "    <tr>\n",
       "      <th>651562</th>\n",
       "      <td>230123160</td>\n",
       "      <td>11/01/2023 12:00:00 AM</td>\n",
       "      <td>2023-11-01</td>\n",
       "      <td>1930</td>\n",
       "      <td>1</td>\n",
       "      <td>Central</td>\n",
       "      <td>162</td>\n",
       "      <td>2</td>\n",
       "      <td>654</td>\n",
       "      <td>CREDIT CARDS, FRAUD USE ($950 &amp; UNDER</td>\n",
       "      <td>...</td>\n",
       "      <td>IC</td>\n",
       "      <td>Invest Cont</td>\n",
       "      <td>654.0</td>\n",
       "      <td>NaN</td>\n",
       "      <td>NaN</td>\n",
       "      <td>NaN</td>\n",
       "      <td>800 S  FLOWER                       ST</td>\n",
       "      <td>NaN</td>\n",
       "      <td>34.0473</td>\n",
       "      <td>-118.2601</td>\n",
       "    </tr>\n",
       "    <tr>\n",
       "      <th>657281</th>\n",
       "      <td>230312252</td>\n",
       "      <td>06/14/2023 12:00:00 AM</td>\n",
       "      <td>2023-06-05</td>\n",
       "      <td>1200</td>\n",
       "      <td>3</td>\n",
       "      <td>Southwest</td>\n",
       "      <td>391</td>\n",
       "      <td>2</td>\n",
       "      <td>654</td>\n",
       "      <td>CREDIT CARDS, FRAUD USE ($950 &amp; UNDER</td>\n",
       "      <td>...</td>\n",
       "      <td>IC</td>\n",
       "      <td>Invest Cont</td>\n",
       "      <td>654.0</td>\n",
       "      <td>NaN</td>\n",
       "      <td>NaN</td>\n",
       "      <td>NaN</td>\n",
       "      <td>4200    DON FELIPE                   DR</td>\n",
       "      <td>NaN</td>\n",
       "      <td>34.0071</td>\n",
       "      <td>-118.3477</td>\n",
       "    </tr>\n",
       "    <tr>\n",
       "      <th>657874</th>\n",
       "      <td>231606898</td>\n",
       "      <td>04/02/2023 12:00:00 AM</td>\n",
       "      <td>2023-04-02</td>\n",
       "      <td>700</td>\n",
       "      <td>16</td>\n",
       "      <td>Foothill</td>\n",
       "      <td>1675</td>\n",
       "      <td>2</td>\n",
       "      <td>654</td>\n",
       "      <td>CREDIT CARDS, FRAUD USE ($950 &amp; UNDER</td>\n",
       "      <td>...</td>\n",
       "      <td>IC</td>\n",
       "      <td>Invest Cont</td>\n",
       "      <td>654.0</td>\n",
       "      <td>NaN</td>\n",
       "      <td>NaN</td>\n",
       "      <td>NaN</td>\n",
       "      <td>9100    GLENOAKS                     BL</td>\n",
       "      <td>NaN</td>\n",
       "      <td>34.2345</td>\n",
       "      <td>-118.3713</td>\n",
       "    </tr>\n",
       "    <tr>\n",
       "      <th>665962</th>\n",
       "      <td>231718181</td>\n",
       "      <td>11/24/2023 12:00:00 AM</td>\n",
       "      <td>2023-11-24</td>\n",
       "      <td>1420</td>\n",
       "      <td>17</td>\n",
       "      <td>Devonshire</td>\n",
       "      <td>1708</td>\n",
       "      <td>2</td>\n",
       "      <td>654</td>\n",
       "      <td>CREDIT CARDS, FRAUD USE ($950 &amp; UNDER</td>\n",
       "      <td>...</td>\n",
       "      <td>AA</td>\n",
       "      <td>Adult Arrest</td>\n",
       "      <td>654.0</td>\n",
       "      <td>NaN</td>\n",
       "      <td>NaN</td>\n",
       "      <td>NaN</td>\n",
       "      <td>11800    BALBOA                       BL</td>\n",
       "      <td>NaN</td>\n",
       "      <td>34.2841</td>\n",
       "      <td>-118.5021</td>\n",
       "    </tr>\n",
       "    <tr>\n",
       "      <th>669235</th>\n",
       "      <td>230415798</td>\n",
       "      <td>12/28/2023 12:00:00 AM</td>\n",
       "      <td>2023-10-03</td>\n",
       "      <td>800</td>\n",
       "      <td>4</td>\n",
       "      <td>Hollenbeck</td>\n",
       "      <td>497</td>\n",
       "      <td>2</td>\n",
       "      <td>653</td>\n",
       "      <td>CREDIT CARDS, FRAUD USE ($950.01 &amp; OVER)</td>\n",
       "      <td>...</td>\n",
       "      <td>IC</td>\n",
       "      <td>Invest Cont</td>\n",
       "      <td>653.0</td>\n",
       "      <td>NaN</td>\n",
       "      <td>NaN</td>\n",
       "      <td>NaN</td>\n",
       "      <td>2900 E  WASHINGTON                   BL</td>\n",
       "      <td>NaN</td>\n",
       "      <td>34.0167</td>\n",
       "      <td>-118.2176</td>\n",
       "    </tr>\n",
       "    <tr>\n",
       "      <th>688772</th>\n",
       "      <td>231310150</td>\n",
       "      <td>05/03/2023 12:00:00 AM</td>\n",
       "      <td>2023-05-03</td>\n",
       "      <td>1742</td>\n",
       "      <td>13</td>\n",
       "      <td>Newton</td>\n",
       "      <td>1333</td>\n",
       "      <td>2</td>\n",
       "      <td>654</td>\n",
       "      <td>CREDIT CARDS, FRAUD USE ($950 &amp; UNDER</td>\n",
       "      <td>...</td>\n",
       "      <td>AA</td>\n",
       "      <td>Adult Arrest</td>\n",
       "      <td>654.0</td>\n",
       "      <td>NaN</td>\n",
       "      <td>NaN</td>\n",
       "      <td>NaN</td>\n",
       "      <td>3200 S  CENTRAL                      AV</td>\n",
       "      <td>NaN</td>\n",
       "      <td>34.0174</td>\n",
       "      <td>-118.2621</td>\n",
       "    </tr>\n",
       "    <tr>\n",
       "      <th>701152</th>\n",
       "      <td>231417300</td>\n",
       "      <td>09/15/2023 12:00:00 AM</td>\n",
       "      <td>2023-09-11</td>\n",
       "      <td>800</td>\n",
       "      <td>14</td>\n",
       "      <td>Pacific</td>\n",
       "      <td>1437</td>\n",
       "      <td>2</td>\n",
       "      <td>654</td>\n",
       "      <td>CREDIT CARDS, FRAUD USE ($950 &amp; UNDER</td>\n",
       "      <td>...</td>\n",
       "      <td>IC</td>\n",
       "      <td>Invest Cont</td>\n",
       "      <td>654.0</td>\n",
       "      <td>NaN</td>\n",
       "      <td>NaN</td>\n",
       "      <td>NaN</td>\n",
       "      <td>3700 S  BENTLEY                      AV</td>\n",
       "      <td>NaN</td>\n",
       "      <td>34.0156</td>\n",
       "      <td>-118.4173</td>\n",
       "    </tr>\n",
       "    <tr>\n",
       "      <th>701222</th>\n",
       "      <td>231100885</td>\n",
       "      <td>10/29/2023 12:00:00 AM</td>\n",
       "      <td>2023-10-28</td>\n",
       "      <td>2100</td>\n",
       "      <td>11</td>\n",
       "      <td>Northeast</td>\n",
       "      <td>1136</td>\n",
       "      <td>2</td>\n",
       "      <td>653</td>\n",
       "      <td>CREDIT CARDS, FRAUD USE ($950.01 &amp; OVER)</td>\n",
       "      <td>...</td>\n",
       "      <td>AO</td>\n",
       "      <td>Adult Other</td>\n",
       "      <td>653.0</td>\n",
       "      <td>998.0</td>\n",
       "      <td>NaN</td>\n",
       "      <td>NaN</td>\n",
       "      <td>AVENUE 41</td>\n",
       "      <td>EAGLE ROCK                   BL</td>\n",
       "      <td>34.1209</td>\n",
       "      <td>-118.2271</td>\n",
       "    </tr>\n",
       "    <tr>\n",
       "      <th>701411</th>\n",
       "      <td>231308832</td>\n",
       "      <td>03/30/2023 12:00:00 AM</td>\n",
       "      <td>2023-03-29</td>\n",
       "      <td>1200</td>\n",
       "      <td>13</td>\n",
       "      <td>Newton</td>\n",
       "      <td>1342</td>\n",
       "      <td>2</td>\n",
       "      <td>653</td>\n",
       "      <td>CREDIT CARDS, FRAUD USE ($950.01 &amp; OVER)</td>\n",
       "      <td>...</td>\n",
       "      <td>IC</td>\n",
       "      <td>Invest Cont</td>\n",
       "      <td>653.0</td>\n",
       "      <td>NaN</td>\n",
       "      <td>NaN</td>\n",
       "      <td>NaN</td>\n",
       "      <td>3800    WOODLAWN                     AV</td>\n",
       "      <td>NaN</td>\n",
       "      <td>34.0131</td>\n",
       "      <td>-118.2728</td>\n",
       "    </tr>\n",
       "    <tr>\n",
       "      <th>707850</th>\n",
       "      <td>231819069</td>\n",
       "      <td>11/08/2023 12:00:00 AM</td>\n",
       "      <td>2023-10-30</td>\n",
       "      <td>1</td>\n",
       "      <td>18</td>\n",
       "      <td>Southeast</td>\n",
       "      <td>1822</td>\n",
       "      <td>2</td>\n",
       "      <td>654</td>\n",
       "      <td>CREDIT CARDS, FRAUD USE ($950 &amp; UNDER</td>\n",
       "      <td>...</td>\n",
       "      <td>IC</td>\n",
       "      <td>Invest Cont</td>\n",
       "      <td>654.0</td>\n",
       "      <td>NaN</td>\n",
       "      <td>NaN</td>\n",
       "      <td>NaN</td>\n",
       "      <td>100 E  COLDEN                       AV</td>\n",
       "      <td>NaN</td>\n",
       "      <td>33.9492</td>\n",
       "      <td>-118.2739</td>\n",
       "    </tr>\n",
       "    <tr>\n",
       "      <th>712429</th>\n",
       "      <td>231813699</td>\n",
       "      <td>07/20/2023 12:00:00 AM</td>\n",
       "      <td>2023-03-11</td>\n",
       "      <td>1400</td>\n",
       "      <td>18</td>\n",
       "      <td>Southeast</td>\n",
       "      <td>1844</td>\n",
       "      <td>2</td>\n",
       "      <td>653</td>\n",
       "      <td>CREDIT CARDS, FRAUD USE ($950.01 &amp; OVER)</td>\n",
       "      <td>...</td>\n",
       "      <td>IC</td>\n",
       "      <td>Invest Cont</td>\n",
       "      <td>653.0</td>\n",
       "      <td>NaN</td>\n",
       "      <td>NaN</td>\n",
       "      <td>NaN</td>\n",
       "      <td>11100    AVALON                       BL</td>\n",
       "      <td>NaN</td>\n",
       "      <td>33.9348</td>\n",
       "      <td>-118.2652</td>\n",
       "    </tr>\n",
       "    <tr>\n",
       "      <th>727497</th>\n",
       "      <td>231912347</td>\n",
       "      <td>08/01/2023 12:00:00 AM</td>\n",
       "      <td>2023-08-01</td>\n",
       "      <td>800</td>\n",
       "      <td>19</td>\n",
       "      <td>Mission</td>\n",
       "      <td>1941</td>\n",
       "      <td>2</td>\n",
       "      <td>653</td>\n",
       "      <td>CREDIT CARDS, FRAUD USE ($950.01 &amp; OVER)</td>\n",
       "      <td>...</td>\n",
       "      <td>AA</td>\n",
       "      <td>Adult Arrest</td>\n",
       "      <td>653.0</td>\n",
       "      <td>998.0</td>\n",
       "      <td>NaN</td>\n",
       "      <td>NaN</td>\n",
       "      <td>ORION</td>\n",
       "      <td>CHATSWORTH</td>\n",
       "      <td>34.2685</td>\n",
       "      <td>-118.4694</td>\n",
       "    </tr>\n",
       "    <tr>\n",
       "      <th>743898</th>\n",
       "      <td>230121171</td>\n",
       "      <td>10/04/2023 12:00:00 AM</td>\n",
       "      <td>2023-08-18</td>\n",
       "      <td>1304</td>\n",
       "      <td>1</td>\n",
       "      <td>Central</td>\n",
       "      <td>152</td>\n",
       "      <td>2</td>\n",
       "      <td>653</td>\n",
       "      <td>CREDIT CARDS, FRAUD USE ($950.01 &amp; OVER)</td>\n",
       "      <td>...</td>\n",
       "      <td>IC</td>\n",
       "      <td>Invest Cont</td>\n",
       "      <td>653.0</td>\n",
       "      <td>NaN</td>\n",
       "      <td>NaN</td>\n",
       "      <td>NaN</td>\n",
       "      <td>500 W  6TH                          ST</td>\n",
       "      <td>NaN</td>\n",
       "      <td>34.0480</td>\n",
       "      <td>-118.2542</td>\n",
       "    </tr>\n",
       "    <tr>\n",
       "      <th>756573</th>\n",
       "      <td>231712947</td>\n",
       "      <td>07/17/2023 12:00:00 AM</td>\n",
       "      <td>2023-07-17</td>\n",
       "      <td>1250</td>\n",
       "      <td>17</td>\n",
       "      <td>Devonshire</td>\n",
       "      <td>1795</td>\n",
       "      <td>2</td>\n",
       "      <td>654</td>\n",
       "      <td>CREDIT CARDS, FRAUD USE ($950 &amp; UNDER</td>\n",
       "      <td>...</td>\n",
       "      <td>IC</td>\n",
       "      <td>Invest Cont</td>\n",
       "      <td>654.0</td>\n",
       "      <td>NaN</td>\n",
       "      <td>NaN</td>\n",
       "      <td>NaN</td>\n",
       "      <td>17800    MALDEN                       ST</td>\n",
       "      <td>NaN</td>\n",
       "      <td>34.2246</td>\n",
       "      <td>-118.5213</td>\n",
       "    </tr>\n",
       "    <tr>\n",
       "      <th>759865</th>\n",
       "      <td>230704400</td>\n",
       "      <td>01/10/2023 12:00:00 AM</td>\n",
       "      <td>2023-01-10</td>\n",
       "      <td>1200</td>\n",
       "      <td>7</td>\n",
       "      <td>Wilshire</td>\n",
       "      <td>773</td>\n",
       "      <td>2</td>\n",
       "      <td>653</td>\n",
       "      <td>CREDIT CARDS, FRAUD USE ($950.01 &amp; OVER)</td>\n",
       "      <td>...</td>\n",
       "      <td>IC</td>\n",
       "      <td>Invest Cont</td>\n",
       "      <td>653.0</td>\n",
       "      <td>998.0</td>\n",
       "      <td>NaN</td>\n",
       "      <td>NaN</td>\n",
       "      <td>5200 W  WASHINGTON                   BL</td>\n",
       "      <td>NaN</td>\n",
       "      <td>34.0417</td>\n",
       "      <td>-118.3588</td>\n",
       "    </tr>\n",
       "    <tr>\n",
       "      <th>759940</th>\n",
       "      <td>240704767</td>\n",
       "      <td>01/17/2024 12:00:00 AM</td>\n",
       "      <td>2023-12-29</td>\n",
       "      <td>1230</td>\n",
       "      <td>7</td>\n",
       "      <td>Wilshire</td>\n",
       "      <td>719</td>\n",
       "      <td>2</td>\n",
       "      <td>654</td>\n",
       "      <td>CREDIT CARDS, FRAUD USE ($950 &amp; UNDER</td>\n",
       "      <td>...</td>\n",
       "      <td>IC</td>\n",
       "      <td>Invest Cont</td>\n",
       "      <td>654.0</td>\n",
       "      <td>NaN</td>\n",
       "      <td>NaN</td>\n",
       "      <td>NaN</td>\n",
       "      <td>300 N  LARCHMONT                    BL</td>\n",
       "      <td>NaN</td>\n",
       "      <td>34.0762</td>\n",
       "      <td>-118.3236</td>\n",
       "    </tr>\n",
       "    <tr>\n",
       "      <th>775714</th>\n",
       "      <td>230110116</td>\n",
       "      <td>04/06/2023 12:00:00 AM</td>\n",
       "      <td>2023-04-02</td>\n",
       "      <td>1209</td>\n",
       "      <td>1</td>\n",
       "      <td>Central</td>\n",
       "      <td>156</td>\n",
       "      <td>2</td>\n",
       "      <td>654</td>\n",
       "      <td>CREDIT CARDS, FRAUD USE ($950 &amp; UNDER</td>\n",
       "      <td>...</td>\n",
       "      <td>IC</td>\n",
       "      <td>Invest Cont</td>\n",
       "      <td>654.0</td>\n",
       "      <td>NaN</td>\n",
       "      <td>NaN</td>\n",
       "      <td>NaN</td>\n",
       "      <td>500 S  SAN PEDRO                    ST</td>\n",
       "      <td>NaN</td>\n",
       "      <td>34.0437</td>\n",
       "      <td>-118.2455</td>\n",
       "    </tr>\n",
       "    <tr>\n",
       "      <th>777976</th>\n",
       "      <td>230706264</td>\n",
       "      <td>02/19/2023 12:00:00 AM</td>\n",
       "      <td>2023-02-18</td>\n",
       "      <td>1919</td>\n",
       "      <td>7</td>\n",
       "      <td>Wilshire</td>\n",
       "      <td>724</td>\n",
       "      <td>2</td>\n",
       "      <td>653</td>\n",
       "      <td>CREDIT CARDS, FRAUD USE ($950.01 &amp; OVER)</td>\n",
       "      <td>...</td>\n",
       "      <td>IC</td>\n",
       "      <td>Invest Cont</td>\n",
       "      <td>653.0</td>\n",
       "      <td>NaN</td>\n",
       "      <td>NaN</td>\n",
       "      <td>NaN</td>\n",
       "      <td>100    THE GROVE                    DR</td>\n",
       "      <td>NaN</td>\n",
       "      <td>34.0736</td>\n",
       "      <td>-118.3563</td>\n",
       "    </tr>\n",
       "    <tr>\n",
       "      <th>788980</th>\n",
       "      <td>230511677</td>\n",
       "      <td>07/29/2023 12:00:00 AM</td>\n",
       "      <td>2023-07-28</td>\n",
       "      <td>1530</td>\n",
       "      <td>5</td>\n",
       "      <td>Harbor</td>\n",
       "      <td>522</td>\n",
       "      <td>2</td>\n",
       "      <td>653</td>\n",
       "      <td>CREDIT CARDS, FRAUD USE ($950.01 &amp; OVER)</td>\n",
       "      <td>...</td>\n",
       "      <td>IC</td>\n",
       "      <td>Invest Cont</td>\n",
       "      <td>653.0</td>\n",
       "      <td>NaN</td>\n",
       "      <td>NaN</td>\n",
       "      <td>NaN</td>\n",
       "      <td>800 W  G                            ST</td>\n",
       "      <td>NaN</td>\n",
       "      <td>33.7780</td>\n",
       "      <td>-118.2715</td>\n",
       "    </tr>\n",
       "    <tr>\n",
       "      <th>796145</th>\n",
       "      <td>231005150</td>\n",
       "      <td>01/30/2023 12:00:00 AM</td>\n",
       "      <td>2023-01-26</td>\n",
       "      <td>1000</td>\n",
       "      <td>10</td>\n",
       "      <td>West Valley</td>\n",
       "      <td>1088</td>\n",
       "      <td>2</td>\n",
       "      <td>654</td>\n",
       "      <td>CREDIT CARDS, FRAUD USE ($950 &amp; UNDER</td>\n",
       "      <td>...</td>\n",
       "      <td>IC</td>\n",
       "      <td>Invest Cont</td>\n",
       "      <td>654.0</td>\n",
       "      <td>NaN</td>\n",
       "      <td>NaN</td>\n",
       "      <td>NaN</td>\n",
       "      <td>16300    VENTURA                      BL</td>\n",
       "      <td>NaN</td>\n",
       "      <td>34.1570</td>\n",
       "      <td>-118.4880</td>\n",
       "    </tr>\n",
       "    <tr>\n",
       "      <th>803923</th>\n",
       "      <td>230514261</td>\n",
       "      <td>10/02/2023 12:00:00 AM</td>\n",
       "      <td>2023-10-02</td>\n",
       "      <td>2245</td>\n",
       "      <td>5</td>\n",
       "      <td>Harbor</td>\n",
       "      <td>503</td>\n",
       "      <td>2</td>\n",
       "      <td>654</td>\n",
       "      <td>CREDIT CARDS, FRAUD USE ($950 &amp; UNDER</td>\n",
       "      <td>...</td>\n",
       "      <td>IC</td>\n",
       "      <td>Invest Cont</td>\n",
       "      <td>654.0</td>\n",
       "      <td>NaN</td>\n",
       "      <td>NaN</td>\n",
       "      <td>NaN</td>\n",
       "      <td>1000    HARBOR HEIGHTS               DR</td>\n",
       "      <td>NaN</td>\n",
       "      <td>33.7932</td>\n",
       "      <td>-118.2930</td>\n",
       "    </tr>\n",
       "    <tr>\n",
       "      <th>805161</th>\n",
       "      <td>230513184</td>\n",
       "      <td>09/03/2023 12:00:00 AM</td>\n",
       "      <td>2023-09-03</td>\n",
       "      <td>5</td>\n",
       "      <td>5</td>\n",
       "      <td>Harbor</td>\n",
       "      <td>514</td>\n",
       "      <td>2</td>\n",
       "      <td>654</td>\n",
       "      <td>CREDIT CARDS, FRAUD USE ($950 &amp; UNDER</td>\n",
       "      <td>...</td>\n",
       "      <td>IC</td>\n",
       "      <td>Invest Cont</td>\n",
       "      <td>654.0</td>\n",
       "      <td>NaN</td>\n",
       "      <td>NaN</td>\n",
       "      <td>NaN</td>\n",
       "      <td>1000 N  WILMINGTON                   BL</td>\n",
       "      <td>NaN</td>\n",
       "      <td>33.7897</td>\n",
       "      <td>-118.2787</td>\n",
       "    </tr>\n",
       "    <tr>\n",
       "      <th>808200</th>\n",
       "      <td>230106683</td>\n",
       "      <td>02/09/2023 12:00:00 AM</td>\n",
       "      <td>2023-02-08</td>\n",
       "      <td>1730</td>\n",
       "      <td>1</td>\n",
       "      <td>Central</td>\n",
       "      <td>111</td>\n",
       "      <td>2</td>\n",
       "      <td>653</td>\n",
       "      <td>CREDIT CARDS, FRAUD USE ($950.01 &amp; OVER)</td>\n",
       "      <td>...</td>\n",
       "      <td>IC</td>\n",
       "      <td>Invest Cont</td>\n",
       "      <td>653.0</td>\n",
       "      <td>NaN</td>\n",
       "      <td>NaN</td>\n",
       "      <td>NaN</td>\n",
       "      <td>800 N  BROADWAY</td>\n",
       "      <td>NaN</td>\n",
       "      <td>34.0624</td>\n",
       "      <td>-118.2383</td>\n",
       "    </tr>\n",
       "    <tr>\n",
       "      <th>809716</th>\n",
       "      <td>230107090</td>\n",
       "      <td>02/15/2023 12:00:00 AM</td>\n",
       "      <td>2023-02-06</td>\n",
       "      <td>1</td>\n",
       "      <td>1</td>\n",
       "      <td>Central</td>\n",
       "      <td>119</td>\n",
       "      <td>2</td>\n",
       "      <td>654</td>\n",
       "      <td>CREDIT CARDS, FRAUD USE ($950 &amp; UNDER</td>\n",
       "      <td>...</td>\n",
       "      <td>IC</td>\n",
       "      <td>Invest Cont</td>\n",
       "      <td>654.0</td>\n",
       "      <td>NaN</td>\n",
       "      <td>NaN</td>\n",
       "      <td>NaN</td>\n",
       "      <td>900    AVILA                        ST</td>\n",
       "      <td>NaN</td>\n",
       "      <td>34.0570</td>\n",
       "      <td>-118.2329</td>\n",
       "    </tr>\n",
       "    <tr>\n",
       "      <th>816725</th>\n",
       "      <td>240105076</td>\n",
       "      <td>01/16/2024 12:00:00 AM</td>\n",
       "      <td>2023-12-03</td>\n",
       "      <td>1515</td>\n",
       "      <td>1</td>\n",
       "      <td>Central</td>\n",
       "      <td>181</td>\n",
       "      <td>2</td>\n",
       "      <td>654</td>\n",
       "      <td>CREDIT CARDS, FRAUD USE ($950 &amp; UNDER</td>\n",
       "      <td>...</td>\n",
       "      <td>IC</td>\n",
       "      <td>Invest Cont</td>\n",
       "      <td>654.0</td>\n",
       "      <td>NaN</td>\n",
       "      <td>NaN</td>\n",
       "      <td>NaN</td>\n",
       "      <td>1200 S  FIGUEROA                     ST</td>\n",
       "      <td>NaN</td>\n",
       "      <td>34.0431</td>\n",
       "      <td>-118.2692</td>\n",
       "    </tr>\n",
       "    <tr>\n",
       "      <th>827622</th>\n",
       "      <td>231818043</td>\n",
       "      <td>10/17/2023 12:00:00 AM</td>\n",
       "      <td>2023-09-28</td>\n",
       "      <td>1200</td>\n",
       "      <td>18</td>\n",
       "      <td>Southeast</td>\n",
       "      <td>1821</td>\n",
       "      <td>2</td>\n",
       "      <td>654</td>\n",
       "      <td>CREDIT CARDS, FRAUD USE ($950 &amp; UNDER</td>\n",
       "      <td>...</td>\n",
       "      <td>IC</td>\n",
       "      <td>Invest Cont</td>\n",
       "      <td>654.0</td>\n",
       "      <td>NaN</td>\n",
       "      <td>NaN</td>\n",
       "      <td>NaN</td>\n",
       "      <td>700 W  CENTURY                      BL</td>\n",
       "      <td>NaN</td>\n",
       "      <td>33.9455</td>\n",
       "      <td>-118.2870</td>\n",
       "    </tr>\n",
       "    <tr>\n",
       "      <th>836389</th>\n",
       "      <td>240104681</td>\n",
       "      <td>01/10/2024 12:00:00 AM</td>\n",
       "      <td>2023-11-18</td>\n",
       "      <td>1124</td>\n",
       "      <td>1</td>\n",
       "      <td>Central</td>\n",
       "      <td>141</td>\n",
       "      <td>2</td>\n",
       "      <td>653</td>\n",
       "      <td>CREDIT CARDS, FRAUD USE ($950.01 &amp; OVER)</td>\n",
       "      <td>...</td>\n",
       "      <td>IC</td>\n",
       "      <td>Invest Cont</td>\n",
       "      <td>653.0</td>\n",
       "      <td>NaN</td>\n",
       "      <td>NaN</td>\n",
       "      <td>NaN</td>\n",
       "      <td>300 S  FIGUEROA                     ST</td>\n",
       "      <td>NaN</td>\n",
       "      <td>34.0542</td>\n",
       "      <td>-118.2566</td>\n",
       "    </tr>\n",
       "    <tr>\n",
       "      <th>837066</th>\n",
       "      <td>231419429</td>\n",
       "      <td>10/27/2023 12:00:00 AM</td>\n",
       "      <td>2023-10-25</td>\n",
       "      <td>1700</td>\n",
       "      <td>14</td>\n",
       "      <td>Pacific</td>\n",
       "      <td>1457</td>\n",
       "      <td>2</td>\n",
       "      <td>654</td>\n",
       "      <td>CREDIT CARDS, FRAUD USE ($950 &amp; UNDER</td>\n",
       "      <td>...</td>\n",
       "      <td>IC</td>\n",
       "      <td>Invest Cont</td>\n",
       "      <td>654.0</td>\n",
       "      <td>NaN</td>\n",
       "      <td>NaN</td>\n",
       "      <td>NaN</td>\n",
       "      <td>12000    ALLIN                        ST</td>\n",
       "      <td>NaN</td>\n",
       "      <td>33.9914</td>\n",
       "      <td>-118.4132</td>\n",
       "    </tr>\n",
       "    <tr>\n",
       "      <th>844661</th>\n",
       "      <td>230512190</td>\n",
       "      <td>08/11/2023 12:00:00 AM</td>\n",
       "      <td>2023-07-30</td>\n",
       "      <td>1200</td>\n",
       "      <td>5</td>\n",
       "      <td>Harbor</td>\n",
       "      <td>529</td>\n",
       "      <td>2</td>\n",
       "      <td>653</td>\n",
       "      <td>CREDIT CARDS, FRAUD USE ($950.01 &amp; OVER)</td>\n",
       "      <td>...</td>\n",
       "      <td>IC</td>\n",
       "      <td>Invest Cont</td>\n",
       "      <td>653.0</td>\n",
       "      <td>NaN</td>\n",
       "      <td>NaN</td>\n",
       "      <td>NaN</td>\n",
       "      <td>900 E  F                            ST</td>\n",
       "      <td>NaN</td>\n",
       "      <td>33.7776</td>\n",
       "      <td>-118.2520</td>\n",
       "    </tr>\n",
       "    <tr>\n",
       "      <th>850119</th>\n",
       "      <td>231906554</td>\n",
       "      <td>03/02/2023 12:00:00 AM</td>\n",
       "      <td>2023-03-01</td>\n",
       "      <td>1400</td>\n",
       "      <td>19</td>\n",
       "      <td>Mission</td>\n",
       "      <td>1964</td>\n",
       "      <td>2</td>\n",
       "      <td>654</td>\n",
       "      <td>CREDIT CARDS, FRAUD USE ($950 &amp; UNDER</td>\n",
       "      <td>...</td>\n",
       "      <td>AA</td>\n",
       "      <td>Adult Arrest</td>\n",
       "      <td>654.0</td>\n",
       "      <td>NaN</td>\n",
       "      <td>NaN</td>\n",
       "      <td>NaN</td>\n",
       "      <td>NORDHOFF                     ST</td>\n",
       "      <td>VAN NUYS                     BL</td>\n",
       "      <td>34.2354</td>\n",
       "      <td>-118.4502</td>\n",
       "    </tr>\n",
       "    <tr>\n",
       "      <th>850565</th>\n",
       "      <td>230509277</td>\n",
       "      <td>05/27/2023 12:00:00 AM</td>\n",
       "      <td>2023-05-26</td>\n",
       "      <td>600</td>\n",
       "      <td>5</td>\n",
       "      <td>Harbor</td>\n",
       "      <td>558</td>\n",
       "      <td>2</td>\n",
       "      <td>653</td>\n",
       "      <td>CREDIT CARDS, FRAUD USE ($950.01 &amp; OVER)</td>\n",
       "      <td>...</td>\n",
       "      <td>IC</td>\n",
       "      <td>Invest Cont</td>\n",
       "      <td>653.0</td>\n",
       "      <td>NaN</td>\n",
       "      <td>NaN</td>\n",
       "      <td>NaN</td>\n",
       "      <td>100    SWINFORD                     ST</td>\n",
       "      <td>NaN</td>\n",
       "      <td>33.7493</td>\n",
       "      <td>-118.2790</td>\n",
       "    </tr>\n",
       "    <tr>\n",
       "      <th>867577</th>\n",
       "      <td>230511865</td>\n",
       "      <td>08/03/2023 12:00:00 AM</td>\n",
       "      <td>2023-08-03</td>\n",
       "      <td>900</td>\n",
       "      <td>5</td>\n",
       "      <td>Harbor</td>\n",
       "      <td>529</td>\n",
       "      <td>2</td>\n",
       "      <td>653</td>\n",
       "      <td>CREDIT CARDS, FRAUD USE ($950.01 &amp; OVER)</td>\n",
       "      <td>...</td>\n",
       "      <td>IC</td>\n",
       "      <td>Invest Cont</td>\n",
       "      <td>653.0</td>\n",
       "      <td>NaN</td>\n",
       "      <td>NaN</td>\n",
       "      <td>NaN</td>\n",
       "      <td>900 E  F                            ST</td>\n",
       "      <td>NaN</td>\n",
       "      <td>33.7776</td>\n",
       "      <td>-118.2520</td>\n",
       "    </tr>\n",
       "  </tbody>\n",
       "</table>\n",
       "<p>34 rows × 28 columns</p>\n",
       "</div>"
      ],
      "text/plain": [
       "            DR_NO               Date Rptd   DATE OCC  TIME OCC  AREA  \\\n",
       "650026  231105570  02/10/2023 12:00:00 AM 2023-02-04      1200    11   \n",
       "650569  230119767  09/12/2023 12:00:00 AM 2023-05-04      1500     1   \n",
       "651562  230123160  11/01/2023 12:00:00 AM 2023-11-01      1930     1   \n",
       "657281  230312252  06/14/2023 12:00:00 AM 2023-06-05      1200     3   \n",
       "657874  231606898  04/02/2023 12:00:00 AM 2023-04-02       700    16   \n",
       "665962  231718181  11/24/2023 12:00:00 AM 2023-11-24      1420    17   \n",
       "669235  230415798  12/28/2023 12:00:00 AM 2023-10-03       800     4   \n",
       "688772  231310150  05/03/2023 12:00:00 AM 2023-05-03      1742    13   \n",
       "701152  231417300  09/15/2023 12:00:00 AM 2023-09-11       800    14   \n",
       "701222  231100885  10/29/2023 12:00:00 AM 2023-10-28      2100    11   \n",
       "701411  231308832  03/30/2023 12:00:00 AM 2023-03-29      1200    13   \n",
       "707850  231819069  11/08/2023 12:00:00 AM 2023-10-30         1    18   \n",
       "712429  231813699  07/20/2023 12:00:00 AM 2023-03-11      1400    18   \n",
       "727497  231912347  08/01/2023 12:00:00 AM 2023-08-01       800    19   \n",
       "743898  230121171  10/04/2023 12:00:00 AM 2023-08-18      1304     1   \n",
       "756573  231712947  07/17/2023 12:00:00 AM 2023-07-17      1250    17   \n",
       "759865  230704400  01/10/2023 12:00:00 AM 2023-01-10      1200     7   \n",
       "759940  240704767  01/17/2024 12:00:00 AM 2023-12-29      1230     7   \n",
       "775714  230110116  04/06/2023 12:00:00 AM 2023-04-02      1209     1   \n",
       "777976  230706264  02/19/2023 12:00:00 AM 2023-02-18      1919     7   \n",
       "788980  230511677  07/29/2023 12:00:00 AM 2023-07-28      1530     5   \n",
       "796145  231005150  01/30/2023 12:00:00 AM 2023-01-26      1000    10   \n",
       "803923  230514261  10/02/2023 12:00:00 AM 2023-10-02      2245     5   \n",
       "805161  230513184  09/03/2023 12:00:00 AM 2023-09-03         5     5   \n",
       "808200  230106683  02/09/2023 12:00:00 AM 2023-02-08      1730     1   \n",
       "809716  230107090  02/15/2023 12:00:00 AM 2023-02-06         1     1   \n",
       "816725  240105076  01/16/2024 12:00:00 AM 2023-12-03      1515     1   \n",
       "827622  231818043  10/17/2023 12:00:00 AM 2023-09-28      1200    18   \n",
       "836389  240104681  01/10/2024 12:00:00 AM 2023-11-18      1124     1   \n",
       "837066  231419429  10/27/2023 12:00:00 AM 2023-10-25      1700    14   \n",
       "844661  230512190  08/11/2023 12:00:00 AM 2023-07-30      1200     5   \n",
       "850119  231906554  03/02/2023 12:00:00 AM 2023-03-01      1400    19   \n",
       "850565  230509277  05/27/2023 12:00:00 AM 2023-05-26       600     5   \n",
       "867577  230511865  08/03/2023 12:00:00 AM 2023-08-03       900     5   \n",
       "\n",
       "          AREA NAME  Rpt Dist No  Part 1-2  Crm Cd  \\\n",
       "650026    Northeast         1102         2     653   \n",
       "650569      Central          153         2     653   \n",
       "651562      Central          162         2     654   \n",
       "657281    Southwest          391         2     654   \n",
       "657874     Foothill         1675         2     654   \n",
       "665962   Devonshire         1708         2     654   \n",
       "669235   Hollenbeck          497         2     653   \n",
       "688772       Newton         1333         2     654   \n",
       "701152      Pacific         1437         2     654   \n",
       "701222    Northeast         1136         2     653   \n",
       "701411       Newton         1342         2     653   \n",
       "707850    Southeast         1822         2     654   \n",
       "712429    Southeast         1844         2     653   \n",
       "727497      Mission         1941         2     653   \n",
       "743898      Central          152         2     653   \n",
       "756573   Devonshire         1795         2     654   \n",
       "759865     Wilshire          773         2     653   \n",
       "759940     Wilshire          719         2     654   \n",
       "775714      Central          156         2     654   \n",
       "777976     Wilshire          724         2     653   \n",
       "788980       Harbor          522         2     653   \n",
       "796145  West Valley         1088         2     654   \n",
       "803923       Harbor          503         2     654   \n",
       "805161       Harbor          514         2     654   \n",
       "808200      Central          111         2     653   \n",
       "809716      Central          119         2     654   \n",
       "816725      Central          181         2     654   \n",
       "827622    Southeast         1821         2     654   \n",
       "836389      Central          141         2     653   \n",
       "837066      Pacific         1457         2     654   \n",
       "844661       Harbor          529         2     653   \n",
       "850119      Mission         1964         2     654   \n",
       "850565       Harbor          558         2     653   \n",
       "867577       Harbor          529         2     653   \n",
       "\n",
       "                                     Crm Cd Desc  ... Status   Status Desc  \\\n",
       "650026  CREDIT CARDS, FRAUD USE ($950.01 & OVER)  ...     AO   Adult Other   \n",
       "650569  CREDIT CARDS, FRAUD USE ($950.01 & OVER)  ...     IC   Invest Cont   \n",
       "651562     CREDIT CARDS, FRAUD USE ($950 & UNDER  ...     IC   Invest Cont   \n",
       "657281     CREDIT CARDS, FRAUD USE ($950 & UNDER  ...     IC   Invest Cont   \n",
       "657874     CREDIT CARDS, FRAUD USE ($950 & UNDER  ...     IC   Invest Cont   \n",
       "665962     CREDIT CARDS, FRAUD USE ($950 & UNDER  ...     AA  Adult Arrest   \n",
       "669235  CREDIT CARDS, FRAUD USE ($950.01 & OVER)  ...     IC   Invest Cont   \n",
       "688772     CREDIT CARDS, FRAUD USE ($950 & UNDER  ...     AA  Adult Arrest   \n",
       "701152     CREDIT CARDS, FRAUD USE ($950 & UNDER  ...     IC   Invest Cont   \n",
       "701222  CREDIT CARDS, FRAUD USE ($950.01 & OVER)  ...     AO   Adult Other   \n",
       "701411  CREDIT CARDS, FRAUD USE ($950.01 & OVER)  ...     IC   Invest Cont   \n",
       "707850     CREDIT CARDS, FRAUD USE ($950 & UNDER  ...     IC   Invest Cont   \n",
       "712429  CREDIT CARDS, FRAUD USE ($950.01 & OVER)  ...     IC   Invest Cont   \n",
       "727497  CREDIT CARDS, FRAUD USE ($950.01 & OVER)  ...     AA  Adult Arrest   \n",
       "743898  CREDIT CARDS, FRAUD USE ($950.01 & OVER)  ...     IC   Invest Cont   \n",
       "756573     CREDIT CARDS, FRAUD USE ($950 & UNDER  ...     IC   Invest Cont   \n",
       "759865  CREDIT CARDS, FRAUD USE ($950.01 & OVER)  ...     IC   Invest Cont   \n",
       "759940     CREDIT CARDS, FRAUD USE ($950 & UNDER  ...     IC   Invest Cont   \n",
       "775714     CREDIT CARDS, FRAUD USE ($950 & UNDER  ...     IC   Invest Cont   \n",
       "777976  CREDIT CARDS, FRAUD USE ($950.01 & OVER)  ...     IC   Invest Cont   \n",
       "788980  CREDIT CARDS, FRAUD USE ($950.01 & OVER)  ...     IC   Invest Cont   \n",
       "796145     CREDIT CARDS, FRAUD USE ($950 & UNDER  ...     IC   Invest Cont   \n",
       "803923     CREDIT CARDS, FRAUD USE ($950 & UNDER  ...     IC   Invest Cont   \n",
       "805161     CREDIT CARDS, FRAUD USE ($950 & UNDER  ...     IC   Invest Cont   \n",
       "808200  CREDIT CARDS, FRAUD USE ($950.01 & OVER)  ...     IC   Invest Cont   \n",
       "809716     CREDIT CARDS, FRAUD USE ($950 & UNDER  ...     IC   Invest Cont   \n",
       "816725     CREDIT CARDS, FRAUD USE ($950 & UNDER  ...     IC   Invest Cont   \n",
       "827622     CREDIT CARDS, FRAUD USE ($950 & UNDER  ...     IC   Invest Cont   \n",
       "836389  CREDIT CARDS, FRAUD USE ($950.01 & OVER)  ...     IC   Invest Cont   \n",
       "837066     CREDIT CARDS, FRAUD USE ($950 & UNDER  ...     IC   Invest Cont   \n",
       "844661  CREDIT CARDS, FRAUD USE ($950.01 & OVER)  ...     IC   Invest Cont   \n",
       "850119     CREDIT CARDS, FRAUD USE ($950 & UNDER  ...     AA  Adult Arrest   \n",
       "850565  CREDIT CARDS, FRAUD USE ($950.01 & OVER)  ...     IC   Invest Cont   \n",
       "867577  CREDIT CARDS, FRAUD USE ($950.01 & OVER)  ...     IC   Invest Cont   \n",
       "\n",
       "       Crm Cd 1 Crm Cd 2  Crm Cd 3 Crm Cd 4  \\\n",
       "650026    653.0      NaN       NaN      NaN   \n",
       "650569    653.0      NaN       NaN      NaN   \n",
       "651562    654.0      NaN       NaN      NaN   \n",
       "657281    654.0      NaN       NaN      NaN   \n",
       "657874    654.0      NaN       NaN      NaN   \n",
       "665962    654.0      NaN       NaN      NaN   \n",
       "669235    653.0      NaN       NaN      NaN   \n",
       "688772    654.0      NaN       NaN      NaN   \n",
       "701152    654.0      NaN       NaN      NaN   \n",
       "701222    653.0    998.0       NaN      NaN   \n",
       "701411    653.0      NaN       NaN      NaN   \n",
       "707850    654.0      NaN       NaN      NaN   \n",
       "712429    653.0      NaN       NaN      NaN   \n",
       "727497    653.0    998.0       NaN      NaN   \n",
       "743898    653.0      NaN       NaN      NaN   \n",
       "756573    654.0      NaN       NaN      NaN   \n",
       "759865    653.0    998.0       NaN      NaN   \n",
       "759940    654.0      NaN       NaN      NaN   \n",
       "775714    654.0      NaN       NaN      NaN   \n",
       "777976    653.0      NaN       NaN      NaN   \n",
       "788980    653.0      NaN       NaN      NaN   \n",
       "796145    654.0      NaN       NaN      NaN   \n",
       "803923    654.0      NaN       NaN      NaN   \n",
       "805161    654.0      NaN       NaN      NaN   \n",
       "808200    653.0      NaN       NaN      NaN   \n",
       "809716    654.0      NaN       NaN      NaN   \n",
       "816725    654.0      NaN       NaN      NaN   \n",
       "827622    654.0      NaN       NaN      NaN   \n",
       "836389    653.0      NaN       NaN      NaN   \n",
       "837066    654.0      NaN       NaN      NaN   \n",
       "844661    653.0      NaN       NaN      NaN   \n",
       "850119    654.0      NaN       NaN      NaN   \n",
       "850565    653.0      NaN       NaN      NaN   \n",
       "867577    653.0      NaN       NaN      NaN   \n",
       "\n",
       "                                        LOCATION  \\\n",
       "650026   4500    BRAZIL                       ST   \n",
       "650569    600 S  HILL                         ST   \n",
       "651562    800 S  FLOWER                       ST   \n",
       "657281   4200    DON FELIPE                   DR   \n",
       "657874   9100    GLENOAKS                     BL   \n",
       "665962  11800    BALBOA                       BL   \n",
       "669235   2900 E  WASHINGTON                   BL   \n",
       "688772   3200 S  CENTRAL                      AV   \n",
       "701152   3700 S  BENTLEY                      AV   \n",
       "701222                                 AVENUE 41   \n",
       "701411   3800    WOODLAWN                     AV   \n",
       "707850    100 E  COLDEN                       AV   \n",
       "712429  11100    AVALON                       BL   \n",
       "727497                                     ORION   \n",
       "743898    500 W  6TH                          ST   \n",
       "756573  17800    MALDEN                       ST   \n",
       "759865   5200 W  WASHINGTON                   BL   \n",
       "759940    300 N  LARCHMONT                    BL   \n",
       "775714    500 S  SAN PEDRO                    ST   \n",
       "777976    100    THE GROVE                    DR   \n",
       "788980    800 W  G                            ST   \n",
       "796145  16300    VENTURA                      BL   \n",
       "803923   1000    HARBOR HEIGHTS               DR   \n",
       "805161   1000 N  WILMINGTON                   BL   \n",
       "808200                           800 N  BROADWAY   \n",
       "809716    900    AVILA                        ST   \n",
       "816725   1200 S  FIGUEROA                     ST   \n",
       "827622    700 W  CENTURY                      BL   \n",
       "836389    300 S  FIGUEROA                     ST   \n",
       "837066  12000    ALLIN                        ST   \n",
       "844661    900 E  F                            ST   \n",
       "850119           NORDHOFF                     ST   \n",
       "850565    100    SWINFORD                     ST   \n",
       "867577    900 E  F                            ST   \n",
       "\n",
       "                           Cross Street      LAT       LON  \n",
       "650026                              NaN  34.1468 -118.2723  \n",
       "650569                              NaN  34.0473 -118.2531  \n",
       "651562                              NaN  34.0473 -118.2601  \n",
       "657281                              NaN  34.0071 -118.3477  \n",
       "657874                              NaN  34.2345 -118.3713  \n",
       "665962                              NaN  34.2841 -118.5021  \n",
       "669235                              NaN  34.0167 -118.2176  \n",
       "688772                              NaN  34.0174 -118.2621  \n",
       "701152                              NaN  34.0156 -118.4173  \n",
       "701222  EAGLE ROCK                   BL  34.1209 -118.2271  \n",
       "701411                              NaN  34.0131 -118.2728  \n",
       "707850                              NaN  33.9492 -118.2739  \n",
       "712429                              NaN  33.9348 -118.2652  \n",
       "727497                       CHATSWORTH  34.2685 -118.4694  \n",
       "743898                              NaN  34.0480 -118.2542  \n",
       "756573                              NaN  34.2246 -118.5213  \n",
       "759865                              NaN  34.0417 -118.3588  \n",
       "759940                              NaN  34.0762 -118.3236  \n",
       "775714                              NaN  34.0437 -118.2455  \n",
       "777976                              NaN  34.0736 -118.3563  \n",
       "788980                              NaN  33.7780 -118.2715  \n",
       "796145                              NaN  34.1570 -118.4880  \n",
       "803923                              NaN  33.7932 -118.2930  \n",
       "805161                              NaN  33.7897 -118.2787  \n",
       "808200                              NaN  34.0624 -118.2383  \n",
       "809716                              NaN  34.0570 -118.2329  \n",
       "816725                              NaN  34.0431 -118.2692  \n",
       "827622                              NaN  33.9455 -118.2870  \n",
       "836389                              NaN  34.0542 -118.2566  \n",
       "837066                              NaN  33.9914 -118.4132  \n",
       "844661                              NaN  33.7776 -118.2520  \n",
       "850119  VAN NUYS                     BL  34.2354 -118.4502  \n",
       "850565                              NaN  33.7493 -118.2790  \n",
       "867577                              NaN  33.7776 -118.2520  \n",
       "\n",
       "[34 rows x 28 columns]"
      ]
     },
     "execution_count": 30,
     "metadata": {},
     "output_type": "execute_result"
    }
   ],
   "source": [
    "crimes_2023[crimes_2023['Crm Cd Desc'].str.contains('CREDIT CARDS')]"
   ]
  },
  {
   "cell_type": "markdown",
   "metadata": {},
   "source": [
    "Here, we can see that throughout 2023, Los Angeles had 34 reported incidents of Credit Card Fraud. "
   ]
  },
  {
   "cell_type": "code",
   "execution_count": 31,
   "metadata": {},
   "outputs": [
    {
     "data": {
      "text/html": [
       "<div>\n",
       "<style scoped>\n",
       "    .dataframe tbody tr th:only-of-type {\n",
       "        vertical-align: middle;\n",
       "    }\n",
       "\n",
       "    .dataframe tbody tr th {\n",
       "        vertical-align: top;\n",
       "    }\n",
       "\n",
       "    .dataframe thead th {\n",
       "        text-align: right;\n",
       "    }\n",
       "</style>\n",
       "<table border=\"1\" class=\"dataframe\">\n",
       "  <thead>\n",
       "    <tr style=\"text-align: right;\">\n",
       "      <th></th>\n",
       "      <th>DR_NO</th>\n",
       "      <th>Date Rptd</th>\n",
       "      <th>DATE OCC</th>\n",
       "      <th>TIME OCC</th>\n",
       "      <th>AREA</th>\n",
       "      <th>AREA NAME</th>\n",
       "      <th>Rpt Dist No</th>\n",
       "      <th>Part 1-2</th>\n",
       "      <th>Crm Cd</th>\n",
       "      <th>Crm Cd Desc</th>\n",
       "      <th>...</th>\n",
       "      <th>Status</th>\n",
       "      <th>Status Desc</th>\n",
       "      <th>Crm Cd 1</th>\n",
       "      <th>Crm Cd 2</th>\n",
       "      <th>Crm Cd 3</th>\n",
       "      <th>Crm Cd 4</th>\n",
       "      <th>LOCATION</th>\n",
       "      <th>Cross Street</th>\n",
       "      <th>LAT</th>\n",
       "      <th>LON</th>\n",
       "    </tr>\n",
       "  </thead>\n",
       "  <tbody>\n",
       "    <tr>\n",
       "      <th>650026</th>\n",
       "      <td>231105570</td>\n",
       "      <td>02/10/2023 12:00:00 AM</td>\n",
       "      <td>2023-02-04</td>\n",
       "      <td>1200</td>\n",
       "      <td>11</td>\n",
       "      <td>Northeast</td>\n",
       "      <td>1102</td>\n",
       "      <td>2</td>\n",
       "      <td>653</td>\n",
       "      <td>CREDIT CARDS, FRAUD USE ($950.01 &amp; OVER)</td>\n",
       "      <td>...</td>\n",
       "      <td>AO</td>\n",
       "      <td>Adult Other</td>\n",
       "      <td>653.0</td>\n",
       "      <td>NaN</td>\n",
       "      <td>NaN</td>\n",
       "      <td>NaN</td>\n",
       "      <td>4500    BRAZIL                       ST</td>\n",
       "      <td>NaN</td>\n",
       "      <td>34.1468</td>\n",
       "      <td>-118.2723</td>\n",
       "    </tr>\n",
       "    <tr>\n",
       "      <th>650569</th>\n",
       "      <td>230119767</td>\n",
       "      <td>09/12/2023 12:00:00 AM</td>\n",
       "      <td>2023-05-04</td>\n",
       "      <td>1500</td>\n",
       "      <td>1</td>\n",
       "      <td>Central</td>\n",
       "      <td>153</td>\n",
       "      <td>2</td>\n",
       "      <td>653</td>\n",
       "      <td>CREDIT CARDS, FRAUD USE ($950.01 &amp; OVER)</td>\n",
       "      <td>...</td>\n",
       "      <td>IC</td>\n",
       "      <td>Invest Cont</td>\n",
       "      <td>653.0</td>\n",
       "      <td>NaN</td>\n",
       "      <td>NaN</td>\n",
       "      <td>NaN</td>\n",
       "      <td>600 S  HILL                         ST</td>\n",
       "      <td>NaN</td>\n",
       "      <td>34.0473</td>\n",
       "      <td>-118.2531</td>\n",
       "    </tr>\n",
       "    <tr>\n",
       "      <th>669235</th>\n",
       "      <td>230415798</td>\n",
       "      <td>12/28/2023 12:00:00 AM</td>\n",
       "      <td>2023-10-03</td>\n",
       "      <td>800</td>\n",
       "      <td>4</td>\n",
       "      <td>Hollenbeck</td>\n",
       "      <td>497</td>\n",
       "      <td>2</td>\n",
       "      <td>653</td>\n",
       "      <td>CREDIT CARDS, FRAUD USE ($950.01 &amp; OVER)</td>\n",
       "      <td>...</td>\n",
       "      <td>IC</td>\n",
       "      <td>Invest Cont</td>\n",
       "      <td>653.0</td>\n",
       "      <td>NaN</td>\n",
       "      <td>NaN</td>\n",
       "      <td>NaN</td>\n",
       "      <td>2900 E  WASHINGTON                   BL</td>\n",
       "      <td>NaN</td>\n",
       "      <td>34.0167</td>\n",
       "      <td>-118.2176</td>\n",
       "    </tr>\n",
       "    <tr>\n",
       "      <th>701222</th>\n",
       "      <td>231100885</td>\n",
       "      <td>10/29/2023 12:00:00 AM</td>\n",
       "      <td>2023-10-28</td>\n",
       "      <td>2100</td>\n",
       "      <td>11</td>\n",
       "      <td>Northeast</td>\n",
       "      <td>1136</td>\n",
       "      <td>2</td>\n",
       "      <td>653</td>\n",
       "      <td>CREDIT CARDS, FRAUD USE ($950.01 &amp; OVER)</td>\n",
       "      <td>...</td>\n",
       "      <td>AO</td>\n",
       "      <td>Adult Other</td>\n",
       "      <td>653.0</td>\n",
       "      <td>998.0</td>\n",
       "      <td>NaN</td>\n",
       "      <td>NaN</td>\n",
       "      <td>AVENUE 41</td>\n",
       "      <td>EAGLE ROCK                   BL</td>\n",
       "      <td>34.1209</td>\n",
       "      <td>-118.2271</td>\n",
       "    </tr>\n",
       "    <tr>\n",
       "      <th>701411</th>\n",
       "      <td>231308832</td>\n",
       "      <td>03/30/2023 12:00:00 AM</td>\n",
       "      <td>2023-03-29</td>\n",
       "      <td>1200</td>\n",
       "      <td>13</td>\n",
       "      <td>Newton</td>\n",
       "      <td>1342</td>\n",
       "      <td>2</td>\n",
       "      <td>653</td>\n",
       "      <td>CREDIT CARDS, FRAUD USE ($950.01 &amp; OVER)</td>\n",
       "      <td>...</td>\n",
       "      <td>IC</td>\n",
       "      <td>Invest Cont</td>\n",
       "      <td>653.0</td>\n",
       "      <td>NaN</td>\n",
       "      <td>NaN</td>\n",
       "      <td>NaN</td>\n",
       "      <td>3800    WOODLAWN                     AV</td>\n",
       "      <td>NaN</td>\n",
       "      <td>34.0131</td>\n",
       "      <td>-118.2728</td>\n",
       "    </tr>\n",
       "    <tr>\n",
       "      <th>712429</th>\n",
       "      <td>231813699</td>\n",
       "      <td>07/20/2023 12:00:00 AM</td>\n",
       "      <td>2023-03-11</td>\n",
       "      <td>1400</td>\n",
       "      <td>18</td>\n",
       "      <td>Southeast</td>\n",
       "      <td>1844</td>\n",
       "      <td>2</td>\n",
       "      <td>653</td>\n",
       "      <td>CREDIT CARDS, FRAUD USE ($950.01 &amp; OVER)</td>\n",
       "      <td>...</td>\n",
       "      <td>IC</td>\n",
       "      <td>Invest Cont</td>\n",
       "      <td>653.0</td>\n",
       "      <td>NaN</td>\n",
       "      <td>NaN</td>\n",
       "      <td>NaN</td>\n",
       "      <td>11100    AVALON                       BL</td>\n",
       "      <td>NaN</td>\n",
       "      <td>33.9348</td>\n",
       "      <td>-118.2652</td>\n",
       "    </tr>\n",
       "    <tr>\n",
       "      <th>727497</th>\n",
       "      <td>231912347</td>\n",
       "      <td>08/01/2023 12:00:00 AM</td>\n",
       "      <td>2023-08-01</td>\n",
       "      <td>800</td>\n",
       "      <td>19</td>\n",
       "      <td>Mission</td>\n",
       "      <td>1941</td>\n",
       "      <td>2</td>\n",
       "      <td>653</td>\n",
       "      <td>CREDIT CARDS, FRAUD USE ($950.01 &amp; OVER)</td>\n",
       "      <td>...</td>\n",
       "      <td>AA</td>\n",
       "      <td>Adult Arrest</td>\n",
       "      <td>653.0</td>\n",
       "      <td>998.0</td>\n",
       "      <td>NaN</td>\n",
       "      <td>NaN</td>\n",
       "      <td>ORION</td>\n",
       "      <td>CHATSWORTH</td>\n",
       "      <td>34.2685</td>\n",
       "      <td>-118.4694</td>\n",
       "    </tr>\n",
       "    <tr>\n",
       "      <th>743898</th>\n",
       "      <td>230121171</td>\n",
       "      <td>10/04/2023 12:00:00 AM</td>\n",
       "      <td>2023-08-18</td>\n",
       "      <td>1304</td>\n",
       "      <td>1</td>\n",
       "      <td>Central</td>\n",
       "      <td>152</td>\n",
       "      <td>2</td>\n",
       "      <td>653</td>\n",
       "      <td>CREDIT CARDS, FRAUD USE ($950.01 &amp; OVER)</td>\n",
       "      <td>...</td>\n",
       "      <td>IC</td>\n",
       "      <td>Invest Cont</td>\n",
       "      <td>653.0</td>\n",
       "      <td>NaN</td>\n",
       "      <td>NaN</td>\n",
       "      <td>NaN</td>\n",
       "      <td>500 W  6TH                          ST</td>\n",
       "      <td>NaN</td>\n",
       "      <td>34.0480</td>\n",
       "      <td>-118.2542</td>\n",
       "    </tr>\n",
       "    <tr>\n",
       "      <th>759865</th>\n",
       "      <td>230704400</td>\n",
       "      <td>01/10/2023 12:00:00 AM</td>\n",
       "      <td>2023-01-10</td>\n",
       "      <td>1200</td>\n",
       "      <td>7</td>\n",
       "      <td>Wilshire</td>\n",
       "      <td>773</td>\n",
       "      <td>2</td>\n",
       "      <td>653</td>\n",
       "      <td>CREDIT CARDS, FRAUD USE ($950.01 &amp; OVER)</td>\n",
       "      <td>...</td>\n",
       "      <td>IC</td>\n",
       "      <td>Invest Cont</td>\n",
       "      <td>653.0</td>\n",
       "      <td>998.0</td>\n",
       "      <td>NaN</td>\n",
       "      <td>NaN</td>\n",
       "      <td>5200 W  WASHINGTON                   BL</td>\n",
       "      <td>NaN</td>\n",
       "      <td>34.0417</td>\n",
       "      <td>-118.3588</td>\n",
       "    </tr>\n",
       "    <tr>\n",
       "      <th>777976</th>\n",
       "      <td>230706264</td>\n",
       "      <td>02/19/2023 12:00:00 AM</td>\n",
       "      <td>2023-02-18</td>\n",
       "      <td>1919</td>\n",
       "      <td>7</td>\n",
       "      <td>Wilshire</td>\n",
       "      <td>724</td>\n",
       "      <td>2</td>\n",
       "      <td>653</td>\n",
       "      <td>CREDIT CARDS, FRAUD USE ($950.01 &amp; OVER)</td>\n",
       "      <td>...</td>\n",
       "      <td>IC</td>\n",
       "      <td>Invest Cont</td>\n",
       "      <td>653.0</td>\n",
       "      <td>NaN</td>\n",
       "      <td>NaN</td>\n",
       "      <td>NaN</td>\n",
       "      <td>100    THE GROVE                    DR</td>\n",
       "      <td>NaN</td>\n",
       "      <td>34.0736</td>\n",
       "      <td>-118.3563</td>\n",
       "    </tr>\n",
       "    <tr>\n",
       "      <th>788980</th>\n",
       "      <td>230511677</td>\n",
       "      <td>07/29/2023 12:00:00 AM</td>\n",
       "      <td>2023-07-28</td>\n",
       "      <td>1530</td>\n",
       "      <td>5</td>\n",
       "      <td>Harbor</td>\n",
       "      <td>522</td>\n",
       "      <td>2</td>\n",
       "      <td>653</td>\n",
       "      <td>CREDIT CARDS, FRAUD USE ($950.01 &amp; OVER)</td>\n",
       "      <td>...</td>\n",
       "      <td>IC</td>\n",
       "      <td>Invest Cont</td>\n",
       "      <td>653.0</td>\n",
       "      <td>NaN</td>\n",
       "      <td>NaN</td>\n",
       "      <td>NaN</td>\n",
       "      <td>800 W  G                            ST</td>\n",
       "      <td>NaN</td>\n",
       "      <td>33.7780</td>\n",
       "      <td>-118.2715</td>\n",
       "    </tr>\n",
       "    <tr>\n",
       "      <th>808200</th>\n",
       "      <td>230106683</td>\n",
       "      <td>02/09/2023 12:00:00 AM</td>\n",
       "      <td>2023-02-08</td>\n",
       "      <td>1730</td>\n",
       "      <td>1</td>\n",
       "      <td>Central</td>\n",
       "      <td>111</td>\n",
       "      <td>2</td>\n",
       "      <td>653</td>\n",
       "      <td>CREDIT CARDS, FRAUD USE ($950.01 &amp; OVER)</td>\n",
       "      <td>...</td>\n",
       "      <td>IC</td>\n",
       "      <td>Invest Cont</td>\n",
       "      <td>653.0</td>\n",
       "      <td>NaN</td>\n",
       "      <td>NaN</td>\n",
       "      <td>NaN</td>\n",
       "      <td>800 N  BROADWAY</td>\n",
       "      <td>NaN</td>\n",
       "      <td>34.0624</td>\n",
       "      <td>-118.2383</td>\n",
       "    </tr>\n",
       "    <tr>\n",
       "      <th>836389</th>\n",
       "      <td>240104681</td>\n",
       "      <td>01/10/2024 12:00:00 AM</td>\n",
       "      <td>2023-11-18</td>\n",
       "      <td>1124</td>\n",
       "      <td>1</td>\n",
       "      <td>Central</td>\n",
       "      <td>141</td>\n",
       "      <td>2</td>\n",
       "      <td>653</td>\n",
       "      <td>CREDIT CARDS, FRAUD USE ($950.01 &amp; OVER)</td>\n",
       "      <td>...</td>\n",
       "      <td>IC</td>\n",
       "      <td>Invest Cont</td>\n",
       "      <td>653.0</td>\n",
       "      <td>NaN</td>\n",
       "      <td>NaN</td>\n",
       "      <td>NaN</td>\n",
       "      <td>300 S  FIGUEROA                     ST</td>\n",
       "      <td>NaN</td>\n",
       "      <td>34.0542</td>\n",
       "      <td>-118.2566</td>\n",
       "    </tr>\n",
       "    <tr>\n",
       "      <th>844661</th>\n",
       "      <td>230512190</td>\n",
       "      <td>08/11/2023 12:00:00 AM</td>\n",
       "      <td>2023-07-30</td>\n",
       "      <td>1200</td>\n",
       "      <td>5</td>\n",
       "      <td>Harbor</td>\n",
       "      <td>529</td>\n",
       "      <td>2</td>\n",
       "      <td>653</td>\n",
       "      <td>CREDIT CARDS, FRAUD USE ($950.01 &amp; OVER)</td>\n",
       "      <td>...</td>\n",
       "      <td>IC</td>\n",
       "      <td>Invest Cont</td>\n",
       "      <td>653.0</td>\n",
       "      <td>NaN</td>\n",
       "      <td>NaN</td>\n",
       "      <td>NaN</td>\n",
       "      <td>900 E  F                            ST</td>\n",
       "      <td>NaN</td>\n",
       "      <td>33.7776</td>\n",
       "      <td>-118.2520</td>\n",
       "    </tr>\n",
       "    <tr>\n",
       "      <th>850565</th>\n",
       "      <td>230509277</td>\n",
       "      <td>05/27/2023 12:00:00 AM</td>\n",
       "      <td>2023-05-26</td>\n",
       "      <td>600</td>\n",
       "      <td>5</td>\n",
       "      <td>Harbor</td>\n",
       "      <td>558</td>\n",
       "      <td>2</td>\n",
       "      <td>653</td>\n",
       "      <td>CREDIT CARDS, FRAUD USE ($950.01 &amp; OVER)</td>\n",
       "      <td>...</td>\n",
       "      <td>IC</td>\n",
       "      <td>Invest Cont</td>\n",
       "      <td>653.0</td>\n",
       "      <td>NaN</td>\n",
       "      <td>NaN</td>\n",
       "      <td>NaN</td>\n",
       "      <td>100    SWINFORD                     ST</td>\n",
       "      <td>NaN</td>\n",
       "      <td>33.7493</td>\n",
       "      <td>-118.2790</td>\n",
       "    </tr>\n",
       "    <tr>\n",
       "      <th>867577</th>\n",
       "      <td>230511865</td>\n",
       "      <td>08/03/2023 12:00:00 AM</td>\n",
       "      <td>2023-08-03</td>\n",
       "      <td>900</td>\n",
       "      <td>5</td>\n",
       "      <td>Harbor</td>\n",
       "      <td>529</td>\n",
       "      <td>2</td>\n",
       "      <td>653</td>\n",
       "      <td>CREDIT CARDS, FRAUD USE ($950.01 &amp; OVER)</td>\n",
       "      <td>...</td>\n",
       "      <td>IC</td>\n",
       "      <td>Invest Cont</td>\n",
       "      <td>653.0</td>\n",
       "      <td>NaN</td>\n",
       "      <td>NaN</td>\n",
       "      <td>NaN</td>\n",
       "      <td>900 E  F                            ST</td>\n",
       "      <td>NaN</td>\n",
       "      <td>33.7776</td>\n",
       "      <td>-118.2520</td>\n",
       "    </tr>\n",
       "  </tbody>\n",
       "</table>\n",
       "<p>16 rows × 28 columns</p>\n",
       "</div>"
      ],
      "text/plain": [
       "            DR_NO               Date Rptd   DATE OCC  TIME OCC  AREA  \\\n",
       "650026  231105570  02/10/2023 12:00:00 AM 2023-02-04      1200    11   \n",
       "650569  230119767  09/12/2023 12:00:00 AM 2023-05-04      1500     1   \n",
       "669235  230415798  12/28/2023 12:00:00 AM 2023-10-03       800     4   \n",
       "701222  231100885  10/29/2023 12:00:00 AM 2023-10-28      2100    11   \n",
       "701411  231308832  03/30/2023 12:00:00 AM 2023-03-29      1200    13   \n",
       "712429  231813699  07/20/2023 12:00:00 AM 2023-03-11      1400    18   \n",
       "727497  231912347  08/01/2023 12:00:00 AM 2023-08-01       800    19   \n",
       "743898  230121171  10/04/2023 12:00:00 AM 2023-08-18      1304     1   \n",
       "759865  230704400  01/10/2023 12:00:00 AM 2023-01-10      1200     7   \n",
       "777976  230706264  02/19/2023 12:00:00 AM 2023-02-18      1919     7   \n",
       "788980  230511677  07/29/2023 12:00:00 AM 2023-07-28      1530     5   \n",
       "808200  230106683  02/09/2023 12:00:00 AM 2023-02-08      1730     1   \n",
       "836389  240104681  01/10/2024 12:00:00 AM 2023-11-18      1124     1   \n",
       "844661  230512190  08/11/2023 12:00:00 AM 2023-07-30      1200     5   \n",
       "850565  230509277  05/27/2023 12:00:00 AM 2023-05-26       600     5   \n",
       "867577  230511865  08/03/2023 12:00:00 AM 2023-08-03       900     5   \n",
       "\n",
       "         AREA NAME  Rpt Dist No  Part 1-2  Crm Cd  \\\n",
       "650026   Northeast         1102         2     653   \n",
       "650569     Central          153         2     653   \n",
       "669235  Hollenbeck          497         2     653   \n",
       "701222   Northeast         1136         2     653   \n",
       "701411      Newton         1342         2     653   \n",
       "712429   Southeast         1844         2     653   \n",
       "727497     Mission         1941         2     653   \n",
       "743898     Central          152         2     653   \n",
       "759865    Wilshire          773         2     653   \n",
       "777976    Wilshire          724         2     653   \n",
       "788980      Harbor          522         2     653   \n",
       "808200     Central          111         2     653   \n",
       "836389     Central          141         2     653   \n",
       "844661      Harbor          529         2     653   \n",
       "850565      Harbor          558         2     653   \n",
       "867577      Harbor          529         2     653   \n",
       "\n",
       "                                     Crm Cd Desc  ... Status   Status Desc  \\\n",
       "650026  CREDIT CARDS, FRAUD USE ($950.01 & OVER)  ...     AO   Adult Other   \n",
       "650569  CREDIT CARDS, FRAUD USE ($950.01 & OVER)  ...     IC   Invest Cont   \n",
       "669235  CREDIT CARDS, FRAUD USE ($950.01 & OVER)  ...     IC   Invest Cont   \n",
       "701222  CREDIT CARDS, FRAUD USE ($950.01 & OVER)  ...     AO   Adult Other   \n",
       "701411  CREDIT CARDS, FRAUD USE ($950.01 & OVER)  ...     IC   Invest Cont   \n",
       "712429  CREDIT CARDS, FRAUD USE ($950.01 & OVER)  ...     IC   Invest Cont   \n",
       "727497  CREDIT CARDS, FRAUD USE ($950.01 & OVER)  ...     AA  Adult Arrest   \n",
       "743898  CREDIT CARDS, FRAUD USE ($950.01 & OVER)  ...     IC   Invest Cont   \n",
       "759865  CREDIT CARDS, FRAUD USE ($950.01 & OVER)  ...     IC   Invest Cont   \n",
       "777976  CREDIT CARDS, FRAUD USE ($950.01 & OVER)  ...     IC   Invest Cont   \n",
       "788980  CREDIT CARDS, FRAUD USE ($950.01 & OVER)  ...     IC   Invest Cont   \n",
       "808200  CREDIT CARDS, FRAUD USE ($950.01 & OVER)  ...     IC   Invest Cont   \n",
       "836389  CREDIT CARDS, FRAUD USE ($950.01 & OVER)  ...     IC   Invest Cont   \n",
       "844661  CREDIT CARDS, FRAUD USE ($950.01 & OVER)  ...     IC   Invest Cont   \n",
       "850565  CREDIT CARDS, FRAUD USE ($950.01 & OVER)  ...     IC   Invest Cont   \n",
       "867577  CREDIT CARDS, FRAUD USE ($950.01 & OVER)  ...     IC   Invest Cont   \n",
       "\n",
       "       Crm Cd 1 Crm Cd 2  Crm Cd 3 Crm Cd 4  \\\n",
       "650026    653.0      NaN       NaN      NaN   \n",
       "650569    653.0      NaN       NaN      NaN   \n",
       "669235    653.0      NaN       NaN      NaN   \n",
       "701222    653.0    998.0       NaN      NaN   \n",
       "701411    653.0      NaN       NaN      NaN   \n",
       "712429    653.0      NaN       NaN      NaN   \n",
       "727497    653.0    998.0       NaN      NaN   \n",
       "743898    653.0      NaN       NaN      NaN   \n",
       "759865    653.0    998.0       NaN      NaN   \n",
       "777976    653.0      NaN       NaN      NaN   \n",
       "788980    653.0      NaN       NaN      NaN   \n",
       "808200    653.0      NaN       NaN      NaN   \n",
       "836389    653.0      NaN       NaN      NaN   \n",
       "844661    653.0      NaN       NaN      NaN   \n",
       "850565    653.0      NaN       NaN      NaN   \n",
       "867577    653.0      NaN       NaN      NaN   \n",
       "\n",
       "                                        LOCATION  \\\n",
       "650026   4500    BRAZIL                       ST   \n",
       "650569    600 S  HILL                         ST   \n",
       "669235   2900 E  WASHINGTON                   BL   \n",
       "701222                                 AVENUE 41   \n",
       "701411   3800    WOODLAWN                     AV   \n",
       "712429  11100    AVALON                       BL   \n",
       "727497                                     ORION   \n",
       "743898    500 W  6TH                          ST   \n",
       "759865   5200 W  WASHINGTON                   BL   \n",
       "777976    100    THE GROVE                    DR   \n",
       "788980    800 W  G                            ST   \n",
       "808200                           800 N  BROADWAY   \n",
       "836389    300 S  FIGUEROA                     ST   \n",
       "844661    900 E  F                            ST   \n",
       "850565    100    SWINFORD                     ST   \n",
       "867577    900 E  F                            ST   \n",
       "\n",
       "                           Cross Street      LAT       LON  \n",
       "650026                              NaN  34.1468 -118.2723  \n",
       "650569                              NaN  34.0473 -118.2531  \n",
       "669235                              NaN  34.0167 -118.2176  \n",
       "701222  EAGLE ROCK                   BL  34.1209 -118.2271  \n",
       "701411                              NaN  34.0131 -118.2728  \n",
       "712429                              NaN  33.9348 -118.2652  \n",
       "727497                       CHATSWORTH  34.2685 -118.4694  \n",
       "743898                              NaN  34.0480 -118.2542  \n",
       "759865                              NaN  34.0417 -118.3588  \n",
       "777976                              NaN  34.0736 -118.3563  \n",
       "788980                              NaN  33.7780 -118.2715  \n",
       "808200                              NaN  34.0624 -118.2383  \n",
       "836389                              NaN  34.0542 -118.2566  \n",
       "844661                              NaN  33.7776 -118.2520  \n",
       "850565                              NaN  33.7493 -118.2790  \n",
       "867577                              NaN  33.7776 -118.2520  \n",
       "\n",
       "[16 rows x 28 columns]"
      ]
     },
     "execution_count": 31,
     "metadata": {},
     "output_type": "execute_result"
    }
   ],
   "source": [
    "crimes_2023[crimes_2023['Crm Cd Desc'].str.contains('CREDIT CARDS, FRAUD USE ($950.01 & OVER)', regex = False)]"
   ]
  },
  {
   "cell_type": "markdown",
   "metadata": {},
   "source": [
    "16 of the 34 fraud incidents totaled $950.01 and over. \n",
    "18 of them were under $950."
   ]
  },
  {
   "cell_type": "code",
   "execution_count": 32,
   "metadata": {},
   "outputs": [
    {
     "data": {
      "text/html": [
       "<div>\n",
       "<style scoped>\n",
       "    .dataframe tbody tr th:only-of-type {\n",
       "        vertical-align: middle;\n",
       "    }\n",
       "\n",
       "    .dataframe tbody tr th {\n",
       "        vertical-align: top;\n",
       "    }\n",
       "\n",
       "    .dataframe thead th {\n",
       "        text-align: right;\n",
       "    }\n",
       "</style>\n",
       "<table border=\"1\" class=\"dataframe\">\n",
       "  <thead>\n",
       "    <tr style=\"text-align: right;\">\n",
       "      <th></th>\n",
       "      <th>DR_NO</th>\n",
       "      <th>Date Rptd</th>\n",
       "      <th>DATE OCC</th>\n",
       "      <th>TIME OCC</th>\n",
       "      <th>AREA</th>\n",
       "      <th>AREA NAME</th>\n",
       "      <th>Rpt Dist No</th>\n",
       "      <th>Part 1-2</th>\n",
       "      <th>Crm Cd</th>\n",
       "      <th>Crm Cd Desc</th>\n",
       "      <th>...</th>\n",
       "      <th>Status</th>\n",
       "      <th>Status Desc</th>\n",
       "      <th>Crm Cd 1</th>\n",
       "      <th>Crm Cd 2</th>\n",
       "      <th>Crm Cd 3</th>\n",
       "      <th>Crm Cd 4</th>\n",
       "      <th>LOCATION</th>\n",
       "      <th>Cross Street</th>\n",
       "      <th>LAT</th>\n",
       "      <th>LON</th>\n",
       "    </tr>\n",
       "  </thead>\n",
       "  <tbody>\n",
       "    <tr>\n",
       "      <th>0</th>\n",
       "      <td>190326475</td>\n",
       "      <td>03/01/2020 12:00:00 AM</td>\n",
       "      <td>2020-03-01</td>\n",
       "      <td>2130</td>\n",
       "      <td>7</td>\n",
       "      <td>Wilshire</td>\n",
       "      <td>784</td>\n",
       "      <td>1</td>\n",
       "      <td>510</td>\n",
       "      <td>VEHICLE - STOLEN</td>\n",
       "      <td>...</td>\n",
       "      <td>AA</td>\n",
       "      <td>Adult Arrest</td>\n",
       "      <td>510.0</td>\n",
       "      <td>998.0</td>\n",
       "      <td>NaN</td>\n",
       "      <td>NaN</td>\n",
       "      <td>1900 S  LONGWOOD                     AV</td>\n",
       "      <td>NaN</td>\n",
       "      <td>34.0375</td>\n",
       "      <td>-118.3506</td>\n",
       "    </tr>\n",
       "    <tr>\n",
       "      <th>1</th>\n",
       "      <td>200106753</td>\n",
       "      <td>02/09/2020 12:00:00 AM</td>\n",
       "      <td>2020-02-08</td>\n",
       "      <td>1800</td>\n",
       "      <td>1</td>\n",
       "      <td>Central</td>\n",
       "      <td>182</td>\n",
       "      <td>1</td>\n",
       "      <td>330</td>\n",
       "      <td>BURGLARY FROM VEHICLE</td>\n",
       "      <td>...</td>\n",
       "      <td>IC</td>\n",
       "      <td>Invest Cont</td>\n",
       "      <td>330.0</td>\n",
       "      <td>998.0</td>\n",
       "      <td>NaN</td>\n",
       "      <td>NaN</td>\n",
       "      <td>1000 S  FLOWER                       ST</td>\n",
       "      <td>NaN</td>\n",
       "      <td>34.0444</td>\n",
       "      <td>-118.2628</td>\n",
       "    </tr>\n",
       "    <tr>\n",
       "      <th>2</th>\n",
       "      <td>200320258</td>\n",
       "      <td>11/11/2020 12:00:00 AM</td>\n",
       "      <td>2020-11-04</td>\n",
       "      <td>1700</td>\n",
       "      <td>3</td>\n",
       "      <td>Southwest</td>\n",
       "      <td>356</td>\n",
       "      <td>1</td>\n",
       "      <td>480</td>\n",
       "      <td>BIKE - STOLEN</td>\n",
       "      <td>...</td>\n",
       "      <td>IC</td>\n",
       "      <td>Invest Cont</td>\n",
       "      <td>480.0</td>\n",
       "      <td>NaN</td>\n",
       "      <td>NaN</td>\n",
       "      <td>NaN</td>\n",
       "      <td>1400 W  37TH                         ST</td>\n",
       "      <td>NaN</td>\n",
       "      <td>34.0210</td>\n",
       "      <td>-118.3002</td>\n",
       "    </tr>\n",
       "    <tr>\n",
       "      <th>3</th>\n",
       "      <td>200907217</td>\n",
       "      <td>05/10/2023 12:00:00 AM</td>\n",
       "      <td>2020-03-10</td>\n",
       "      <td>2037</td>\n",
       "      <td>9</td>\n",
       "      <td>Van Nuys</td>\n",
       "      <td>964</td>\n",
       "      <td>1</td>\n",
       "      <td>343</td>\n",
       "      <td>SHOPLIFTING-GRAND THEFT ($950.01 &amp; OVER)</td>\n",
       "      <td>...</td>\n",
       "      <td>IC</td>\n",
       "      <td>Invest Cont</td>\n",
       "      <td>343.0</td>\n",
       "      <td>NaN</td>\n",
       "      <td>NaN</td>\n",
       "      <td>NaN</td>\n",
       "      <td>14000    RIVERSIDE                    DR</td>\n",
       "      <td>NaN</td>\n",
       "      <td>34.1576</td>\n",
       "      <td>-118.4387</td>\n",
       "    </tr>\n",
       "    <tr>\n",
       "      <th>4</th>\n",
       "      <td>220614831</td>\n",
       "      <td>08/18/2022 12:00:00 AM</td>\n",
       "      <td>2020-08-17</td>\n",
       "      <td>1200</td>\n",
       "      <td>6</td>\n",
       "      <td>Hollywood</td>\n",
       "      <td>666</td>\n",
       "      <td>2</td>\n",
       "      <td>354</td>\n",
       "      <td>THEFT OF IDENTITY</td>\n",
       "      <td>...</td>\n",
       "      <td>IC</td>\n",
       "      <td>Invest Cont</td>\n",
       "      <td>354.0</td>\n",
       "      <td>NaN</td>\n",
       "      <td>NaN</td>\n",
       "      <td>NaN</td>\n",
       "      <td>1900    TRANSIENT</td>\n",
       "      <td>NaN</td>\n",
       "      <td>34.0944</td>\n",
       "      <td>-118.3277</td>\n",
       "    </tr>\n",
       "    <tr>\n",
       "      <th>...</th>\n",
       "      <td>...</td>\n",
       "      <td>...</td>\n",
       "      <td>...</td>\n",
       "      <td>...</td>\n",
       "      <td>...</td>\n",
       "      <td>...</td>\n",
       "      <td>...</td>\n",
       "      <td>...</td>\n",
       "      <td>...</td>\n",
       "      <td>...</td>\n",
       "      <td>...</td>\n",
       "      <td>...</td>\n",
       "      <td>...</td>\n",
       "      <td>...</td>\n",
       "      <td>...</td>\n",
       "      <td>...</td>\n",
       "      <td>...</td>\n",
       "      <td>...</td>\n",
       "      <td>...</td>\n",
       "      <td>...</td>\n",
       "      <td>...</td>\n",
       "    </tr>\n",
       "    <tr>\n",
       "      <th>918438</th>\n",
       "      <td>241605270</td>\n",
       "      <td>02/11/2024 12:00:00 AM</td>\n",
       "      <td>2024-02-11</td>\n",
       "      <td>1920</td>\n",
       "      <td>16</td>\n",
       "      <td>Foothill</td>\n",
       "      <td>1681</td>\n",
       "      <td>2</td>\n",
       "      <td>888</td>\n",
       "      <td>TRESPASSING</td>\n",
       "      <td>...</td>\n",
       "      <td>AA</td>\n",
       "      <td>Adult Arrest</td>\n",
       "      <td>888.0</td>\n",
       "      <td>NaN</td>\n",
       "      <td>NaN</td>\n",
       "      <td>NaN</td>\n",
       "      <td>8700    SHARP                        AV</td>\n",
       "      <td>NaN</td>\n",
       "      <td>34.2278</td>\n",
       "      <td>-118.4051</td>\n",
       "    </tr>\n",
       "    <tr>\n",
       "      <th>918439</th>\n",
       "      <td>241604405</td>\n",
       "      <td>01/14/2024 12:00:00 AM</td>\n",
       "      <td>2024-01-13</td>\n",
       "      <td>720</td>\n",
       "      <td>16</td>\n",
       "      <td>Foothill</td>\n",
       "      <td>1673</td>\n",
       "      <td>1</td>\n",
       "      <td>230</td>\n",
       "      <td>ASSAULT WITH DEADLY WEAPON, AGGRAVATED ASSAULT</td>\n",
       "      <td>...</td>\n",
       "      <td>IC</td>\n",
       "      <td>Invest Cont</td>\n",
       "      <td>230.0</td>\n",
       "      <td>NaN</td>\n",
       "      <td>NaN</td>\n",
       "      <td>NaN</td>\n",
       "      <td>8700    LANKERSHIM                   BL</td>\n",
       "      <td>NaN</td>\n",
       "      <td>34.2271</td>\n",
       "      <td>-118.3878</td>\n",
       "    </tr>\n",
       "    <tr>\n",
       "      <th>918440</th>\n",
       "      <td>242106032</td>\n",
       "      <td>02/20/2024 12:00:00 AM</td>\n",
       "      <td>2024-02-17</td>\n",
       "      <td>2330</td>\n",
       "      <td>21</td>\n",
       "      <td>Topanga</td>\n",
       "      <td>2103</td>\n",
       "      <td>1</td>\n",
       "      <td>420</td>\n",
       "      <td>THEFT FROM MOTOR VEHICLE - PETTY ($950 &amp; UNDER)</td>\n",
       "      <td>...</td>\n",
       "      <td>IC</td>\n",
       "      <td>Invest Cont</td>\n",
       "      <td>420.0</td>\n",
       "      <td>NaN</td>\n",
       "      <td>NaN</td>\n",
       "      <td>NaN</td>\n",
       "      <td>22700    NAPA                         ST</td>\n",
       "      <td>NaN</td>\n",
       "      <td>34.2260</td>\n",
       "      <td>-118.6214</td>\n",
       "    </tr>\n",
       "    <tr>\n",
       "      <th>918441</th>\n",
       "      <td>242004546</td>\n",
       "      <td>01/16/2024 12:00:00 AM</td>\n",
       "      <td>2024-01-16</td>\n",
       "      <td>1510</td>\n",
       "      <td>20</td>\n",
       "      <td>Olympic</td>\n",
       "      <td>2013</td>\n",
       "      <td>2</td>\n",
       "      <td>624</td>\n",
       "      <td>BATTERY - SIMPLE ASSAULT</td>\n",
       "      <td>...</td>\n",
       "      <td>IC</td>\n",
       "      <td>Invest Cont</td>\n",
       "      <td>624.0</td>\n",
       "      <td>NaN</td>\n",
       "      <td>NaN</td>\n",
       "      <td>NaN</td>\n",
       "      <td>HOBART                       BL</td>\n",
       "      <td>3RD                          ST</td>\n",
       "      <td>34.0690</td>\n",
       "      <td>-118.3054</td>\n",
       "    </tr>\n",
       "    <tr>\n",
       "      <th>918442</th>\n",
       "      <td>240104953</td>\n",
       "      <td>01/15/2024 12:00:00 AM</td>\n",
       "      <td>2024-01-15</td>\n",
       "      <td>100</td>\n",
       "      <td>1</td>\n",
       "      <td>Central</td>\n",
       "      <td>101</td>\n",
       "      <td>2</td>\n",
       "      <td>745</td>\n",
       "      <td>VANDALISM - MISDEAMEANOR ($399 OR UNDER)</td>\n",
       "      <td>...</td>\n",
       "      <td>IC</td>\n",
       "      <td>Invest Cont</td>\n",
       "      <td>745.0</td>\n",
       "      <td>NaN</td>\n",
       "      <td>NaN</td>\n",
       "      <td>NaN</td>\n",
       "      <td>1300 W  SUNSET                       BL</td>\n",
       "      <td>NaN</td>\n",
       "      <td>34.0685</td>\n",
       "      <td>-118.2460</td>\n",
       "    </tr>\n",
       "  </tbody>\n",
       "</table>\n",
       "<p>918443 rows × 28 columns</p>\n",
       "</div>"
      ],
      "text/plain": [
       "            DR_NO               Date Rptd   DATE OCC  TIME OCC  AREA  \\\n",
       "0       190326475  03/01/2020 12:00:00 AM 2020-03-01      2130     7   \n",
       "1       200106753  02/09/2020 12:00:00 AM 2020-02-08      1800     1   \n",
       "2       200320258  11/11/2020 12:00:00 AM 2020-11-04      1700     3   \n",
       "3       200907217  05/10/2023 12:00:00 AM 2020-03-10      2037     9   \n",
       "4       220614831  08/18/2022 12:00:00 AM 2020-08-17      1200     6   \n",
       "...           ...                     ...        ...       ...   ...   \n",
       "918438  241605270  02/11/2024 12:00:00 AM 2024-02-11      1920    16   \n",
       "918439  241604405  01/14/2024 12:00:00 AM 2024-01-13       720    16   \n",
       "918440  242106032  02/20/2024 12:00:00 AM 2024-02-17      2330    21   \n",
       "918441  242004546  01/16/2024 12:00:00 AM 2024-01-16      1510    20   \n",
       "918442  240104953  01/15/2024 12:00:00 AM 2024-01-15       100     1   \n",
       "\n",
       "        AREA NAME  Rpt Dist No  Part 1-2  Crm Cd  \\\n",
       "0        Wilshire          784         1     510   \n",
       "1         Central          182         1     330   \n",
       "2       Southwest          356         1     480   \n",
       "3        Van Nuys          964         1     343   \n",
       "4       Hollywood          666         2     354   \n",
       "...           ...          ...       ...     ...   \n",
       "918438   Foothill         1681         2     888   \n",
       "918439   Foothill         1673         1     230   \n",
       "918440    Topanga         2103         1     420   \n",
       "918441    Olympic         2013         2     624   \n",
       "918442    Central          101         2     745   \n",
       "\n",
       "                                            Crm Cd Desc  ... Status  \\\n",
       "0                                      VEHICLE - STOLEN  ...     AA   \n",
       "1                                 BURGLARY FROM VEHICLE  ...     IC   \n",
       "2                                         BIKE - STOLEN  ...     IC   \n",
       "3              SHOPLIFTING-GRAND THEFT ($950.01 & OVER)  ...     IC   \n",
       "4                                     THEFT OF IDENTITY  ...     IC   \n",
       "...                                                 ...  ...    ...   \n",
       "918438                                      TRESPASSING  ...     AA   \n",
       "918439   ASSAULT WITH DEADLY WEAPON, AGGRAVATED ASSAULT  ...     IC   \n",
       "918440  THEFT FROM MOTOR VEHICLE - PETTY ($950 & UNDER)  ...     IC   \n",
       "918441                         BATTERY - SIMPLE ASSAULT  ...     IC   \n",
       "918442         VANDALISM - MISDEAMEANOR ($399 OR UNDER)  ...     IC   \n",
       "\n",
       "         Status Desc Crm Cd 1 Crm Cd 2  Crm Cd 3 Crm Cd 4  \\\n",
       "0       Adult Arrest    510.0    998.0       NaN      NaN   \n",
       "1        Invest Cont    330.0    998.0       NaN      NaN   \n",
       "2        Invest Cont    480.0      NaN       NaN      NaN   \n",
       "3        Invest Cont    343.0      NaN       NaN      NaN   \n",
       "4        Invest Cont    354.0      NaN       NaN      NaN   \n",
       "...              ...      ...      ...       ...      ...   \n",
       "918438  Adult Arrest    888.0      NaN       NaN      NaN   \n",
       "918439   Invest Cont    230.0      NaN       NaN      NaN   \n",
       "918440   Invest Cont    420.0      NaN       NaN      NaN   \n",
       "918441   Invest Cont    624.0      NaN       NaN      NaN   \n",
       "918442   Invest Cont    745.0      NaN       NaN      NaN   \n",
       "\n",
       "                                        LOCATION  \\\n",
       "0        1900 S  LONGWOOD                     AV   \n",
       "1        1000 S  FLOWER                       ST   \n",
       "2        1400 W  37TH                         ST   \n",
       "3       14000    RIVERSIDE                    DR   \n",
       "4                              1900    TRANSIENT   \n",
       "...                                          ...   \n",
       "918438   8700    SHARP                        AV   \n",
       "918439   8700    LANKERSHIM                   BL   \n",
       "918440  22700    NAPA                         ST   \n",
       "918441           HOBART                       BL   \n",
       "918442   1300 W  SUNSET                       BL   \n",
       "\n",
       "                           Cross Street      LAT       LON  \n",
       "0                                   NaN  34.0375 -118.3506  \n",
       "1                                   NaN  34.0444 -118.2628  \n",
       "2                                   NaN  34.0210 -118.3002  \n",
       "3                                   NaN  34.1576 -118.4387  \n",
       "4                                   NaN  34.0944 -118.3277  \n",
       "...                                 ...      ...       ...  \n",
       "918438                              NaN  34.2278 -118.4051  \n",
       "918439                              NaN  34.2271 -118.3878  \n",
       "918440                              NaN  34.2260 -118.6214  \n",
       "918441  3RD                          ST  34.0690 -118.3054  \n",
       "918442                              NaN  34.0685 -118.2460  \n",
       "\n",
       "[918443 rows x 28 columns]"
      ]
     },
     "execution_count": 32,
     "metadata": {},
     "output_type": "execute_result"
    }
   ],
   "source": [
    "crime"
   ]
  },
  {
   "cell_type": "code",
   "execution_count": 33,
   "metadata": {},
   "outputs": [
    {
     "data": {
      "text/plain": [
       "['DR_NO',\n",
       " 'Date Rptd',\n",
       " 'DATE OCC',\n",
       " 'TIME OCC',\n",
       " 'AREA',\n",
       " 'AREA NAME',\n",
       " 'Rpt Dist No',\n",
       " 'Part 1-2',\n",
       " 'Crm Cd',\n",
       " 'Crm Cd Desc',\n",
       " 'Mocodes',\n",
       " 'Vict Age',\n",
       " 'Vict Sex',\n",
       " 'Vict Descent',\n",
       " 'Premis Cd',\n",
       " 'Premis Desc',\n",
       " 'Weapon Used Cd',\n",
       " 'Weapon Desc',\n",
       " 'Status',\n",
       " 'Status Desc',\n",
       " 'Crm Cd 1',\n",
       " 'Crm Cd 2',\n",
       " 'Crm Cd 3',\n",
       " 'Crm Cd 4',\n",
       " 'LOCATION',\n",
       " 'Cross Street',\n",
       " 'LAT',\n",
       " 'LON']"
      ]
     },
     "execution_count": 33,
     "metadata": {},
     "output_type": "execute_result"
    }
   ],
   "source": [
    "crime.columns.tolist()"
   ]
  },
  {
   "cell_type": "code",
   "execution_count": 34,
   "metadata": {},
   "outputs": [
    {
     "name": "stdout",
     "output_type": "stream",
     "text": [
      "<class 'pandas.core.frame.DataFrame'>\n",
      "RangeIndex: 918443 entries, 0 to 918442\n",
      "Data columns (total 28 columns):\n",
      " #   Column          Non-Null Count   Dtype         \n",
      "---  ------          --------------   -----         \n",
      " 0   DR_NO           918443 non-null  int64         \n",
      " 1   Date Rptd       918443 non-null  object        \n",
      " 2   DATE OCC        918443 non-null  datetime64[ns]\n",
      " 3   TIME OCC        918443 non-null  int64         \n",
      " 4   AREA            918443 non-null  int64         \n",
      " 5   AREA NAME       918443 non-null  object        \n",
      " 6   Rpt Dist No     918443 non-null  int64         \n",
      " 7   Part 1-2        918443 non-null  int64         \n",
      " 8   Crm Cd          918443 non-null  int64         \n",
      " 9   Crm Cd Desc     918443 non-null  object        \n",
      " 10  Mocodes         790151 non-null  object        \n",
      " 11  Vict Age        918443 non-null  int64         \n",
      " 12  Vict Sex        796365 non-null  object        \n",
      " 13  Vict Descent    796356 non-null  object        \n",
      " 14  Premis Cd       918433 non-null  float64       \n",
      " 15  Premis Desc     917886 non-null  object        \n",
      " 16  Weapon Used Cd  317500 non-null  float64       \n",
      " 17  Weapon Desc     317500 non-null  object        \n",
      " 18  Status          918443 non-null  object        \n",
      " 19  Status Desc     918443 non-null  object        \n",
      " 20  Crm Cd 1        918432 non-null  float64       \n",
      " 21  Crm Cd 2        66784 non-null   float64       \n",
      " 22  Crm Cd 3        2251 non-null    float64       \n",
      " 23  Crm Cd 4        65 non-null      float64       \n",
      " 24  LOCATION        918443 non-null  object        \n",
      " 25  Cross Street    144324 non-null  object        \n",
      " 26  LAT             918443 non-null  float64       \n",
      " 27  LON             918443 non-null  float64       \n",
      "dtypes: datetime64[ns](1), float64(8), int64(7), object(12)\n",
      "memory usage: 196.2+ MB\n"
     ]
    }
   ],
   "source": [
    "crime.info()"
   ]
  },
  {
   "cell_type": "code",
   "execution_count": 35,
   "metadata": {},
   "outputs": [
    {
     "data": {
      "text/plain": [
       "199368   -4\n",
       "199370   -4\n",
       "199389   -4\n",
       "1017     -3\n",
       "79565    -3\n",
       "47       -2\n",
       "145      -2\n",
       "377      -2\n",
       "683      -2\n",
       "802      -2\n",
       "1168     -2\n",
       "1332     -2\n",
       "1481     -2\n",
       "1609     -2\n",
       "199363   -2\n",
       "199580   -2\n",
       "205769   -2\n",
       "206158   -2\n",
       "239612   -2\n",
       "242539   -2\n",
       "279312   -2\n",
       "304670   -2\n",
       "316291   -2\n",
       "330889   -2\n",
       "480667   -2\n",
       "593205   -2\n",
       "582      -1\n",
       "597      -1\n",
       "621      -1\n",
       "631      -1\n",
       "Name: Vict Age, dtype: int64"
      ]
     },
     "execution_count": 35,
     "metadata": {},
     "output_type": "execute_result"
    }
   ],
   "source": [
    "crime['Vict Age'].nsmallest(30)"
   ]
  },
  {
   "cell_type": "code",
   "execution_count": 36,
   "metadata": {},
   "outputs": [
    {
     "data": {
      "text/html": [
       "<div>\n",
       "<style scoped>\n",
       "    .dataframe tbody tr th:only-of-type {\n",
       "        vertical-align: middle;\n",
       "    }\n",
       "\n",
       "    .dataframe tbody tr th {\n",
       "        vertical-align: top;\n",
       "    }\n",
       "\n",
       "    .dataframe thead th {\n",
       "        text-align: right;\n",
       "    }\n",
       "</style>\n",
       "<table border=\"1\" class=\"dataframe\">\n",
       "  <thead>\n",
       "    <tr style=\"text-align: right;\">\n",
       "      <th></th>\n",
       "      <th>DR_NO</th>\n",
       "      <th>Date Rptd</th>\n",
       "      <th>DATE OCC</th>\n",
       "      <th>TIME OCC</th>\n",
       "      <th>AREA</th>\n",
       "      <th>AREA NAME</th>\n",
       "      <th>Rpt Dist No</th>\n",
       "      <th>Part 1-2</th>\n",
       "      <th>Crm Cd</th>\n",
       "      <th>Crm Cd Desc</th>\n",
       "      <th>...</th>\n",
       "      <th>Status</th>\n",
       "      <th>Status Desc</th>\n",
       "      <th>Crm Cd 1</th>\n",
       "      <th>Crm Cd 2</th>\n",
       "      <th>Crm Cd 3</th>\n",
       "      <th>Crm Cd 4</th>\n",
       "      <th>LOCATION</th>\n",
       "      <th>Cross Street</th>\n",
       "      <th>LAT</th>\n",
       "      <th>LON</th>\n",
       "    </tr>\n",
       "  </thead>\n",
       "  <tbody>\n",
       "    <tr>\n",
       "      <th>0</th>\n",
       "      <td>190326475</td>\n",
       "      <td>03/01/2020 12:00:00 AM</td>\n",
       "      <td>2020-03-01</td>\n",
       "      <td>2130</td>\n",
       "      <td>7</td>\n",
       "      <td>Wilshire</td>\n",
       "      <td>784</td>\n",
       "      <td>1</td>\n",
       "      <td>510</td>\n",
       "      <td>VEHICLE - STOLEN</td>\n",
       "      <td>...</td>\n",
       "      <td>AA</td>\n",
       "      <td>Adult Arrest</td>\n",
       "      <td>510.0</td>\n",
       "      <td>998.0</td>\n",
       "      <td>NaN</td>\n",
       "      <td>NaN</td>\n",
       "      <td>1900 S  LONGWOOD                     AV</td>\n",
       "      <td>NaN</td>\n",
       "      <td>34.0375</td>\n",
       "      <td>-118.3506</td>\n",
       "    </tr>\n",
       "    <tr>\n",
       "      <th>1</th>\n",
       "      <td>200106753</td>\n",
       "      <td>02/09/2020 12:00:00 AM</td>\n",
       "      <td>2020-02-08</td>\n",
       "      <td>1800</td>\n",
       "      <td>1</td>\n",
       "      <td>Central</td>\n",
       "      <td>182</td>\n",
       "      <td>1</td>\n",
       "      <td>330</td>\n",
       "      <td>BURGLARY FROM VEHICLE</td>\n",
       "      <td>...</td>\n",
       "      <td>IC</td>\n",
       "      <td>Invest Cont</td>\n",
       "      <td>330.0</td>\n",
       "      <td>998.0</td>\n",
       "      <td>NaN</td>\n",
       "      <td>NaN</td>\n",
       "      <td>1000 S  FLOWER                       ST</td>\n",
       "      <td>NaN</td>\n",
       "      <td>34.0444</td>\n",
       "      <td>-118.2628</td>\n",
       "    </tr>\n",
       "    <tr>\n",
       "      <th>2</th>\n",
       "      <td>200320258</td>\n",
       "      <td>11/11/2020 12:00:00 AM</td>\n",
       "      <td>2020-11-04</td>\n",
       "      <td>1700</td>\n",
       "      <td>3</td>\n",
       "      <td>Southwest</td>\n",
       "      <td>356</td>\n",
       "      <td>1</td>\n",
       "      <td>480</td>\n",
       "      <td>BIKE - STOLEN</td>\n",
       "      <td>...</td>\n",
       "      <td>IC</td>\n",
       "      <td>Invest Cont</td>\n",
       "      <td>480.0</td>\n",
       "      <td>NaN</td>\n",
       "      <td>NaN</td>\n",
       "      <td>NaN</td>\n",
       "      <td>1400 W  37TH                         ST</td>\n",
       "      <td>NaN</td>\n",
       "      <td>34.0210</td>\n",
       "      <td>-118.3002</td>\n",
       "    </tr>\n",
       "    <tr>\n",
       "      <th>3</th>\n",
       "      <td>200907217</td>\n",
       "      <td>05/10/2023 12:00:00 AM</td>\n",
       "      <td>2020-03-10</td>\n",
       "      <td>2037</td>\n",
       "      <td>9</td>\n",
       "      <td>Van Nuys</td>\n",
       "      <td>964</td>\n",
       "      <td>1</td>\n",
       "      <td>343</td>\n",
       "      <td>SHOPLIFTING-GRAND THEFT ($950.01 &amp; OVER)</td>\n",
       "      <td>...</td>\n",
       "      <td>IC</td>\n",
       "      <td>Invest Cont</td>\n",
       "      <td>343.0</td>\n",
       "      <td>NaN</td>\n",
       "      <td>NaN</td>\n",
       "      <td>NaN</td>\n",
       "      <td>14000    RIVERSIDE                    DR</td>\n",
       "      <td>NaN</td>\n",
       "      <td>34.1576</td>\n",
       "      <td>-118.4387</td>\n",
       "    </tr>\n",
       "    <tr>\n",
       "      <th>4</th>\n",
       "      <td>220614831</td>\n",
       "      <td>08/18/2022 12:00:00 AM</td>\n",
       "      <td>2020-08-17</td>\n",
       "      <td>1200</td>\n",
       "      <td>6</td>\n",
       "      <td>Hollywood</td>\n",
       "      <td>666</td>\n",
       "      <td>2</td>\n",
       "      <td>354</td>\n",
       "      <td>THEFT OF IDENTITY</td>\n",
       "      <td>...</td>\n",
       "      <td>IC</td>\n",
       "      <td>Invest Cont</td>\n",
       "      <td>354.0</td>\n",
       "      <td>NaN</td>\n",
       "      <td>NaN</td>\n",
       "      <td>NaN</td>\n",
       "      <td>1900    TRANSIENT</td>\n",
       "      <td>NaN</td>\n",
       "      <td>34.0944</td>\n",
       "      <td>-118.3277</td>\n",
       "    </tr>\n",
       "    <tr>\n",
       "      <th>...</th>\n",
       "      <td>...</td>\n",
       "      <td>...</td>\n",
       "      <td>...</td>\n",
       "      <td>...</td>\n",
       "      <td>...</td>\n",
       "      <td>...</td>\n",
       "      <td>...</td>\n",
       "      <td>...</td>\n",
       "      <td>...</td>\n",
       "      <td>...</td>\n",
       "      <td>...</td>\n",
       "      <td>...</td>\n",
       "      <td>...</td>\n",
       "      <td>...</td>\n",
       "      <td>...</td>\n",
       "      <td>...</td>\n",
       "      <td>...</td>\n",
       "      <td>...</td>\n",
       "      <td>...</td>\n",
       "      <td>...</td>\n",
       "      <td>...</td>\n",
       "    </tr>\n",
       "    <tr>\n",
       "      <th>918438</th>\n",
       "      <td>241605270</td>\n",
       "      <td>02/11/2024 12:00:00 AM</td>\n",
       "      <td>2024-02-11</td>\n",
       "      <td>1920</td>\n",
       "      <td>16</td>\n",
       "      <td>Foothill</td>\n",
       "      <td>1681</td>\n",
       "      <td>2</td>\n",
       "      <td>888</td>\n",
       "      <td>TRESPASSING</td>\n",
       "      <td>...</td>\n",
       "      <td>AA</td>\n",
       "      <td>Adult Arrest</td>\n",
       "      <td>888.0</td>\n",
       "      <td>NaN</td>\n",
       "      <td>NaN</td>\n",
       "      <td>NaN</td>\n",
       "      <td>8700    SHARP                        AV</td>\n",
       "      <td>NaN</td>\n",
       "      <td>34.2278</td>\n",
       "      <td>-118.4051</td>\n",
       "    </tr>\n",
       "    <tr>\n",
       "      <th>918439</th>\n",
       "      <td>241604405</td>\n",
       "      <td>01/14/2024 12:00:00 AM</td>\n",
       "      <td>2024-01-13</td>\n",
       "      <td>720</td>\n",
       "      <td>16</td>\n",
       "      <td>Foothill</td>\n",
       "      <td>1673</td>\n",
       "      <td>1</td>\n",
       "      <td>230</td>\n",
       "      <td>ASSAULT WITH DEADLY WEAPON, AGGRAVATED ASSAULT</td>\n",
       "      <td>...</td>\n",
       "      <td>IC</td>\n",
       "      <td>Invest Cont</td>\n",
       "      <td>230.0</td>\n",
       "      <td>NaN</td>\n",
       "      <td>NaN</td>\n",
       "      <td>NaN</td>\n",
       "      <td>8700    LANKERSHIM                   BL</td>\n",
       "      <td>NaN</td>\n",
       "      <td>34.2271</td>\n",
       "      <td>-118.3878</td>\n",
       "    </tr>\n",
       "    <tr>\n",
       "      <th>918440</th>\n",
       "      <td>242106032</td>\n",
       "      <td>02/20/2024 12:00:00 AM</td>\n",
       "      <td>2024-02-17</td>\n",
       "      <td>2330</td>\n",
       "      <td>21</td>\n",
       "      <td>Topanga</td>\n",
       "      <td>2103</td>\n",
       "      <td>1</td>\n",
       "      <td>420</td>\n",
       "      <td>THEFT FROM MOTOR VEHICLE - PETTY ($950 &amp; UNDER)</td>\n",
       "      <td>...</td>\n",
       "      <td>IC</td>\n",
       "      <td>Invest Cont</td>\n",
       "      <td>420.0</td>\n",
       "      <td>NaN</td>\n",
       "      <td>NaN</td>\n",
       "      <td>NaN</td>\n",
       "      <td>22700    NAPA                         ST</td>\n",
       "      <td>NaN</td>\n",
       "      <td>34.2260</td>\n",
       "      <td>-118.6214</td>\n",
       "    </tr>\n",
       "    <tr>\n",
       "      <th>918441</th>\n",
       "      <td>242004546</td>\n",
       "      <td>01/16/2024 12:00:00 AM</td>\n",
       "      <td>2024-01-16</td>\n",
       "      <td>1510</td>\n",
       "      <td>20</td>\n",
       "      <td>Olympic</td>\n",
       "      <td>2013</td>\n",
       "      <td>2</td>\n",
       "      <td>624</td>\n",
       "      <td>BATTERY - SIMPLE ASSAULT</td>\n",
       "      <td>...</td>\n",
       "      <td>IC</td>\n",
       "      <td>Invest Cont</td>\n",
       "      <td>624.0</td>\n",
       "      <td>NaN</td>\n",
       "      <td>NaN</td>\n",
       "      <td>NaN</td>\n",
       "      <td>HOBART                       BL</td>\n",
       "      <td>3RD                          ST</td>\n",
       "      <td>34.0690</td>\n",
       "      <td>-118.3054</td>\n",
       "    </tr>\n",
       "    <tr>\n",
       "      <th>918442</th>\n",
       "      <td>240104953</td>\n",
       "      <td>01/15/2024 12:00:00 AM</td>\n",
       "      <td>2024-01-15</td>\n",
       "      <td>100</td>\n",
       "      <td>1</td>\n",
       "      <td>Central</td>\n",
       "      <td>101</td>\n",
       "      <td>2</td>\n",
       "      <td>745</td>\n",
       "      <td>VANDALISM - MISDEAMEANOR ($399 OR UNDER)</td>\n",
       "      <td>...</td>\n",
       "      <td>IC</td>\n",
       "      <td>Invest Cont</td>\n",
       "      <td>745.0</td>\n",
       "      <td>NaN</td>\n",
       "      <td>NaN</td>\n",
       "      <td>NaN</td>\n",
       "      <td>1300 W  SUNSET                       BL</td>\n",
       "      <td>NaN</td>\n",
       "      <td>34.0685</td>\n",
       "      <td>-118.2460</td>\n",
       "    </tr>\n",
       "  </tbody>\n",
       "</table>\n",
       "<p>918443 rows × 28 columns</p>\n",
       "</div>"
      ],
      "text/plain": [
       "            DR_NO               Date Rptd   DATE OCC  TIME OCC  AREA  \\\n",
       "0       190326475  03/01/2020 12:00:00 AM 2020-03-01      2130     7   \n",
       "1       200106753  02/09/2020 12:00:00 AM 2020-02-08      1800     1   \n",
       "2       200320258  11/11/2020 12:00:00 AM 2020-11-04      1700     3   \n",
       "3       200907217  05/10/2023 12:00:00 AM 2020-03-10      2037     9   \n",
       "4       220614831  08/18/2022 12:00:00 AM 2020-08-17      1200     6   \n",
       "...           ...                     ...        ...       ...   ...   \n",
       "918438  241605270  02/11/2024 12:00:00 AM 2024-02-11      1920    16   \n",
       "918439  241604405  01/14/2024 12:00:00 AM 2024-01-13       720    16   \n",
       "918440  242106032  02/20/2024 12:00:00 AM 2024-02-17      2330    21   \n",
       "918441  242004546  01/16/2024 12:00:00 AM 2024-01-16      1510    20   \n",
       "918442  240104953  01/15/2024 12:00:00 AM 2024-01-15       100     1   \n",
       "\n",
       "        AREA NAME  Rpt Dist No  Part 1-2  Crm Cd  \\\n",
       "0        Wilshire          784         1     510   \n",
       "1         Central          182         1     330   \n",
       "2       Southwest          356         1     480   \n",
       "3        Van Nuys          964         1     343   \n",
       "4       Hollywood          666         2     354   \n",
       "...           ...          ...       ...     ...   \n",
       "918438   Foothill         1681         2     888   \n",
       "918439   Foothill         1673         1     230   \n",
       "918440    Topanga         2103         1     420   \n",
       "918441    Olympic         2013         2     624   \n",
       "918442    Central          101         2     745   \n",
       "\n",
       "                                            Crm Cd Desc  ... Status  \\\n",
       "0                                      VEHICLE - STOLEN  ...     AA   \n",
       "1                                 BURGLARY FROM VEHICLE  ...     IC   \n",
       "2                                         BIKE - STOLEN  ...     IC   \n",
       "3              SHOPLIFTING-GRAND THEFT ($950.01 & OVER)  ...     IC   \n",
       "4                                     THEFT OF IDENTITY  ...     IC   \n",
       "...                                                 ...  ...    ...   \n",
       "918438                                      TRESPASSING  ...     AA   \n",
       "918439   ASSAULT WITH DEADLY WEAPON, AGGRAVATED ASSAULT  ...     IC   \n",
       "918440  THEFT FROM MOTOR VEHICLE - PETTY ($950 & UNDER)  ...     IC   \n",
       "918441                         BATTERY - SIMPLE ASSAULT  ...     IC   \n",
       "918442         VANDALISM - MISDEAMEANOR ($399 OR UNDER)  ...     IC   \n",
       "\n",
       "         Status Desc Crm Cd 1 Crm Cd 2  Crm Cd 3 Crm Cd 4  \\\n",
       "0       Adult Arrest    510.0    998.0       NaN      NaN   \n",
       "1        Invest Cont    330.0    998.0       NaN      NaN   \n",
       "2        Invest Cont    480.0      NaN       NaN      NaN   \n",
       "3        Invest Cont    343.0      NaN       NaN      NaN   \n",
       "4        Invest Cont    354.0      NaN       NaN      NaN   \n",
       "...              ...      ...      ...       ...      ...   \n",
       "918438  Adult Arrest    888.0      NaN       NaN      NaN   \n",
       "918439   Invest Cont    230.0      NaN       NaN      NaN   \n",
       "918440   Invest Cont    420.0      NaN       NaN      NaN   \n",
       "918441   Invest Cont    624.0      NaN       NaN      NaN   \n",
       "918442   Invest Cont    745.0      NaN       NaN      NaN   \n",
       "\n",
       "                                        LOCATION  \\\n",
       "0        1900 S  LONGWOOD                     AV   \n",
       "1        1000 S  FLOWER                       ST   \n",
       "2        1400 W  37TH                         ST   \n",
       "3       14000    RIVERSIDE                    DR   \n",
       "4                              1900    TRANSIENT   \n",
       "...                                          ...   \n",
       "918438   8700    SHARP                        AV   \n",
       "918439   8700    LANKERSHIM                   BL   \n",
       "918440  22700    NAPA                         ST   \n",
       "918441           HOBART                       BL   \n",
       "918442   1300 W  SUNSET                       BL   \n",
       "\n",
       "                           Cross Street      LAT       LON  \n",
       "0                                   NaN  34.0375 -118.3506  \n",
       "1                                   NaN  34.0444 -118.2628  \n",
       "2                                   NaN  34.0210 -118.3002  \n",
       "3                                   NaN  34.1576 -118.4387  \n",
       "4                                   NaN  34.0944 -118.3277  \n",
       "...                                 ...      ...       ...  \n",
       "918438                              NaN  34.2278 -118.4051  \n",
       "918439                              NaN  34.2271 -118.3878  \n",
       "918440                              NaN  34.2260 -118.6214  \n",
       "918441  3RD                          ST  34.0690 -118.3054  \n",
       "918442                              NaN  34.0685 -118.2460  \n",
       "\n",
       "[918443 rows x 28 columns]"
      ]
     },
     "execution_count": 36,
     "metadata": {},
     "output_type": "execute_result"
    }
   ],
   "source": [
    "crime"
   ]
  },
  {
   "cell_type": "code",
   "execution_count": 37,
   "metadata": {},
   "outputs": [
    {
     "data": {
      "text/plain": [
       "DR_NO                  0\n",
       "Date Rptd              0\n",
       "DATE OCC               0\n",
       "TIME OCC               0\n",
       "AREA                   0\n",
       "AREA NAME              0\n",
       "Rpt Dist No            0\n",
       "Part 1-2               0\n",
       "Crm Cd                 0\n",
       "Crm Cd Desc            0\n",
       "Mocodes           128292\n",
       "Vict Age               0\n",
       "Vict Sex          122078\n",
       "Vict Descent      122087\n",
       "Premis Cd             10\n",
       "Premis Desc          557\n",
       "Weapon Used Cd    600943\n",
       "Weapon Desc       600943\n",
       "Status                 0\n",
       "Status Desc            0\n",
       "Crm Cd 1              11\n",
       "Crm Cd 2          851659\n",
       "Crm Cd 3          916192\n",
       "Crm Cd 4          918378\n",
       "LOCATION               0\n",
       "Cross Street      774119\n",
       "LAT                    0\n",
       "LON                    0\n",
       "dtype: int64"
      ]
     },
     "execution_count": 37,
     "metadata": {},
     "output_type": "execute_result"
    }
   ],
   "source": [
    "crime.isnull().sum()"
   ]
  },
  {
   "cell_type": "code",
   "execution_count": 38,
   "metadata": {},
   "outputs": [
    {
     "data": {
      "text/plain": [
       "DR_NO             0.000000\n",
       "Date Rptd         0.000000\n",
       "DATE OCC          0.000000\n",
       "TIME OCC          0.000000\n",
       "AREA              0.000000\n",
       "AREA NAME         0.000000\n",
       "Rpt Dist No       0.000000\n",
       "Part 1-2          0.000000\n",
       "Crm Cd            0.000000\n",
       "Crm Cd Desc       0.000000\n",
       "Mocodes           0.143274\n",
       "Vict Age          0.000000\n",
       "Vict Sex          0.135856\n",
       "Vict Descent      0.135873\n",
       "Premis Cd         0.000009\n",
       "Premis Desc       0.000961\n",
       "Weapon Used Cd    0.659992\n",
       "Weapon Desc       0.659992\n",
       "Status            0.000000\n",
       "Status Desc       0.000000\n",
       "Crm Cd 1          0.000017\n",
       "Crm Cd 2          0.933479\n",
       "Crm Cd 3          0.997757\n",
       "Crm Cd 4          0.999939\n",
       "LOCATION          0.000000\n",
       "Cross Street      0.858146\n",
       "LAT               0.000000\n",
       "LON               0.000000\n",
       "dtype: float64"
      ]
     },
     "execution_count": 38,
     "metadata": {},
     "output_type": "execute_result"
    }
   ],
   "source": [
    "crimes_2023.isnull().mean()"
   ]
  },
  {
   "cell_type": "code",
   "execution_count": 39,
   "metadata": {},
   "outputs": [
    {
     "data": {
      "text/plain": [
       "['DR_NO',\n",
       " 'Date Rptd',\n",
       " 'DATE OCC',\n",
       " 'TIME OCC',\n",
       " 'AREA',\n",
       " 'AREA NAME',\n",
       " 'Rpt Dist No',\n",
       " 'Part 1-2',\n",
       " 'Crm Cd',\n",
       " 'Crm Cd Desc',\n",
       " 'Mocodes',\n",
       " 'Vict Age',\n",
       " 'Vict Sex',\n",
       " 'Vict Descent',\n",
       " 'Premis Cd',\n",
       " 'Premis Desc',\n",
       " 'Weapon Used Cd',\n",
       " 'Weapon Desc',\n",
       " 'Status',\n",
       " 'Status Desc',\n",
       " 'Crm Cd 1',\n",
       " 'Crm Cd 2',\n",
       " 'Crm Cd 3',\n",
       " 'Crm Cd 4',\n",
       " 'LOCATION',\n",
       " 'Cross Street',\n",
       " 'LAT',\n",
       " 'LON']"
      ]
     },
     "execution_count": 39,
     "metadata": {},
     "output_type": "execute_result"
    }
   ],
   "source": [
    "crime.columns.tolist()"
   ]
  },
  {
   "cell_type": "code",
   "execution_count": 40,
   "metadata": {},
   "outputs": [
    {
     "data": {
      "text/plain": [
       "'VEHICLE - STOLEN'"
      ]
     },
     "execution_count": 40,
     "metadata": {},
     "output_type": "execute_result"
    }
   ],
   "source": [
    "crimes_2024['Crm Cd Desc'].value_counts().idxmax()"
   ]
  },
  {
   "cell_type": "code",
   "execution_count": 41,
   "metadata": {},
   "outputs": [
    {
     "data": {
      "text/plain": [
       "5018"
      ]
     },
     "execution_count": 41,
     "metadata": {},
     "output_type": "execute_result"
    }
   ],
   "source": [
    "(crimes_2024['Crm Cd Desc'] == 'VEHICLE - STOLEN').sum()"
   ]
  },
  {
   "cell_type": "code",
   "execution_count": 42,
   "metadata": {},
   "outputs": [
    {
     "data": {
      "text/plain": [
       "24415"
      ]
     },
     "execution_count": 42,
     "metadata": {},
     "output_type": "execute_result"
    }
   ],
   "source": [
    "(crimes_2023['Crm Cd Desc'] == 'VEHICLE - STOLEN').sum()"
   ]
  },
  {
   "cell_type": "code",
   "execution_count": 43,
   "metadata": {},
   "outputs": [],
   "source": [
    "crimes_2022 = crime[crime['DATE OCC'].dt.year == 2022]"
   ]
  },
  {
   "cell_type": "code",
   "execution_count": 44,
   "metadata": {},
   "outputs": [
    {
     "data": {
      "text/plain": [
       "24730"
      ]
     },
     "execution_count": 44,
     "metadata": {},
     "output_type": "execute_result"
    }
   ],
   "source": [
    "(crimes_2022['Crm Cd Desc'] == 'VEHICLE - STOLEN').sum()"
   ]
  },
  {
   "cell_type": "code",
   "execution_count": 45,
   "metadata": {},
   "outputs": [],
   "source": [
    "top_10_crimes_2024 = crimes_2024['Crm Cd Desc'].value_counts().nlargest(10) "
   ]
  },
  {
   "cell_type": "code",
   "execution_count": 46,
   "metadata": {},
   "outputs": [
    {
     "data": {
      "text/plain": [
       "Crm Cd Desc\n",
       "VEHICLE - STOLEN                                           5018\n",
       "BATTERY - SIMPLE ASSAULT                                   3456\n",
       "BURGLARY                                                   2941\n",
       "BURGLARY FROM VEHICLE                                      2668\n",
       "VANDALISM - FELONY ($400 & OVER, ALL CHURCH VANDALISMS)    2638\n",
       "ASSAULT WITH DEADLY WEAPON, AGGRAVATED ASSAULT             2361\n",
       "SHOPLIFTING - PETTY THEFT ($950 & UNDER)                   2133\n",
       "THEFT PLAIN - PETTY ($950 & UNDER)                         2024\n",
       "INTIMATE PARTNER - SIMPLE ASSAULT                          1893\n",
       "THEFT FROM MOTOR VEHICLE - PETTY ($950 & UNDER)            1748\n",
       "Name: count, dtype: int64"
      ]
     },
     "execution_count": 46,
     "metadata": {},
     "output_type": "execute_result"
    }
   ],
   "source": [
    "top_10_crimes_2024"
   ]
  },
  {
   "cell_type": "code",
   "execution_count": 47,
   "metadata": {},
   "outputs": [],
   "source": [
    "top_10_crimes_2023 = crimes_2023['Crm Cd Desc'].value_counts().nlargest(10)"
   ]
  },
  {
   "cell_type": "code",
   "execution_count": 48,
   "metadata": {},
   "outputs": [
    {
     "data": {
      "text/plain": [
       "Crm Cd Desc\n",
       "VEHICLE - STOLEN                                           24415\n",
       "BATTERY - SIMPLE ASSAULT                                   18828\n",
       "BURGLARY                                                   14262\n",
       "BURGLARY FROM VEHICLE                                      13523\n",
       "VANDALISM - FELONY ($400 & OVER, ALL CHURCH VANDALISMS)    13113\n",
       "THEFT OF IDENTITY                                          13060\n",
       "ASSAULT WITH DEADLY WEAPON, AGGRAVATED ASSAULT             12683\n",
       "THEFT PLAIN - PETTY ($950 & UNDER)                         11371\n",
       "INTIMATE PARTNER - SIMPLE ASSAULT                          10859\n",
       "SHOPLIFTING - PETTY THEFT ($950 & UNDER)                    9952\n",
       "Name: count, dtype: int64"
      ]
     },
     "execution_count": 48,
     "metadata": {},
     "output_type": "execute_result"
    }
   ],
   "source": [
    "top_10_crimes_2023"
   ]
  },
  {
   "cell_type": "code",
   "execution_count": 49,
   "metadata": {},
   "outputs": [],
   "source": [
    "top_10_crimes_2022 = crimes_2022['Crm Cd Desc'].value_counts().nlargest(10)"
   ]
  },
  {
   "cell_type": "code",
   "execution_count": 50,
   "metadata": {},
   "outputs": [
    {
     "data": {
      "text/plain": [
       "Crm Cd Desc\n",
       "VEHICLE - STOLEN                                           24730\n",
       "THEFT OF IDENTITY                                          21964\n",
       "BATTERY - SIMPLE ASSAULT                                   18056\n",
       "BURGLARY FROM VEHICLE                                      14227\n",
       "BURGLARY                                                   14067\n",
       "VANDALISM - FELONY ($400 & OVER, ALL CHURCH VANDALISMS)    13349\n",
       "ASSAULT WITH DEADLY WEAPON, AGGRAVATED ASSAULT             12867\n",
       "THEFT PLAIN - PETTY ($950 & UNDER)                         11366\n",
       "INTIMATE PARTNER - SIMPLE ASSAULT                          11171\n",
       "THEFT FROM MOTOR VEHICLE - GRAND ($950.01 AND OVER)        10078\n",
       "Name: count, dtype: int64"
      ]
     },
     "execution_count": 50,
     "metadata": {},
     "output_type": "execute_result"
    }
   ],
   "source": [
    "top_10_crimes_2022"
   ]
  },
  {
   "cell_type": "code",
   "execution_count": 51,
   "metadata": {},
   "outputs": [
    {
     "name": "stdout",
     "output_type": "stream",
     "text": [
      "Requirement already satisfied: plotly in /Library/Frameworks/Python.framework/Versions/3.12/lib/python3.12/site-packages (5.21.0)\n",
      "Requirement already satisfied: tenacity>=6.2.0 in /Library/Frameworks/Python.framework/Versions/3.12/lib/python3.12/site-packages (from plotly) (8.2.3)\n",
      "Requirement already satisfied: packaging in /Library/Frameworks/Python.framework/Versions/3.12/lib/python3.12/site-packages (from plotly) (24.0)\n",
      "Note: you may need to restart the kernel to use updated packages.\n"
     ]
    }
   ],
   "source": [
    "pip install plotly"
   ]
  },
  {
   "cell_type": "code",
   "execution_count": 52,
   "metadata": {},
   "outputs": [],
   "source": [
    "import plotly.express as px"
   ]
  },
  {
   "cell_type": "code",
   "execution_count": 53,
   "metadata": {},
   "outputs": [
    {
     "data": {
      "text/plain": [
       "['DR_NO',\n",
       " 'Date Rptd',\n",
       " 'DATE OCC',\n",
       " 'TIME OCC',\n",
       " 'AREA',\n",
       " 'AREA NAME',\n",
       " 'Rpt Dist No',\n",
       " 'Part 1-2',\n",
       " 'Crm Cd',\n",
       " 'Crm Cd Desc',\n",
       " 'Mocodes',\n",
       " 'Vict Age',\n",
       " 'Vict Sex',\n",
       " 'Vict Descent',\n",
       " 'Premis Cd',\n",
       " 'Premis Desc',\n",
       " 'Weapon Used Cd',\n",
       " 'Weapon Desc',\n",
       " 'Status',\n",
       " 'Status Desc',\n",
       " 'Crm Cd 1',\n",
       " 'Crm Cd 2',\n",
       " 'Crm Cd 3',\n",
       " 'Crm Cd 4',\n",
       " 'LOCATION',\n",
       " 'Cross Street',\n",
       " 'LAT',\n",
       " 'LON']"
      ]
     },
     "execution_count": 53,
     "metadata": {},
     "output_type": "execute_result"
    }
   ],
   "source": [
    "crimes_2022.columns.tolist()"
   ]
  },
  {
   "cell_type": "code",
   "execution_count": 54,
   "metadata": {},
   "outputs": [
    {
     "ename": "ValueError",
     "evalue": "Value of 'x' is not the name of a column in 'data_frame'. Expected one of ['count'] but received: Crm Cd Desc",
     "output_type": "error",
     "traceback": [
      "\u001b[0;31m---------------------------------------------------------------------------\u001b[0m",
      "\u001b[0;31mValueError\u001b[0m                                Traceback (most recent call last)",
      "Cell \u001b[0;32mIn[54], line 1\u001b[0m\n\u001b[0;32m----> 1\u001b[0m fig \u001b[38;5;241m=\u001b[39m \u001b[43mpx\u001b[49m\u001b[38;5;241;43m.\u001b[39;49m\u001b[43mbar\u001b[49m\u001b[43m(\u001b[49m\u001b[43mtop_10_crimes_2022\u001b[49m\u001b[43m,\u001b[49m\u001b[43m \u001b[49m\u001b[43mx\u001b[49m\u001b[38;5;241;43m=\u001b[39;49m\u001b[38;5;124;43m'\u001b[39;49m\u001b[38;5;124;43mCrm Cd Desc\u001b[39;49m\u001b[38;5;124;43m'\u001b[39;49m\u001b[43m,\u001b[49m\u001b[43m \u001b[49m\u001b[43mtitle\u001b[49m\u001b[38;5;241;43m=\u001b[39;49m\u001b[38;5;124;43m'\u001b[39;49m\u001b[38;5;124;43mTop 10 Crimes in 2022\u001b[39;49m\u001b[38;5;124;43m'\u001b[39;49m\u001b[43m,\u001b[49m\n\u001b[1;32m      2\u001b[0m \u001b[43m             \u001b[49m\u001b[43mcolor\u001b[49m\u001b[38;5;241;43m=\u001b[39;49m\u001b[38;5;124;43m'\u001b[39;49m\u001b[38;5;124;43mCrm Cd Desc\u001b[39;49m\u001b[38;5;124;43m'\u001b[39;49m\u001b[43m,\u001b[49m\u001b[43m  \u001b[49m\u001b[38;5;66;43;03m# Use 'Crm Cd Desc' column for coloring bars\u001b[39;49;00m\n\u001b[1;32m      3\u001b[0m \u001b[43m             \u001b[49m\u001b[43mlabels\u001b[49m\u001b[38;5;241;43m=\u001b[39;49m\u001b[43m{\u001b[49m\u001b[38;5;124;43m'\u001b[39;49m\u001b[38;5;124;43mCrm Cd Desc\u001b[39;49m\u001b[38;5;124;43m'\u001b[39;49m\u001b[43m:\u001b[49m\u001b[43m \u001b[49m\u001b[38;5;124;43m'\u001b[39;49m\u001b[38;5;124;43mCrime Description\u001b[39;49m\u001b[38;5;124;43m'\u001b[39;49m\u001b[43m,\u001b[49m\u001b[43m \u001b[49m\u001b[38;5;124;43m'\u001b[39;49m\u001b[38;5;124;43mOccurrences\u001b[39;49m\u001b[38;5;124;43m'\u001b[39;49m\u001b[43m:\u001b[49m\u001b[43m \u001b[49m\u001b[38;5;124;43m'\u001b[39;49m\u001b[38;5;124;43mNumber of Occurrences\u001b[39;49m\u001b[38;5;124;43m'\u001b[39;49m\u001b[43m}\u001b[49m\u001b[43m)\u001b[49m\n\u001b[1;32m      4\u001b[0m fig\u001b[38;5;241m.\u001b[39mupdate_layout(height \u001b[38;5;241m=\u001b[39m \u001b[38;5;241m700\u001b[39m)\n",
      "File \u001b[0;32m/Library/Frameworks/Python.framework/Versions/3.12/lib/python3.12/site-packages/plotly/express/_chart_types.py:373\u001b[0m, in \u001b[0;36mbar\u001b[0;34m(data_frame, x, y, color, pattern_shape, facet_row, facet_col, facet_col_wrap, facet_row_spacing, facet_col_spacing, hover_name, hover_data, custom_data, text, base, error_x, error_x_minus, error_y, error_y_minus, animation_frame, animation_group, category_orders, labels, color_discrete_sequence, color_discrete_map, color_continuous_scale, pattern_shape_sequence, pattern_shape_map, range_color, color_continuous_midpoint, opacity, orientation, barmode, log_x, log_y, range_x, range_y, text_auto, title, template, width, height)\u001b[0m\n\u001b[1;32m    325\u001b[0m \u001b[38;5;28;01mdef\u001b[39;00m \u001b[38;5;21mbar\u001b[39m(\n\u001b[1;32m    326\u001b[0m     data_frame\u001b[38;5;241m=\u001b[39m\u001b[38;5;28;01mNone\u001b[39;00m,\n\u001b[1;32m    327\u001b[0m     x\u001b[38;5;241m=\u001b[39m\u001b[38;5;28;01mNone\u001b[39;00m,\n\u001b[0;32m   (...)\u001b[0m\n\u001b[1;32m    367\u001b[0m     height\u001b[38;5;241m=\u001b[39m\u001b[38;5;28;01mNone\u001b[39;00m,\n\u001b[1;32m    368\u001b[0m ) \u001b[38;5;241m-\u001b[39m\u001b[38;5;241m>\u001b[39m go\u001b[38;5;241m.\u001b[39mFigure:\n\u001b[1;32m    369\u001b[0m \u001b[38;5;250m    \u001b[39m\u001b[38;5;124;03m\"\"\"\u001b[39;00m\n\u001b[1;32m    370\u001b[0m \u001b[38;5;124;03m    In a bar plot, each row of `data_frame` is represented as a rectangular\u001b[39;00m\n\u001b[1;32m    371\u001b[0m \u001b[38;5;124;03m    mark.\u001b[39;00m\n\u001b[1;32m    372\u001b[0m \u001b[38;5;124;03m    \"\"\"\u001b[39;00m\n\u001b[0;32m--> 373\u001b[0m     \u001b[38;5;28;01mreturn\u001b[39;00m \u001b[43mmake_figure\u001b[49m\u001b[43m(\u001b[49m\n\u001b[1;32m    374\u001b[0m \u001b[43m        \u001b[49m\u001b[43margs\u001b[49m\u001b[38;5;241;43m=\u001b[39;49m\u001b[38;5;28;43mlocals\u001b[39;49m\u001b[43m(\u001b[49m\u001b[43m)\u001b[49m\u001b[43m,\u001b[49m\n\u001b[1;32m    375\u001b[0m \u001b[43m        \u001b[49m\u001b[43mconstructor\u001b[49m\u001b[38;5;241;43m=\u001b[39;49m\u001b[43mgo\u001b[49m\u001b[38;5;241;43m.\u001b[39;49m\u001b[43mBar\u001b[49m\u001b[43m,\u001b[49m\n\u001b[1;32m    376\u001b[0m \u001b[43m        \u001b[49m\u001b[43mtrace_patch\u001b[49m\u001b[38;5;241;43m=\u001b[39;49m\u001b[38;5;28;43mdict\u001b[39;49m\u001b[43m(\u001b[49m\u001b[43mtextposition\u001b[49m\u001b[38;5;241;43m=\u001b[39;49m\u001b[38;5;124;43m\"\u001b[39;49m\u001b[38;5;124;43mauto\u001b[39;49m\u001b[38;5;124;43m\"\u001b[39;49m\u001b[43m)\u001b[49m\u001b[43m,\u001b[49m\n\u001b[1;32m    377\u001b[0m \u001b[43m        \u001b[49m\u001b[43mlayout_patch\u001b[49m\u001b[38;5;241;43m=\u001b[39;49m\u001b[38;5;28;43mdict\u001b[39;49m\u001b[43m(\u001b[49m\u001b[43mbarmode\u001b[49m\u001b[38;5;241;43m=\u001b[39;49m\u001b[43mbarmode\u001b[49m\u001b[43m)\u001b[49m\u001b[43m,\u001b[49m\n\u001b[1;32m    378\u001b[0m \u001b[43m    \u001b[49m\u001b[43m)\u001b[49m\n",
      "File \u001b[0;32m/Library/Frameworks/Python.framework/Versions/3.12/lib/python3.12/site-packages/plotly/express/_core.py:2090\u001b[0m, in \u001b[0;36mmake_figure\u001b[0;34m(args, constructor, trace_patch, layout_patch)\u001b[0m\n\u001b[1;32m   2087\u001b[0m layout_patch \u001b[38;5;241m=\u001b[39m layout_patch \u001b[38;5;129;01mor\u001b[39;00m {}\n\u001b[1;32m   2088\u001b[0m apply_default_cascade(args)\n\u001b[0;32m-> 2090\u001b[0m args \u001b[38;5;241m=\u001b[39m \u001b[43mbuild_dataframe\u001b[49m\u001b[43m(\u001b[49m\u001b[43margs\u001b[49m\u001b[43m,\u001b[49m\u001b[43m \u001b[49m\u001b[43mconstructor\u001b[49m\u001b[43m)\u001b[49m\n\u001b[1;32m   2091\u001b[0m \u001b[38;5;28;01mif\u001b[39;00m constructor \u001b[38;5;129;01min\u001b[39;00m [go\u001b[38;5;241m.\u001b[39mTreemap, go\u001b[38;5;241m.\u001b[39mSunburst, go\u001b[38;5;241m.\u001b[39mIcicle] \u001b[38;5;129;01mand\u001b[39;00m args[\u001b[38;5;124m\"\u001b[39m\u001b[38;5;124mpath\u001b[39m\u001b[38;5;124m\"\u001b[39m] \u001b[38;5;129;01mis\u001b[39;00m \u001b[38;5;129;01mnot\u001b[39;00m \u001b[38;5;28;01mNone\u001b[39;00m:\n\u001b[1;32m   2092\u001b[0m     args \u001b[38;5;241m=\u001b[39m process_dataframe_hierarchy(args)\n",
      "File \u001b[0;32m/Library/Frameworks/Python.framework/Versions/3.12/lib/python3.12/site-packages/plotly/express/_core.py:1492\u001b[0m, in \u001b[0;36mbuild_dataframe\u001b[0;34m(args, constructor)\u001b[0m\n\u001b[1;32m   1489\u001b[0m     args[\u001b[38;5;124m\"\u001b[39m\u001b[38;5;124mcolor\u001b[39m\u001b[38;5;124m\"\u001b[39m] \u001b[38;5;241m=\u001b[39m \u001b[38;5;28;01mNone\u001b[39;00m\n\u001b[1;32m   1490\u001b[0m \u001b[38;5;66;03m# now that things have been prepped, we do the systematic rewriting of `args`\u001b[39;00m\n\u001b[0;32m-> 1492\u001b[0m df_output, wide_id_vars \u001b[38;5;241m=\u001b[39m \u001b[43mprocess_args_into_dataframe\u001b[49m\u001b[43m(\u001b[49m\n\u001b[1;32m   1493\u001b[0m \u001b[43m    \u001b[49m\u001b[43margs\u001b[49m\u001b[43m,\u001b[49m\u001b[43m \u001b[49m\u001b[43mwide_mode\u001b[49m\u001b[43m,\u001b[49m\u001b[43m \u001b[49m\u001b[43mvar_name\u001b[49m\u001b[43m,\u001b[49m\u001b[43m \u001b[49m\u001b[43mvalue_name\u001b[49m\n\u001b[1;32m   1494\u001b[0m \u001b[43m\u001b[49m\u001b[43m)\u001b[49m\n\u001b[1;32m   1496\u001b[0m \u001b[38;5;66;03m# now that `df_output` exists and `args` contains only references, we complete\u001b[39;00m\n\u001b[1;32m   1497\u001b[0m \u001b[38;5;66;03m# the special-case and wide-mode handling by further rewriting args and/or mutating\u001b[39;00m\n\u001b[1;32m   1498\u001b[0m \u001b[38;5;66;03m# df_output\u001b[39;00m\n\u001b[1;32m   1500\u001b[0m count_name \u001b[38;5;241m=\u001b[39m _escape_col_name(df_output, \u001b[38;5;124m\"\u001b[39m\u001b[38;5;124mcount\u001b[39m\u001b[38;5;124m\"\u001b[39m, [var_name, value_name])\n",
      "File \u001b[0;32m/Library/Frameworks/Python.framework/Versions/3.12/lib/python3.12/site-packages/plotly/express/_core.py:1213\u001b[0m, in \u001b[0;36mprocess_args_into_dataframe\u001b[0;34m(args, wide_mode, var_name, value_name)\u001b[0m\n\u001b[1;32m   1211\u001b[0m         \u001b[38;5;28;01mif\u001b[39;00m argument \u001b[38;5;241m==\u001b[39m \u001b[38;5;124m\"\u001b[39m\u001b[38;5;124mindex\u001b[39m\u001b[38;5;124m\"\u001b[39m:\n\u001b[1;32m   1212\u001b[0m             err_msg \u001b[38;5;241m+\u001b[39m\u001b[38;5;241m=\u001b[39m \u001b[38;5;124m\"\u001b[39m\u001b[38;5;130;01m\\n\u001b[39;00m\u001b[38;5;124m To use the index, pass it in directly as `df.index`.\u001b[39m\u001b[38;5;124m\"\u001b[39m\n\u001b[0;32m-> 1213\u001b[0m         \u001b[38;5;28;01mraise\u001b[39;00m \u001b[38;5;167;01mValueError\u001b[39;00m(err_msg)\n\u001b[1;32m   1214\u001b[0m \u001b[38;5;28;01melif\u001b[39;00m length \u001b[38;5;129;01mand\u001b[39;00m \u001b[38;5;28mlen\u001b[39m(df_input[argument]) \u001b[38;5;241m!=\u001b[39m length:\n\u001b[1;32m   1215\u001b[0m     \u001b[38;5;28;01mraise\u001b[39;00m \u001b[38;5;167;01mValueError\u001b[39;00m(\n\u001b[1;32m   1216\u001b[0m         \u001b[38;5;124m\"\u001b[39m\u001b[38;5;124mAll arguments should have the same length. \u001b[39m\u001b[38;5;124m\"\u001b[39m\n\u001b[1;32m   1217\u001b[0m         \u001b[38;5;124m\"\u001b[39m\u001b[38;5;124mThe length of column argument `df[\u001b[39m\u001b[38;5;132;01m%s\u001b[39;00m\u001b[38;5;124m]` is \u001b[39m\u001b[38;5;132;01m%d\u001b[39;00m\u001b[38;5;124m, whereas the \u001b[39m\u001b[38;5;124m\"\u001b[39m\n\u001b[0;32m   (...)\u001b[0m\n\u001b[1;32m   1224\u001b[0m         )\n\u001b[1;32m   1225\u001b[0m     )\n",
      "\u001b[0;31mValueError\u001b[0m: Value of 'x' is not the name of a column in 'data_frame'. Expected one of ['count'] but received: Crm Cd Desc"
     ]
    }
   ],
   "source": [
    "fig = px.bar(top_10_crimes_2022, x='Crm Cd Desc', title='Top 10 Crimes in 2022',\n",
    "             color='Crm Cd Desc',  # Use 'Crm Cd Desc' column for coloring bars\n",
    "             labels={'Crm Cd Desc': 'Crime Description', 'Occurrences': 'Number of Occurrences'})\n",
    "fig.update_layout(height = 700)"
   ]
  },
  {
   "cell_type": "markdown",
   "metadata": {},
   "source": [
    "NOTE: This error occurs because you need to turn top_10_crimes_2022 into a DATAFRAME before it can be visualized."
   ]
  },
  {
   "cell_type": "code",
   "execution_count": null,
   "metadata": {},
   "outputs": [
    {
     "name": "stdout",
     "output_type": "stream",
     "text": [
      "Collecting nbformat\n",
      "  Downloading nbformat-5.10.4-py3-none-any.whl.metadata (3.6 kB)\n",
      "Collecting fastjsonschema>=2.15 (from nbformat)\n",
      "  Downloading fastjsonschema-2.19.1-py3-none-any.whl.metadata (2.1 kB)\n",
      "Collecting jsonschema>=2.6 (from nbformat)\n",
      "  Downloading jsonschema-4.21.1-py3-none-any.whl.metadata (7.8 kB)\n",
      "Requirement already satisfied: jupyter-core!=5.0.*,>=4.12 in /Users/shemarfraser/Library/Python/3.12/lib/python/site-packages (from nbformat) (5.7.2)\n",
      "Requirement already satisfied: traitlets>=5.1 in /Users/shemarfraser/Library/Python/3.12/lib/python/site-packages (from nbformat) (5.14.3)\n",
      "Collecting attrs>=22.2.0 (from jsonschema>=2.6->nbformat)\n",
      "  Downloading attrs-23.2.0-py3-none-any.whl.metadata (9.5 kB)\n",
      "Collecting jsonschema-specifications>=2023.03.6 (from jsonschema>=2.6->nbformat)\n",
      "  Downloading jsonschema_specifications-2023.12.1-py3-none-any.whl.metadata (3.0 kB)\n",
      "Collecting referencing>=0.28.4 (from jsonschema>=2.6->nbformat)\n",
      "  Downloading referencing-0.35.0-py3-none-any.whl.metadata (2.8 kB)\n",
      "Collecting rpds-py>=0.7.1 (from jsonschema>=2.6->nbformat)\n",
      "  Downloading rpds_py-0.18.0-cp312-cp312-macosx_10_12_x86_64.whl.metadata (4.1 kB)\n",
      "Requirement already satisfied: platformdirs>=2.5 in /Users/shemarfraser/Library/Python/3.12/lib/python/site-packages (from jupyter-core!=5.0.*,>=4.12->nbformat) (4.2.1)\n",
      "Downloading nbformat-5.10.4-py3-none-any.whl (78 kB)\n",
      "\u001b[2K   \u001b[90m━━━━━━━━━━━━━━━━━━━━━━━━━━━━━━━━━━━━━━━━\u001b[0m \u001b[32m78.5/78.5 kB\u001b[0m \u001b[31m1.3 MB/s\u001b[0m eta \u001b[36m0:00:00\u001b[0ma \u001b[36m0:00:01\u001b[0m\n",
      "\u001b[?25hDownloading fastjsonschema-2.19.1-py3-none-any.whl (23 kB)\n",
      "Downloading jsonschema-4.21.1-py3-none-any.whl (85 kB)\n",
      "\u001b[2K   \u001b[90m━━━━━━━━━━━━━━━━━━━━━━━━━━━━━━━━━━━━━━━━\u001b[0m \u001b[32m85.5/85.5 kB\u001b[0m \u001b[31m2.9 MB/s\u001b[0m eta \u001b[36m0:00:00\u001b[0m\n",
      "\u001b[?25hDownloading attrs-23.2.0-py3-none-any.whl (60 kB)\n",
      "\u001b[2K   \u001b[90m━━━━━━━━━━━━━━━━━━━━━━━━━━━━━━━━━━━━━━━━\u001b[0m \u001b[32m60.8/60.8 kB\u001b[0m \u001b[31m2.1 MB/s\u001b[0m eta \u001b[36m0:00:00\u001b[0m\n",
      "\u001b[?25hDownloading jsonschema_specifications-2023.12.1-py3-none-any.whl (18 kB)\n",
      "Downloading referencing-0.35.0-py3-none-any.whl (26 kB)\n",
      "Downloading rpds_py-0.18.0-cp312-cp312-macosx_10_12_x86_64.whl (338 kB)\n",
      "\u001b[2K   \u001b[90m━━━━━━━━━━━━━━━━━━━━━━━━━━━━━━━━━━━━━━━━\u001b[0m \u001b[32m338.8/338.8 kB\u001b[0m \u001b[31m2.9 MB/s\u001b[0m eta \u001b[36m0:00:00\u001b[0m00:01\u001b[0m00:01\u001b[0m\n",
      "\u001b[?25hInstalling collected packages: fastjsonschema, rpds-py, attrs, referencing, jsonschema-specifications, jsonschema, nbformat\n",
      "Successfully installed attrs-23.2.0 fastjsonschema-2.19.1 jsonschema-4.21.1 jsonschema-specifications-2023.12.1 nbformat-5.10.4 referencing-0.35.0 rpds-py-0.18.0\n",
      "Note: you may need to restart the kernel to use updated packages.\n"
     ]
    }
   ],
   "source": [
    "pip install --upgrade nbformat"
   ]
  },
  {
   "cell_type": "code",
   "execution_count": null,
   "metadata": {},
   "outputs": [
    {
     "data": {
      "text/plain": [
       "Crm Cd Desc\n",
       "VEHICLE - STOLEN                                           24730\n",
       "THEFT OF IDENTITY                                          21964\n",
       "BATTERY - SIMPLE ASSAULT                                   18056\n",
       "BURGLARY FROM VEHICLE                                      14227\n",
       "BURGLARY                                                   14067\n",
       "VANDALISM - FELONY ($400 & OVER, ALL CHURCH VANDALISMS)    13349\n",
       "ASSAULT WITH DEADLY WEAPON, AGGRAVATED ASSAULT             12867\n",
       "THEFT PLAIN - PETTY ($950 & UNDER)                         11366\n",
       "INTIMATE PARTNER - SIMPLE ASSAULT                          11171\n",
       "THEFT FROM MOTOR VEHICLE - GRAND ($950.01 AND OVER)        10078\n",
       "Name: count, dtype: int64"
      ]
     },
     "execution_count": 83,
     "metadata": {},
     "output_type": "execute_result"
    }
   ],
   "source": [
    "top_10_crimes_2022"
   ]
  },
  {
   "cell_type": "code",
   "execution_count": null,
   "metadata": {},
   "outputs": [
    {
     "data": {
      "text/html": [
       "<div>\n",
       "<style scoped>\n",
       "    .dataframe tbody tr th:only-of-type {\n",
       "        vertical-align: middle;\n",
       "    }\n",
       "\n",
       "    .dataframe tbody tr th {\n",
       "        vertical-align: top;\n",
       "    }\n",
       "\n",
       "    .dataframe thead th {\n",
       "        text-align: right;\n",
       "    }\n",
       "</style>\n",
       "<table border=\"1\" class=\"dataframe\">\n",
       "  <thead>\n",
       "    <tr style=\"text-align: right;\">\n",
       "      <th></th>\n",
       "      <th>DR_NO</th>\n",
       "      <th>Date Rptd</th>\n",
       "      <th>DATE OCC</th>\n",
       "      <th>TIME OCC</th>\n",
       "      <th>AREA</th>\n",
       "      <th>AREA NAME</th>\n",
       "      <th>Rpt Dist No</th>\n",
       "      <th>Part 1-2</th>\n",
       "      <th>Crm Cd</th>\n",
       "      <th>Crm Cd Desc</th>\n",
       "      <th>...</th>\n",
       "      <th>Status</th>\n",
       "      <th>Status Desc</th>\n",
       "      <th>Crm Cd 1</th>\n",
       "      <th>Crm Cd 2</th>\n",
       "      <th>Crm Cd 3</th>\n",
       "      <th>Crm Cd 4</th>\n",
       "      <th>LOCATION</th>\n",
       "      <th>Cross Street</th>\n",
       "      <th>LAT</th>\n",
       "      <th>LON</th>\n",
       "    </tr>\n",
       "  </thead>\n",
       "  <tbody>\n",
       "    <tr>\n",
       "      <th>0</th>\n",
       "      <td>190326475</td>\n",
       "      <td>03/01/2020 12:00:00 AM</td>\n",
       "      <td>2020-03-01</td>\n",
       "      <td>2130</td>\n",
       "      <td>7</td>\n",
       "      <td>Wilshire</td>\n",
       "      <td>784</td>\n",
       "      <td>1</td>\n",
       "      <td>510</td>\n",
       "      <td>VEHICLE - STOLEN</td>\n",
       "      <td>...</td>\n",
       "      <td>AA</td>\n",
       "      <td>Adult Arrest</td>\n",
       "      <td>510.0</td>\n",
       "      <td>998.0</td>\n",
       "      <td>NaN</td>\n",
       "      <td>NaN</td>\n",
       "      <td>1900 S  LONGWOOD                     AV</td>\n",
       "      <td>NaN</td>\n",
       "      <td>34.0375</td>\n",
       "      <td>-118.3506</td>\n",
       "    </tr>\n",
       "    <tr>\n",
       "      <th>1</th>\n",
       "      <td>200106753</td>\n",
       "      <td>02/09/2020 12:00:00 AM</td>\n",
       "      <td>2020-02-08</td>\n",
       "      <td>1800</td>\n",
       "      <td>1</td>\n",
       "      <td>Central</td>\n",
       "      <td>182</td>\n",
       "      <td>1</td>\n",
       "      <td>330</td>\n",
       "      <td>BURGLARY FROM VEHICLE</td>\n",
       "      <td>...</td>\n",
       "      <td>IC</td>\n",
       "      <td>Invest Cont</td>\n",
       "      <td>330.0</td>\n",
       "      <td>998.0</td>\n",
       "      <td>NaN</td>\n",
       "      <td>NaN</td>\n",
       "      <td>1000 S  FLOWER                       ST</td>\n",
       "      <td>NaN</td>\n",
       "      <td>34.0444</td>\n",
       "      <td>-118.2628</td>\n",
       "    </tr>\n",
       "    <tr>\n",
       "      <th>2</th>\n",
       "      <td>200320258</td>\n",
       "      <td>11/11/2020 12:00:00 AM</td>\n",
       "      <td>2020-11-04</td>\n",
       "      <td>1700</td>\n",
       "      <td>3</td>\n",
       "      <td>Southwest</td>\n",
       "      <td>356</td>\n",
       "      <td>1</td>\n",
       "      <td>480</td>\n",
       "      <td>BIKE - STOLEN</td>\n",
       "      <td>...</td>\n",
       "      <td>IC</td>\n",
       "      <td>Invest Cont</td>\n",
       "      <td>480.0</td>\n",
       "      <td>NaN</td>\n",
       "      <td>NaN</td>\n",
       "      <td>NaN</td>\n",
       "      <td>1400 W  37TH                         ST</td>\n",
       "      <td>NaN</td>\n",
       "      <td>34.0210</td>\n",
       "      <td>-118.3002</td>\n",
       "    </tr>\n",
       "    <tr>\n",
       "      <th>3</th>\n",
       "      <td>200907217</td>\n",
       "      <td>05/10/2023 12:00:00 AM</td>\n",
       "      <td>2020-03-10</td>\n",
       "      <td>2037</td>\n",
       "      <td>9</td>\n",
       "      <td>Van Nuys</td>\n",
       "      <td>964</td>\n",
       "      <td>1</td>\n",
       "      <td>343</td>\n",
       "      <td>SHOPLIFTING-GRAND THEFT ($950.01 &amp; OVER)</td>\n",
       "      <td>...</td>\n",
       "      <td>IC</td>\n",
       "      <td>Invest Cont</td>\n",
       "      <td>343.0</td>\n",
       "      <td>NaN</td>\n",
       "      <td>NaN</td>\n",
       "      <td>NaN</td>\n",
       "      <td>14000    RIVERSIDE                    DR</td>\n",
       "      <td>NaN</td>\n",
       "      <td>34.1576</td>\n",
       "      <td>-118.4387</td>\n",
       "    </tr>\n",
       "    <tr>\n",
       "      <th>4</th>\n",
       "      <td>220614831</td>\n",
       "      <td>08/18/2022 12:00:00 AM</td>\n",
       "      <td>2020-08-17</td>\n",
       "      <td>1200</td>\n",
       "      <td>6</td>\n",
       "      <td>Hollywood</td>\n",
       "      <td>666</td>\n",
       "      <td>2</td>\n",
       "      <td>354</td>\n",
       "      <td>THEFT OF IDENTITY</td>\n",
       "      <td>...</td>\n",
       "      <td>IC</td>\n",
       "      <td>Invest Cont</td>\n",
       "      <td>354.0</td>\n",
       "      <td>NaN</td>\n",
       "      <td>NaN</td>\n",
       "      <td>NaN</td>\n",
       "      <td>1900    TRANSIENT</td>\n",
       "      <td>NaN</td>\n",
       "      <td>34.0944</td>\n",
       "      <td>-118.3277</td>\n",
       "    </tr>\n",
       "    <tr>\n",
       "      <th>...</th>\n",
       "      <td>...</td>\n",
       "      <td>...</td>\n",
       "      <td>...</td>\n",
       "      <td>...</td>\n",
       "      <td>...</td>\n",
       "      <td>...</td>\n",
       "      <td>...</td>\n",
       "      <td>...</td>\n",
       "      <td>...</td>\n",
       "      <td>...</td>\n",
       "      <td>...</td>\n",
       "      <td>...</td>\n",
       "      <td>...</td>\n",
       "      <td>...</td>\n",
       "      <td>...</td>\n",
       "      <td>...</td>\n",
       "      <td>...</td>\n",
       "      <td>...</td>\n",
       "      <td>...</td>\n",
       "      <td>...</td>\n",
       "      <td>...</td>\n",
       "    </tr>\n",
       "    <tr>\n",
       "      <th>918438</th>\n",
       "      <td>241605270</td>\n",
       "      <td>02/11/2024 12:00:00 AM</td>\n",
       "      <td>2024-02-11</td>\n",
       "      <td>1920</td>\n",
       "      <td>16</td>\n",
       "      <td>Foothill</td>\n",
       "      <td>1681</td>\n",
       "      <td>2</td>\n",
       "      <td>888</td>\n",
       "      <td>TRESPASSING</td>\n",
       "      <td>...</td>\n",
       "      <td>AA</td>\n",
       "      <td>Adult Arrest</td>\n",
       "      <td>888.0</td>\n",
       "      <td>NaN</td>\n",
       "      <td>NaN</td>\n",
       "      <td>NaN</td>\n",
       "      <td>8700    SHARP                        AV</td>\n",
       "      <td>NaN</td>\n",
       "      <td>34.2278</td>\n",
       "      <td>-118.4051</td>\n",
       "    </tr>\n",
       "    <tr>\n",
       "      <th>918439</th>\n",
       "      <td>241604405</td>\n",
       "      <td>01/14/2024 12:00:00 AM</td>\n",
       "      <td>2024-01-13</td>\n",
       "      <td>720</td>\n",
       "      <td>16</td>\n",
       "      <td>Foothill</td>\n",
       "      <td>1673</td>\n",
       "      <td>1</td>\n",
       "      <td>230</td>\n",
       "      <td>ASSAULT WITH DEADLY WEAPON, AGGRAVATED ASSAULT</td>\n",
       "      <td>...</td>\n",
       "      <td>IC</td>\n",
       "      <td>Invest Cont</td>\n",
       "      <td>230.0</td>\n",
       "      <td>NaN</td>\n",
       "      <td>NaN</td>\n",
       "      <td>NaN</td>\n",
       "      <td>8700    LANKERSHIM                   BL</td>\n",
       "      <td>NaN</td>\n",
       "      <td>34.2271</td>\n",
       "      <td>-118.3878</td>\n",
       "    </tr>\n",
       "    <tr>\n",
       "      <th>918440</th>\n",
       "      <td>242106032</td>\n",
       "      <td>02/20/2024 12:00:00 AM</td>\n",
       "      <td>2024-02-17</td>\n",
       "      <td>2330</td>\n",
       "      <td>21</td>\n",
       "      <td>Topanga</td>\n",
       "      <td>2103</td>\n",
       "      <td>1</td>\n",
       "      <td>420</td>\n",
       "      <td>THEFT FROM MOTOR VEHICLE - PETTY ($950 &amp; UNDER)</td>\n",
       "      <td>...</td>\n",
       "      <td>IC</td>\n",
       "      <td>Invest Cont</td>\n",
       "      <td>420.0</td>\n",
       "      <td>NaN</td>\n",
       "      <td>NaN</td>\n",
       "      <td>NaN</td>\n",
       "      <td>22700    NAPA                         ST</td>\n",
       "      <td>NaN</td>\n",
       "      <td>34.2260</td>\n",
       "      <td>-118.6214</td>\n",
       "    </tr>\n",
       "    <tr>\n",
       "      <th>918441</th>\n",
       "      <td>242004546</td>\n",
       "      <td>01/16/2024 12:00:00 AM</td>\n",
       "      <td>2024-01-16</td>\n",
       "      <td>1510</td>\n",
       "      <td>20</td>\n",
       "      <td>Olympic</td>\n",
       "      <td>2013</td>\n",
       "      <td>2</td>\n",
       "      <td>624</td>\n",
       "      <td>BATTERY - SIMPLE ASSAULT</td>\n",
       "      <td>...</td>\n",
       "      <td>IC</td>\n",
       "      <td>Invest Cont</td>\n",
       "      <td>624.0</td>\n",
       "      <td>NaN</td>\n",
       "      <td>NaN</td>\n",
       "      <td>NaN</td>\n",
       "      <td>HOBART                       BL</td>\n",
       "      <td>3RD                          ST</td>\n",
       "      <td>34.0690</td>\n",
       "      <td>-118.3054</td>\n",
       "    </tr>\n",
       "    <tr>\n",
       "      <th>918442</th>\n",
       "      <td>240104953</td>\n",
       "      <td>01/15/2024 12:00:00 AM</td>\n",
       "      <td>2024-01-15</td>\n",
       "      <td>100</td>\n",
       "      <td>1</td>\n",
       "      <td>Central</td>\n",
       "      <td>101</td>\n",
       "      <td>2</td>\n",
       "      <td>745</td>\n",
       "      <td>VANDALISM - MISDEAMEANOR ($399 OR UNDER)</td>\n",
       "      <td>...</td>\n",
       "      <td>IC</td>\n",
       "      <td>Invest Cont</td>\n",
       "      <td>745.0</td>\n",
       "      <td>NaN</td>\n",
       "      <td>NaN</td>\n",
       "      <td>NaN</td>\n",
       "      <td>1300 W  SUNSET                       BL</td>\n",
       "      <td>NaN</td>\n",
       "      <td>34.0685</td>\n",
       "      <td>-118.2460</td>\n",
       "    </tr>\n",
       "  </tbody>\n",
       "</table>\n",
       "<p>918443 rows × 28 columns</p>\n",
       "</div>"
      ],
      "text/plain": [
       "            DR_NO               Date Rptd   DATE OCC  TIME OCC  AREA  \\\n",
       "0       190326475  03/01/2020 12:00:00 AM 2020-03-01      2130     7   \n",
       "1       200106753  02/09/2020 12:00:00 AM 2020-02-08      1800     1   \n",
       "2       200320258  11/11/2020 12:00:00 AM 2020-11-04      1700     3   \n",
       "3       200907217  05/10/2023 12:00:00 AM 2020-03-10      2037     9   \n",
       "4       220614831  08/18/2022 12:00:00 AM 2020-08-17      1200     6   \n",
       "...           ...                     ...        ...       ...   ...   \n",
       "918438  241605270  02/11/2024 12:00:00 AM 2024-02-11      1920    16   \n",
       "918439  241604405  01/14/2024 12:00:00 AM 2024-01-13       720    16   \n",
       "918440  242106032  02/20/2024 12:00:00 AM 2024-02-17      2330    21   \n",
       "918441  242004546  01/16/2024 12:00:00 AM 2024-01-16      1510    20   \n",
       "918442  240104953  01/15/2024 12:00:00 AM 2024-01-15       100     1   \n",
       "\n",
       "        AREA NAME  Rpt Dist No  Part 1-2  Crm Cd  \\\n",
       "0        Wilshire          784         1     510   \n",
       "1         Central          182         1     330   \n",
       "2       Southwest          356         1     480   \n",
       "3        Van Nuys          964         1     343   \n",
       "4       Hollywood          666         2     354   \n",
       "...           ...          ...       ...     ...   \n",
       "918438   Foothill         1681         2     888   \n",
       "918439   Foothill         1673         1     230   \n",
       "918440    Topanga         2103         1     420   \n",
       "918441    Olympic         2013         2     624   \n",
       "918442    Central          101         2     745   \n",
       "\n",
       "                                            Crm Cd Desc  ... Status  \\\n",
       "0                                      VEHICLE - STOLEN  ...     AA   \n",
       "1                                 BURGLARY FROM VEHICLE  ...     IC   \n",
       "2                                         BIKE - STOLEN  ...     IC   \n",
       "3              SHOPLIFTING-GRAND THEFT ($950.01 & OVER)  ...     IC   \n",
       "4                                     THEFT OF IDENTITY  ...     IC   \n",
       "...                                                 ...  ...    ...   \n",
       "918438                                      TRESPASSING  ...     AA   \n",
       "918439   ASSAULT WITH DEADLY WEAPON, AGGRAVATED ASSAULT  ...     IC   \n",
       "918440  THEFT FROM MOTOR VEHICLE - PETTY ($950 & UNDER)  ...     IC   \n",
       "918441                         BATTERY - SIMPLE ASSAULT  ...     IC   \n",
       "918442         VANDALISM - MISDEAMEANOR ($399 OR UNDER)  ...     IC   \n",
       "\n",
       "         Status Desc Crm Cd 1 Crm Cd 2  Crm Cd 3 Crm Cd 4  \\\n",
       "0       Adult Arrest    510.0    998.0       NaN      NaN   \n",
       "1        Invest Cont    330.0    998.0       NaN      NaN   \n",
       "2        Invest Cont    480.0      NaN       NaN      NaN   \n",
       "3        Invest Cont    343.0      NaN       NaN      NaN   \n",
       "4        Invest Cont    354.0      NaN       NaN      NaN   \n",
       "...              ...      ...      ...       ...      ...   \n",
       "918438  Adult Arrest    888.0      NaN       NaN      NaN   \n",
       "918439   Invest Cont    230.0      NaN       NaN      NaN   \n",
       "918440   Invest Cont    420.0      NaN       NaN      NaN   \n",
       "918441   Invest Cont    624.0      NaN       NaN      NaN   \n",
       "918442   Invest Cont    745.0      NaN       NaN      NaN   \n",
       "\n",
       "                                        LOCATION  \\\n",
       "0        1900 S  LONGWOOD                     AV   \n",
       "1        1000 S  FLOWER                       ST   \n",
       "2        1400 W  37TH                         ST   \n",
       "3       14000    RIVERSIDE                    DR   \n",
       "4                              1900    TRANSIENT   \n",
       "...                                          ...   \n",
       "918438   8700    SHARP                        AV   \n",
       "918439   8700    LANKERSHIM                   BL   \n",
       "918440  22700    NAPA                         ST   \n",
       "918441           HOBART                       BL   \n",
       "918442   1300 W  SUNSET                       BL   \n",
       "\n",
       "                           Cross Street      LAT       LON  \n",
       "0                                   NaN  34.0375 -118.3506  \n",
       "1                                   NaN  34.0444 -118.2628  \n",
       "2                                   NaN  34.0210 -118.3002  \n",
       "3                                   NaN  34.1576 -118.4387  \n",
       "4                                   NaN  34.0944 -118.3277  \n",
       "...                                 ...      ...       ...  \n",
       "918438                              NaN  34.2278 -118.4051  \n",
       "918439                              NaN  34.2271 -118.3878  \n",
       "918440                              NaN  34.2260 -118.6214  \n",
       "918441  3RD                          ST  34.0690 -118.3054  \n",
       "918442                              NaN  34.0685 -118.2460  \n",
       "\n",
       "[918443 rows x 28 columns]"
      ]
     },
     "execution_count": 84,
     "metadata": {},
     "output_type": "execute_result"
    }
   ],
   "source": [
    "crime"
   ]
  },
  {
   "cell_type": "code",
   "execution_count": null,
   "metadata": {},
   "outputs": [
    {
     "data": {
      "text/html": [
       "<div>\n",
       "<style scoped>\n",
       "    .dataframe tbody tr th:only-of-type {\n",
       "        vertical-align: middle;\n",
       "    }\n",
       "\n",
       "    .dataframe tbody tr th {\n",
       "        vertical-align: top;\n",
       "    }\n",
       "\n",
       "    .dataframe thead th {\n",
       "        text-align: right;\n",
       "    }\n",
       "</style>\n",
       "<table border=\"1\" class=\"dataframe\">\n",
       "  <thead>\n",
       "    <tr style=\"text-align: right;\">\n",
       "      <th></th>\n",
       "      <th>DR_NO</th>\n",
       "      <th>Date Rptd</th>\n",
       "      <th>DATE OCC</th>\n",
       "      <th>TIME OCC</th>\n",
       "      <th>AREA</th>\n",
       "      <th>AREA NAME</th>\n",
       "      <th>Rpt Dist No</th>\n",
       "      <th>Part 1-2</th>\n",
       "      <th>Crm Cd</th>\n",
       "      <th>Crm Cd Desc</th>\n",
       "      <th>...</th>\n",
       "      <th>Status</th>\n",
       "      <th>Status Desc</th>\n",
       "      <th>Crm Cd 1</th>\n",
       "      <th>Crm Cd 2</th>\n",
       "      <th>Crm Cd 3</th>\n",
       "      <th>Crm Cd 4</th>\n",
       "      <th>LOCATION</th>\n",
       "      <th>Cross Street</th>\n",
       "      <th>LAT</th>\n",
       "      <th>LON</th>\n",
       "    </tr>\n",
       "  </thead>\n",
       "  <tbody>\n",
       "    <tr>\n",
       "      <th>349014</th>\n",
       "      <td>221408870</td>\n",
       "      <td>04/07/2022 12:00:00 AM</td>\n",
       "      <td>2022-04-06</td>\n",
       "      <td>1100</td>\n",
       "      <td>14</td>\n",
       "      <td>Pacific</td>\n",
       "      <td>1444</td>\n",
       "      <td>1</td>\n",
       "      <td>510</td>\n",
       "      <td>VEHICLE - STOLEN</td>\n",
       "      <td>...</td>\n",
       "      <td>IC</td>\n",
       "      <td>Invest Cont</td>\n",
       "      <td>510.0</td>\n",
       "      <td>NaN</td>\n",
       "      <td>NaN</td>\n",
       "      <td>NaN</td>\n",
       "      <td>3100    YALE                         AV</td>\n",
       "      <td>NaN</td>\n",
       "      <td>33.9878</td>\n",
       "      <td>-118.4483</td>\n",
       "    </tr>\n",
       "    <tr>\n",
       "      <th>349150</th>\n",
       "      <td>221906799</td>\n",
       "      <td>03/11/2022 12:00:00 AM</td>\n",
       "      <td>2022-03-10</td>\n",
       "      <td>2100</td>\n",
       "      <td>19</td>\n",
       "      <td>Mission</td>\n",
       "      <td>1982</td>\n",
       "      <td>1</td>\n",
       "      <td>510</td>\n",
       "      <td>VEHICLE - STOLEN</td>\n",
       "      <td>...</td>\n",
       "      <td>IC</td>\n",
       "      <td>Invest Cont</td>\n",
       "      <td>510.0</td>\n",
       "      <td>NaN</td>\n",
       "      <td>NaN</td>\n",
       "      <td>NaN</td>\n",
       "      <td>8800    BURNET                       AV</td>\n",
       "      <td>NaN</td>\n",
       "      <td>34.2301</td>\n",
       "      <td>-118.4633</td>\n",
       "    </tr>\n",
       "    <tr>\n",
       "      <th>349179</th>\n",
       "      <td>221409103</td>\n",
       "      <td>04/12/2022 12:00:00 AM</td>\n",
       "      <td>2022-04-11</td>\n",
       "      <td>2000</td>\n",
       "      <td>14</td>\n",
       "      <td>Pacific</td>\n",
       "      <td>1466</td>\n",
       "      <td>1</td>\n",
       "      <td>510</td>\n",
       "      <td>VEHICLE - STOLEN</td>\n",
       "      <td>...</td>\n",
       "      <td>IC</td>\n",
       "      <td>Invest Cont</td>\n",
       "      <td>510.0</td>\n",
       "      <td>NaN</td>\n",
       "      <td>NaN</td>\n",
       "      <td>NaN</td>\n",
       "      <td>6400    RIGGS                        PL</td>\n",
       "      <td>NaN</td>\n",
       "      <td>33.9783</td>\n",
       "      <td>-118.3991</td>\n",
       "    </tr>\n",
       "    <tr>\n",
       "      <th>349453</th>\n",
       "      <td>221105380</td>\n",
       "      <td>02/07/2022 12:00:00 AM</td>\n",
       "      <td>2022-02-07</td>\n",
       "      <td>1330</td>\n",
       "      <td>11</td>\n",
       "      <td>Northeast</td>\n",
       "      <td>1134</td>\n",
       "      <td>1</td>\n",
       "      <td>510</td>\n",
       "      <td>VEHICLE - STOLEN</td>\n",
       "      <td>...</td>\n",
       "      <td>AA</td>\n",
       "      <td>Adult Arrest</td>\n",
       "      <td>510.0</td>\n",
       "      <td>NaN</td>\n",
       "      <td>NaN</td>\n",
       "      <td>NaN</td>\n",
       "      <td>2700 W  AVENUE 30</td>\n",
       "      <td>NaN</td>\n",
       "      <td>34.1100</td>\n",
       "      <td>-118.2413</td>\n",
       "    </tr>\n",
       "    <tr>\n",
       "      <th>349537</th>\n",
       "      <td>222010687</td>\n",
       "      <td>06/04/2022 12:00:00 AM</td>\n",
       "      <td>2022-06-03</td>\n",
       "      <td>2200</td>\n",
       "      <td>20</td>\n",
       "      <td>Olympic</td>\n",
       "      <td>2011</td>\n",
       "      <td>1</td>\n",
       "      <td>510</td>\n",
       "      <td>VEHICLE - STOLEN</td>\n",
       "      <td>...</td>\n",
       "      <td>IC</td>\n",
       "      <td>Invest Cont</td>\n",
       "      <td>510.0</td>\n",
       "      <td>NaN</td>\n",
       "      <td>NaN</td>\n",
       "      <td>NaN</td>\n",
       "      <td>100 S  SAINT ANDREWS                PL</td>\n",
       "      <td>NaN</td>\n",
       "      <td>34.0731</td>\n",
       "      <td>-118.3113</td>\n",
       "    </tr>\n",
       "    <tr>\n",
       "      <th>...</th>\n",
       "      <td>...</td>\n",
       "      <td>...</td>\n",
       "      <td>...</td>\n",
       "      <td>...</td>\n",
       "      <td>...</td>\n",
       "      <td>...</td>\n",
       "      <td>...</td>\n",
       "      <td>...</td>\n",
       "      <td>...</td>\n",
       "      <td>...</td>\n",
       "      <td>...</td>\n",
       "      <td>...</td>\n",
       "      <td>...</td>\n",
       "      <td>...</td>\n",
       "      <td>...</td>\n",
       "      <td>...</td>\n",
       "      <td>...</td>\n",
       "      <td>...</td>\n",
       "      <td>...</td>\n",
       "      <td>...</td>\n",
       "      <td>...</td>\n",
       "    </tr>\n",
       "    <tr>\n",
       "      <th>644081</th>\n",
       "      <td>221017286</td>\n",
       "      <td>12/05/2022 12:00:00 AM</td>\n",
       "      <td>2022-12-01</td>\n",
       "      <td>1800</td>\n",
       "      <td>10</td>\n",
       "      <td>West Valley</td>\n",
       "      <td>1047</td>\n",
       "      <td>1</td>\n",
       "      <td>331</td>\n",
       "      <td>THEFT FROM MOTOR VEHICLE - GRAND ($950.01 AND ...</td>\n",
       "      <td>...</td>\n",
       "      <td>IC</td>\n",
       "      <td>Invest Cont</td>\n",
       "      <td>331.0</td>\n",
       "      <td>NaN</td>\n",
       "      <td>NaN</td>\n",
       "      <td>NaN</td>\n",
       "      <td>17200    BURBANK                      BL</td>\n",
       "      <td>NaN</td>\n",
       "      <td>34.1722</td>\n",
       "      <td>-118.5077</td>\n",
       "    </tr>\n",
       "    <tr>\n",
       "      <th>644082</th>\n",
       "      <td>221005507</td>\n",
       "      <td>02/10/2022 12:00:00 AM</td>\n",
       "      <td>2022-02-09</td>\n",
       "      <td>1530</td>\n",
       "      <td>10</td>\n",
       "      <td>West Valley</td>\n",
       "      <td>1024</td>\n",
       "      <td>1</td>\n",
       "      <td>510</td>\n",
       "      <td>VEHICLE - STOLEN</td>\n",
       "      <td>...</td>\n",
       "      <td>IC</td>\n",
       "      <td>Invest Cont</td>\n",
       "      <td>510.0</td>\n",
       "      <td>NaN</td>\n",
       "      <td>NaN</td>\n",
       "      <td>NaN</td>\n",
       "      <td>18800    SHERMAN                      WY</td>\n",
       "      <td>NaN</td>\n",
       "      <td>34.2011</td>\n",
       "      <td>-118.5426</td>\n",
       "    </tr>\n",
       "    <tr>\n",
       "      <th>644083</th>\n",
       "      <td>221105477</td>\n",
       "      <td>02/10/2022 12:00:00 AM</td>\n",
       "      <td>2022-02-08</td>\n",
       "      <td>2000</td>\n",
       "      <td>11</td>\n",
       "      <td>Northeast</td>\n",
       "      <td>1171</td>\n",
       "      <td>1</td>\n",
       "      <td>510</td>\n",
       "      <td>VEHICLE - STOLEN</td>\n",
       "      <td>...</td>\n",
       "      <td>IC</td>\n",
       "      <td>Invest Cont</td>\n",
       "      <td>510.0</td>\n",
       "      <td>NaN</td>\n",
       "      <td>NaN</td>\n",
       "      <td>NaN</td>\n",
       "      <td>4000    FOUNTAIN                     AV</td>\n",
       "      <td>NaN</td>\n",
       "      <td>34.0958</td>\n",
       "      <td>-118.2787</td>\n",
       "    </tr>\n",
       "    <tr>\n",
       "      <th>644084</th>\n",
       "      <td>221605448</td>\n",
       "      <td>02/15/2022 12:00:00 AM</td>\n",
       "      <td>2022-02-14</td>\n",
       "      <td>1800</td>\n",
       "      <td>16</td>\n",
       "      <td>Foothill</td>\n",
       "      <td>1613</td>\n",
       "      <td>1</td>\n",
       "      <td>331</td>\n",
       "      <td>THEFT FROM MOTOR VEHICLE - GRAND ($950.01 AND ...</td>\n",
       "      <td>...</td>\n",
       "      <td>IC</td>\n",
       "      <td>Invest Cont</td>\n",
       "      <td>331.0</td>\n",
       "      <td>NaN</td>\n",
       "      <td>NaN</td>\n",
       "      <td>NaN</td>\n",
       "      <td>12700    VAN NUYS                     BL</td>\n",
       "      <td>NaN</td>\n",
       "      <td>34.2755</td>\n",
       "      <td>-118.4092</td>\n",
       "    </tr>\n",
       "    <tr>\n",
       "      <th>644085</th>\n",
       "      <td>221018080</td>\n",
       "      <td>12/25/2022 12:00:00 AM</td>\n",
       "      <td>2022-12-25</td>\n",
       "      <td>1300</td>\n",
       "      <td>10</td>\n",
       "      <td>West Valley</td>\n",
       "      <td>1065</td>\n",
       "      <td>2</td>\n",
       "      <td>626</td>\n",
       "      <td>INTIMATE PARTNER - SIMPLE ASSAULT</td>\n",
       "      <td>...</td>\n",
       "      <td>AO</td>\n",
       "      <td>Adult Other</td>\n",
       "      <td>626.0</td>\n",
       "      <td>NaN</td>\n",
       "      <td>NaN</td>\n",
       "      <td>NaN</td>\n",
       "      <td>5300    NEWCASTLE                    AV</td>\n",
       "      <td>NaN</td>\n",
       "      <td>34.1667</td>\n",
       "      <td>-118.5244</td>\n",
       "    </tr>\n",
       "  </tbody>\n",
       "</table>\n",
       "<p>234822 rows × 28 columns</p>\n",
       "</div>"
      ],
      "text/plain": [
       "            DR_NO               Date Rptd   DATE OCC  TIME OCC  AREA  \\\n",
       "349014  221408870  04/07/2022 12:00:00 AM 2022-04-06      1100    14   \n",
       "349150  221906799  03/11/2022 12:00:00 AM 2022-03-10      2100    19   \n",
       "349179  221409103  04/12/2022 12:00:00 AM 2022-04-11      2000    14   \n",
       "349453  221105380  02/07/2022 12:00:00 AM 2022-02-07      1330    11   \n",
       "349537  222010687  06/04/2022 12:00:00 AM 2022-06-03      2200    20   \n",
       "...           ...                     ...        ...       ...   ...   \n",
       "644081  221017286  12/05/2022 12:00:00 AM 2022-12-01      1800    10   \n",
       "644082  221005507  02/10/2022 12:00:00 AM 2022-02-09      1530    10   \n",
       "644083  221105477  02/10/2022 12:00:00 AM 2022-02-08      2000    11   \n",
       "644084  221605448  02/15/2022 12:00:00 AM 2022-02-14      1800    16   \n",
       "644085  221018080  12/25/2022 12:00:00 AM 2022-12-25      1300    10   \n",
       "\n",
       "          AREA NAME  Rpt Dist No  Part 1-2  Crm Cd  \\\n",
       "349014      Pacific         1444         1     510   \n",
       "349150      Mission         1982         1     510   \n",
       "349179      Pacific         1466         1     510   \n",
       "349453    Northeast         1134         1     510   \n",
       "349537      Olympic         2011         1     510   \n",
       "...             ...          ...       ...     ...   \n",
       "644081  West Valley         1047         1     331   \n",
       "644082  West Valley         1024         1     510   \n",
       "644083    Northeast         1171         1     510   \n",
       "644084     Foothill         1613         1     331   \n",
       "644085  West Valley         1065         2     626   \n",
       "\n",
       "                                              Crm Cd Desc  ... Status  \\\n",
       "349014                                   VEHICLE - STOLEN  ...     IC   \n",
       "349150                                   VEHICLE - STOLEN  ...     IC   \n",
       "349179                                   VEHICLE - STOLEN  ...     IC   \n",
       "349453                                   VEHICLE - STOLEN  ...     AA   \n",
       "349537                                   VEHICLE - STOLEN  ...     IC   \n",
       "...                                                   ...  ...    ...   \n",
       "644081  THEFT FROM MOTOR VEHICLE - GRAND ($950.01 AND ...  ...     IC   \n",
       "644082                                   VEHICLE - STOLEN  ...     IC   \n",
       "644083                                   VEHICLE - STOLEN  ...     IC   \n",
       "644084  THEFT FROM MOTOR VEHICLE - GRAND ($950.01 AND ...  ...     IC   \n",
       "644085                  INTIMATE PARTNER - SIMPLE ASSAULT  ...     AO   \n",
       "\n",
       "         Status Desc Crm Cd 1 Crm Cd 2  Crm Cd 3 Crm Cd 4  \\\n",
       "349014   Invest Cont    510.0      NaN       NaN      NaN   \n",
       "349150   Invest Cont    510.0      NaN       NaN      NaN   \n",
       "349179   Invest Cont    510.0      NaN       NaN      NaN   \n",
       "349453  Adult Arrest    510.0      NaN       NaN      NaN   \n",
       "349537   Invest Cont    510.0      NaN       NaN      NaN   \n",
       "...              ...      ...      ...       ...      ...   \n",
       "644081   Invest Cont    331.0      NaN       NaN      NaN   \n",
       "644082   Invest Cont    510.0      NaN       NaN      NaN   \n",
       "644083   Invest Cont    510.0      NaN       NaN      NaN   \n",
       "644084   Invest Cont    331.0      NaN       NaN      NaN   \n",
       "644085   Adult Other    626.0      NaN       NaN      NaN   \n",
       "\n",
       "                                        LOCATION Cross Street      LAT  \\\n",
       "349014   3100    YALE                         AV          NaN  33.9878   \n",
       "349150   8800    BURNET                       AV          NaN  34.2301   \n",
       "349179   6400    RIGGS                        PL          NaN  33.9783   \n",
       "349453                         2700 W  AVENUE 30          NaN  34.1100   \n",
       "349537    100 S  SAINT ANDREWS                PL          NaN  34.0731   \n",
       "...                                          ...          ...      ...   \n",
       "644081  17200    BURBANK                      BL          NaN  34.1722   \n",
       "644082  18800    SHERMAN                      WY          NaN  34.2011   \n",
       "644083   4000    FOUNTAIN                     AV          NaN  34.0958   \n",
       "644084  12700    VAN NUYS                     BL          NaN  34.2755   \n",
       "644085   5300    NEWCASTLE                    AV          NaN  34.1667   \n",
       "\n",
       "             LON  \n",
       "349014 -118.4483  \n",
       "349150 -118.4633  \n",
       "349179 -118.3991  \n",
       "349453 -118.2413  \n",
       "349537 -118.3113  \n",
       "...          ...  \n",
       "644081 -118.5077  \n",
       "644082 -118.5426  \n",
       "644083 -118.2787  \n",
       "644084 -118.4092  \n",
       "644085 -118.5244  \n",
       "\n",
       "[234822 rows x 28 columns]"
      ]
     },
     "execution_count": 85,
     "metadata": {},
     "output_type": "execute_result"
    }
   ],
   "source": [
    "crimes_2022"
   ]
  },
  {
   "cell_type": "code",
   "execution_count": 56,
   "metadata": {},
   "outputs": [],
   "source": [
    "top_10_crimes_2022_df = pd.DataFrame({'Crm Cd Desc': top_10_crimes_2022.index, 'Occurrences': top_10_crimes_2022.values})"
   ]
  },
  {
   "cell_type": "code",
   "execution_count": 57,
   "metadata": {},
   "outputs": [],
   "source": [
    "top_10_crimes_2023_df = pd.DataFrame({'Crm Cd Desc': top_10_crimes_2023.index, 'Occurrences': top_10_crimes_2023.values})"
   ]
  },
  {
   "cell_type": "code",
   "execution_count": 58,
   "metadata": {},
   "outputs": [],
   "source": [
    "top_10_crimes_2024_df = pd.DataFrame({'Crm Cd Desc': top_10_crimes_2024.index, 'Occurrences': top_10_crimes_2024.values})"
   ]
  },
  {
   "cell_type": "markdown",
   "metadata": {},
   "source": [
    "Here, we've converted top_10_crimes_2022, 2023, and 2024 into dataframes so that they can be visualized."
   ]
  },
  {
   "cell_type": "code",
   "execution_count": 59,
   "metadata": {},
   "outputs": [
    {
     "data": {
      "text/html": [
       "<div>\n",
       "<style scoped>\n",
       "    .dataframe tbody tr th:only-of-type {\n",
       "        vertical-align: middle;\n",
       "    }\n",
       "\n",
       "    .dataframe tbody tr th {\n",
       "        vertical-align: top;\n",
       "    }\n",
       "\n",
       "    .dataframe thead th {\n",
       "        text-align: right;\n",
       "    }\n",
       "</style>\n",
       "<table border=\"1\" class=\"dataframe\">\n",
       "  <thead>\n",
       "    <tr style=\"text-align: right;\">\n",
       "      <th></th>\n",
       "      <th>Crm Cd Desc</th>\n",
       "      <th>Occurrences</th>\n",
       "    </tr>\n",
       "  </thead>\n",
       "  <tbody>\n",
       "    <tr>\n",
       "      <th>0</th>\n",
       "      <td>VEHICLE - STOLEN</td>\n",
       "      <td>24730</td>\n",
       "    </tr>\n",
       "    <tr>\n",
       "      <th>1</th>\n",
       "      <td>THEFT OF IDENTITY</td>\n",
       "      <td>21964</td>\n",
       "    </tr>\n",
       "    <tr>\n",
       "      <th>2</th>\n",
       "      <td>BATTERY - SIMPLE ASSAULT</td>\n",
       "      <td>18056</td>\n",
       "    </tr>\n",
       "    <tr>\n",
       "      <th>3</th>\n",
       "      <td>BURGLARY FROM VEHICLE</td>\n",
       "      <td>14227</td>\n",
       "    </tr>\n",
       "    <tr>\n",
       "      <th>4</th>\n",
       "      <td>BURGLARY</td>\n",
       "      <td>14067</td>\n",
       "    </tr>\n",
       "    <tr>\n",
       "      <th>5</th>\n",
       "      <td>VANDALISM - FELONY ($400 &amp; OVER, ALL CHURCH VA...</td>\n",
       "      <td>13349</td>\n",
       "    </tr>\n",
       "    <tr>\n",
       "      <th>6</th>\n",
       "      <td>ASSAULT WITH DEADLY WEAPON, AGGRAVATED ASSAULT</td>\n",
       "      <td>12867</td>\n",
       "    </tr>\n",
       "    <tr>\n",
       "      <th>7</th>\n",
       "      <td>THEFT PLAIN - PETTY ($950 &amp; UNDER)</td>\n",
       "      <td>11366</td>\n",
       "    </tr>\n",
       "    <tr>\n",
       "      <th>8</th>\n",
       "      <td>INTIMATE PARTNER - SIMPLE ASSAULT</td>\n",
       "      <td>11171</td>\n",
       "    </tr>\n",
       "    <tr>\n",
       "      <th>9</th>\n",
       "      <td>THEFT FROM MOTOR VEHICLE - GRAND ($950.01 AND ...</td>\n",
       "      <td>10078</td>\n",
       "    </tr>\n",
       "  </tbody>\n",
       "</table>\n",
       "</div>"
      ],
      "text/plain": [
       "                                         Crm Cd Desc  Occurrences\n",
       "0                                   VEHICLE - STOLEN        24730\n",
       "1                                  THEFT OF IDENTITY        21964\n",
       "2                           BATTERY - SIMPLE ASSAULT        18056\n",
       "3                              BURGLARY FROM VEHICLE        14227\n",
       "4                                           BURGLARY        14067\n",
       "5  VANDALISM - FELONY ($400 & OVER, ALL CHURCH VA...        13349\n",
       "6     ASSAULT WITH DEADLY WEAPON, AGGRAVATED ASSAULT        12867\n",
       "7                 THEFT PLAIN - PETTY ($950 & UNDER)        11366\n",
       "8                  INTIMATE PARTNER - SIMPLE ASSAULT        11171\n",
       "9  THEFT FROM MOTOR VEHICLE - GRAND ($950.01 AND ...        10078"
      ]
     },
     "execution_count": 59,
     "metadata": {},
     "output_type": "execute_result"
    }
   ],
   "source": [
    "top_10_crimes_2022_df"
   ]
  },
  {
   "cell_type": "markdown",
   "metadata": {},
   "source": [
    "Now we have a dataframe with a labeled X and Y axis and an index. Using this we can create a bar chart."
   ]
  },
  {
   "cell_type": "code",
   "execution_count": 60,
   "metadata": {},
   "outputs": [
    {
     "data": {
      "application/vnd.plotly.v1+json": {
       "config": {
        "plotlyServerURL": "https://plot.ly"
       },
       "data": [
        {
         "alignmentgroup": "True",
         "hovertemplate": "Type of Crime=%{x}<br>Occurrences=%{y}<extra></extra>",
         "legendgroup": "VEHICLE - STOLEN",
         "marker": {
          "color": "#636efa",
          "pattern": {
           "shape": ""
          }
         },
         "name": "VEHICLE - STOLEN",
         "offsetgroup": "VEHICLE - STOLEN",
         "orientation": "v",
         "showlegend": true,
         "textposition": "auto",
         "type": "bar",
         "x": [
          "VEHICLE - STOLEN"
         ],
         "xaxis": "x",
         "y": [
          24730
         ],
         "yaxis": "y"
        },
        {
         "alignmentgroup": "True",
         "hovertemplate": "Type of Crime=%{x}<br>Occurrences=%{y}<extra></extra>",
         "legendgroup": "THEFT OF IDENTITY",
         "marker": {
          "color": "#EF553B",
          "pattern": {
           "shape": ""
          }
         },
         "name": "THEFT OF IDENTITY",
         "offsetgroup": "THEFT OF IDENTITY",
         "orientation": "v",
         "showlegend": true,
         "textposition": "auto",
         "type": "bar",
         "x": [
          "THEFT OF IDENTITY"
         ],
         "xaxis": "x",
         "y": [
          21964
         ],
         "yaxis": "y"
        },
        {
         "alignmentgroup": "True",
         "hovertemplate": "Type of Crime=%{x}<br>Occurrences=%{y}<extra></extra>",
         "legendgroup": "BATTERY - SIMPLE ASSAULT",
         "marker": {
          "color": "#00cc96",
          "pattern": {
           "shape": ""
          }
         },
         "name": "BATTERY - SIMPLE ASSAULT",
         "offsetgroup": "BATTERY - SIMPLE ASSAULT",
         "orientation": "v",
         "showlegend": true,
         "textposition": "auto",
         "type": "bar",
         "x": [
          "BATTERY - SIMPLE ASSAULT"
         ],
         "xaxis": "x",
         "y": [
          18056
         ],
         "yaxis": "y"
        },
        {
         "alignmentgroup": "True",
         "hovertemplate": "Type of Crime=%{x}<br>Occurrences=%{y}<extra></extra>",
         "legendgroup": "BURGLARY FROM VEHICLE",
         "marker": {
          "color": "#ab63fa",
          "pattern": {
           "shape": ""
          }
         },
         "name": "BURGLARY FROM VEHICLE",
         "offsetgroup": "BURGLARY FROM VEHICLE",
         "orientation": "v",
         "showlegend": true,
         "textposition": "auto",
         "type": "bar",
         "x": [
          "BURGLARY FROM VEHICLE"
         ],
         "xaxis": "x",
         "y": [
          14227
         ],
         "yaxis": "y"
        },
        {
         "alignmentgroup": "True",
         "hovertemplate": "Type of Crime=%{x}<br>Occurrences=%{y}<extra></extra>",
         "legendgroup": "BURGLARY",
         "marker": {
          "color": "#FFA15A",
          "pattern": {
           "shape": ""
          }
         },
         "name": "BURGLARY",
         "offsetgroup": "BURGLARY",
         "orientation": "v",
         "showlegend": true,
         "textposition": "auto",
         "type": "bar",
         "x": [
          "BURGLARY"
         ],
         "xaxis": "x",
         "y": [
          14067
         ],
         "yaxis": "y"
        },
        {
         "alignmentgroup": "True",
         "hovertemplate": "Type of Crime=%{x}<br>Occurrences=%{y}<extra></extra>",
         "legendgroup": "VANDALISM - FELONY ($400 & OVER, ALL CHURCH VANDALISMS)",
         "marker": {
          "color": "#19d3f3",
          "pattern": {
           "shape": ""
          }
         },
         "name": "VANDALISM - FELONY ($400 & OVER, ALL CHURCH VANDALISMS)",
         "offsetgroup": "VANDALISM - FELONY ($400 & OVER, ALL CHURCH VANDALISMS)",
         "orientation": "v",
         "showlegend": true,
         "textposition": "auto",
         "type": "bar",
         "x": [
          "VANDALISM - FELONY ($400 & OVER, ALL CHURCH VANDALISMS)"
         ],
         "xaxis": "x",
         "y": [
          13349
         ],
         "yaxis": "y"
        },
        {
         "alignmentgroup": "True",
         "hovertemplate": "Type of Crime=%{x}<br>Occurrences=%{y}<extra></extra>",
         "legendgroup": "ASSAULT WITH DEADLY WEAPON, AGGRAVATED ASSAULT",
         "marker": {
          "color": "#FF6692",
          "pattern": {
           "shape": ""
          }
         },
         "name": "ASSAULT WITH DEADLY WEAPON, AGGRAVATED ASSAULT",
         "offsetgroup": "ASSAULT WITH DEADLY WEAPON, AGGRAVATED ASSAULT",
         "orientation": "v",
         "showlegend": true,
         "textposition": "auto",
         "type": "bar",
         "x": [
          "ASSAULT WITH DEADLY WEAPON, AGGRAVATED ASSAULT"
         ],
         "xaxis": "x",
         "y": [
          12867
         ],
         "yaxis": "y"
        },
        {
         "alignmentgroup": "True",
         "hovertemplate": "Type of Crime=%{x}<br>Occurrences=%{y}<extra></extra>",
         "legendgroup": "THEFT PLAIN - PETTY ($950 & UNDER)",
         "marker": {
          "color": "#B6E880",
          "pattern": {
           "shape": ""
          }
         },
         "name": "THEFT PLAIN - PETTY ($950 & UNDER)",
         "offsetgroup": "THEFT PLAIN - PETTY ($950 & UNDER)",
         "orientation": "v",
         "showlegend": true,
         "textposition": "auto",
         "type": "bar",
         "x": [
          "THEFT PLAIN - PETTY ($950 & UNDER)"
         ],
         "xaxis": "x",
         "y": [
          11366
         ],
         "yaxis": "y"
        },
        {
         "alignmentgroup": "True",
         "hovertemplate": "Type of Crime=%{x}<br>Occurrences=%{y}<extra></extra>",
         "legendgroup": "INTIMATE PARTNER - SIMPLE ASSAULT",
         "marker": {
          "color": "#FF97FF",
          "pattern": {
           "shape": ""
          }
         },
         "name": "INTIMATE PARTNER - SIMPLE ASSAULT",
         "offsetgroup": "INTIMATE PARTNER - SIMPLE ASSAULT",
         "orientation": "v",
         "showlegend": true,
         "textposition": "auto",
         "type": "bar",
         "x": [
          "INTIMATE PARTNER - SIMPLE ASSAULT"
         ],
         "xaxis": "x",
         "y": [
          11171
         ],
         "yaxis": "y"
        },
        {
         "alignmentgroup": "True",
         "hovertemplate": "Type of Crime=%{x}<br>Occurrences=%{y}<extra></extra>",
         "legendgroup": "THEFT FROM MOTOR VEHICLE - GRAND ($950.01 AND OVER)",
         "marker": {
          "color": "#FECB52",
          "pattern": {
           "shape": ""
          }
         },
         "name": "THEFT FROM MOTOR VEHICLE - GRAND ($950.01 AND OVER)",
         "offsetgroup": "THEFT FROM MOTOR VEHICLE - GRAND ($950.01 AND OVER)",
         "orientation": "v",
         "showlegend": true,
         "textposition": "auto",
         "type": "bar",
         "x": [
          "THEFT FROM MOTOR VEHICLE - GRAND ($950.01 AND OVER)"
         ],
         "xaxis": "x",
         "y": [
          10078
         ],
         "yaxis": "y"
        }
       ],
       "layout": {
        "barmode": "relative",
        "height": 700,
        "legend": {
         "title": {
          "text": "Type of Crime"
         },
         "tracegroupgap": 0
        },
        "margin": {
         "t": 60
        },
        "template": {
         "data": {
          "bar": [
           {
            "error_x": {
             "color": "#2a3f5f"
            },
            "error_y": {
             "color": "#2a3f5f"
            },
            "marker": {
             "line": {
              "color": "#E5ECF6",
              "width": 0.5
             },
             "pattern": {
              "fillmode": "overlay",
              "size": 10,
              "solidity": 0.2
             }
            },
            "type": "bar"
           }
          ],
          "barpolar": [
           {
            "marker": {
             "line": {
              "color": "#E5ECF6",
              "width": 0.5
             },
             "pattern": {
              "fillmode": "overlay",
              "size": 10,
              "solidity": 0.2
             }
            },
            "type": "barpolar"
           }
          ],
          "carpet": [
           {
            "aaxis": {
             "endlinecolor": "#2a3f5f",
             "gridcolor": "white",
             "linecolor": "white",
             "minorgridcolor": "white",
             "startlinecolor": "#2a3f5f"
            },
            "baxis": {
             "endlinecolor": "#2a3f5f",
             "gridcolor": "white",
             "linecolor": "white",
             "minorgridcolor": "white",
             "startlinecolor": "#2a3f5f"
            },
            "type": "carpet"
           }
          ],
          "choropleth": [
           {
            "colorbar": {
             "outlinewidth": 0,
             "ticks": ""
            },
            "type": "choropleth"
           }
          ],
          "contour": [
           {
            "colorbar": {
             "outlinewidth": 0,
             "ticks": ""
            },
            "colorscale": [
             [
              0,
              "#0d0887"
             ],
             [
              0.1111111111111111,
              "#46039f"
             ],
             [
              0.2222222222222222,
              "#7201a8"
             ],
             [
              0.3333333333333333,
              "#9c179e"
             ],
             [
              0.4444444444444444,
              "#bd3786"
             ],
             [
              0.5555555555555556,
              "#d8576b"
             ],
             [
              0.6666666666666666,
              "#ed7953"
             ],
             [
              0.7777777777777778,
              "#fb9f3a"
             ],
             [
              0.8888888888888888,
              "#fdca26"
             ],
             [
              1,
              "#f0f921"
             ]
            ],
            "type": "contour"
           }
          ],
          "contourcarpet": [
           {
            "colorbar": {
             "outlinewidth": 0,
             "ticks": ""
            },
            "type": "contourcarpet"
           }
          ],
          "heatmap": [
           {
            "colorbar": {
             "outlinewidth": 0,
             "ticks": ""
            },
            "colorscale": [
             [
              0,
              "#0d0887"
             ],
             [
              0.1111111111111111,
              "#46039f"
             ],
             [
              0.2222222222222222,
              "#7201a8"
             ],
             [
              0.3333333333333333,
              "#9c179e"
             ],
             [
              0.4444444444444444,
              "#bd3786"
             ],
             [
              0.5555555555555556,
              "#d8576b"
             ],
             [
              0.6666666666666666,
              "#ed7953"
             ],
             [
              0.7777777777777778,
              "#fb9f3a"
             ],
             [
              0.8888888888888888,
              "#fdca26"
             ],
             [
              1,
              "#f0f921"
             ]
            ],
            "type": "heatmap"
           }
          ],
          "heatmapgl": [
           {
            "colorbar": {
             "outlinewidth": 0,
             "ticks": ""
            },
            "colorscale": [
             [
              0,
              "#0d0887"
             ],
             [
              0.1111111111111111,
              "#46039f"
             ],
             [
              0.2222222222222222,
              "#7201a8"
             ],
             [
              0.3333333333333333,
              "#9c179e"
             ],
             [
              0.4444444444444444,
              "#bd3786"
             ],
             [
              0.5555555555555556,
              "#d8576b"
             ],
             [
              0.6666666666666666,
              "#ed7953"
             ],
             [
              0.7777777777777778,
              "#fb9f3a"
             ],
             [
              0.8888888888888888,
              "#fdca26"
             ],
             [
              1,
              "#f0f921"
             ]
            ],
            "type": "heatmapgl"
           }
          ],
          "histogram": [
           {
            "marker": {
             "pattern": {
              "fillmode": "overlay",
              "size": 10,
              "solidity": 0.2
             }
            },
            "type": "histogram"
           }
          ],
          "histogram2d": [
           {
            "colorbar": {
             "outlinewidth": 0,
             "ticks": ""
            },
            "colorscale": [
             [
              0,
              "#0d0887"
             ],
             [
              0.1111111111111111,
              "#46039f"
             ],
             [
              0.2222222222222222,
              "#7201a8"
             ],
             [
              0.3333333333333333,
              "#9c179e"
             ],
             [
              0.4444444444444444,
              "#bd3786"
             ],
             [
              0.5555555555555556,
              "#d8576b"
             ],
             [
              0.6666666666666666,
              "#ed7953"
             ],
             [
              0.7777777777777778,
              "#fb9f3a"
             ],
             [
              0.8888888888888888,
              "#fdca26"
             ],
             [
              1,
              "#f0f921"
             ]
            ],
            "type": "histogram2d"
           }
          ],
          "histogram2dcontour": [
           {
            "colorbar": {
             "outlinewidth": 0,
             "ticks": ""
            },
            "colorscale": [
             [
              0,
              "#0d0887"
             ],
             [
              0.1111111111111111,
              "#46039f"
             ],
             [
              0.2222222222222222,
              "#7201a8"
             ],
             [
              0.3333333333333333,
              "#9c179e"
             ],
             [
              0.4444444444444444,
              "#bd3786"
             ],
             [
              0.5555555555555556,
              "#d8576b"
             ],
             [
              0.6666666666666666,
              "#ed7953"
             ],
             [
              0.7777777777777778,
              "#fb9f3a"
             ],
             [
              0.8888888888888888,
              "#fdca26"
             ],
             [
              1,
              "#f0f921"
             ]
            ],
            "type": "histogram2dcontour"
           }
          ],
          "mesh3d": [
           {
            "colorbar": {
             "outlinewidth": 0,
             "ticks": ""
            },
            "type": "mesh3d"
           }
          ],
          "parcoords": [
           {
            "line": {
             "colorbar": {
              "outlinewidth": 0,
              "ticks": ""
             }
            },
            "type": "parcoords"
           }
          ],
          "pie": [
           {
            "automargin": true,
            "type": "pie"
           }
          ],
          "scatter": [
           {
            "fillpattern": {
             "fillmode": "overlay",
             "size": 10,
             "solidity": 0.2
            },
            "type": "scatter"
           }
          ],
          "scatter3d": [
           {
            "line": {
             "colorbar": {
              "outlinewidth": 0,
              "ticks": ""
             }
            },
            "marker": {
             "colorbar": {
              "outlinewidth": 0,
              "ticks": ""
             }
            },
            "type": "scatter3d"
           }
          ],
          "scattercarpet": [
           {
            "marker": {
             "colorbar": {
              "outlinewidth": 0,
              "ticks": ""
             }
            },
            "type": "scattercarpet"
           }
          ],
          "scattergeo": [
           {
            "marker": {
             "colorbar": {
              "outlinewidth": 0,
              "ticks": ""
             }
            },
            "type": "scattergeo"
           }
          ],
          "scattergl": [
           {
            "marker": {
             "colorbar": {
              "outlinewidth": 0,
              "ticks": ""
             }
            },
            "type": "scattergl"
           }
          ],
          "scattermapbox": [
           {
            "marker": {
             "colorbar": {
              "outlinewidth": 0,
              "ticks": ""
             }
            },
            "type": "scattermapbox"
           }
          ],
          "scatterpolar": [
           {
            "marker": {
             "colorbar": {
              "outlinewidth": 0,
              "ticks": ""
             }
            },
            "type": "scatterpolar"
           }
          ],
          "scatterpolargl": [
           {
            "marker": {
             "colorbar": {
              "outlinewidth": 0,
              "ticks": ""
             }
            },
            "type": "scatterpolargl"
           }
          ],
          "scatterternary": [
           {
            "marker": {
             "colorbar": {
              "outlinewidth": 0,
              "ticks": ""
             }
            },
            "type": "scatterternary"
           }
          ],
          "surface": [
           {
            "colorbar": {
             "outlinewidth": 0,
             "ticks": ""
            },
            "colorscale": [
             [
              0,
              "#0d0887"
             ],
             [
              0.1111111111111111,
              "#46039f"
             ],
             [
              0.2222222222222222,
              "#7201a8"
             ],
             [
              0.3333333333333333,
              "#9c179e"
             ],
             [
              0.4444444444444444,
              "#bd3786"
             ],
             [
              0.5555555555555556,
              "#d8576b"
             ],
             [
              0.6666666666666666,
              "#ed7953"
             ],
             [
              0.7777777777777778,
              "#fb9f3a"
             ],
             [
              0.8888888888888888,
              "#fdca26"
             ],
             [
              1,
              "#f0f921"
             ]
            ],
            "type": "surface"
           }
          ],
          "table": [
           {
            "cells": {
             "fill": {
              "color": "#EBF0F8"
             },
             "line": {
              "color": "white"
             }
            },
            "header": {
             "fill": {
              "color": "#C8D4E3"
             },
             "line": {
              "color": "white"
             }
            },
            "type": "table"
           }
          ]
         },
         "layout": {
          "annotationdefaults": {
           "arrowcolor": "#2a3f5f",
           "arrowhead": 0,
           "arrowwidth": 1
          },
          "autotypenumbers": "strict",
          "coloraxis": {
           "colorbar": {
            "outlinewidth": 0,
            "ticks": ""
           }
          },
          "colorscale": {
           "diverging": [
            [
             0,
             "#8e0152"
            ],
            [
             0.1,
             "#c51b7d"
            ],
            [
             0.2,
             "#de77ae"
            ],
            [
             0.3,
             "#f1b6da"
            ],
            [
             0.4,
             "#fde0ef"
            ],
            [
             0.5,
             "#f7f7f7"
            ],
            [
             0.6,
             "#e6f5d0"
            ],
            [
             0.7,
             "#b8e186"
            ],
            [
             0.8,
             "#7fbc41"
            ],
            [
             0.9,
             "#4d9221"
            ],
            [
             1,
             "#276419"
            ]
           ],
           "sequential": [
            [
             0,
             "#0d0887"
            ],
            [
             0.1111111111111111,
             "#46039f"
            ],
            [
             0.2222222222222222,
             "#7201a8"
            ],
            [
             0.3333333333333333,
             "#9c179e"
            ],
            [
             0.4444444444444444,
             "#bd3786"
            ],
            [
             0.5555555555555556,
             "#d8576b"
            ],
            [
             0.6666666666666666,
             "#ed7953"
            ],
            [
             0.7777777777777778,
             "#fb9f3a"
            ],
            [
             0.8888888888888888,
             "#fdca26"
            ],
            [
             1,
             "#f0f921"
            ]
           ],
           "sequentialminus": [
            [
             0,
             "#0d0887"
            ],
            [
             0.1111111111111111,
             "#46039f"
            ],
            [
             0.2222222222222222,
             "#7201a8"
            ],
            [
             0.3333333333333333,
             "#9c179e"
            ],
            [
             0.4444444444444444,
             "#bd3786"
            ],
            [
             0.5555555555555556,
             "#d8576b"
            ],
            [
             0.6666666666666666,
             "#ed7953"
            ],
            [
             0.7777777777777778,
             "#fb9f3a"
            ],
            [
             0.8888888888888888,
             "#fdca26"
            ],
            [
             1,
             "#f0f921"
            ]
           ]
          },
          "colorway": [
           "#636efa",
           "#EF553B",
           "#00cc96",
           "#ab63fa",
           "#FFA15A",
           "#19d3f3",
           "#FF6692",
           "#B6E880",
           "#FF97FF",
           "#FECB52"
          ],
          "font": {
           "color": "#2a3f5f"
          },
          "geo": {
           "bgcolor": "white",
           "lakecolor": "white",
           "landcolor": "#E5ECF6",
           "showlakes": true,
           "showland": true,
           "subunitcolor": "white"
          },
          "hoverlabel": {
           "align": "left"
          },
          "hovermode": "closest",
          "mapbox": {
           "style": "light"
          },
          "paper_bgcolor": "white",
          "plot_bgcolor": "#E5ECF6",
          "polar": {
           "angularaxis": {
            "gridcolor": "white",
            "linecolor": "white",
            "ticks": ""
           },
           "bgcolor": "#E5ECF6",
           "radialaxis": {
            "gridcolor": "white",
            "linecolor": "white",
            "ticks": ""
           }
          },
          "scene": {
           "xaxis": {
            "backgroundcolor": "#E5ECF6",
            "gridcolor": "white",
            "gridwidth": 2,
            "linecolor": "white",
            "showbackground": true,
            "ticks": "",
            "zerolinecolor": "white"
           },
           "yaxis": {
            "backgroundcolor": "#E5ECF6",
            "gridcolor": "white",
            "gridwidth": 2,
            "linecolor": "white",
            "showbackground": true,
            "ticks": "",
            "zerolinecolor": "white"
           },
           "zaxis": {
            "backgroundcolor": "#E5ECF6",
            "gridcolor": "white",
            "gridwidth": 2,
            "linecolor": "white",
            "showbackground": true,
            "ticks": "",
            "zerolinecolor": "white"
           }
          },
          "shapedefaults": {
           "line": {
            "color": "#2a3f5f"
           }
          },
          "ternary": {
           "aaxis": {
            "gridcolor": "white",
            "linecolor": "white",
            "ticks": ""
           },
           "baxis": {
            "gridcolor": "white",
            "linecolor": "white",
            "ticks": ""
           },
           "bgcolor": "#E5ECF6",
           "caxis": {
            "gridcolor": "white",
            "linecolor": "white",
            "ticks": ""
           }
          },
          "title": {
           "x": 0.05
          },
          "xaxis": {
           "automargin": true,
           "gridcolor": "white",
           "linecolor": "white",
           "ticks": "",
           "title": {
            "standoff": 15
           },
           "zerolinecolor": "white",
           "zerolinewidth": 2
          },
          "yaxis": {
           "automargin": true,
           "gridcolor": "white",
           "linecolor": "white",
           "ticks": "",
           "title": {
            "standoff": 15
           },
           "zerolinecolor": "white",
           "zerolinewidth": 2
          }
         }
        },
        "xaxis": {
         "anchor": "y",
         "categoryarray": [
          "VEHICLE - STOLEN",
          "THEFT OF IDENTITY",
          "BATTERY - SIMPLE ASSAULT",
          "BURGLARY FROM VEHICLE",
          "BURGLARY",
          "VANDALISM - FELONY ($400 & OVER, ALL CHURCH VANDALISMS)",
          "ASSAULT WITH DEADLY WEAPON, AGGRAVATED ASSAULT",
          "THEFT PLAIN - PETTY ($950 & UNDER)",
          "INTIMATE PARTNER - SIMPLE ASSAULT",
          "THEFT FROM MOTOR VEHICLE - GRAND ($950.01 AND OVER)"
         ],
         "categoryorder": "array",
         "domain": [
          0,
          1
         ],
         "title": {
          "text": "Type of Crime"
         }
        },
        "yaxis": {
         "anchor": "x",
         "domain": [
          0,
          1
         ],
         "title": {
          "text": "Occurrences"
         }
        }
       }
      }
     },
     "metadata": {},
     "output_type": "display_data"
    }
   ],
   "source": [
    "fig = px.bar(top_10_crimes_2022_df, x='Crm Cd Desc', y='Occurrences',\n",
    "labels={'Crm Cd Desc':'Type of Crime'}, height=700,\n",
    "color='Crm Cd Desc')\n",
    "fig.show()\n"
   ]
  },
  {
   "cell_type": "code",
   "execution_count": 61,
   "metadata": {},
   "outputs": [
    {
     "data": {
      "application/vnd.plotly.v1+json": {
       "config": {
        "plotlyServerURL": "https://plot.ly"
       },
       "data": [
        {
         "alignmentgroup": "True",
         "hovertemplate": "Type of Crime=%{x}<br>Occurrences=%{marker.color}<extra></extra>",
         "legendgroup": "",
         "marker": {
          "color": [
           24730,
           21964,
           18056,
           14227,
           14067,
           13349,
           12867,
           11366,
           11171,
           10078
          ],
          "coloraxis": "coloraxis",
          "pattern": {
           "shape": ""
          }
         },
         "name": "",
         "offsetgroup": "",
         "orientation": "v",
         "showlegend": false,
         "textposition": "auto",
         "type": "bar",
         "x": [
          "VEHICLE - STOLEN",
          "THEFT OF IDENTITY",
          "BATTERY - SIMPLE ASSAULT",
          "BURGLARY FROM VEHICLE",
          "BURGLARY",
          "VANDALISM - FELONY ($400 & OVER, ALL CHURCH VANDALISMS)",
          "ASSAULT WITH DEADLY WEAPON, AGGRAVATED ASSAULT",
          "THEFT PLAIN - PETTY ($950 & UNDER)",
          "INTIMATE PARTNER - SIMPLE ASSAULT",
          "THEFT FROM MOTOR VEHICLE - GRAND ($950.01 AND OVER)"
         ],
         "xaxis": "x",
         "y": [
          24730,
          21964,
          18056,
          14227,
          14067,
          13349,
          12867,
          11366,
          11171,
          10078
         ],
         "yaxis": "y"
        }
       ],
       "layout": {
        "barmode": "relative",
        "coloraxis": {
         "colorbar": {
          "title": {
           "text": "Occurrences"
          }
         },
         "colorscale": [
          [
           0,
           "rgb(230, 240, 240)"
          ],
          [
           0.09090909090909091,
           "rgb(191, 221, 229)"
          ],
          [
           0.18181818181818182,
           "rgb(156, 201, 226)"
          ],
          [
           0.2727272727272727,
           "rgb(129, 180, 227)"
          ],
          [
           0.36363636363636365,
           "rgb(115, 154, 228)"
          ],
          [
           0.45454545454545453,
           "rgb(117, 127, 221)"
          ],
          [
           0.5454545454545454,
           "rgb(120, 100, 202)"
          ],
          [
           0.6363636363636364,
           "rgb(119, 74, 175)"
          ],
          [
           0.7272727272727273,
           "rgb(113, 50, 141)"
          ],
          [
           0.8181818181818182,
           "rgb(100, 31, 104)"
          ],
          [
           0.9090909090909091,
           "rgb(80, 20, 66)"
          ],
          [
           1,
           "rgb(54, 14, 36)"
          ]
         ]
        },
        "height": 700,
        "legend": {
         "tracegroupgap": 0
        },
        "margin": {
         "t": 60
        },
        "template": {
         "data": {
          "bar": [
           {
            "error_x": {
             "color": "#2a3f5f"
            },
            "error_y": {
             "color": "#2a3f5f"
            },
            "marker": {
             "line": {
              "color": "#E5ECF6",
              "width": 0.5
             },
             "pattern": {
              "fillmode": "overlay",
              "size": 10,
              "solidity": 0.2
             }
            },
            "type": "bar"
           }
          ],
          "barpolar": [
           {
            "marker": {
             "line": {
              "color": "#E5ECF6",
              "width": 0.5
             },
             "pattern": {
              "fillmode": "overlay",
              "size": 10,
              "solidity": 0.2
             }
            },
            "type": "barpolar"
           }
          ],
          "carpet": [
           {
            "aaxis": {
             "endlinecolor": "#2a3f5f",
             "gridcolor": "white",
             "linecolor": "white",
             "minorgridcolor": "white",
             "startlinecolor": "#2a3f5f"
            },
            "baxis": {
             "endlinecolor": "#2a3f5f",
             "gridcolor": "white",
             "linecolor": "white",
             "minorgridcolor": "white",
             "startlinecolor": "#2a3f5f"
            },
            "type": "carpet"
           }
          ],
          "choropleth": [
           {
            "colorbar": {
             "outlinewidth": 0,
             "ticks": ""
            },
            "type": "choropleth"
           }
          ],
          "contour": [
           {
            "colorbar": {
             "outlinewidth": 0,
             "ticks": ""
            },
            "colorscale": [
             [
              0,
              "#0d0887"
             ],
             [
              0.1111111111111111,
              "#46039f"
             ],
             [
              0.2222222222222222,
              "#7201a8"
             ],
             [
              0.3333333333333333,
              "#9c179e"
             ],
             [
              0.4444444444444444,
              "#bd3786"
             ],
             [
              0.5555555555555556,
              "#d8576b"
             ],
             [
              0.6666666666666666,
              "#ed7953"
             ],
             [
              0.7777777777777778,
              "#fb9f3a"
             ],
             [
              0.8888888888888888,
              "#fdca26"
             ],
             [
              1,
              "#f0f921"
             ]
            ],
            "type": "contour"
           }
          ],
          "contourcarpet": [
           {
            "colorbar": {
             "outlinewidth": 0,
             "ticks": ""
            },
            "type": "contourcarpet"
           }
          ],
          "heatmap": [
           {
            "colorbar": {
             "outlinewidth": 0,
             "ticks": ""
            },
            "colorscale": [
             [
              0,
              "#0d0887"
             ],
             [
              0.1111111111111111,
              "#46039f"
             ],
             [
              0.2222222222222222,
              "#7201a8"
             ],
             [
              0.3333333333333333,
              "#9c179e"
             ],
             [
              0.4444444444444444,
              "#bd3786"
             ],
             [
              0.5555555555555556,
              "#d8576b"
             ],
             [
              0.6666666666666666,
              "#ed7953"
             ],
             [
              0.7777777777777778,
              "#fb9f3a"
             ],
             [
              0.8888888888888888,
              "#fdca26"
             ],
             [
              1,
              "#f0f921"
             ]
            ],
            "type": "heatmap"
           }
          ],
          "heatmapgl": [
           {
            "colorbar": {
             "outlinewidth": 0,
             "ticks": ""
            },
            "colorscale": [
             [
              0,
              "#0d0887"
             ],
             [
              0.1111111111111111,
              "#46039f"
             ],
             [
              0.2222222222222222,
              "#7201a8"
             ],
             [
              0.3333333333333333,
              "#9c179e"
             ],
             [
              0.4444444444444444,
              "#bd3786"
             ],
             [
              0.5555555555555556,
              "#d8576b"
             ],
             [
              0.6666666666666666,
              "#ed7953"
             ],
             [
              0.7777777777777778,
              "#fb9f3a"
             ],
             [
              0.8888888888888888,
              "#fdca26"
             ],
             [
              1,
              "#f0f921"
             ]
            ],
            "type": "heatmapgl"
           }
          ],
          "histogram": [
           {
            "marker": {
             "pattern": {
              "fillmode": "overlay",
              "size": 10,
              "solidity": 0.2
             }
            },
            "type": "histogram"
           }
          ],
          "histogram2d": [
           {
            "colorbar": {
             "outlinewidth": 0,
             "ticks": ""
            },
            "colorscale": [
             [
              0,
              "#0d0887"
             ],
             [
              0.1111111111111111,
              "#46039f"
             ],
             [
              0.2222222222222222,
              "#7201a8"
             ],
             [
              0.3333333333333333,
              "#9c179e"
             ],
             [
              0.4444444444444444,
              "#bd3786"
             ],
             [
              0.5555555555555556,
              "#d8576b"
             ],
             [
              0.6666666666666666,
              "#ed7953"
             ],
             [
              0.7777777777777778,
              "#fb9f3a"
             ],
             [
              0.8888888888888888,
              "#fdca26"
             ],
             [
              1,
              "#f0f921"
             ]
            ],
            "type": "histogram2d"
           }
          ],
          "histogram2dcontour": [
           {
            "colorbar": {
             "outlinewidth": 0,
             "ticks": ""
            },
            "colorscale": [
             [
              0,
              "#0d0887"
             ],
             [
              0.1111111111111111,
              "#46039f"
             ],
             [
              0.2222222222222222,
              "#7201a8"
             ],
             [
              0.3333333333333333,
              "#9c179e"
             ],
             [
              0.4444444444444444,
              "#bd3786"
             ],
             [
              0.5555555555555556,
              "#d8576b"
             ],
             [
              0.6666666666666666,
              "#ed7953"
             ],
             [
              0.7777777777777778,
              "#fb9f3a"
             ],
             [
              0.8888888888888888,
              "#fdca26"
             ],
             [
              1,
              "#f0f921"
             ]
            ],
            "type": "histogram2dcontour"
           }
          ],
          "mesh3d": [
           {
            "colorbar": {
             "outlinewidth": 0,
             "ticks": ""
            },
            "type": "mesh3d"
           }
          ],
          "parcoords": [
           {
            "line": {
             "colorbar": {
              "outlinewidth": 0,
              "ticks": ""
             }
            },
            "type": "parcoords"
           }
          ],
          "pie": [
           {
            "automargin": true,
            "type": "pie"
           }
          ],
          "scatter": [
           {
            "fillpattern": {
             "fillmode": "overlay",
             "size": 10,
             "solidity": 0.2
            },
            "type": "scatter"
           }
          ],
          "scatter3d": [
           {
            "line": {
             "colorbar": {
              "outlinewidth": 0,
              "ticks": ""
             }
            },
            "marker": {
             "colorbar": {
              "outlinewidth": 0,
              "ticks": ""
             }
            },
            "type": "scatter3d"
           }
          ],
          "scattercarpet": [
           {
            "marker": {
             "colorbar": {
              "outlinewidth": 0,
              "ticks": ""
             }
            },
            "type": "scattercarpet"
           }
          ],
          "scattergeo": [
           {
            "marker": {
             "colorbar": {
              "outlinewidth": 0,
              "ticks": ""
             }
            },
            "type": "scattergeo"
           }
          ],
          "scattergl": [
           {
            "marker": {
             "colorbar": {
              "outlinewidth": 0,
              "ticks": ""
             }
            },
            "type": "scattergl"
           }
          ],
          "scattermapbox": [
           {
            "marker": {
             "colorbar": {
              "outlinewidth": 0,
              "ticks": ""
             }
            },
            "type": "scattermapbox"
           }
          ],
          "scatterpolar": [
           {
            "marker": {
             "colorbar": {
              "outlinewidth": 0,
              "ticks": ""
             }
            },
            "type": "scatterpolar"
           }
          ],
          "scatterpolargl": [
           {
            "marker": {
             "colorbar": {
              "outlinewidth": 0,
              "ticks": ""
             }
            },
            "type": "scatterpolargl"
           }
          ],
          "scatterternary": [
           {
            "marker": {
             "colorbar": {
              "outlinewidth": 0,
              "ticks": ""
             }
            },
            "type": "scatterternary"
           }
          ],
          "surface": [
           {
            "colorbar": {
             "outlinewidth": 0,
             "ticks": ""
            },
            "colorscale": [
             [
              0,
              "#0d0887"
             ],
             [
              0.1111111111111111,
              "#46039f"
             ],
             [
              0.2222222222222222,
              "#7201a8"
             ],
             [
              0.3333333333333333,
              "#9c179e"
             ],
             [
              0.4444444444444444,
              "#bd3786"
             ],
             [
              0.5555555555555556,
              "#d8576b"
             ],
             [
              0.6666666666666666,
              "#ed7953"
             ],
             [
              0.7777777777777778,
              "#fb9f3a"
             ],
             [
              0.8888888888888888,
              "#fdca26"
             ],
             [
              1,
              "#f0f921"
             ]
            ],
            "type": "surface"
           }
          ],
          "table": [
           {
            "cells": {
             "fill": {
              "color": "#EBF0F8"
             },
             "line": {
              "color": "white"
             }
            },
            "header": {
             "fill": {
              "color": "#C8D4E3"
             },
             "line": {
              "color": "white"
             }
            },
            "type": "table"
           }
          ]
         },
         "layout": {
          "annotationdefaults": {
           "arrowcolor": "#2a3f5f",
           "arrowhead": 0,
           "arrowwidth": 1
          },
          "autotypenumbers": "strict",
          "coloraxis": {
           "colorbar": {
            "outlinewidth": 0,
            "ticks": ""
           }
          },
          "colorscale": {
           "diverging": [
            [
             0,
             "#8e0152"
            ],
            [
             0.1,
             "#c51b7d"
            ],
            [
             0.2,
             "#de77ae"
            ],
            [
             0.3,
             "#f1b6da"
            ],
            [
             0.4,
             "#fde0ef"
            ],
            [
             0.5,
             "#f7f7f7"
            ],
            [
             0.6,
             "#e6f5d0"
            ],
            [
             0.7,
             "#b8e186"
            ],
            [
             0.8,
             "#7fbc41"
            ],
            [
             0.9,
             "#4d9221"
            ],
            [
             1,
             "#276419"
            ]
           ],
           "sequential": [
            [
             0,
             "#0d0887"
            ],
            [
             0.1111111111111111,
             "#46039f"
            ],
            [
             0.2222222222222222,
             "#7201a8"
            ],
            [
             0.3333333333333333,
             "#9c179e"
            ],
            [
             0.4444444444444444,
             "#bd3786"
            ],
            [
             0.5555555555555556,
             "#d8576b"
            ],
            [
             0.6666666666666666,
             "#ed7953"
            ],
            [
             0.7777777777777778,
             "#fb9f3a"
            ],
            [
             0.8888888888888888,
             "#fdca26"
            ],
            [
             1,
             "#f0f921"
            ]
           ],
           "sequentialminus": [
            [
             0,
             "#0d0887"
            ],
            [
             0.1111111111111111,
             "#46039f"
            ],
            [
             0.2222222222222222,
             "#7201a8"
            ],
            [
             0.3333333333333333,
             "#9c179e"
            ],
            [
             0.4444444444444444,
             "#bd3786"
            ],
            [
             0.5555555555555556,
             "#d8576b"
            ],
            [
             0.6666666666666666,
             "#ed7953"
            ],
            [
             0.7777777777777778,
             "#fb9f3a"
            ],
            [
             0.8888888888888888,
             "#fdca26"
            ],
            [
             1,
             "#f0f921"
            ]
           ]
          },
          "colorway": [
           "#636efa",
           "#EF553B",
           "#00cc96",
           "#ab63fa",
           "#FFA15A",
           "#19d3f3",
           "#FF6692",
           "#B6E880",
           "#FF97FF",
           "#FECB52"
          ],
          "font": {
           "color": "#2a3f5f"
          },
          "geo": {
           "bgcolor": "white",
           "lakecolor": "white",
           "landcolor": "#E5ECF6",
           "showlakes": true,
           "showland": true,
           "subunitcolor": "white"
          },
          "hoverlabel": {
           "align": "left"
          },
          "hovermode": "closest",
          "mapbox": {
           "style": "light"
          },
          "paper_bgcolor": "white",
          "plot_bgcolor": "#E5ECF6",
          "polar": {
           "angularaxis": {
            "gridcolor": "white",
            "linecolor": "white",
            "ticks": ""
           },
           "bgcolor": "#E5ECF6",
           "radialaxis": {
            "gridcolor": "white",
            "linecolor": "white",
            "ticks": ""
           }
          },
          "scene": {
           "xaxis": {
            "backgroundcolor": "#E5ECF6",
            "gridcolor": "white",
            "gridwidth": 2,
            "linecolor": "white",
            "showbackground": true,
            "ticks": "",
            "zerolinecolor": "white"
           },
           "yaxis": {
            "backgroundcolor": "#E5ECF6",
            "gridcolor": "white",
            "gridwidth": 2,
            "linecolor": "white",
            "showbackground": true,
            "ticks": "",
            "zerolinecolor": "white"
           },
           "zaxis": {
            "backgroundcolor": "#E5ECF6",
            "gridcolor": "white",
            "gridwidth": 2,
            "linecolor": "white",
            "showbackground": true,
            "ticks": "",
            "zerolinecolor": "white"
           }
          },
          "shapedefaults": {
           "line": {
            "color": "#2a3f5f"
           }
          },
          "ternary": {
           "aaxis": {
            "gridcolor": "white",
            "linecolor": "white",
            "ticks": ""
           },
           "baxis": {
            "gridcolor": "white",
            "linecolor": "white",
            "ticks": ""
           },
           "bgcolor": "#E5ECF6",
           "caxis": {
            "gridcolor": "white",
            "linecolor": "white",
            "ticks": ""
           }
          },
          "title": {
           "x": 0.05
          },
          "xaxis": {
           "automargin": true,
           "gridcolor": "white",
           "linecolor": "white",
           "ticks": "",
           "title": {
            "standoff": 15
           },
           "zerolinecolor": "white",
           "zerolinewidth": 2
          },
          "yaxis": {
           "automargin": true,
           "gridcolor": "white",
           "linecolor": "white",
           "ticks": "",
           "title": {
            "standoff": 15
           },
           "zerolinecolor": "white",
           "zerolinewidth": 2
          }
         }
        },
        "xaxis": {
         "anchor": "y",
         "domain": [
          0,
          1
         ],
         "title": {
          "text": "Type of Crime"
         }
        },
        "yaxis": {
         "anchor": "x",
         "domain": [
          0,
          1
         ],
         "title": {
          "text": "Occurrences"
         }
        }
       }
      }
     },
     "metadata": {},
     "output_type": "display_data"
    }
   ],
   "source": [
    "fig = px.bar(top_10_crimes_2022_df, x='Crm Cd Desc', y='Occurrences',\n",
    "labels={'Crm Cd Desc':'Type of Crime'}, height=700,\n",
    "color= 'Occurrences', color_continuous_scale='Dense')\n",
    "fig.show()"
   ]
  },
  {
   "cell_type": "code",
   "execution_count": 62,
   "metadata": {},
   "outputs": [
    {
     "data": {
      "application/vnd.plotly.v1+json": {
       "config": {
        "plotlyServerURL": "https://plot.ly"
       },
       "data": [
        {
         "alignmentgroup": "True",
         "hovertemplate": "Type of Crime=%{x}<br>Occurrences=%{marker.color}<extra></extra>",
         "legendgroup": "",
         "marker": {
          "color": [
           24730,
           21964,
           18056,
           14227,
           14067,
           13349,
           12867,
           11366,
           11171,
           10078
          ],
          "coloraxis": "coloraxis",
          "pattern": {
           "shape": ""
          }
         },
         "name": "",
         "offsetgroup": "",
         "orientation": "v",
         "showlegend": false,
         "textposition": "auto",
         "type": "bar",
         "x": [
          "VEHICLE - STOLEN",
          "THEFT OF IDENTITY",
          "BATTERY - SIMPLE ASSAULT",
          "BURGLARY FROM VEHICLE",
          "BURGLARY",
          "VANDALISM - FELONY ($400 & OVER, ALL CHURCH VANDALISMS)",
          "ASSAULT WITH DEADLY WEAPON, AGGRAVATED ASSAULT",
          "THEFT PLAIN - PETTY ($950 & UNDER)",
          "INTIMATE PARTNER - SIMPLE ASSAULT",
          "THEFT FROM MOTOR VEHICLE - GRAND ($950.01 AND OVER)"
         ],
         "xaxis": "x",
         "y": [
          24730,
          21964,
          18056,
          14227,
          14067,
          13349,
          12867,
          11366,
          11171,
          10078
         ],
         "yaxis": "y"
        }
       ],
       "layout": {
        "barmode": "relative",
        "coloraxis": {
         "colorbar": {
          "title": {
           "text": "Occurrences"
          }
         },
         "colorscale": [
          [
           0,
           "rgb(230, 240, 240)"
          ],
          [
           0.09090909090909091,
           "rgb(191, 221, 229)"
          ],
          [
           0.18181818181818182,
           "rgb(156, 201, 226)"
          ],
          [
           0.2727272727272727,
           "rgb(129, 180, 227)"
          ],
          [
           0.36363636363636365,
           "rgb(115, 154, 228)"
          ],
          [
           0.45454545454545453,
           "rgb(117, 127, 221)"
          ],
          [
           0.5454545454545454,
           "rgb(120, 100, 202)"
          ],
          [
           0.6363636363636364,
           "rgb(119, 74, 175)"
          ],
          [
           0.7272727272727273,
           "rgb(113, 50, 141)"
          ],
          [
           0.8181818181818182,
           "rgb(100, 31, 104)"
          ],
          [
           0.9090909090909091,
           "rgb(80, 20, 66)"
          ],
          [
           1,
           "rgb(54, 14, 36)"
          ]
         ]
        },
        "height": 700,
        "legend": {
         "tracegroupgap": 0
        },
        "margin": {
         "t": 60
        },
        "paper_bgcolor": "white",
        "plot_bgcolor": "ivory",
        "template": {
         "data": {
          "bar": [
           {
            "error_x": {
             "color": "#2a3f5f"
            },
            "error_y": {
             "color": "#2a3f5f"
            },
            "marker": {
             "line": {
              "color": "#E5ECF6",
              "width": 0.5
             },
             "pattern": {
              "fillmode": "overlay",
              "size": 10,
              "solidity": 0.2
             }
            },
            "type": "bar"
           }
          ],
          "barpolar": [
           {
            "marker": {
             "line": {
              "color": "#E5ECF6",
              "width": 0.5
             },
             "pattern": {
              "fillmode": "overlay",
              "size": 10,
              "solidity": 0.2
             }
            },
            "type": "barpolar"
           }
          ],
          "carpet": [
           {
            "aaxis": {
             "endlinecolor": "#2a3f5f",
             "gridcolor": "white",
             "linecolor": "white",
             "minorgridcolor": "white",
             "startlinecolor": "#2a3f5f"
            },
            "baxis": {
             "endlinecolor": "#2a3f5f",
             "gridcolor": "white",
             "linecolor": "white",
             "minorgridcolor": "white",
             "startlinecolor": "#2a3f5f"
            },
            "type": "carpet"
           }
          ],
          "choropleth": [
           {
            "colorbar": {
             "outlinewidth": 0,
             "ticks": ""
            },
            "type": "choropleth"
           }
          ],
          "contour": [
           {
            "colorbar": {
             "outlinewidth": 0,
             "ticks": ""
            },
            "colorscale": [
             [
              0,
              "#0d0887"
             ],
             [
              0.1111111111111111,
              "#46039f"
             ],
             [
              0.2222222222222222,
              "#7201a8"
             ],
             [
              0.3333333333333333,
              "#9c179e"
             ],
             [
              0.4444444444444444,
              "#bd3786"
             ],
             [
              0.5555555555555556,
              "#d8576b"
             ],
             [
              0.6666666666666666,
              "#ed7953"
             ],
             [
              0.7777777777777778,
              "#fb9f3a"
             ],
             [
              0.8888888888888888,
              "#fdca26"
             ],
             [
              1,
              "#f0f921"
             ]
            ],
            "type": "contour"
           }
          ],
          "contourcarpet": [
           {
            "colorbar": {
             "outlinewidth": 0,
             "ticks": ""
            },
            "type": "contourcarpet"
           }
          ],
          "heatmap": [
           {
            "colorbar": {
             "outlinewidth": 0,
             "ticks": ""
            },
            "colorscale": [
             [
              0,
              "#0d0887"
             ],
             [
              0.1111111111111111,
              "#46039f"
             ],
             [
              0.2222222222222222,
              "#7201a8"
             ],
             [
              0.3333333333333333,
              "#9c179e"
             ],
             [
              0.4444444444444444,
              "#bd3786"
             ],
             [
              0.5555555555555556,
              "#d8576b"
             ],
             [
              0.6666666666666666,
              "#ed7953"
             ],
             [
              0.7777777777777778,
              "#fb9f3a"
             ],
             [
              0.8888888888888888,
              "#fdca26"
             ],
             [
              1,
              "#f0f921"
             ]
            ],
            "type": "heatmap"
           }
          ],
          "heatmapgl": [
           {
            "colorbar": {
             "outlinewidth": 0,
             "ticks": ""
            },
            "colorscale": [
             [
              0,
              "#0d0887"
             ],
             [
              0.1111111111111111,
              "#46039f"
             ],
             [
              0.2222222222222222,
              "#7201a8"
             ],
             [
              0.3333333333333333,
              "#9c179e"
             ],
             [
              0.4444444444444444,
              "#bd3786"
             ],
             [
              0.5555555555555556,
              "#d8576b"
             ],
             [
              0.6666666666666666,
              "#ed7953"
             ],
             [
              0.7777777777777778,
              "#fb9f3a"
             ],
             [
              0.8888888888888888,
              "#fdca26"
             ],
             [
              1,
              "#f0f921"
             ]
            ],
            "type": "heatmapgl"
           }
          ],
          "histogram": [
           {
            "marker": {
             "pattern": {
              "fillmode": "overlay",
              "size": 10,
              "solidity": 0.2
             }
            },
            "type": "histogram"
           }
          ],
          "histogram2d": [
           {
            "colorbar": {
             "outlinewidth": 0,
             "ticks": ""
            },
            "colorscale": [
             [
              0,
              "#0d0887"
             ],
             [
              0.1111111111111111,
              "#46039f"
             ],
             [
              0.2222222222222222,
              "#7201a8"
             ],
             [
              0.3333333333333333,
              "#9c179e"
             ],
             [
              0.4444444444444444,
              "#bd3786"
             ],
             [
              0.5555555555555556,
              "#d8576b"
             ],
             [
              0.6666666666666666,
              "#ed7953"
             ],
             [
              0.7777777777777778,
              "#fb9f3a"
             ],
             [
              0.8888888888888888,
              "#fdca26"
             ],
             [
              1,
              "#f0f921"
             ]
            ],
            "type": "histogram2d"
           }
          ],
          "histogram2dcontour": [
           {
            "colorbar": {
             "outlinewidth": 0,
             "ticks": ""
            },
            "colorscale": [
             [
              0,
              "#0d0887"
             ],
             [
              0.1111111111111111,
              "#46039f"
             ],
             [
              0.2222222222222222,
              "#7201a8"
             ],
             [
              0.3333333333333333,
              "#9c179e"
             ],
             [
              0.4444444444444444,
              "#bd3786"
             ],
             [
              0.5555555555555556,
              "#d8576b"
             ],
             [
              0.6666666666666666,
              "#ed7953"
             ],
             [
              0.7777777777777778,
              "#fb9f3a"
             ],
             [
              0.8888888888888888,
              "#fdca26"
             ],
             [
              1,
              "#f0f921"
             ]
            ],
            "type": "histogram2dcontour"
           }
          ],
          "mesh3d": [
           {
            "colorbar": {
             "outlinewidth": 0,
             "ticks": ""
            },
            "type": "mesh3d"
           }
          ],
          "parcoords": [
           {
            "line": {
             "colorbar": {
              "outlinewidth": 0,
              "ticks": ""
             }
            },
            "type": "parcoords"
           }
          ],
          "pie": [
           {
            "automargin": true,
            "type": "pie"
           }
          ],
          "scatter": [
           {
            "fillpattern": {
             "fillmode": "overlay",
             "size": 10,
             "solidity": 0.2
            },
            "type": "scatter"
           }
          ],
          "scatter3d": [
           {
            "line": {
             "colorbar": {
              "outlinewidth": 0,
              "ticks": ""
             }
            },
            "marker": {
             "colorbar": {
              "outlinewidth": 0,
              "ticks": ""
             }
            },
            "type": "scatter3d"
           }
          ],
          "scattercarpet": [
           {
            "marker": {
             "colorbar": {
              "outlinewidth": 0,
              "ticks": ""
             }
            },
            "type": "scattercarpet"
           }
          ],
          "scattergeo": [
           {
            "marker": {
             "colorbar": {
              "outlinewidth": 0,
              "ticks": ""
             }
            },
            "type": "scattergeo"
           }
          ],
          "scattergl": [
           {
            "marker": {
             "colorbar": {
              "outlinewidth": 0,
              "ticks": ""
             }
            },
            "type": "scattergl"
           }
          ],
          "scattermapbox": [
           {
            "marker": {
             "colorbar": {
              "outlinewidth": 0,
              "ticks": ""
             }
            },
            "type": "scattermapbox"
           }
          ],
          "scatterpolar": [
           {
            "marker": {
             "colorbar": {
              "outlinewidth": 0,
              "ticks": ""
             }
            },
            "type": "scatterpolar"
           }
          ],
          "scatterpolargl": [
           {
            "marker": {
             "colorbar": {
              "outlinewidth": 0,
              "ticks": ""
             }
            },
            "type": "scatterpolargl"
           }
          ],
          "scatterternary": [
           {
            "marker": {
             "colorbar": {
              "outlinewidth": 0,
              "ticks": ""
             }
            },
            "type": "scatterternary"
           }
          ],
          "surface": [
           {
            "colorbar": {
             "outlinewidth": 0,
             "ticks": ""
            },
            "colorscale": [
             [
              0,
              "#0d0887"
             ],
             [
              0.1111111111111111,
              "#46039f"
             ],
             [
              0.2222222222222222,
              "#7201a8"
             ],
             [
              0.3333333333333333,
              "#9c179e"
             ],
             [
              0.4444444444444444,
              "#bd3786"
             ],
             [
              0.5555555555555556,
              "#d8576b"
             ],
             [
              0.6666666666666666,
              "#ed7953"
             ],
             [
              0.7777777777777778,
              "#fb9f3a"
             ],
             [
              0.8888888888888888,
              "#fdca26"
             ],
             [
              1,
              "#f0f921"
             ]
            ],
            "type": "surface"
           }
          ],
          "table": [
           {
            "cells": {
             "fill": {
              "color": "#EBF0F8"
             },
             "line": {
              "color": "white"
             }
            },
            "header": {
             "fill": {
              "color": "#C8D4E3"
             },
             "line": {
              "color": "white"
             }
            },
            "type": "table"
           }
          ]
         },
         "layout": {
          "annotationdefaults": {
           "arrowcolor": "#2a3f5f",
           "arrowhead": 0,
           "arrowwidth": 1
          },
          "autotypenumbers": "strict",
          "coloraxis": {
           "colorbar": {
            "outlinewidth": 0,
            "ticks": ""
           }
          },
          "colorscale": {
           "diverging": [
            [
             0,
             "#8e0152"
            ],
            [
             0.1,
             "#c51b7d"
            ],
            [
             0.2,
             "#de77ae"
            ],
            [
             0.3,
             "#f1b6da"
            ],
            [
             0.4,
             "#fde0ef"
            ],
            [
             0.5,
             "#f7f7f7"
            ],
            [
             0.6,
             "#e6f5d0"
            ],
            [
             0.7,
             "#b8e186"
            ],
            [
             0.8,
             "#7fbc41"
            ],
            [
             0.9,
             "#4d9221"
            ],
            [
             1,
             "#276419"
            ]
           ],
           "sequential": [
            [
             0,
             "#0d0887"
            ],
            [
             0.1111111111111111,
             "#46039f"
            ],
            [
             0.2222222222222222,
             "#7201a8"
            ],
            [
             0.3333333333333333,
             "#9c179e"
            ],
            [
             0.4444444444444444,
             "#bd3786"
            ],
            [
             0.5555555555555556,
             "#d8576b"
            ],
            [
             0.6666666666666666,
             "#ed7953"
            ],
            [
             0.7777777777777778,
             "#fb9f3a"
            ],
            [
             0.8888888888888888,
             "#fdca26"
            ],
            [
             1,
             "#f0f921"
            ]
           ],
           "sequentialminus": [
            [
             0,
             "#0d0887"
            ],
            [
             0.1111111111111111,
             "#46039f"
            ],
            [
             0.2222222222222222,
             "#7201a8"
            ],
            [
             0.3333333333333333,
             "#9c179e"
            ],
            [
             0.4444444444444444,
             "#bd3786"
            ],
            [
             0.5555555555555556,
             "#d8576b"
            ],
            [
             0.6666666666666666,
             "#ed7953"
            ],
            [
             0.7777777777777778,
             "#fb9f3a"
            ],
            [
             0.8888888888888888,
             "#fdca26"
            ],
            [
             1,
             "#f0f921"
            ]
           ]
          },
          "colorway": [
           "#636efa",
           "#EF553B",
           "#00cc96",
           "#ab63fa",
           "#FFA15A",
           "#19d3f3",
           "#FF6692",
           "#B6E880",
           "#FF97FF",
           "#FECB52"
          ],
          "font": {
           "color": "#2a3f5f"
          },
          "geo": {
           "bgcolor": "white",
           "lakecolor": "white",
           "landcolor": "#E5ECF6",
           "showlakes": true,
           "showland": true,
           "subunitcolor": "white"
          },
          "hoverlabel": {
           "align": "left"
          },
          "hovermode": "closest",
          "mapbox": {
           "style": "light"
          },
          "paper_bgcolor": "white",
          "plot_bgcolor": "#E5ECF6",
          "polar": {
           "angularaxis": {
            "gridcolor": "white",
            "linecolor": "white",
            "ticks": ""
           },
           "bgcolor": "#E5ECF6",
           "radialaxis": {
            "gridcolor": "white",
            "linecolor": "white",
            "ticks": ""
           }
          },
          "scene": {
           "xaxis": {
            "backgroundcolor": "#E5ECF6",
            "gridcolor": "white",
            "gridwidth": 2,
            "linecolor": "white",
            "showbackground": true,
            "ticks": "",
            "zerolinecolor": "white"
           },
           "yaxis": {
            "backgroundcolor": "#E5ECF6",
            "gridcolor": "white",
            "gridwidth": 2,
            "linecolor": "white",
            "showbackground": true,
            "ticks": "",
            "zerolinecolor": "white"
           },
           "zaxis": {
            "backgroundcolor": "#E5ECF6",
            "gridcolor": "white",
            "gridwidth": 2,
            "linecolor": "white",
            "showbackground": true,
            "ticks": "",
            "zerolinecolor": "white"
           }
          },
          "shapedefaults": {
           "line": {
            "color": "#2a3f5f"
           }
          },
          "ternary": {
           "aaxis": {
            "gridcolor": "white",
            "linecolor": "white",
            "ticks": ""
           },
           "baxis": {
            "gridcolor": "white",
            "linecolor": "white",
            "ticks": ""
           },
           "bgcolor": "#E5ECF6",
           "caxis": {
            "gridcolor": "white",
            "linecolor": "white",
            "ticks": ""
           }
          },
          "title": {
           "x": 0.05
          },
          "xaxis": {
           "automargin": true,
           "gridcolor": "white",
           "linecolor": "white",
           "ticks": "",
           "title": {
            "standoff": 15
           },
           "zerolinecolor": "white",
           "zerolinewidth": 2
          },
          "yaxis": {
           "automargin": true,
           "gridcolor": "white",
           "linecolor": "white",
           "ticks": "",
           "title": {
            "standoff": 15
           },
           "zerolinecolor": "white",
           "zerolinewidth": 2
          }
         }
        },
        "xaxis": {
         "anchor": "y",
         "domain": [
          0,
          1
         ],
         "title": {
          "text": "Type of Crime"
         }
        },
        "yaxis": {
         "anchor": "x",
         "domain": [
          0,
          1
         ],
         "title": {
          "text": "Occurrences"
         }
        }
       }
      }
     },
     "metadata": {},
     "output_type": "display_data"
    }
   ],
   "source": [
    "fig.update_layout({\n",
    "    'plot_bgcolor': 'ivory',  # Set the background color to black\n",
    "    'paper_bgcolor': 'white'  # Set the paper color (outside the plot area) to black\n",
    "    })\n",
    "\n",
    "fig.show()"
   ]
  },
  {
   "cell_type": "code",
   "execution_count": 63,
   "metadata": {},
   "outputs": [
    {
     "data": {
      "application/vnd.plotly.v1+json": {
       "config": {
        "plotlyServerURL": "https://plot.ly"
       },
       "data": [
        {
         "alignmentgroup": "True",
         "hovertemplate": "Type of Crime=%{x}<br>Occurrences=%{marker.color}<extra></extra>",
         "legendgroup": "",
         "marker": {
          "color": [
           24730,
           21964,
           18056,
           14227,
           14067,
           13349,
           12867,
           11366,
           11171,
           10078
          ],
          "coloraxis": "coloraxis",
          "pattern": {
           "shape": ""
          }
         },
         "name": "",
         "offsetgroup": "",
         "orientation": "v",
         "showlegend": false,
         "textposition": "auto",
         "type": "bar",
         "x": [
          "VEHICLE - STOLEN",
          "THEFT OF IDENTITY",
          "BATTERY - SIMPLE ASSAULT",
          "BURGLARY FROM VEHICLE",
          "BURGLARY",
          "VANDALISM - FELONY ($400 & OVER, ALL CHURCH VANDALISMS)",
          "ASSAULT WITH DEADLY WEAPON, AGGRAVATED ASSAULT",
          "THEFT PLAIN - PETTY ($950 & UNDER)",
          "INTIMATE PARTNER - SIMPLE ASSAULT",
          "THEFT FROM MOTOR VEHICLE - GRAND ($950.01 AND OVER)"
         ],
         "xaxis": "x",
         "y": [
          24730,
          21964,
          18056,
          14227,
          14067,
          13349,
          12867,
          11366,
          11171,
          10078
         ],
         "yaxis": "y"
        }
       ],
       "layout": {
        "barmode": "relative",
        "coloraxis": {
         "colorbar": {
          "title": {
           "text": "Occurrences"
          }
         },
         "colorscale": [
          [
           0,
           "rgb(230, 240, 240)"
          ],
          [
           0.09090909090909091,
           "rgb(191, 221, 229)"
          ],
          [
           0.18181818181818182,
           "rgb(156, 201, 226)"
          ],
          [
           0.2727272727272727,
           "rgb(129, 180, 227)"
          ],
          [
           0.36363636363636365,
           "rgb(115, 154, 228)"
          ],
          [
           0.45454545454545453,
           "rgb(117, 127, 221)"
          ],
          [
           0.5454545454545454,
           "rgb(120, 100, 202)"
          ],
          [
           0.6363636363636364,
           "rgb(119, 74, 175)"
          ],
          [
           0.7272727272727273,
           "rgb(113, 50, 141)"
          ],
          [
           0.8181818181818182,
           "rgb(100, 31, 104)"
          ],
          [
           0.9090909090909091,
           "rgb(80, 20, 66)"
          ],
          [
           1,
           "rgb(54, 14, 36)"
          ]
         ]
        },
        "height": 700,
        "legend": {
         "tracegroupgap": 0
        },
        "paper_bgcolor": "ivory",
        "plot_bgcolor": "white",
        "template": {
         "data": {
          "bar": [
           {
            "error_x": {
             "color": "#2a3f5f"
            },
            "error_y": {
             "color": "#2a3f5f"
            },
            "marker": {
             "line": {
              "color": "#E5ECF6",
              "width": 0.5
             },
             "pattern": {
              "fillmode": "overlay",
              "size": 10,
              "solidity": 0.2
             }
            },
            "type": "bar"
           }
          ],
          "barpolar": [
           {
            "marker": {
             "line": {
              "color": "#E5ECF6",
              "width": 0.5
             },
             "pattern": {
              "fillmode": "overlay",
              "size": 10,
              "solidity": 0.2
             }
            },
            "type": "barpolar"
           }
          ],
          "carpet": [
           {
            "aaxis": {
             "endlinecolor": "#2a3f5f",
             "gridcolor": "white",
             "linecolor": "white",
             "minorgridcolor": "white",
             "startlinecolor": "#2a3f5f"
            },
            "baxis": {
             "endlinecolor": "#2a3f5f",
             "gridcolor": "white",
             "linecolor": "white",
             "minorgridcolor": "white",
             "startlinecolor": "#2a3f5f"
            },
            "type": "carpet"
           }
          ],
          "choropleth": [
           {
            "colorbar": {
             "outlinewidth": 0,
             "ticks": ""
            },
            "type": "choropleth"
           }
          ],
          "contour": [
           {
            "colorbar": {
             "outlinewidth": 0,
             "ticks": ""
            },
            "colorscale": [
             [
              0,
              "#0d0887"
             ],
             [
              0.1111111111111111,
              "#46039f"
             ],
             [
              0.2222222222222222,
              "#7201a8"
             ],
             [
              0.3333333333333333,
              "#9c179e"
             ],
             [
              0.4444444444444444,
              "#bd3786"
             ],
             [
              0.5555555555555556,
              "#d8576b"
             ],
             [
              0.6666666666666666,
              "#ed7953"
             ],
             [
              0.7777777777777778,
              "#fb9f3a"
             ],
             [
              0.8888888888888888,
              "#fdca26"
             ],
             [
              1,
              "#f0f921"
             ]
            ],
            "type": "contour"
           }
          ],
          "contourcarpet": [
           {
            "colorbar": {
             "outlinewidth": 0,
             "ticks": ""
            },
            "type": "contourcarpet"
           }
          ],
          "heatmap": [
           {
            "colorbar": {
             "outlinewidth": 0,
             "ticks": ""
            },
            "colorscale": [
             [
              0,
              "#0d0887"
             ],
             [
              0.1111111111111111,
              "#46039f"
             ],
             [
              0.2222222222222222,
              "#7201a8"
             ],
             [
              0.3333333333333333,
              "#9c179e"
             ],
             [
              0.4444444444444444,
              "#bd3786"
             ],
             [
              0.5555555555555556,
              "#d8576b"
             ],
             [
              0.6666666666666666,
              "#ed7953"
             ],
             [
              0.7777777777777778,
              "#fb9f3a"
             ],
             [
              0.8888888888888888,
              "#fdca26"
             ],
             [
              1,
              "#f0f921"
             ]
            ],
            "type": "heatmap"
           }
          ],
          "heatmapgl": [
           {
            "colorbar": {
             "outlinewidth": 0,
             "ticks": ""
            },
            "colorscale": [
             [
              0,
              "#0d0887"
             ],
             [
              0.1111111111111111,
              "#46039f"
             ],
             [
              0.2222222222222222,
              "#7201a8"
             ],
             [
              0.3333333333333333,
              "#9c179e"
             ],
             [
              0.4444444444444444,
              "#bd3786"
             ],
             [
              0.5555555555555556,
              "#d8576b"
             ],
             [
              0.6666666666666666,
              "#ed7953"
             ],
             [
              0.7777777777777778,
              "#fb9f3a"
             ],
             [
              0.8888888888888888,
              "#fdca26"
             ],
             [
              1,
              "#f0f921"
             ]
            ],
            "type": "heatmapgl"
           }
          ],
          "histogram": [
           {
            "marker": {
             "pattern": {
              "fillmode": "overlay",
              "size": 10,
              "solidity": 0.2
             }
            },
            "type": "histogram"
           }
          ],
          "histogram2d": [
           {
            "colorbar": {
             "outlinewidth": 0,
             "ticks": ""
            },
            "colorscale": [
             [
              0,
              "#0d0887"
             ],
             [
              0.1111111111111111,
              "#46039f"
             ],
             [
              0.2222222222222222,
              "#7201a8"
             ],
             [
              0.3333333333333333,
              "#9c179e"
             ],
             [
              0.4444444444444444,
              "#bd3786"
             ],
             [
              0.5555555555555556,
              "#d8576b"
             ],
             [
              0.6666666666666666,
              "#ed7953"
             ],
             [
              0.7777777777777778,
              "#fb9f3a"
             ],
             [
              0.8888888888888888,
              "#fdca26"
             ],
             [
              1,
              "#f0f921"
             ]
            ],
            "type": "histogram2d"
           }
          ],
          "histogram2dcontour": [
           {
            "colorbar": {
             "outlinewidth": 0,
             "ticks": ""
            },
            "colorscale": [
             [
              0,
              "#0d0887"
             ],
             [
              0.1111111111111111,
              "#46039f"
             ],
             [
              0.2222222222222222,
              "#7201a8"
             ],
             [
              0.3333333333333333,
              "#9c179e"
             ],
             [
              0.4444444444444444,
              "#bd3786"
             ],
             [
              0.5555555555555556,
              "#d8576b"
             ],
             [
              0.6666666666666666,
              "#ed7953"
             ],
             [
              0.7777777777777778,
              "#fb9f3a"
             ],
             [
              0.8888888888888888,
              "#fdca26"
             ],
             [
              1,
              "#f0f921"
             ]
            ],
            "type": "histogram2dcontour"
           }
          ],
          "mesh3d": [
           {
            "colorbar": {
             "outlinewidth": 0,
             "ticks": ""
            },
            "type": "mesh3d"
           }
          ],
          "parcoords": [
           {
            "line": {
             "colorbar": {
              "outlinewidth": 0,
              "ticks": ""
             }
            },
            "type": "parcoords"
           }
          ],
          "pie": [
           {
            "automargin": true,
            "type": "pie"
           }
          ],
          "scatter": [
           {
            "fillpattern": {
             "fillmode": "overlay",
             "size": 10,
             "solidity": 0.2
            },
            "type": "scatter"
           }
          ],
          "scatter3d": [
           {
            "line": {
             "colorbar": {
              "outlinewidth": 0,
              "ticks": ""
             }
            },
            "marker": {
             "colorbar": {
              "outlinewidth": 0,
              "ticks": ""
             }
            },
            "type": "scatter3d"
           }
          ],
          "scattercarpet": [
           {
            "marker": {
             "colorbar": {
              "outlinewidth": 0,
              "ticks": ""
             }
            },
            "type": "scattercarpet"
           }
          ],
          "scattergeo": [
           {
            "marker": {
             "colorbar": {
              "outlinewidth": 0,
              "ticks": ""
             }
            },
            "type": "scattergeo"
           }
          ],
          "scattergl": [
           {
            "marker": {
             "colorbar": {
              "outlinewidth": 0,
              "ticks": ""
             }
            },
            "type": "scattergl"
           }
          ],
          "scattermapbox": [
           {
            "marker": {
             "colorbar": {
              "outlinewidth": 0,
              "ticks": ""
             }
            },
            "type": "scattermapbox"
           }
          ],
          "scatterpolar": [
           {
            "marker": {
             "colorbar": {
              "outlinewidth": 0,
              "ticks": ""
             }
            },
            "type": "scatterpolar"
           }
          ],
          "scatterpolargl": [
           {
            "marker": {
             "colorbar": {
              "outlinewidth": 0,
              "ticks": ""
             }
            },
            "type": "scatterpolargl"
           }
          ],
          "scatterternary": [
           {
            "marker": {
             "colorbar": {
              "outlinewidth": 0,
              "ticks": ""
             }
            },
            "type": "scatterternary"
           }
          ],
          "surface": [
           {
            "colorbar": {
             "outlinewidth": 0,
             "ticks": ""
            },
            "colorscale": [
             [
              0,
              "#0d0887"
             ],
             [
              0.1111111111111111,
              "#46039f"
             ],
             [
              0.2222222222222222,
              "#7201a8"
             ],
             [
              0.3333333333333333,
              "#9c179e"
             ],
             [
              0.4444444444444444,
              "#bd3786"
             ],
             [
              0.5555555555555556,
              "#d8576b"
             ],
             [
              0.6666666666666666,
              "#ed7953"
             ],
             [
              0.7777777777777778,
              "#fb9f3a"
             ],
             [
              0.8888888888888888,
              "#fdca26"
             ],
             [
              1,
              "#f0f921"
             ]
            ],
            "type": "surface"
           }
          ],
          "table": [
           {
            "cells": {
             "fill": {
              "color": "#EBF0F8"
             },
             "line": {
              "color": "white"
             }
            },
            "header": {
             "fill": {
              "color": "#C8D4E3"
             },
             "line": {
              "color": "white"
             }
            },
            "type": "table"
           }
          ]
         },
         "layout": {
          "annotationdefaults": {
           "arrowcolor": "#2a3f5f",
           "arrowhead": 0,
           "arrowwidth": 1
          },
          "autotypenumbers": "strict",
          "coloraxis": {
           "colorbar": {
            "outlinewidth": 0,
            "ticks": ""
           }
          },
          "colorscale": {
           "diverging": [
            [
             0,
             "#8e0152"
            ],
            [
             0.1,
             "#c51b7d"
            ],
            [
             0.2,
             "#de77ae"
            ],
            [
             0.3,
             "#f1b6da"
            ],
            [
             0.4,
             "#fde0ef"
            ],
            [
             0.5,
             "#f7f7f7"
            ],
            [
             0.6,
             "#e6f5d0"
            ],
            [
             0.7,
             "#b8e186"
            ],
            [
             0.8,
             "#7fbc41"
            ],
            [
             0.9,
             "#4d9221"
            ],
            [
             1,
             "#276419"
            ]
           ],
           "sequential": [
            [
             0,
             "#0d0887"
            ],
            [
             0.1111111111111111,
             "#46039f"
            ],
            [
             0.2222222222222222,
             "#7201a8"
            ],
            [
             0.3333333333333333,
             "#9c179e"
            ],
            [
             0.4444444444444444,
             "#bd3786"
            ],
            [
             0.5555555555555556,
             "#d8576b"
            ],
            [
             0.6666666666666666,
             "#ed7953"
            ],
            [
             0.7777777777777778,
             "#fb9f3a"
            ],
            [
             0.8888888888888888,
             "#fdca26"
            ],
            [
             1,
             "#f0f921"
            ]
           ],
           "sequentialminus": [
            [
             0,
             "#0d0887"
            ],
            [
             0.1111111111111111,
             "#46039f"
            ],
            [
             0.2222222222222222,
             "#7201a8"
            ],
            [
             0.3333333333333333,
             "#9c179e"
            ],
            [
             0.4444444444444444,
             "#bd3786"
            ],
            [
             0.5555555555555556,
             "#d8576b"
            ],
            [
             0.6666666666666666,
             "#ed7953"
            ],
            [
             0.7777777777777778,
             "#fb9f3a"
            ],
            [
             0.8888888888888888,
             "#fdca26"
            ],
            [
             1,
             "#f0f921"
            ]
           ]
          },
          "colorway": [
           "#636efa",
           "#EF553B",
           "#00cc96",
           "#ab63fa",
           "#FFA15A",
           "#19d3f3",
           "#FF6692",
           "#B6E880",
           "#FF97FF",
           "#FECB52"
          ],
          "font": {
           "color": "#2a3f5f"
          },
          "geo": {
           "bgcolor": "white",
           "lakecolor": "white",
           "landcolor": "#E5ECF6",
           "showlakes": true,
           "showland": true,
           "subunitcolor": "white"
          },
          "hoverlabel": {
           "align": "left"
          },
          "hovermode": "closest",
          "mapbox": {
           "style": "light"
          },
          "paper_bgcolor": "white",
          "plot_bgcolor": "#E5ECF6",
          "polar": {
           "angularaxis": {
            "gridcolor": "white",
            "linecolor": "white",
            "ticks": ""
           },
           "bgcolor": "#E5ECF6",
           "radialaxis": {
            "gridcolor": "white",
            "linecolor": "white",
            "ticks": ""
           }
          },
          "scene": {
           "xaxis": {
            "backgroundcolor": "#E5ECF6",
            "gridcolor": "white",
            "gridwidth": 2,
            "linecolor": "white",
            "showbackground": true,
            "ticks": "",
            "zerolinecolor": "white"
           },
           "yaxis": {
            "backgroundcolor": "#E5ECF6",
            "gridcolor": "white",
            "gridwidth": 2,
            "linecolor": "white",
            "showbackground": true,
            "ticks": "",
            "zerolinecolor": "white"
           },
           "zaxis": {
            "backgroundcolor": "#E5ECF6",
            "gridcolor": "white",
            "gridwidth": 2,
            "linecolor": "white",
            "showbackground": true,
            "ticks": "",
            "zerolinecolor": "white"
           }
          },
          "shapedefaults": {
           "line": {
            "color": "#2a3f5f"
           }
          },
          "ternary": {
           "aaxis": {
            "gridcolor": "white",
            "linecolor": "white",
            "ticks": ""
           },
           "baxis": {
            "gridcolor": "white",
            "linecolor": "white",
            "ticks": ""
           },
           "bgcolor": "#E5ECF6",
           "caxis": {
            "gridcolor": "white",
            "linecolor": "white",
            "ticks": ""
           }
          },
          "title": {
           "x": 0.05
          },
          "xaxis": {
           "automargin": true,
           "gridcolor": "white",
           "linecolor": "white",
           "ticks": "",
           "title": {
            "standoff": 15
           },
           "zerolinecolor": "white",
           "zerolinewidth": 2
          },
          "yaxis": {
           "automargin": true,
           "gridcolor": "white",
           "linecolor": "white",
           "ticks": "",
           "title": {
            "standoff": 15
           },
           "zerolinecolor": "white",
           "zerolinewidth": 2
          }
         }
        },
        "title": {
         "font": {
          "size": 24
         },
         "text": "Top 10 Crimes 2022 - Los Angeles",
         "x": 0.5
        },
        "xaxis": {
         "anchor": "y",
         "domain": [
          0,
          1
         ],
         "title": {
          "text": "Type of Crime"
         }
        },
        "yaxis": {
         "anchor": "x",
         "domain": [
          0,
          1
         ],
         "title": {
          "text": "Occurrences"
         }
        }
       }
      }
     },
     "metadata": {},
     "output_type": "display_data"
    }
   ],
   "source": [
    "fig = px.bar(top_10_crimes_2022_df, x='Crm Cd Desc', y='Occurrences',\n",
    "title= 'Top 10 Crimes 2022 - Los Angeles',\n",
    "labels={'Crm Cd Desc':'Type of Crime'}, height=700,\n",
    "color= 'Occurrences', color_continuous_scale='dense')\n",
    "fig.update_layout({\n",
    "     'plot_bgcolor': 'white',  # Set the plot background color \n",
    "     'paper_bgcolor': 'ivory',  # Set the paper color (outside the plot area) \n",
    "     'title_font' : {'size' : 24},\n",
    "     'title_x' : 0.5\n",
    "    })\n",
    "\n",
    "fig.show()"
   ]
  },
  {
   "cell_type": "code",
   "execution_count": 64,
   "metadata": {},
   "outputs": [
    {
     "data": {
      "application/vnd.plotly.v1+json": {
       "config": {
        "plotlyServerURL": "https://plot.ly"
       },
       "data": [
        {
         "alignmentgroup": "True",
         "hovertemplate": "Type of Crime=%{x}<br>Occurrences=%{marker.color}<extra></extra>",
         "legendgroup": "",
         "marker": {
          "color": [
           24415,
           18828,
           14262,
           13523,
           13113,
           13060,
           12683,
           11371,
           10859,
           9952
          ],
          "coloraxis": "coloraxis",
          "pattern": {
           "shape": ""
          }
         },
         "name": "",
         "offsetgroup": "",
         "orientation": "v",
         "showlegend": false,
         "textposition": "auto",
         "type": "bar",
         "x": [
          "VEHICLE - STOLEN",
          "BATTERY - SIMPLE ASSAULT",
          "BURGLARY",
          "BURGLARY FROM VEHICLE",
          "VANDALISM - FELONY ($400 & OVER, ALL CHURCH VANDALISMS)",
          "THEFT OF IDENTITY",
          "ASSAULT WITH DEADLY WEAPON, AGGRAVATED ASSAULT",
          "THEFT PLAIN - PETTY ($950 & UNDER)",
          "INTIMATE PARTNER - SIMPLE ASSAULT",
          "SHOPLIFTING - PETTY THEFT ($950 & UNDER)"
         ],
         "xaxis": "x",
         "y": [
          24415,
          18828,
          14262,
          13523,
          13113,
          13060,
          12683,
          11371,
          10859,
          9952
         ],
         "yaxis": "y"
        }
       ],
       "layout": {
        "barmode": "relative",
        "coloraxis": {
         "colorbar": {
          "title": {
           "text": "Occurrences"
          }
         },
         "colorscale": [
          [
           0,
           "rgb(254, 252, 205)"
          ],
          [
           0.09090909090909091,
           "rgb(239, 225, 156)"
          ],
          [
           0.18181818181818182,
           "rgb(221, 201, 106)"
          ],
          [
           0.2727272727272727,
           "rgb(194, 182, 59)"
          ],
          [
           0.36363636363636365,
           "rgb(157, 167, 21)"
          ],
          [
           0.45454545454545453,
           "rgb(116, 153, 5)"
          ],
          [
           0.5454545454545454,
           "rgb(75, 138, 20)"
          ],
          [
           0.6363636363636364,
           "rgb(35, 121, 36)"
          ],
          [
           0.7272727272727273,
           "rgb(11, 100, 44)"
          ],
          [
           0.8181818181818182,
           "rgb(18, 78, 43)"
          ],
          [
           0.9090909090909091,
           "rgb(25, 56, 34)"
          ],
          [
           1,
           "rgb(23, 35, 18)"
          ]
         ]
        },
        "height": 700,
        "legend": {
         "tracegroupgap": 0
        },
        "paper_bgcolor": "ivory",
        "plot_bgcolor": "white",
        "template": {
         "data": {
          "bar": [
           {
            "error_x": {
             "color": "#2a3f5f"
            },
            "error_y": {
             "color": "#2a3f5f"
            },
            "marker": {
             "line": {
              "color": "#E5ECF6",
              "width": 0.5
             },
             "pattern": {
              "fillmode": "overlay",
              "size": 10,
              "solidity": 0.2
             }
            },
            "type": "bar"
           }
          ],
          "barpolar": [
           {
            "marker": {
             "line": {
              "color": "#E5ECF6",
              "width": 0.5
             },
             "pattern": {
              "fillmode": "overlay",
              "size": 10,
              "solidity": 0.2
             }
            },
            "type": "barpolar"
           }
          ],
          "carpet": [
           {
            "aaxis": {
             "endlinecolor": "#2a3f5f",
             "gridcolor": "white",
             "linecolor": "white",
             "minorgridcolor": "white",
             "startlinecolor": "#2a3f5f"
            },
            "baxis": {
             "endlinecolor": "#2a3f5f",
             "gridcolor": "white",
             "linecolor": "white",
             "minorgridcolor": "white",
             "startlinecolor": "#2a3f5f"
            },
            "type": "carpet"
           }
          ],
          "choropleth": [
           {
            "colorbar": {
             "outlinewidth": 0,
             "ticks": ""
            },
            "type": "choropleth"
           }
          ],
          "contour": [
           {
            "colorbar": {
             "outlinewidth": 0,
             "ticks": ""
            },
            "colorscale": [
             [
              0,
              "#0d0887"
             ],
             [
              0.1111111111111111,
              "#46039f"
             ],
             [
              0.2222222222222222,
              "#7201a8"
             ],
             [
              0.3333333333333333,
              "#9c179e"
             ],
             [
              0.4444444444444444,
              "#bd3786"
             ],
             [
              0.5555555555555556,
              "#d8576b"
             ],
             [
              0.6666666666666666,
              "#ed7953"
             ],
             [
              0.7777777777777778,
              "#fb9f3a"
             ],
             [
              0.8888888888888888,
              "#fdca26"
             ],
             [
              1,
              "#f0f921"
             ]
            ],
            "type": "contour"
           }
          ],
          "contourcarpet": [
           {
            "colorbar": {
             "outlinewidth": 0,
             "ticks": ""
            },
            "type": "contourcarpet"
           }
          ],
          "heatmap": [
           {
            "colorbar": {
             "outlinewidth": 0,
             "ticks": ""
            },
            "colorscale": [
             [
              0,
              "#0d0887"
             ],
             [
              0.1111111111111111,
              "#46039f"
             ],
             [
              0.2222222222222222,
              "#7201a8"
             ],
             [
              0.3333333333333333,
              "#9c179e"
             ],
             [
              0.4444444444444444,
              "#bd3786"
             ],
             [
              0.5555555555555556,
              "#d8576b"
             ],
             [
              0.6666666666666666,
              "#ed7953"
             ],
             [
              0.7777777777777778,
              "#fb9f3a"
             ],
             [
              0.8888888888888888,
              "#fdca26"
             ],
             [
              1,
              "#f0f921"
             ]
            ],
            "type": "heatmap"
           }
          ],
          "heatmapgl": [
           {
            "colorbar": {
             "outlinewidth": 0,
             "ticks": ""
            },
            "colorscale": [
             [
              0,
              "#0d0887"
             ],
             [
              0.1111111111111111,
              "#46039f"
             ],
             [
              0.2222222222222222,
              "#7201a8"
             ],
             [
              0.3333333333333333,
              "#9c179e"
             ],
             [
              0.4444444444444444,
              "#bd3786"
             ],
             [
              0.5555555555555556,
              "#d8576b"
             ],
             [
              0.6666666666666666,
              "#ed7953"
             ],
             [
              0.7777777777777778,
              "#fb9f3a"
             ],
             [
              0.8888888888888888,
              "#fdca26"
             ],
             [
              1,
              "#f0f921"
             ]
            ],
            "type": "heatmapgl"
           }
          ],
          "histogram": [
           {
            "marker": {
             "pattern": {
              "fillmode": "overlay",
              "size": 10,
              "solidity": 0.2
             }
            },
            "type": "histogram"
           }
          ],
          "histogram2d": [
           {
            "colorbar": {
             "outlinewidth": 0,
             "ticks": ""
            },
            "colorscale": [
             [
              0,
              "#0d0887"
             ],
             [
              0.1111111111111111,
              "#46039f"
             ],
             [
              0.2222222222222222,
              "#7201a8"
             ],
             [
              0.3333333333333333,
              "#9c179e"
             ],
             [
              0.4444444444444444,
              "#bd3786"
             ],
             [
              0.5555555555555556,
              "#d8576b"
             ],
             [
              0.6666666666666666,
              "#ed7953"
             ],
             [
              0.7777777777777778,
              "#fb9f3a"
             ],
             [
              0.8888888888888888,
              "#fdca26"
             ],
             [
              1,
              "#f0f921"
             ]
            ],
            "type": "histogram2d"
           }
          ],
          "histogram2dcontour": [
           {
            "colorbar": {
             "outlinewidth": 0,
             "ticks": ""
            },
            "colorscale": [
             [
              0,
              "#0d0887"
             ],
             [
              0.1111111111111111,
              "#46039f"
             ],
             [
              0.2222222222222222,
              "#7201a8"
             ],
             [
              0.3333333333333333,
              "#9c179e"
             ],
             [
              0.4444444444444444,
              "#bd3786"
             ],
             [
              0.5555555555555556,
              "#d8576b"
             ],
             [
              0.6666666666666666,
              "#ed7953"
             ],
             [
              0.7777777777777778,
              "#fb9f3a"
             ],
             [
              0.8888888888888888,
              "#fdca26"
             ],
             [
              1,
              "#f0f921"
             ]
            ],
            "type": "histogram2dcontour"
           }
          ],
          "mesh3d": [
           {
            "colorbar": {
             "outlinewidth": 0,
             "ticks": ""
            },
            "type": "mesh3d"
           }
          ],
          "parcoords": [
           {
            "line": {
             "colorbar": {
              "outlinewidth": 0,
              "ticks": ""
             }
            },
            "type": "parcoords"
           }
          ],
          "pie": [
           {
            "automargin": true,
            "type": "pie"
           }
          ],
          "scatter": [
           {
            "fillpattern": {
             "fillmode": "overlay",
             "size": 10,
             "solidity": 0.2
            },
            "type": "scatter"
           }
          ],
          "scatter3d": [
           {
            "line": {
             "colorbar": {
              "outlinewidth": 0,
              "ticks": ""
             }
            },
            "marker": {
             "colorbar": {
              "outlinewidth": 0,
              "ticks": ""
             }
            },
            "type": "scatter3d"
           }
          ],
          "scattercarpet": [
           {
            "marker": {
             "colorbar": {
              "outlinewidth": 0,
              "ticks": ""
             }
            },
            "type": "scattercarpet"
           }
          ],
          "scattergeo": [
           {
            "marker": {
             "colorbar": {
              "outlinewidth": 0,
              "ticks": ""
             }
            },
            "type": "scattergeo"
           }
          ],
          "scattergl": [
           {
            "marker": {
             "colorbar": {
              "outlinewidth": 0,
              "ticks": ""
             }
            },
            "type": "scattergl"
           }
          ],
          "scattermapbox": [
           {
            "marker": {
             "colorbar": {
              "outlinewidth": 0,
              "ticks": ""
             }
            },
            "type": "scattermapbox"
           }
          ],
          "scatterpolar": [
           {
            "marker": {
             "colorbar": {
              "outlinewidth": 0,
              "ticks": ""
             }
            },
            "type": "scatterpolar"
           }
          ],
          "scatterpolargl": [
           {
            "marker": {
             "colorbar": {
              "outlinewidth": 0,
              "ticks": ""
             }
            },
            "type": "scatterpolargl"
           }
          ],
          "scatterternary": [
           {
            "marker": {
             "colorbar": {
              "outlinewidth": 0,
              "ticks": ""
             }
            },
            "type": "scatterternary"
           }
          ],
          "surface": [
           {
            "colorbar": {
             "outlinewidth": 0,
             "ticks": ""
            },
            "colorscale": [
             [
              0,
              "#0d0887"
             ],
             [
              0.1111111111111111,
              "#46039f"
             ],
             [
              0.2222222222222222,
              "#7201a8"
             ],
             [
              0.3333333333333333,
              "#9c179e"
             ],
             [
              0.4444444444444444,
              "#bd3786"
             ],
             [
              0.5555555555555556,
              "#d8576b"
             ],
             [
              0.6666666666666666,
              "#ed7953"
             ],
             [
              0.7777777777777778,
              "#fb9f3a"
             ],
             [
              0.8888888888888888,
              "#fdca26"
             ],
             [
              1,
              "#f0f921"
             ]
            ],
            "type": "surface"
           }
          ],
          "table": [
           {
            "cells": {
             "fill": {
              "color": "#EBF0F8"
             },
             "line": {
              "color": "white"
             }
            },
            "header": {
             "fill": {
              "color": "#C8D4E3"
             },
             "line": {
              "color": "white"
             }
            },
            "type": "table"
           }
          ]
         },
         "layout": {
          "annotationdefaults": {
           "arrowcolor": "#2a3f5f",
           "arrowhead": 0,
           "arrowwidth": 1
          },
          "autotypenumbers": "strict",
          "coloraxis": {
           "colorbar": {
            "outlinewidth": 0,
            "ticks": ""
           }
          },
          "colorscale": {
           "diverging": [
            [
             0,
             "#8e0152"
            ],
            [
             0.1,
             "#c51b7d"
            ],
            [
             0.2,
             "#de77ae"
            ],
            [
             0.3,
             "#f1b6da"
            ],
            [
             0.4,
             "#fde0ef"
            ],
            [
             0.5,
             "#f7f7f7"
            ],
            [
             0.6,
             "#e6f5d0"
            ],
            [
             0.7,
             "#b8e186"
            ],
            [
             0.8,
             "#7fbc41"
            ],
            [
             0.9,
             "#4d9221"
            ],
            [
             1,
             "#276419"
            ]
           ],
           "sequential": [
            [
             0,
             "#0d0887"
            ],
            [
             0.1111111111111111,
             "#46039f"
            ],
            [
             0.2222222222222222,
             "#7201a8"
            ],
            [
             0.3333333333333333,
             "#9c179e"
            ],
            [
             0.4444444444444444,
             "#bd3786"
            ],
            [
             0.5555555555555556,
             "#d8576b"
            ],
            [
             0.6666666666666666,
             "#ed7953"
            ],
            [
             0.7777777777777778,
             "#fb9f3a"
            ],
            [
             0.8888888888888888,
             "#fdca26"
            ],
            [
             1,
             "#f0f921"
            ]
           ],
           "sequentialminus": [
            [
             0,
             "#0d0887"
            ],
            [
             0.1111111111111111,
             "#46039f"
            ],
            [
             0.2222222222222222,
             "#7201a8"
            ],
            [
             0.3333333333333333,
             "#9c179e"
            ],
            [
             0.4444444444444444,
             "#bd3786"
            ],
            [
             0.5555555555555556,
             "#d8576b"
            ],
            [
             0.6666666666666666,
             "#ed7953"
            ],
            [
             0.7777777777777778,
             "#fb9f3a"
            ],
            [
             0.8888888888888888,
             "#fdca26"
            ],
            [
             1,
             "#f0f921"
            ]
           ]
          },
          "colorway": [
           "#636efa",
           "#EF553B",
           "#00cc96",
           "#ab63fa",
           "#FFA15A",
           "#19d3f3",
           "#FF6692",
           "#B6E880",
           "#FF97FF",
           "#FECB52"
          ],
          "font": {
           "color": "#2a3f5f"
          },
          "geo": {
           "bgcolor": "white",
           "lakecolor": "white",
           "landcolor": "#E5ECF6",
           "showlakes": true,
           "showland": true,
           "subunitcolor": "white"
          },
          "hoverlabel": {
           "align": "left"
          },
          "hovermode": "closest",
          "mapbox": {
           "style": "light"
          },
          "paper_bgcolor": "white",
          "plot_bgcolor": "#E5ECF6",
          "polar": {
           "angularaxis": {
            "gridcolor": "white",
            "linecolor": "white",
            "ticks": ""
           },
           "bgcolor": "#E5ECF6",
           "radialaxis": {
            "gridcolor": "white",
            "linecolor": "white",
            "ticks": ""
           }
          },
          "scene": {
           "xaxis": {
            "backgroundcolor": "#E5ECF6",
            "gridcolor": "white",
            "gridwidth": 2,
            "linecolor": "white",
            "showbackground": true,
            "ticks": "",
            "zerolinecolor": "white"
           },
           "yaxis": {
            "backgroundcolor": "#E5ECF6",
            "gridcolor": "white",
            "gridwidth": 2,
            "linecolor": "white",
            "showbackground": true,
            "ticks": "",
            "zerolinecolor": "white"
           },
           "zaxis": {
            "backgroundcolor": "#E5ECF6",
            "gridcolor": "white",
            "gridwidth": 2,
            "linecolor": "white",
            "showbackground": true,
            "ticks": "",
            "zerolinecolor": "white"
           }
          },
          "shapedefaults": {
           "line": {
            "color": "#2a3f5f"
           }
          },
          "ternary": {
           "aaxis": {
            "gridcolor": "white",
            "linecolor": "white",
            "ticks": ""
           },
           "baxis": {
            "gridcolor": "white",
            "linecolor": "white",
            "ticks": ""
           },
           "bgcolor": "#E5ECF6",
           "caxis": {
            "gridcolor": "white",
            "linecolor": "white",
            "ticks": ""
           }
          },
          "title": {
           "x": 0.05
          },
          "xaxis": {
           "automargin": true,
           "gridcolor": "white",
           "linecolor": "white",
           "ticks": "",
           "title": {
            "standoff": 15
           },
           "zerolinecolor": "white",
           "zerolinewidth": 2
          },
          "yaxis": {
           "automargin": true,
           "gridcolor": "white",
           "linecolor": "white",
           "ticks": "",
           "title": {
            "standoff": 15
           },
           "zerolinecolor": "white",
           "zerolinewidth": 2
          }
         }
        },
        "title": {
         "font": {
          "size": 24
         },
         "text": "Top 10 Crimes 2023 - Los Angeles",
         "x": 0.5
        },
        "xaxis": {
         "anchor": "y",
         "domain": [
          0,
          1
         ],
         "title": {
          "text": "Type of Crime"
         }
        },
        "yaxis": {
         "anchor": "x",
         "domain": [
          0,
          1
         ],
         "title": {
          "text": "Occurrences"
         }
        }
       }
      }
     },
     "metadata": {},
     "output_type": "display_data"
    }
   ],
   "source": [
    "fig = px.bar(top_10_crimes_2023_df, x='Crm Cd Desc', y='Occurrences',\n",
    "title= 'Top 10 Crimes 2023 - Los Angeles',\n",
    "labels={'Crm Cd Desc':'Type of Crime'}, height=700,\n",
    "color= 'Occurrences', color_continuous_scale='speed')\n",
    "fig.update_layout({\n",
    "     'plot_bgcolor': 'white',  # Set the plot background color \n",
    "     'paper_bgcolor': 'ivory',  # Set the paper color (outside the plot area) \n",
    "     'title_font' : {'size' : 24},\n",
    "     'title_x' : 0.5\n",
    "    })\n",
    "\n",
    "fig.show()"
   ]
  },
  {
   "cell_type": "code",
   "execution_count": 65,
   "metadata": {},
   "outputs": [
    {
     "data": {
      "application/vnd.plotly.v1+json": {
       "config": {
        "plotlyServerURL": "https://plot.ly"
       },
       "data": [
        {
         "alignmentgroup": "True",
         "hovertemplate": "Type of Crime=%{x}<br>Occurrences=%{marker.color}<extra></extra>",
         "legendgroup": "",
         "marker": {
          "color": [
           5018,
           3456,
           2941,
           2668,
           2638,
           2361,
           2133,
           2024,
           1893,
           1748
          ],
          "coloraxis": "coloraxis",
          "pattern": {
           "shape": ""
          }
         },
         "name": "",
         "offsetgroup": "",
         "orientation": "v",
         "showlegend": false,
         "textposition": "auto",
         "type": "bar",
         "x": [
          "VEHICLE - STOLEN",
          "BATTERY - SIMPLE ASSAULT",
          "BURGLARY",
          "BURGLARY FROM VEHICLE",
          "VANDALISM - FELONY ($400 & OVER, ALL CHURCH VANDALISMS)",
          "ASSAULT WITH DEADLY WEAPON, AGGRAVATED ASSAULT",
          "SHOPLIFTING - PETTY THEFT ($950 & UNDER)",
          "THEFT PLAIN - PETTY ($950 & UNDER)",
          "INTIMATE PARTNER - SIMPLE ASSAULT",
          "THEFT FROM MOTOR VEHICLE - PETTY ($950 & UNDER)"
         ],
         "xaxis": "x",
         "y": [
          5018,
          3456,
          2941,
          2668,
          2638,
          2361,
          2133,
          2024,
          1893,
          1748
         ],
         "yaxis": "y"
        }
       ],
       "layout": {
        "barmode": "relative",
        "coloraxis": {
         "colorbar": {
          "title": {
           "text": "Occurrences"
          }
         },
         "colorscale": [
          [
           0,
           "rgb(255,245,240)"
          ],
          [
           0.125,
           "rgb(254,224,210)"
          ],
          [
           0.25,
           "rgb(252,187,161)"
          ],
          [
           0.375,
           "rgb(252,146,114)"
          ],
          [
           0.5,
           "rgb(251,106,74)"
          ],
          [
           0.625,
           "rgb(239,59,44)"
          ],
          [
           0.75,
           "rgb(203,24,29)"
          ],
          [
           0.875,
           "rgb(165,15,21)"
          ],
          [
           1,
           "rgb(103,0,13)"
          ]
         ]
        },
        "height": 700,
        "legend": {
         "tracegroupgap": 0
        },
        "paper_bgcolor": "ivory",
        "plot_bgcolor": "white",
        "template": {
         "data": {
          "bar": [
           {
            "error_x": {
             "color": "#2a3f5f"
            },
            "error_y": {
             "color": "#2a3f5f"
            },
            "marker": {
             "line": {
              "color": "#E5ECF6",
              "width": 0.5
             },
             "pattern": {
              "fillmode": "overlay",
              "size": 10,
              "solidity": 0.2
             }
            },
            "type": "bar"
           }
          ],
          "barpolar": [
           {
            "marker": {
             "line": {
              "color": "#E5ECF6",
              "width": 0.5
             },
             "pattern": {
              "fillmode": "overlay",
              "size": 10,
              "solidity": 0.2
             }
            },
            "type": "barpolar"
           }
          ],
          "carpet": [
           {
            "aaxis": {
             "endlinecolor": "#2a3f5f",
             "gridcolor": "white",
             "linecolor": "white",
             "minorgridcolor": "white",
             "startlinecolor": "#2a3f5f"
            },
            "baxis": {
             "endlinecolor": "#2a3f5f",
             "gridcolor": "white",
             "linecolor": "white",
             "minorgridcolor": "white",
             "startlinecolor": "#2a3f5f"
            },
            "type": "carpet"
           }
          ],
          "choropleth": [
           {
            "colorbar": {
             "outlinewidth": 0,
             "ticks": ""
            },
            "type": "choropleth"
           }
          ],
          "contour": [
           {
            "colorbar": {
             "outlinewidth": 0,
             "ticks": ""
            },
            "colorscale": [
             [
              0,
              "#0d0887"
             ],
             [
              0.1111111111111111,
              "#46039f"
             ],
             [
              0.2222222222222222,
              "#7201a8"
             ],
             [
              0.3333333333333333,
              "#9c179e"
             ],
             [
              0.4444444444444444,
              "#bd3786"
             ],
             [
              0.5555555555555556,
              "#d8576b"
             ],
             [
              0.6666666666666666,
              "#ed7953"
             ],
             [
              0.7777777777777778,
              "#fb9f3a"
             ],
             [
              0.8888888888888888,
              "#fdca26"
             ],
             [
              1,
              "#f0f921"
             ]
            ],
            "type": "contour"
           }
          ],
          "contourcarpet": [
           {
            "colorbar": {
             "outlinewidth": 0,
             "ticks": ""
            },
            "type": "contourcarpet"
           }
          ],
          "heatmap": [
           {
            "colorbar": {
             "outlinewidth": 0,
             "ticks": ""
            },
            "colorscale": [
             [
              0,
              "#0d0887"
             ],
             [
              0.1111111111111111,
              "#46039f"
             ],
             [
              0.2222222222222222,
              "#7201a8"
             ],
             [
              0.3333333333333333,
              "#9c179e"
             ],
             [
              0.4444444444444444,
              "#bd3786"
             ],
             [
              0.5555555555555556,
              "#d8576b"
             ],
             [
              0.6666666666666666,
              "#ed7953"
             ],
             [
              0.7777777777777778,
              "#fb9f3a"
             ],
             [
              0.8888888888888888,
              "#fdca26"
             ],
             [
              1,
              "#f0f921"
             ]
            ],
            "type": "heatmap"
           }
          ],
          "heatmapgl": [
           {
            "colorbar": {
             "outlinewidth": 0,
             "ticks": ""
            },
            "colorscale": [
             [
              0,
              "#0d0887"
             ],
             [
              0.1111111111111111,
              "#46039f"
             ],
             [
              0.2222222222222222,
              "#7201a8"
             ],
             [
              0.3333333333333333,
              "#9c179e"
             ],
             [
              0.4444444444444444,
              "#bd3786"
             ],
             [
              0.5555555555555556,
              "#d8576b"
             ],
             [
              0.6666666666666666,
              "#ed7953"
             ],
             [
              0.7777777777777778,
              "#fb9f3a"
             ],
             [
              0.8888888888888888,
              "#fdca26"
             ],
             [
              1,
              "#f0f921"
             ]
            ],
            "type": "heatmapgl"
           }
          ],
          "histogram": [
           {
            "marker": {
             "pattern": {
              "fillmode": "overlay",
              "size": 10,
              "solidity": 0.2
             }
            },
            "type": "histogram"
           }
          ],
          "histogram2d": [
           {
            "colorbar": {
             "outlinewidth": 0,
             "ticks": ""
            },
            "colorscale": [
             [
              0,
              "#0d0887"
             ],
             [
              0.1111111111111111,
              "#46039f"
             ],
             [
              0.2222222222222222,
              "#7201a8"
             ],
             [
              0.3333333333333333,
              "#9c179e"
             ],
             [
              0.4444444444444444,
              "#bd3786"
             ],
             [
              0.5555555555555556,
              "#d8576b"
             ],
             [
              0.6666666666666666,
              "#ed7953"
             ],
             [
              0.7777777777777778,
              "#fb9f3a"
             ],
             [
              0.8888888888888888,
              "#fdca26"
             ],
             [
              1,
              "#f0f921"
             ]
            ],
            "type": "histogram2d"
           }
          ],
          "histogram2dcontour": [
           {
            "colorbar": {
             "outlinewidth": 0,
             "ticks": ""
            },
            "colorscale": [
             [
              0,
              "#0d0887"
             ],
             [
              0.1111111111111111,
              "#46039f"
             ],
             [
              0.2222222222222222,
              "#7201a8"
             ],
             [
              0.3333333333333333,
              "#9c179e"
             ],
             [
              0.4444444444444444,
              "#bd3786"
             ],
             [
              0.5555555555555556,
              "#d8576b"
             ],
             [
              0.6666666666666666,
              "#ed7953"
             ],
             [
              0.7777777777777778,
              "#fb9f3a"
             ],
             [
              0.8888888888888888,
              "#fdca26"
             ],
             [
              1,
              "#f0f921"
             ]
            ],
            "type": "histogram2dcontour"
           }
          ],
          "mesh3d": [
           {
            "colorbar": {
             "outlinewidth": 0,
             "ticks": ""
            },
            "type": "mesh3d"
           }
          ],
          "parcoords": [
           {
            "line": {
             "colorbar": {
              "outlinewidth": 0,
              "ticks": ""
             }
            },
            "type": "parcoords"
           }
          ],
          "pie": [
           {
            "automargin": true,
            "type": "pie"
           }
          ],
          "scatter": [
           {
            "fillpattern": {
             "fillmode": "overlay",
             "size": 10,
             "solidity": 0.2
            },
            "type": "scatter"
           }
          ],
          "scatter3d": [
           {
            "line": {
             "colorbar": {
              "outlinewidth": 0,
              "ticks": ""
             }
            },
            "marker": {
             "colorbar": {
              "outlinewidth": 0,
              "ticks": ""
             }
            },
            "type": "scatter3d"
           }
          ],
          "scattercarpet": [
           {
            "marker": {
             "colorbar": {
              "outlinewidth": 0,
              "ticks": ""
             }
            },
            "type": "scattercarpet"
           }
          ],
          "scattergeo": [
           {
            "marker": {
             "colorbar": {
              "outlinewidth": 0,
              "ticks": ""
             }
            },
            "type": "scattergeo"
           }
          ],
          "scattergl": [
           {
            "marker": {
             "colorbar": {
              "outlinewidth": 0,
              "ticks": ""
             }
            },
            "type": "scattergl"
           }
          ],
          "scattermapbox": [
           {
            "marker": {
             "colorbar": {
              "outlinewidth": 0,
              "ticks": ""
             }
            },
            "type": "scattermapbox"
           }
          ],
          "scatterpolar": [
           {
            "marker": {
             "colorbar": {
              "outlinewidth": 0,
              "ticks": ""
             }
            },
            "type": "scatterpolar"
           }
          ],
          "scatterpolargl": [
           {
            "marker": {
             "colorbar": {
              "outlinewidth": 0,
              "ticks": ""
             }
            },
            "type": "scatterpolargl"
           }
          ],
          "scatterternary": [
           {
            "marker": {
             "colorbar": {
              "outlinewidth": 0,
              "ticks": ""
             }
            },
            "type": "scatterternary"
           }
          ],
          "surface": [
           {
            "colorbar": {
             "outlinewidth": 0,
             "ticks": ""
            },
            "colorscale": [
             [
              0,
              "#0d0887"
             ],
             [
              0.1111111111111111,
              "#46039f"
             ],
             [
              0.2222222222222222,
              "#7201a8"
             ],
             [
              0.3333333333333333,
              "#9c179e"
             ],
             [
              0.4444444444444444,
              "#bd3786"
             ],
             [
              0.5555555555555556,
              "#d8576b"
             ],
             [
              0.6666666666666666,
              "#ed7953"
             ],
             [
              0.7777777777777778,
              "#fb9f3a"
             ],
             [
              0.8888888888888888,
              "#fdca26"
             ],
             [
              1,
              "#f0f921"
             ]
            ],
            "type": "surface"
           }
          ],
          "table": [
           {
            "cells": {
             "fill": {
              "color": "#EBF0F8"
             },
             "line": {
              "color": "white"
             }
            },
            "header": {
             "fill": {
              "color": "#C8D4E3"
             },
             "line": {
              "color": "white"
             }
            },
            "type": "table"
           }
          ]
         },
         "layout": {
          "annotationdefaults": {
           "arrowcolor": "#2a3f5f",
           "arrowhead": 0,
           "arrowwidth": 1
          },
          "autotypenumbers": "strict",
          "coloraxis": {
           "colorbar": {
            "outlinewidth": 0,
            "ticks": ""
           }
          },
          "colorscale": {
           "diverging": [
            [
             0,
             "#8e0152"
            ],
            [
             0.1,
             "#c51b7d"
            ],
            [
             0.2,
             "#de77ae"
            ],
            [
             0.3,
             "#f1b6da"
            ],
            [
             0.4,
             "#fde0ef"
            ],
            [
             0.5,
             "#f7f7f7"
            ],
            [
             0.6,
             "#e6f5d0"
            ],
            [
             0.7,
             "#b8e186"
            ],
            [
             0.8,
             "#7fbc41"
            ],
            [
             0.9,
             "#4d9221"
            ],
            [
             1,
             "#276419"
            ]
           ],
           "sequential": [
            [
             0,
             "#0d0887"
            ],
            [
             0.1111111111111111,
             "#46039f"
            ],
            [
             0.2222222222222222,
             "#7201a8"
            ],
            [
             0.3333333333333333,
             "#9c179e"
            ],
            [
             0.4444444444444444,
             "#bd3786"
            ],
            [
             0.5555555555555556,
             "#d8576b"
            ],
            [
             0.6666666666666666,
             "#ed7953"
            ],
            [
             0.7777777777777778,
             "#fb9f3a"
            ],
            [
             0.8888888888888888,
             "#fdca26"
            ],
            [
             1,
             "#f0f921"
            ]
           ],
           "sequentialminus": [
            [
             0,
             "#0d0887"
            ],
            [
             0.1111111111111111,
             "#46039f"
            ],
            [
             0.2222222222222222,
             "#7201a8"
            ],
            [
             0.3333333333333333,
             "#9c179e"
            ],
            [
             0.4444444444444444,
             "#bd3786"
            ],
            [
             0.5555555555555556,
             "#d8576b"
            ],
            [
             0.6666666666666666,
             "#ed7953"
            ],
            [
             0.7777777777777778,
             "#fb9f3a"
            ],
            [
             0.8888888888888888,
             "#fdca26"
            ],
            [
             1,
             "#f0f921"
            ]
           ]
          },
          "colorway": [
           "#636efa",
           "#EF553B",
           "#00cc96",
           "#ab63fa",
           "#FFA15A",
           "#19d3f3",
           "#FF6692",
           "#B6E880",
           "#FF97FF",
           "#FECB52"
          ],
          "font": {
           "color": "#2a3f5f"
          },
          "geo": {
           "bgcolor": "white",
           "lakecolor": "white",
           "landcolor": "#E5ECF6",
           "showlakes": true,
           "showland": true,
           "subunitcolor": "white"
          },
          "hoverlabel": {
           "align": "left"
          },
          "hovermode": "closest",
          "mapbox": {
           "style": "light"
          },
          "paper_bgcolor": "white",
          "plot_bgcolor": "#E5ECF6",
          "polar": {
           "angularaxis": {
            "gridcolor": "white",
            "linecolor": "white",
            "ticks": ""
           },
           "bgcolor": "#E5ECF6",
           "radialaxis": {
            "gridcolor": "white",
            "linecolor": "white",
            "ticks": ""
           }
          },
          "scene": {
           "xaxis": {
            "backgroundcolor": "#E5ECF6",
            "gridcolor": "white",
            "gridwidth": 2,
            "linecolor": "white",
            "showbackground": true,
            "ticks": "",
            "zerolinecolor": "white"
           },
           "yaxis": {
            "backgroundcolor": "#E5ECF6",
            "gridcolor": "white",
            "gridwidth": 2,
            "linecolor": "white",
            "showbackground": true,
            "ticks": "",
            "zerolinecolor": "white"
           },
           "zaxis": {
            "backgroundcolor": "#E5ECF6",
            "gridcolor": "white",
            "gridwidth": 2,
            "linecolor": "white",
            "showbackground": true,
            "ticks": "",
            "zerolinecolor": "white"
           }
          },
          "shapedefaults": {
           "line": {
            "color": "#2a3f5f"
           }
          },
          "ternary": {
           "aaxis": {
            "gridcolor": "white",
            "linecolor": "white",
            "ticks": ""
           },
           "baxis": {
            "gridcolor": "white",
            "linecolor": "white",
            "ticks": ""
           },
           "bgcolor": "#E5ECF6",
           "caxis": {
            "gridcolor": "white",
            "linecolor": "white",
            "ticks": ""
           }
          },
          "title": {
           "x": 0.05
          },
          "xaxis": {
           "automargin": true,
           "gridcolor": "white",
           "linecolor": "white",
           "ticks": "",
           "title": {
            "standoff": 15
           },
           "zerolinecolor": "white",
           "zerolinewidth": 2
          },
          "yaxis": {
           "automargin": true,
           "gridcolor": "white",
           "linecolor": "white",
           "ticks": "",
           "title": {
            "standoff": 15
           },
           "zerolinecolor": "white",
           "zerolinewidth": 2
          }
         }
        },
        "title": {
         "font": {
          "size": 24
         },
         "text": "Top 10 Crimes 2024 - Los Angeles",
         "x": 0.5
        },
        "xaxis": {
         "anchor": "y",
         "domain": [
          0,
          1
         ],
         "title": {
          "text": "Type of Crime"
         }
        },
        "yaxis": {
         "anchor": "x",
         "domain": [
          0,
          1
         ],
         "title": {
          "text": "Occurrences"
         }
        }
       }
      }
     },
     "metadata": {},
     "output_type": "display_data"
    }
   ],
   "source": [
    "fig = px.bar(top_10_crimes_2024_df, x='Crm Cd Desc', y='Occurrences',\n",
    "title= 'Top 10 Crimes 2024 - Los Angeles',\n",
    "labels={'Crm Cd Desc':'Type of Crime'}, height=700,\n",
    "color= 'Occurrences', color_continuous_scale='Reds')\n",
    "fig.update_layout({\n",
    "     'plot_bgcolor': 'white',  # Set the plot background color \n",
    "     'paper_bgcolor': 'ivory',  # Set the paper color (outside the plot area) \n",
    "     'title_font' : {'size' : 24},\n",
    "     'title_x' : 0.5\n",
    "    })\n",
    "\n",
    "fig.show()"
   ]
  }
 ],
 "metadata": {
  "kernelspec": {
   "display_name": "Python 3",
   "language": "python",
   "name": "python3"
  },
  "language_info": {
   "codemirror_mode": {
    "name": "ipython",
    "version": 3
   },
   "file_extension": ".py",
   "mimetype": "text/x-python",
   "name": "python",
   "nbconvert_exporter": "python",
   "pygments_lexer": "ipython3",
   "version": "3.12.0"
  }
 },
 "nbformat": 4,
 "nbformat_minor": 2
}
